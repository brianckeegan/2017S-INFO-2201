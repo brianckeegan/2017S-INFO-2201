{
 "cells": [
  {
   "cell_type": "markdown",
   "metadata": {},
   "source": [
    "# Problem 1: Computing compound interest "
   ]
  },
  {
   "cell_type": "markdown",
   "metadata": {},
   "source": [
    "Translate the `iterative_compound_interest` function below into recursive function `recursive_compound_interest` that accepts the same input values:\n",
    "\n",
    "* The initial amount invested (principal)\n",
    "* The annual interest rate (rate)\n",
    "* And the number of years to compound the interest (years)\n",
    "\n",
    "Make sure it also prints out the balance year-by-year **including Balance with 0 years remaining**.\n",
    "\n",
    "Assume the user does not deposit or withdraw any money from this account during the 30 years."
   ]
  },
  {
   "cell_type": "code",
   "execution_count": null,
   "metadata": {
    "collapsed": false
   },
   "outputs": [],
   "source": [
    "def iterative_compound_interest(principal, rate, years):\n",
    "    while years > 0:\n",
    "        print('Balance with {0} years remaining = ${1:,.2f}'.format(years,principal))\n",
    "        principal = principal + principal*rate\n",
    "        years -= 1\n",
    "    return principal"
   ]
  },
  {
   "cell_type": "code",
   "execution_count": null,
   "metadata": {
    "collapsed": false
   },
   "outputs": [],
   "source": [
    "iterative_compound_interest(1000,.05,30)"
   ]
  },
  {
   "cell_type": "code",
   "execution_count": null,
   "metadata": {
    "collapsed": true
   },
   "outputs": [],
   "source": [
    "def recursive_compound_interest(principal, rate, years):\n",
    "    "
   ]
  },
  {
   "cell_type": "code",
   "execution_count": null,
   "metadata": {
    "collapsed": false
   },
   "outputs": [],
   "source": [
    "recursive_compound_interest(1000,.05,30)"
   ]
  },
  {
   "cell_type": "markdown",
   "metadata": {},
   "source": [
    "What happens when you try to compute `recursive_compound_interest` over 3,000 years? (Maybe comment out the print statement before you try this too)"
   ]
  },
  {
   "cell_type": "code",
   "execution_count": null,
   "metadata": {
    "collapsed": true
   },
   "outputs": [],
   "source": []
  },
  {
   "cell_type": "markdown",
   "metadata": {},
   "source": [
    "The try-except framework below print the year when a RecursionError happens. Translate this into a while or for loop with a break in the except clause to discover how many years it takes before `recursive_compound_interest` throws a \"RecursionError\"."
   ]
  },
  {
   "cell_type": "code",
   "execution_count": null,
   "metadata": {
    "collapsed": false
   },
   "outputs": [],
   "source": [
    "years = 3000\n",
    "try:\n",
    "    recursive_compound_interest(1000,.05,years)\n",
    "    years += 1\n",
    "except RecursionError:\n",
    "    print(years)"
   ]
  },
  {
   "cell_type": "markdown",
   "metadata": {},
   "source": [
    "# Problem 2: Detecting curses with recursion"
   ]
  },
  {
   "cell_type": "markdown",
   "metadata": {},
   "source": [
    "Read the chapter \"Detecting Curses with Recursion\" in Computational Fairy Tales (pp. 91--95). "
   ]
  },
  {
   "cell_type": "code",
   "execution_count": null,
   "metadata": {
    "collapsed": false
   },
   "outputs": [],
   "source": [
    "import random\n",
    "\n",
    "# Create a Person object\n",
    "class Person(object):\n",
    "    \n",
    "    def __init__(self,identifier,in_town,cursed):\n",
    "        self.identifier = identifier\n",
    "        self.cursed = cursed\n",
    "        \n",
    "    def __repr__(self):\n",
    "        return 'Person {0}'.format(self.identifier)\n",
    "        \n",
    "class Group(object):\n",
    "    \n",
    "    def __init__(self,members):\n",
    "        if type(members) == list:\n",
    "            self.members = members\n",
    "        else:\n",
    "            raise Exception('Members must be a list!')\n",
    "        \n",
    "        self.angry =  any(member.cursed for member in self.members)\n",
    "                \n",
    "    def __len__(self):\n",
    "        return len(self.members)\n",
    "    \n",
    "    def get_members(self):\n",
    "        return self.members\n",
    "    \n",
    "    def split_group(self):\n",
    "        halfway = len(self)//2\n",
    "        front_half = self.get_members()[:halfway]\n",
    "        back_half = self.get_members()[halfway:]\n",
    "        \n",
    "        # Really important! This method returns two group objects so you need to catch them both\n",
    "        return Group(front_half), Group(back_half)\n",
    "    \n",
    "    def is_angry(self):\n",
    "        return self.angry"
   ]
  },
  {
   "cell_type": "code",
   "execution_count": null,
   "metadata": {
    "collapsed": false
   },
   "outputs": [],
   "source": [
    "# Create an empty list in which to put the towns people\n",
    "town_people_list = list()\n",
    "\n",
    "# Choose a random future person to curse\n",
    "# NOTE: YOU CAN'T USE THIS RANDOM SEED TO FIND THE CURSED PERSON!\n",
    "random_seed = random.choice(range(0,512))\n",
    "\n",
    "# Populate the town until it reaches 512\n",
    "while len(town_people_list) < 512:\n",
    "    \n",
    "    # Create the cursed person\n",
    "    if len(town_people_list) == random_seed:\n",
    "        cursed_person = Person(identifier=len(town_people_list), in_town=True, cursed=True)\n",
    "        town_people_list.append(cursed_person)\n",
    "        \n",
    "    # Create everyone else\n",
    "    else:\n",
    "        person = Person(identifier=len(town_people_list), in_town=True, cursed=False)\n",
    "        town_people_list.append(person)\n",
    "\n",
    "# Convert the list to a group object\n",
    "town_group = Group(town_people_list)\n",
    "\n",
    "print(\"Is the town group angry? {0}\".format(town_group.is_angry()))"
   ]
  },
  {
   "cell_type": "markdown",
   "metadata": {},
   "source": [
    "Write a recursive `divide_and_conquer` function that accepts a Group object as an input, has a base case condition that returns the cursed group member as an object (not a list), and in the recursive case, splits the group in two, checks if one's still angry, and divides again."
   ]
  },
  {
   "cell_type": "code",
   "execution_count": null,
   "metadata": {
    "collapsed": true
   },
   "outputs": [],
   "source": [
    "def divide_and_conquer(group):\n"
   ]
  },
  {
   "cell_type": "markdown",
   "metadata": {},
   "source": [
    "Who was the cursed person? (This is randomly generated)"
   ]
  },
  {
   "cell_type": "code",
   "execution_count": null,
   "metadata": {
    "collapsed": false
   },
   "outputs": [],
   "source": [
    "found_cursed_person = divide_and_conquer(town_group)\n",
    "found_cursed_person"
   ]
  },
  {
   "cell_type": "markdown",
   "metadata": {},
   "source": [
    "Make sure that your found person is actually cursed and matches the hidden random seed that created the cursed person."
   ]
  },
  {
   "cell_type": "code",
   "execution_count": null,
   "metadata": {
    "collapsed": false
   },
   "outputs": [],
   "source": [
    "found_cursed_person.cursed == town_people_list[random_seed].cursed"
   ]
  },
  {
   "cell_type": "markdown",
   "metadata": {},
   "source": [
    "# Problem 3: Finding highest value Scrabble word on rack"
   ]
  },
  {
   "cell_type": "code",
   "execution_count": null,
   "metadata": {
    "collapsed": true
   },
   "outputs": [],
   "source": []
  }
 ],
 "metadata": {
  "anaconda-cloud": {},
  "kernelspec": {
   "display_name": "Python [conda root]",
   "language": "python",
   "name": "conda-root-py"
  },
  "language_info": {
   "codemirror_mode": {
    "name": "ipython",
    "version": 3
   },
   "file_extension": ".py",
   "mimetype": "text/x-python",
   "name": "python",
   "nbconvert_exporter": "python",
   "pygments_lexer": "ipython3",
   "version": "3.5.2"
  }
 },
 "nbformat": 4,
 "nbformat_minor": 1
}
