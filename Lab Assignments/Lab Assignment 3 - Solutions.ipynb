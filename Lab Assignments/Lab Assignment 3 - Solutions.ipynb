{
 "cells": [
  {
   "cell_type": "markdown",
   "metadata": {},
   "source": [
    "# Problem 1: Computing compound interest "
   ]
  },
  {
   "cell_type": "markdown",
   "metadata": {},
   "source": [
    "Translate the `iterative_compound_interest` function below into recursive function `recursive_compound_interest` that accepts the same input values:\n",
    "\n",
    "* The initial amount invested (principal)\n",
    "* The annual interest rate (rate)\n",
    "* And the number of years to compound the interest (years)\n",
    "\n",
    "Make sure it also prints out the balance year-by-year **including Balance with 0 years remaining**.\n",
    "\n",
    "Assume the user does not deposit or withdraw any money from this account during the 30 years."
   ]
  },
  {
   "cell_type": "code",
   "execution_count": 1,
   "metadata": {
    "collapsed": false
   },
   "outputs": [],
   "source": [
    "def iterative_compound_interest(principal, rate, years):\n",
    "    while years > 0:\n",
    "        #print('Balance with {0} years remaining = ${1:,.2f}'.format(years,principal))\n",
    "        principal = principal + principal*rate\n",
    "        years -= 1\n",
    "    return principal"
   ]
  },
  {
   "cell_type": "code",
   "execution_count": 2,
   "metadata": {
    "collapsed": false
   },
   "outputs": [
    {
     "data": {
      "text/plain": [
       "4321.942375150662"
      ]
     },
     "execution_count": 2,
     "metadata": {},
     "output_type": "execute_result"
    }
   ],
   "source": [
    "iterative_compound_interest(1000,.05,30)"
   ]
  },
  {
   "cell_type": "code",
   "execution_count": 3,
   "metadata": {
    "collapsed": true
   },
   "outputs": [],
   "source": [
    "def recursive_compound_interest(principal, rate, years):\n",
    "    #print('Balance with {0} years remaining = ${1:,.2f}'.format(years,principal))\n",
    "    if years == 0:\n",
    "        return principal\n",
    "    else:\n",
    "        principal = principal + principal*rate\n",
    "        return recursive_compound_interest(principal,rate,years-1)"
   ]
  },
  {
   "cell_type": "code",
   "execution_count": 4,
   "metadata": {
    "collapsed": false
   },
   "outputs": [
    {
     "data": {
      "text/plain": [
       "4321.942375150662"
      ]
     },
     "execution_count": 4,
     "metadata": {},
     "output_type": "execute_result"
    }
   ],
   "source": [
    "recursive_compound_interest(1000,.05,30)"
   ]
  },
  {
   "cell_type": "markdown",
   "metadata": {},
   "source": [
    "What happens when you try to compute `recursive_compound_interest` over 3,000 years?"
   ]
  },
  {
   "cell_type": "code",
   "execution_count": 5,
   "metadata": {
    "collapsed": false
   },
   "outputs": [
    {
     "ename": "RecursionError",
     "evalue": "maximum recursion depth exceeded in comparison",
     "output_type": "error",
     "traceback": [
      "\u001b[0;31m---------------------------------------------------------------------------\u001b[0m",
      "\u001b[0;31mRecursionError\u001b[0m                            Traceback (most recent call last)",
      "\u001b[0;32m<ipython-input-5-eeb48865f713>\u001b[0m in \u001b[0;36m<module>\u001b[0;34m()\u001b[0m\n\u001b[0;32m----> 1\u001b[0;31m \u001b[0mrecursive_compound_interest\u001b[0m\u001b[0;34m(\u001b[0m\u001b[0;36m1000\u001b[0m\u001b[0;34m,\u001b[0m\u001b[0;36m.05\u001b[0m\u001b[0;34m,\u001b[0m\u001b[0;36m3000\u001b[0m\u001b[0;34m)\u001b[0m\u001b[0;34m\u001b[0m\u001b[0m\n\u001b[0m",
      "\u001b[0;32m<ipython-input-3-8f54d631ba0c>\u001b[0m in \u001b[0;36mrecursive_compound_interest\u001b[0;34m(principal, rate, years)\u001b[0m\n\u001b[1;32m      5\u001b[0m     \u001b[0;32melse\u001b[0m\u001b[0;34m:\u001b[0m\u001b[0;34m\u001b[0m\u001b[0m\n\u001b[1;32m      6\u001b[0m         \u001b[0mprincipal\u001b[0m \u001b[0;34m=\u001b[0m \u001b[0mprincipal\u001b[0m \u001b[0;34m+\u001b[0m \u001b[0mprincipal\u001b[0m\u001b[0;34m*\u001b[0m\u001b[0mrate\u001b[0m\u001b[0;34m\u001b[0m\u001b[0m\n\u001b[0;32m----> 7\u001b[0;31m         \u001b[0;32mreturn\u001b[0m \u001b[0mrecursive_compound_interest\u001b[0m\u001b[0;34m(\u001b[0m\u001b[0mprincipal\u001b[0m\u001b[0;34m,\u001b[0m\u001b[0mrate\u001b[0m\u001b[0;34m,\u001b[0m\u001b[0myears\u001b[0m\u001b[0;34m-\u001b[0m\u001b[0;36m1\u001b[0m\u001b[0;34m)\u001b[0m\u001b[0;34m\u001b[0m\u001b[0m\n\u001b[0m",
      "... last 1 frames repeated, from the frame below ...\n",
      "\u001b[0;32m<ipython-input-3-8f54d631ba0c>\u001b[0m in \u001b[0;36mrecursive_compound_interest\u001b[0;34m(principal, rate, years)\u001b[0m\n\u001b[1;32m      5\u001b[0m     \u001b[0;32melse\u001b[0m\u001b[0;34m:\u001b[0m\u001b[0;34m\u001b[0m\u001b[0m\n\u001b[1;32m      6\u001b[0m         \u001b[0mprincipal\u001b[0m \u001b[0;34m=\u001b[0m \u001b[0mprincipal\u001b[0m \u001b[0;34m+\u001b[0m \u001b[0mprincipal\u001b[0m\u001b[0;34m*\u001b[0m\u001b[0mrate\u001b[0m\u001b[0;34m\u001b[0m\u001b[0m\n\u001b[0;32m----> 7\u001b[0;31m         \u001b[0;32mreturn\u001b[0m \u001b[0mrecursive_compound_interest\u001b[0m\u001b[0;34m(\u001b[0m\u001b[0mprincipal\u001b[0m\u001b[0;34m,\u001b[0m\u001b[0mrate\u001b[0m\u001b[0;34m,\u001b[0m\u001b[0myears\u001b[0m\u001b[0;34m-\u001b[0m\u001b[0;36m1\u001b[0m\u001b[0;34m)\u001b[0m\u001b[0;34m\u001b[0m\u001b[0m\n\u001b[0m",
      "\u001b[0;31mRecursionError\u001b[0m: maximum recursion depth exceeded in comparison"
     ]
    }
   ],
   "source": [
    "recursive_compound_interest(1000,.05,3000)"
   ]
  },
  {
   "cell_type": "markdown",
   "metadata": {},
   "source": [
    "The try-except framework below print the year when a RecursionError happens. Translate this into a while or for loop with a break in the except clause to discover how many years it takes before `recursive_compound_interest` throws a \"RecursionError\"."
   ]
  },
  {
   "cell_type": "code",
   "execution_count": 6,
   "metadata": {
    "collapsed": false
   },
   "outputs": [
    {
     "name": "stdout",
     "output_type": "stream",
     "text": [
      "3000\n"
     ]
    }
   ],
   "source": [
    "years = 3000\n",
    "try:\n",
    "    recursive_compound_interest(1000,.05,years)\n",
    "    years += 1\n",
    "except RecursionError:\n",
    "    print(years)"
   ]
  },
  {
   "cell_type": "code",
   "execution_count": 7,
   "metadata": {
    "collapsed": false
   },
   "outputs": [
    {
     "name": "stdout",
     "output_type": "stream",
     "text": [
      "973\n"
     ]
    }
   ],
   "source": [
    "for year in range(100,10000):\n",
    "    try:\n",
    "        recursive_compound_interest(1000,.05,year)\n",
    "        years += 1\n",
    "    except RecursionError:\n",
    "        print(year)\n",
    "        break"
   ]
  },
  {
   "cell_type": "code",
   "execution_count": 8,
   "metadata": {
    "collapsed": false
   },
   "outputs": [
    {
     "name": "stdout",
     "output_type": "stream",
     "text": [
      "973\n"
     ]
    }
   ],
   "source": [
    "years = 100\n",
    "\n",
    "while years < 10000:\n",
    "    try:\n",
    "        recursive_compound_interest(1000,.05,years)\n",
    "        years += 1\n",
    "    except RecursionError:\n",
    "        print(years)\n",
    "        break"
   ]
  },
  {
   "cell_type": "markdown",
   "metadata": {},
   "source": [
    "# Problem 2: Detecting curses with recursion"
   ]
  },
  {
   "cell_type": "markdown",
   "metadata": {},
   "source": [
    "Read the chapter \"Detecting Curses with Recursion\" in Computational Fairy Tales (pp. 91--95). "
   ]
  },
  {
   "cell_type": "code",
   "execution_count": 9,
   "metadata": {
    "collapsed": false
   },
   "outputs": [],
   "source": [
    "import random\n",
    "\n",
    "# Create a Person object\n",
    "class Person(object):\n",
    "    \n",
    "    def __init__(self,identifier,in_town,cursed):\n",
    "        self.identifier = identifier\n",
    "        self.cursed = cursed\n",
    "        \n",
    "    def __repr__(self):\n",
    "        return 'Person {0}'.format(self.identifier)\n",
    "        \n",
    "class Group(object):\n",
    "    \n",
    "    def __init__(self,members):\n",
    "        if type(members) == list:\n",
    "            self.members = members\n",
    "        else:\n",
    "            raise Exception('Members are not a list!')\n",
    "        \n",
    "        self.angry =  any(member.cursed for member in self.members)\n",
    "                \n",
    "    def __len__(self):\n",
    "        return len(self.members)\n",
    "    \n",
    "    def get_members(self):\n",
    "        return self.members\n",
    "    \n",
    "    def split_group(self):\n",
    "        halfway = len(self)//2\n",
    "        front_half = self.get_members()[:halfway]\n",
    "        back_half = self.get_members()[halfway:]\n",
    "        \n",
    "        # Really important! This method returns two group objects so you need to catch them both\n",
    "        return Group(front_half), Group(back_half)\n",
    "    \n",
    "    def is_angry(self):\n",
    "        return self.angry"
   ]
  },
  {
   "cell_type": "code",
   "execution_count": 10,
   "metadata": {
    "collapsed": false
   },
   "outputs": [
    {
     "name": "stdout",
     "output_type": "stream",
     "text": [
      "Is the town group angry? True\n"
     ]
    }
   ],
   "source": [
    "# Create an empty list in which to put the towns people\n",
    "town_people_list = list()\n",
    "\n",
    "# Choose a random future person to curse\n",
    "# NOTE: YOU CAN'T USE THIS RANDOM SEED TO FIND THE CURSED PERSON!\n",
    "random_seed = random.choice(range(0,512))\n",
    "\n",
    "# Populate the town until it reaches 512\n",
    "while len(town_people_list) < 512:\n",
    "    \n",
    "    # Create the cursed person\n",
    "    if len(town_people_list) == random_seed:\n",
    "        cursed_person = Person(identifier=len(town_people_list), in_town=True, cursed=True)\n",
    "        town_people_list.append(cursed_person)\n",
    "        \n",
    "    # Create everyone else\n",
    "    else:\n",
    "        person = Person(identifier=len(town_people_list), in_town=True, cursed=False)\n",
    "        town_people_list.append(person)\n",
    "\n",
    "# Convert the list to a group object\n",
    "town_group = Group(town_people_list)\n",
    "\n",
    "print(\"Is the town group angry? {0}\".format(town_group.is_angry()))"
   ]
  },
  {
   "cell_type": "markdown",
   "metadata": {},
   "source": [
    "Write a recursive `divide_and_conquer` function that accepts a Group object as an input, has a base case condition that returns the cursed group member as an object (not a list), and in the recursive case, splits the group in two, checks if one's still angry, and divides again."
   ]
  },
  {
   "cell_type": "code",
   "execution_count": 11,
   "metadata": {
    "collapsed": true
   },
   "outputs": [],
   "source": [
    "def divide_and_conquer(group):\n",
    "    #print('There are {0} people in this sub-group!'.format(len(group)))\n",
    "    \n",
    "    # The base case checks if the group size is one\n",
    "    if len(group) == 1:\n",
    "        return group.get_members()[0] # Returns the person, not the list\n",
    "    \n",
    "    # Otherwise it enters the recursive case\n",
    "    else:\n",
    "        # Split the group in half\n",
    "        group1, group2 = group.split_group()\n",
    "        \n",
    "        # Check which of the two groups is angry, and divide it again\n",
    "        if group1.is_angry():\n",
    "            return divide_and_conquer(group1)\n",
    "        else:\n",
    "            return divide_and_conquer(group2)"
   ]
  },
  {
   "cell_type": "markdown",
   "metadata": {},
   "source": [
    "Who was the cursed person? (This is randomly generated)"
   ]
  },
  {
   "cell_type": "code",
   "execution_count": 12,
   "metadata": {
    "collapsed": false
   },
   "outputs": [
    {
     "data": {
      "text/plain": [
       "Person 55"
      ]
     },
     "execution_count": 12,
     "metadata": {},
     "output_type": "execute_result"
    }
   ],
   "source": [
    "found_cursed_person = divide_and_conquer(town_group)\n",
    "found_cursed_person"
   ]
  },
  {
   "cell_type": "markdown",
   "metadata": {},
   "source": [
    "Make sure that your found person is actually cursed and matches the hidden random seed that created the cursed person."
   ]
  },
  {
   "cell_type": "code",
   "execution_count": 13,
   "metadata": {
    "collapsed": false
   },
   "outputs": [
    {
     "data": {
      "text/plain": [
       "True"
      ]
     },
     "execution_count": 13,
     "metadata": {},
     "output_type": "execute_result"
    }
   ],
   "source": [
    "found_cursed_person.cursed == town_people_list[random_seed].cursed"
   ]
  },
  {
   "cell_type": "code",
   "execution_count": null,
   "metadata": {
    "collapsed": true
   },
   "outputs": [],
   "source": []
  }
 ],
 "metadata": {
  "anaconda-cloud": {},
  "kernelspec": {
   "display_name": "Python [conda root]",
   "language": "python",
   "name": "conda-root-py"
  },
  "language_info": {
   "codemirror_mode": {
    "name": "ipython",
    "version": 3
   },
   "file_extension": ".py",
   "mimetype": "text/x-python",
   "name": "python",
   "nbconvert_exporter": "python",
   "pygments_lexer": "ipython3",
   "version": "3.5.2"
  }
 },
 "nbformat": 4,
 "nbformat_minor": 1
}
