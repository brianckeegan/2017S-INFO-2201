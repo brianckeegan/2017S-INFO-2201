{
 "cells": [
  {
   "cell_type": "markdown",
   "metadata": {},
   "source": [
    "# Problem 0: Looking for help on StackOverflow"
   ]
  },
  {
   "cell_type": "markdown",
   "metadata": {},
   "source": [
    "I made a `bad_list` of lists of different sizes. How do I empty out the values of these sub-lists into a `flat_list` containing the values based on the order they appear in the list?"
   ]
  },
  {
   "cell_type": "code",
   "execution_count": null,
   "metadata": {
    "collapsed": false
   },
   "outputs": [],
   "source": [
    "import string, random"
   ]
  },
  {
   "cell_type": "code",
   "execution_count": null,
   "metadata": {
    "collapsed": false
   },
   "outputs": [],
   "source": [
    "bad_list = [list(string.ascii_lowercase[:random.randint(0,13)]) for i in range(random.randint(1,5))]\n",
    "bad_list"
   ]
  },
  {
   "cell_type": "markdown",
   "metadata": {},
   "source": [
    "There are many ways to approach solving this problem. But maybe the problem you're focused on is more abstract than getting past this simple task. You should get used to formulating how to translate this specifc problem into a more question and use community sites like [StackOverflow](https://www.stackoverflow.com) to help you answer them and then get back to work.\n",
    "\n",
    "A popular method for converting a list of lists of differents sizes is given [here](http://stackoverflow.com/a/40813764/1574687). We can adapt it back to our context:"
   ]
  },
  {
   "cell_type": "code",
   "execution_count": null,
   "metadata": {
    "collapsed": false
   },
   "outputs": [],
   "source": [
    "flat_list = [item for sublist in bad_list for item in sublist]\n",
    "flat_list"
   ]
  },
  {
   "cell_type": "markdown",
   "metadata": {},
   "source": [
    "If you use StackOverflow solutions, please acknowledge them by commenting your code:"
   ]
  },
  {
   "cell_type": "code",
   "execution_count": null,
   "metadata": {
    "collapsed": true
   },
   "outputs": [],
   "source": [
    "# from http://stackoverflow.com/a/40813764/1574687\n",
    "flat_list = [item for sublist in bad_list for item in sublist]"
   ]
  },
  {
   "cell_type": "markdown",
   "metadata": {},
   "source": [
    "# Problem 1: Manipulating strings and lists"
   ]
  },
  {
   "cell_type": "markdown",
   "metadata": {},
   "source": [
    "The [SOWPODS dictionary](http://norvig.com/ngrams/sowpods.txt) is a compilation of dictionary words used in professional Scrabble tournaments. Each line in the file contains a single word. We'll use the [requests](http://docs.python-requests.org/en/master/user/quickstart/) library to fetch this list of words from the web. \n",
    "\n",
    "(This is a pretty big list of words, so be careful about showing `sowpods_raw` without subsetting it to the first few sub-objects.)"
   ]
  },
  {
   "cell_type": "code",
   "execution_count": 1,
   "metadata": {
    "collapsed": false
   },
   "outputs": [],
   "source": [
    "import requests\n",
    "sowpods_raw = requests.get('http://norvig.com/ngrams/sowpods.txt').text"
   ]
  },
  {
   "cell_type": "markdown",
   "metadata": {},
   "source": [
    "What are the first 20 sub-objects in `sowpods_raw`?"
   ]
  },
  {
   "cell_type": "code",
   "execution_count": 2,
   "metadata": {
    "collapsed": false
   },
   "outputs": [
    {
     "data": {
      "text/plain": [
       "'AA\\r\\nAAH\\r\\nAAHED\\r\\nAAHI'"
      ]
     },
     "execution_count": 2,
     "metadata": {},
     "output_type": "execute_result"
    }
   ],
   "source": [
    "sowpods_raw[:20]"
   ]
  },
  {
   "cell_type": "markdown",
   "metadata": {},
   "source": [
    "[Split](https://docs.python.org/3.5/library/stdtypes.html#str.split) this giant string (2,974,763 characters!) up into a list of the individual words and assign it to the `wordlist` variable."
   ]
  },
  {
   "cell_type": "code",
   "execution_count": 4,
   "metadata": {
    "collapsed": false
   },
   "outputs": [],
   "source": [
    "wordlist = sowpods_raw.split('\\r\\n')"
   ]
  },
  {
   "cell_type": "markdown",
   "metadata": {},
   "source": [
    "How many words are in the `wordlist`?"
   ]
  },
  {
   "cell_type": "code",
   "execution_count": 5,
   "metadata": {
    "collapsed": false
   },
   "outputs": [
    {
     "data": {
      "text/plain": [
       "267751"
      ]
     },
     "execution_count": 5,
     "metadata": {},
     "output_type": "execute_result"
    }
   ],
   "source": [
    "len(wordlist)"
   ]
  },
  {
   "cell_type": "markdown",
   "metadata": {},
   "source": [
    "What is the word at the list index of your birth year?"
   ]
  },
  {
   "cell_type": "code",
   "execution_count": 6,
   "metadata": {
    "collapsed": false
   },
   "outputs": [
    {
     "data": {
      "text/plain": [
       "'ACRYLYL'"
      ]
     },
     "execution_count": 6,
     "metadata": {},
     "output_type": "execute_result"
    }
   ],
   "source": [
    "wordlist[1984]"
   ]
  },
  {
   "cell_type": "markdown",
   "metadata": {},
   "source": [
    "What is the longest word in the `wordlist`?"
   ]
  },
  {
   "cell_type": "code",
   "execution_count": 7,
   "metadata": {
    "collapsed": false
   },
   "outputs": [
    {
     "data": {
      "text/plain": [
       "'ABIOGENETICALLY'"
      ]
     },
     "execution_count": 7,
     "metadata": {},
     "output_type": "execute_result"
    }
   ],
   "source": [
    "longest_word = ''\n",
    "for word in wordlist:\n",
    "    wordlen = len(word)\n",
    "    if wordlen > len(longest_word):\n",
    "        longest_word = word\n",
    "        \n",
    "longest_word"
   ]
  },
  {
   "cell_type": "markdown",
   "metadata": {},
   "source": [
    "How many words start with the letter *K* ?"
   ]
  },
  {
   "cell_type": "code",
   "execution_count": 8,
   "metadata": {
    "collapsed": false
   },
   "outputs": [
    {
     "data": {
      "text/plain": [
       "3131"
      ]
     },
     "execution_count": 8,
     "metadata": {},
     "output_type": "execute_result"
    }
   ],
   "source": [
    "k_words = list()\n",
    "\n",
    "for word in wordlist:\n",
    "    if word[0] == 'K':\n",
    "        k_words.append(word)\n",
    "        \n",
    "len(k_words)"
   ]
  },
  {
   "cell_type": "code",
   "execution_count": 9,
   "metadata": {
    "collapsed": false
   },
   "outputs": [
    {
     "data": {
      "text/plain": [
       "3131"
      ]
     },
     "execution_count": 9,
     "metadata": {},
     "output_type": "execute_result"
    }
   ],
   "source": [
    "# Alternatively, just count the words instead of making a list\n",
    "k_words_counter = 0\n",
    "\n",
    "for word in wordlist:\n",
    "    if word[0] == 'K':\n",
    "        k_words_counter += 1\n",
    "        \n",
    "k_words_counter"
   ]
  },
  {
   "cell_type": "markdown",
   "metadata": {},
   "source": [
    "For each letter in the alphabet, how many words in the `wordlist` start with that letter?"
   ]
  },
  {
   "cell_type": "code",
   "execution_count": 13,
   "metadata": {
    "collapsed": false
   },
   "outputs": [
    {
     "data": {
      "text/plain": [
       "{'A': 15723,\n",
       " 'B': 14359,\n",
       " 'C': 24120,\n",
       " 'D': 15917,\n",
       " 'E': 11030,\n",
       " 'F': 10141,\n",
       " 'G': 8914,\n",
       " 'H': 10119,\n",
       " 'I': 9390,\n",
       " 'J': 2179,\n",
       " 'K': 3131,\n",
       " 'L': 7636,\n",
       " 'M': 15077,\n",
       " 'N': 6205,\n",
       " 'O': 8604,\n",
       " 'P': 23352,\n",
       " 'Q': 1352,\n",
       " 'R': 14507,\n",
       " 'S': 30575,\n",
       " 'T': 13919,\n",
       " 'U': 9070,\n",
       " 'V': 4414,\n",
       " 'W': 5611,\n",
       " 'X': 303,\n",
       " 'Y': 985,\n",
       " 'Z': 1118}"
      ]
     },
     "execution_count": 13,
     "metadata": {},
     "output_type": "execute_result"
    }
   ],
   "source": [
    "# A helpful library\n",
    "import string\n",
    "\n",
    "# A list of all the capital letters\n",
    "all_letters = list(string.ascii_uppercase)\n",
    "\n",
    "# Could also just list them out manually\n",
    "\n",
    "# Start an empty dictionary keyed by letter and with 0s for counter values\n",
    "letter_counter_dict = dict(zip(all_letters,[0]*len(all_letters)))\n",
    "\n",
    "# Loop over the words in the wordlist\n",
    "for word in wordlist:\n",
    "    \n",
    "    # Get the first letter\n",
    "    first_letter = word[0]\n",
    "    \n",
    "    # Access the dictionary by the first letter and increment its counter value up by 1\n",
    "    letter_counter_dict[first_letter] += 1\n",
    "    \n",
    "letter_counter_dict"
   ]
  },
  {
   "cell_type": "markdown",
   "metadata": {},
   "source": [
    "An alternative (and slower) solution using two loops to loop first over all the letters and second to loop over all the words."
   ]
  },
  {
   "cell_type": "code",
   "execution_count": 16,
   "metadata": {
    "collapsed": false
   },
   "outputs": [
    {
     "data": {
      "text/plain": [
       "{'A': 15723,\n",
       " 'B': 14359,\n",
       " 'C': 24120,\n",
       " 'D': 15917,\n",
       " 'E': 11030,\n",
       " 'F': 10141,\n",
       " 'G': 8914,\n",
       " 'H': 10119,\n",
       " 'I': 9390,\n",
       " 'J': 2179,\n",
       " 'K': 3131,\n",
       " 'L': 7636,\n",
       " 'M': 15077,\n",
       " 'N': 6205,\n",
       " 'O': 8604,\n",
       " 'P': 23352,\n",
       " 'Q': 1352,\n",
       " 'R': 14507,\n",
       " 'S': 30575,\n",
       " 'T': 13919,\n",
       " 'U': 9070,\n",
       " 'V': 4414,\n",
       " 'W': 5611,\n",
       " 'X': 303,\n",
       " 'Y': 985,\n",
       " 'Z': 1118}"
      ]
     },
     "execution_count": 16,
     "metadata": {},
     "output_type": "execute_result"
    }
   ],
   "source": [
    "letter_counter_dict = dict()\n",
    "\n",
    "for letter_index in all_letters:\n",
    "    letter_counter_dict[letter_index] = 0\n",
    "    for word in wordlist:\n",
    "        first_letter = word[0]\n",
    "        if first_letter == letter_index:\n",
    "            letter_counter_dict[letter_index] += 1\n",
    "            \n",
    "letter_counter_dict"
   ]
  },
  {
   "cell_type": "markdown",
   "metadata": {},
   "source": [
    "Find at least one pair of words where the first word is inside the second word."
   ]
  },
  {
   "cell_type": "raw",
   "metadata": {
    "collapsed": true
   },
   "source": [
    "# This is an expensive solution to get every word, could take hours to run, so you can't run it without changing the cell type\n",
    "\n",
    "# Create a dictionary keyed by each word and will have values as a list of words containing that word\n",
    "words_inside_words_dict = {}\n",
    "\n",
    "# Loop through all words in the wordlist first\n",
    "for word1 in wordlist:\n",
    "    # Create an empty list for each word as a value where we will park the other words having that word inside\n",
    "    words_inside_words_dict[word1] = list()\n",
    "    # Loop through all the words in the wordlist a second time\n",
    "    for word2 in wordlist:\n",
    "        # Check if one word is inside another word\n",
    "        if word2 in word1:\n",
    "            # Append the bigger word2 to the list keyed by the smaller word\n",
    "            words_inside_words_dict[word1].append(word2)"
   ]
  },
  {
   "cell_type": "code",
   "execution_count": 34,
   "metadata": {
    "collapsed": false
   },
   "outputs": [
    {
     "data": {
      "text/plain": [
       "['AA', 'AB', 'AD', 'AE', 'AG', 'AH', 'AI', 'AL', 'AM', 'AN']"
      ]
     },
     "execution_count": 34,
     "metadata": {},
     "output_type": "execute_result"
    }
   ],
   "source": [
    "# Constrain the search space: Get all the two-letter words first, look through the first 1000 words\n",
    "\n",
    "# Create an empty list of words\n",
    "two_letter_words = list()\n",
    "\n",
    "# Loop through all the words and append two-letter words to list\n",
    "for word in wordlist:\n",
    "    if len(word) == 2:\n",
    "        two_letter_words.append(word)\n",
    "\n",
    "# Check to make sure the two-letter word list is working as intended by looking at the first 10\n",
    "two_letter_words[:10]"
   ]
  },
  {
   "cell_type": "code",
   "execution_count": 35,
   "metadata": {
    "collapsed": false
   },
   "outputs": [
    {
     "data": {
      "text/plain": [
       "['ABFARAD',\n",
       " 'ABFARADS',\n",
       " 'ABRACADABRA',\n",
       " 'ABRACADABRAS',\n",
       " 'ABRADABLE',\n",
       " 'ABRADANT',\n",
       " 'ABRADANTS',\n",
       " 'ABRADE',\n",
       " 'ABRADED',\n",
       " 'ABRADER',\n",
       " 'ABRADERS',\n",
       " 'ABRADES',\n",
       " 'ABRADING',\n",
       " 'ABROAD',\n",
       " 'ABROADS',\n",
       " 'ACADEME',\n",
       " 'ACADEMES',\n",
       " 'ACADEMIA',\n",
       " 'ACADEMIAS',\n",
       " 'ACADEMIC',\n",
       " 'ACADEMICAL',\n",
       " 'ACADEMICALISM',\n",
       " 'ACADEMICALISMS',\n",
       " 'ACADEMICALLY',\n",
       " 'ACADEMICALS',\n",
       " 'ACADEMICIAN',\n",
       " 'ACADEMICIANS',\n",
       " 'ACADEMICISM',\n",
       " 'ACADEMICISMS',\n",
       " 'ACADEMICS',\n",
       " 'ACADEMIES',\n",
       " 'ACADEMISM',\n",
       " 'ACADEMISMS',\n",
       " 'ACADEMIST',\n",
       " 'ACADEMISTS',\n",
       " 'ACADEMY']"
      ]
     },
     "execution_count": 35,
     "metadata": {},
     "output_type": "execute_result"
    }
   ],
   "source": [
    "# Start an empty dictionary that will be keyed by the two-letter words \n",
    "# and have a value as a list of the words containing that two-letter word inside\n",
    "two_letter_words_inside_first_1000_words_dict = {}\n",
    "\n",
    "# Loop through the two_letter words\n",
    "for two_letter in two_letter_words:\n",
    "    \n",
    "    # Create the empty list value for each two-letter word\n",
    "    two_letter_words_inside_first_1000_words_dict[two_letter] = list()\n",
    "    \n",
    "    # Go through the first 1000 words in the wordlist\n",
    "    for word in wordlist[:1000]:\n",
    "        \n",
    "        # Check if the two-letter word is in the word\n",
    "        if two_letter in word:\n",
    "            \n",
    "            # If it is, append it to the list that can be accessed at dict[value]\n",
    "            two_letter_words_inside_first_1000_words_dict[two_letter].append(word)\n",
    "\n",
    "# Get all the words containing the word AD\n",
    "two_letter_words_inside_first_1000_words_dict['AD']"
   ]
  },
  {
   "cell_type": "markdown",
   "metadata": {},
   "source": [
    "The English Scrabble letters are worth the following values."
   ]
  },
  {
   "cell_type": "code",
   "execution_count": 27,
   "metadata": {
    "collapsed": true
   },
   "outputs": [],
   "source": [
    "scrabble_values = {'A':1,'B':3,'C':3,'D':2,'E':1,'F':4,'G':2,'H':4,'I':1,'J':8,'K':5,'L':1,'M':3,\n",
    "                   'N':1,'O':1,'P':3,'Q':10,'R':1,'S':1,'T':1,'U':1,'V':4,'W':4,'X':8,'Y':4,'Z':10}"
   ]
  },
  {
   "cell_type": "markdown",
   "metadata": {},
   "source": [
    "A word is worth the sum of all its letters. Which word starting with *Q* is worth the most points?"
   ]
  },
  {
   "cell_type": "code",
   "execution_count": 30,
   "metadata": {
    "collapsed": false
   },
   "outputs": [
    {
     "data": {
      "text/plain": [
       "['QABALA',\n",
       " 'QABALAH',\n",
       " 'QABALAHS',\n",
       " 'QABALAS',\n",
       " 'QABALISM',\n",
       " 'QABALISMS',\n",
       " 'QABALIST',\n",
       " 'QABALISTIC',\n",
       " 'QABALISTS',\n",
       " 'QADI']"
      ]
     },
     "execution_count": 30,
     "metadata": {},
     "output_type": "execute_result"
    }
   ],
   "source": [
    "q_words = list()\n",
    "\n",
    "for word in wordlist:\n",
    "    first_letter = word[0]\n",
    "    if first_letter == 'Q':\n",
    "        q_words.append(word)\n",
    "\n",
    "# Check first 10 Q-words\n",
    "q_words[:10]"
   ]
  },
  {
   "cell_type": "code",
   "execution_count": 32,
   "metadata": {
    "collapsed": false
   },
   "outputs": [
    {
     "data": {
      "text/plain": [
       "23"
      ]
     },
     "execution_count": 32,
     "metadata": {},
     "output_type": "execute_result"
    }
   ],
   "source": [
    "# Define a function to score a word with Scrabble value that accepts a word string and the scrabble values dictionary\n",
    "def word_scorer(word,scrabble_values):\n",
    "    \n",
    "    # Break the word up into its letters\n",
    "    letters = list(word)\n",
    "    \n",
    "    # Start the score at 0\n",
    "    score = 0\n",
    "    \n",
    "    # Go through the letters to score them\n",
    "    for letter in letters:\n",
    "        \n",
    "        # Get each letter's value from the scrabble_values dictionary\n",
    "        letter_value = scrabble_values[letter]\n",
    "        \n",
    "        # Add it to the score\n",
    "        score += letter_value\n",
    "        \n",
    "    # Return the score\n",
    "    return score\n",
    "\n",
    "# Test the function\n",
    "word_scorer('QABALISTIC',scrabble_values)"
   ]
  },
  {
   "cell_type": "code",
   "execution_count": 33,
   "metadata": {
    "collapsed": false
   },
   "outputs": [
    {
     "data": {
      "text/plain": [
       "'QUIZZIFICATIONS'"
      ]
     },
     "execution_count": 33,
     "metadata": {},
     "output_type": "execute_result"
    }
   ],
   "source": [
    "# As before, start with an empty global string as the highest value word and we'll update it\n",
    "highest_value_q_word = ''\n",
    "\n",
    "# Loop through all the Q words\n",
    "for word in q_words:\n",
    "    \n",
    "    # Score the current word\n",
    "    current_word_score = word_scorer(word,scrabble_values)\n",
    "    \n",
    "    # Score the highest word at this point in the loop\n",
    "    highest_word_score = word_scorer(highest_value_q_word,scrabble_values)\n",
    "    \n",
    "    # Check if the current word in the loop's score is higher than the highest score we've seen so far\n",
    "    if current_word_score > highest_word_score:\n",
    "        \n",
    "        # If it is higher, update the highest value q word\n",
    "        highest_value_q_word = word\n",
    "        \n",
    "# What is the magic word?\n",
    "highest_value_q_word"
   ]
  },
  {
   "cell_type": "markdown",
   "metadata": {},
   "source": [
    "# Problem 2: Rock-Paper-Scissors"
   ]
  },
  {
   "cell_type": "markdown",
   "metadata": {},
   "source": [
    "[Rock-Paper-Scissors](https://en.wikipedia.org/wiki/Rock%E2%80%93paper%E2%80%93scissors) is a classic children's game. Two players count down from 3 and simultaneously throw one of three shapes. Each round of the game has only three possible outcomes (summarized in the image below) as well as a tie.\n",
    "\n",
    "![Rock,Paper,Scissors](https://upload.wikimedia.org/wikipedia/commons/thumb/6/67/Rock-paper-scissors.svg/300px-Rock-paper-scissors.svg.png)\n",
    "\n",
    "Implement a `rps_scoring` function that accepts two variables as inputs, reflecting each of two player's \"throws\", and returns the outcome of the match as a string. You'll need to use some combinations of [flow control](https://docs.python.org/3.5/tutorial/controlflow.html) statements; compare input strings to each other; and sanitize your function inputs to make sure they're well-behaved in case the user enters something out-of-scope."
   ]
  },
  {
   "cell_type": "code",
   "execution_count": 37,
   "metadata": {
    "collapsed": false
   },
   "outputs": [],
   "source": [
    "def rps_scoring(player1,player2):\n",
    "    \n",
    "    # Lower case the input strings to sanitize in case there is capitalization\n",
    "    player1 = player1.lower()\n",
    "    player2 = player2.lower()\n",
    "    \n",
    "    # Check that both plays are valid move:\n",
    "    if player1 and player2 in ['rock','paper','scissors']:\n",
    "        \n",
    "        # Check that the two moves are different\n",
    "        if player1 != player2: \n",
    "            \n",
    "            # Go through the truth table in the figure above of all the combinations\n",
    "            if player1 == 'scissors' and player2 == 'paper':\n",
    "                return \"Player 1 wins!\"\n",
    "            elif player1 == 'scissors' and player2 == 'rock':\n",
    "                return \"Player 2 wins!\"\n",
    "            elif player1 == 'rock' and player2 == 'scissors':\n",
    "                return \"Player 1 wins!\"\n",
    "            elif player1 == 'rock' and player2 == 'paper':\n",
    "                return \"Player 2 wins!\"\n",
    "            elif player1 == 'paper' and player2 == 'rock':\n",
    "                return \"Player 1 wins!\"\n",
    "            elif player1 == 'paper' and player2 == 'scissors':\n",
    "                return \"Player 2 wins!\"\n",
    "            \n",
    "        # If the two moves aren't different, return a tie\n",
    "        else:\n",
    "            return \"Tie!\"\n",
    "        \n",
    "    # If the player doesn't enter a valid move, warn them\n",
    "    else:\n",
    "        return \"Not a valid move!\""
   ]
  },
  {
   "cell_type": "markdown",
   "metadata": {},
   "source": [
    "Take it for a test spin:"
   ]
  },
  {
   "cell_type": "code",
   "execution_count": 38,
   "metadata": {
    "collapsed": false
   },
   "outputs": [
    {
     "name": "stdout",
     "output_type": "stream",
     "text": [
      "Player 1's move:rock\n",
      "Player 2's move:paper\n"
     ]
    },
    {
     "data": {
      "text/plain": [
       "'Player 2 wins!'"
      ]
     },
     "execution_count": 38,
     "metadata": {},
     "output_type": "execute_result"
    }
   ],
   "source": [
    "player1 = input(\"Player 1's move:\")\n",
    "player2 = input(\"Player 2's move:\")\n",
    "rps_scoring(player1,player2)"
   ]
  },
  {
   "cell_type": "markdown",
   "metadata": {},
   "source": [
    "### Tests"
   ]
  },
  {
   "cell_type": "code",
   "execution_count": 39,
   "metadata": {
    "collapsed": false
   },
   "outputs": [
    {
     "data": {
      "text/plain": [
       "'Player 1 wins!'"
      ]
     },
     "execution_count": 39,
     "metadata": {},
     "output_type": "execute_result"
    }
   ],
   "source": [
    "rps_scoring(player1='scissors',player2='paper') # Player 1 should win"
   ]
  },
  {
   "cell_type": "code",
   "execution_count": 40,
   "metadata": {
    "collapsed": false
   },
   "outputs": [
    {
     "data": {
      "text/plain": [
       "'Tie!'"
      ]
     },
     "execution_count": 40,
     "metadata": {},
     "output_type": "execute_result"
    }
   ],
   "source": [
    "rps_scoring(player1='paper',player2='paper') # There should be a tie"
   ]
  },
  {
   "cell_type": "code",
   "execution_count": 41,
   "metadata": {
    "collapsed": false
   },
   "outputs": [
    {
     "data": {
      "text/plain": [
       "'Not a valid move!'"
      ]
     },
     "execution_count": 41,
     "metadata": {},
     "output_type": "execute_result"
    }
   ],
   "source": [
    "rps_scoring(player1='lizard',player2='spock') # This shouldn't work"
   ]
  },
  {
   "cell_type": "code",
   "execution_count": 42,
   "metadata": {
    "collapsed": false
   },
   "outputs": [
    {
     "data": {
      "text/plain": [
       "'Player 2 wins!'"
      ]
     },
     "execution_count": 42,
     "metadata": {},
     "output_type": "execute_result"
    }
   ],
   "source": [
    "rps_scoring(player1='Rock',player2='PAPER') # Should this work?"
   ]
  },
  {
   "cell_type": "code",
   "execution_count": null,
   "metadata": {
    "collapsed": true
   },
   "outputs": [],
   "source": []
  }
 ],
 "metadata": {
  "anaconda-cloud": {},
  "kernelspec": {
   "display_name": "Python [conda root]",
   "language": "python",
   "name": "conda-root-py"
  },
  "language_info": {
   "codemirror_mode": {
    "name": "ipython",
    "version": 3
   },
   "file_extension": ".py",
   "mimetype": "text/x-python",
   "name": "python",
   "nbconvert_exporter": "python",
   "pygments_lexer": "ipython3",
   "version": "3.5.2"
  }
 },
 "nbformat": 4,
 "nbformat_minor": 1
}
