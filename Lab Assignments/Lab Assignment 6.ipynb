{
 "cells": [
  {
   "cell_type": "markdown",
   "metadata": {},
   "source": [
    "# Lab Assignment 6 - Dictionaries, Sets, and Hashes\n",
    "\n",
    "Many systems store and retrieve data using JavaScript Object Notation (JSON) which can be translated into a Python dictionary. Let's work the Wikipedia API since it's free and easy to access."
   ]
  },
  {
   "cell_type": "markdown",
   "metadata": {},
   "source": [
    "## Problem 1: Revision data from the Wikipedia API"
   ]
  },
  {
   "cell_type": "code",
   "execution_count": null,
   "metadata": {
    "collapsed": true
   },
   "outputs": [],
   "source": [
    "import requests\n",
    "from datetime import datetime\n",
    "import matplotlib.pyplot as plt\n",
    "%matplotlib inline"
   ]
  },
  {
   "cell_type": "markdown",
   "metadata": {},
   "source": [
    "We'll need to make a `request` dictionary for the requests library to pass to the Wikipedia API. Details about this API endpoint are available in the [official documentation](https://www.mediawiki.org/wiki/API:Revisions)."
   ]
  },
  {
   "cell_type": "code",
   "execution_count": null,
   "metadata": {
    "collapsed": false
   },
   "outputs": [],
   "source": [
    "request = {}\n",
    "request['titles'] = \"\" # Replace with your article title. Avoid long articles like Obama, Trump, etc. if possible\n",
    "request['action'] = 'query'\n",
    "request['format'] = 'json'\n",
    "request['prop'] = 'revisions'\n",
    "request['rvlimit'] = 100\n",
    "request['rvdir'] = 'older'\n",
    "request['formatversion'] = 2\n",
    "request['rvprop'] = '|'.join(['user','timestamp','ids','size','sha1'])\n",
    "request"
   ]
  },
  {
   "cell_type": "markdown",
   "metadata": {},
   "source": [
    "Make the request and store the data in `result`."
   ]
  },
  {
   "cell_type": "code",
   "execution_count": null,
   "metadata": {
    "collapsed": true
   },
   "outputs": [],
   "source": [
    "result = requests.get('http://en.wikipedia.org/w/api.php', params=request).json()"
   ]
  },
  {
   "cell_type": "markdown",
   "metadata": {},
   "source": [
    "What are the keys in the object?"
   ]
  },
  {
   "cell_type": "code",
   "execution_count": null,
   "metadata": {
    "collapsed": false
   },
   "outputs": [],
   "source": []
  },
  {
   "cell_type": "markdown",
   "metadata": {},
   "source": [
    "Navigate to the location in the dictionary where the list of revisions lives and confirm there are no more than 100 revisions."
   ]
  },
  {
   "cell_type": "code",
   "execution_count": null,
   "metadata": {
    "collapsed": false
   },
   "outputs": [],
   "source": []
  },
  {
   "cell_type": "markdown",
   "metadata": {},
   "source": [
    "Which users have made the most revisions over this timespan? Make an empty dictionary `edit_counter` and loop through the revisions and store the number of changes each user made to the article."
   ]
  },
  {
   "cell_type": "code",
   "execution_count": null,
   "metadata": {
    "collapsed": false
   },
   "outputs": [],
   "source": [
    "edit_counter = {}\n",
    "\n",
    "# Your for loop\n",
    "        \n",
    "{k:v for k,v in edit_counter.items() if v > 1}"
   ]
  },
  {
   "cell_type": "markdown",
   "metadata": {},
   "source": [
    "Using the `enumerate` function to give you index positions, loop over this list of revisions and print out the index position of each revision in the list and the \"size\" of each revision."
   ]
  },
  {
   "cell_type": "code",
   "execution_count": null,
   "metadata": {
    "collapsed": false,
    "scrolled": true
   },
   "outputs": [],
   "source": []
  },
  {
   "cell_type": "markdown",
   "metadata": {},
   "source": [
    "## Problem 2: Analyzing revert behavior in revision logs\n",
    "Write a loop that goes through all the revisions, checks if the content hash (\"sha1\") is in a set of `unique_revs`, and if the content of a revision is the same as a previous revision, prints out:\n",
    "\n",
    "* Position in the revision list (use the enumerate function to catch positions in a loop!)\n",
    "* Revision ID\n",
    "* Content hash\n",
    "* Timestamp"
   ]
  },
  {
   "cell_type": "code",
   "execution_count": null,
   "metadata": {
    "collapsed": false
   },
   "outputs": [],
   "source": [
    "unique_revs = set([])\n",
    "\n",
    "# Your loop here"
   ]
  },
  {
   "cell_type": "markdown",
   "metadata": {},
   "source": [
    "Which pairs of editors were most involved in reverting behavior? Put another way: if an article's content hash value at time $t$ reverts back to a previous version at time $t+1$, record the users who authored the article versions at time $t$ and $t+1$ as a tuple and store it in a list `warring_users`. It probably makes sense to follow the direction of time and work from the back of the list forward, so consider reversing the list of revisions."
   ]
  },
  {
   "cell_type": "code",
   "execution_count": null,
   "metadata": {
    "collapsed": false
   },
   "outputs": [],
   "source": [
    "warring_users = []\n",
    "unique_revs = set([])\n",
    "\n",
    "# Your loop here\n",
    "        \n",
    "warring_users"
   ]
  },
  {
   "cell_type": "markdown",
   "metadata": {},
   "source": [
    "Are there any patterns in terms of the user doing the reverting and the users being reverted?"
   ]
  },
  {
   "cell_type": "code",
   "execution_count": null,
   "metadata": {
    "collapsed": true
   },
   "outputs": [],
   "source": []
  },
  {
   "cell_type": "markdown",
   "metadata": {},
   "source": [
    "## Problem 3: Examining changes over time\n",
    "Python's [strptime](http://strftime.org/) function inside datetime can convert formatted date strings into datetime objects while `strftime` can convert datetime objects back to strings."
   ]
  },
  {
   "cell_type": "code",
   "execution_count": null,
   "metadata": {
    "collapsed": false
   },
   "outputs": [],
   "source": [
    "date_string = '2017-03-01'\n",
    "date_datetime = datetime.strptime(date_string,'%Y-%m-%d')\n",
    "date_datetime"
   ]
  },
  {
   "cell_type": "markdown",
   "metadata": {},
   "source": [
    "A datetime object has attributes like `year`, `month`, `day`, `hour`, `minute`, and `second`. Get the year out of a datetime object."
   ]
  },
  {
   "cell_type": "code",
   "execution_count": null,
   "metadata": {
    "collapsed": false
   },
   "outputs": [],
   "source": [
    "date_datetime.year"
   ]
  },
  {
   "cell_type": "markdown",
   "metadata": {},
   "source": [
    "What does a Wikipedia timestamp look like? Store an example as `example_timestamp`."
   ]
  },
  {
   "cell_type": "code",
   "execution_count": null,
   "metadata": {
    "collapsed": false
   },
   "outputs": [],
   "source": [
    "example_timestamp = # Your accessor here\n",
    "example_timestamp"
   ]
  },
  {
   "cell_type": "markdown",
   "metadata": {},
   "source": [
    "Use the strptime function and documentation to convert this string to a datetime object."
   ]
  },
  {
   "cell_type": "code",
   "execution_count": null,
   "metadata": {
    "collapsed": false
   },
   "outputs": [],
   "source": [
    "parsed_example_timestamp = datetime.strptime(example_timestamp,'%Y-%m-%dT%H:%M:%SZ')\n",
    "parsed_example_timestamp"
   ]
  },
  {
   "cell_type": "markdown",
   "metadata": {},
   "source": [
    "Count how many edits occur by hour of the day by starting with an empty `hour_counter` dictionary. Write a loop to go through the revisions, retrieve each revision's timestamp, convert it to a datetime object, and then increment the `hour_counter` dictionary. What time of day appears to be the most popular for this article to be edited?"
   ]
  },
  {
   "cell_type": "code",
   "execution_count": null,
   "metadata": {
    "collapsed": false,
    "scrolled": true
   },
   "outputs": [],
   "source": [
    "hour_counter = {}\n",
    "\n",
    "# Your loop here\n",
    "        \n",
    "hour_counter"
   ]
  },
  {
   "cell_type": "markdown",
   "metadata": {},
   "source": [
    "Similarly, create an empty `weekday_counter` dictionary, write a loop to go through the revisions, retrieve each revision's timestamp, convert it to a datetime object, use the `.weekday()` method to get the day of the week (0=Sunday, 6=Saturday), and then increment the `weekday_counter`. What day of the week appears to be the most popular for this article to be edited?"
   ]
  },
  {
   "cell_type": "code",
   "execution_count": null,
   "metadata": {
    "collapsed": false
   },
   "outputs": [],
   "source": [
    "weekday_counter = {}\n",
    "\n",
    "# Your loop here\n",
    "        \n",
    "weekday_counter"
   ]
  },
  {
   "cell_type": "markdown",
   "metadata": {},
   "source": [
    "The `.date()` method can be applied to datetime objects to get their dates out but throw away the hours, minutes, seconds."
   ]
  },
  {
   "cell_type": "code",
   "execution_count": null,
   "metadata": {
    "collapsed": false
   },
   "outputs": [],
   "source": [
    "parsed_example_timestamp_date = # Get date out\n",
    "parsed_example_timestamp_date"
   ]
  },
  {
   "cell_type": "markdown",
   "metadata": {},
   "source": [
    "Because it's an object, we can hash these datetimes, which also means they can be keys in a dictionary."
   ]
  },
  {
   "cell_type": "code",
   "execution_count": null,
   "metadata": {
    "collapsed": false
   },
   "outputs": [],
   "source": [
    "# Check that this datetime object hashes"
   ]
  },
  {
   "cell_type": "markdown",
   "metadata": {},
   "source": [
    "Write a loop through your revisions that populates a dictionary `date_counter` with the number of revisions made on each day."
   ]
  },
  {
   "cell_type": "code",
   "execution_count": null,
   "metadata": {
    "collapsed": false
   },
   "outputs": [],
   "source": [
    "date_counter = {}\n",
    "\n",
    "# Your loop here\n",
    "        \n",
    "date_counter"
   ]
  },
  {
   "cell_type": "markdown",
   "metadata": {},
   "source": [
    "Use matplotlib to create a barchart of the number of edits per day."
   ]
  },
  {
   "cell_type": "code",
   "execution_count": null,
   "metadata": {
    "collapsed": false
   },
   "outputs": [],
   "source": [
    "f,ax = plt.subplots(1,1,figsize=(12,3))\n",
    "ax.bar(list(date_counter.keys()),list(date_counter.values()))\n",
    "ax.set_xlabel('Date')\n",
    "ax.set_ylabel('Revisions')"
   ]
  },
  {
   "cell_type": "markdown",
   "metadata": {},
   "source": [
    "## Problem 4: Best way to secure your account from brute force password hacking?\n",
    "\n",
    "You've probably had to create a password for an account where they impose demands that there must be at least 1 number, capitalized character, special character, *etc*. But is making more complicated passwords a better strategy for defending against brute-force password cracking attempts than simply requiring longer passwords?"
   ]
  },
  {
   "cell_type": "code",
   "execution_count": null,
   "metadata": {
    "collapsed": false
   },
   "outputs": [],
   "source": [
    "from itertools import product\n",
    "import string\n",
    "import numpy as np"
   ]
  },
  {
   "cell_type": "markdown",
   "metadata": {},
   "source": [
    "Here is a string of all the ASCII characters, lower- and upper-case:"
   ]
  },
  {
   "cell_type": "code",
   "execution_count": null,
   "metadata": {
    "collapsed": false
   },
   "outputs": [],
   "source": [
    "string.ascii_letters"
   ]
  },
  {
   "cell_type": "markdown",
   "metadata": {},
   "source": [
    "Here's a string containing all of the digits."
   ]
  },
  {
   "cell_type": "code",
   "execution_count": null,
   "metadata": {
    "collapsed": false
   },
   "outputs": [],
   "source": [
    "string.digits"
   ]
  },
  {
   "cell_type": "markdown",
   "metadata": {},
   "source": [
    "Here's a string containing lots of punctuation characters:"
   ]
  },
  {
   "cell_type": "code",
   "execution_count": null,
   "metadata": {
    "collapsed": false
   },
   "outputs": [],
   "source": [
    "string.punctuation"
   ]
  },
  {
   "cell_type": "markdown",
   "metadata": {},
   "source": [
    "Let's naively assume that everyone uses completely random passwords. Write a "
   ]
  },
  {
   "cell_type": "code",
   "execution_count": null,
   "metadata": {
    "collapsed": false
   },
   "outputs": [],
   "source": [
    "simple_pass_dict = {}\n",
    "\n",
    "for num in range(2,10):\n",
    "    _array = np.random.choice(list(string.ascii_letters),num)\n",
    "    _str = ''.join(_array)\n",
    "    simple_pass_dict[num] = _str\n",
    "    \n",
    "simple_pass_dict"
   ]
  },
  {
   "cell_type": "markdown",
   "metadata": {},
   "source": [
    "Compare this to a moderate password scheme that combines letters and digits."
   ]
  },
  {
   "cell_type": "code",
   "execution_count": null,
   "metadata": {
    "collapsed": false
   },
   "outputs": [],
   "source": [
    "moderate_pass_dict = {}\n",
    "\n",
    "letters_and_nums = string.ascii_letters + string.digits\n",
    "\n",
    "for num in range(2,10):    \n",
    "    _array = np.random.choice(list(letters_and_nums),num)\n",
    "    _str = ''.join(_array)\n",
    "    moderate_pass_dict[num] = _str\n",
    "    \n",
    "moderate_pass_dict"
   ]
  },
  {
   "cell_type": "markdown",
   "metadata": {},
   "source": [
    "Finally compare to a complex password schemes that combines letters, digits, and punctuation."
   ]
  },
  {
   "cell_type": "code",
   "execution_count": null,
   "metadata": {
    "collapsed": false
   },
   "outputs": [],
   "source": [
    "complex_pass_dict = {}\n",
    "\n",
    "letters_nums_punct = string.ascii_letters + string.digits + string.punctuation\n",
    "\n",
    "for num in range(2,10):\n",
    "    _array = np.random.choice(list(letters_nums_punct),num)\n",
    "    _str = ''.join(_array)\n",
    "    complex_pass_dict[num] = _str\n",
    "    \n",
    "complex_pass_dict"
   ]
  },
  {
   "cell_type": "markdown",
   "metadata": {},
   "source": [
    "The password you chose is just one of several possible permutations of characters. \n",
    "\n",
    "* The simple scheme has 26 lower letters + 26 upper letters = 52 total possibilities per position\n",
    "* The moderate scheme has 52 letters + 10 digits = 62 total possibilities per position\n",
    "* The advanced scheme has 62 letters and numbers + 32 punctuation characters = 94 total possibilies per position\n",
    "\n",
    "We can use the `product` function from itertools to iterate through all the 2-letter combinations of letters. Here's the first 5."
   ]
  },
  {
   "cell_type": "code",
   "execution_count": null,
   "metadata": {
    "collapsed": false
   },
   "outputs": [],
   "source": [
    "list(product(string.ascii_letters,string.ascii_letters))[:5]"
   ]
  },
  {
   "cell_type": "markdown",
   "metadata": {},
   "source": [
    "The length of this list of permutations is 2704, which is the same as 52\\*52, or $N_{possibilities}^{N_{letters}}$"
   ]
  },
  {
   "cell_type": "code",
   "execution_count": null,
   "metadata": {
    "collapsed": false
   },
   "outputs": [],
   "source": [
    "len(list(product(string.ascii_letters,string.ascii_letters))), 52*52, 52**2"
   ]
  },
  {
   "cell_type": "markdown",
   "metadata": {},
   "source": [
    "With this math in mind, we don't need to use `product` to generate the lists, we have worst-case estimates for the number of brute-force guesses we need to make before cracking a password."
   ]
  },
  {
   "cell_type": "code",
   "execution_count": null,
   "metadata": {
    "collapsed": false
   },
   "outputs": [],
   "source": [
    "number_of_letters = np.arange(2,21)\n",
    "number_of_letters"
   ]
  },
  {
   "cell_type": "markdown",
   "metadata": {},
   "source": [
    "Use The Power of Numpy to compute the worse-case number of guesses you'd need to make to crack a random password for each of the simple, moderate, and complex schemes."
   ]
  },
  {
   "cell_type": "code",
   "execution_count": null,
   "metadata": {
    "collapsed": false
   },
   "outputs": [],
   "source": [
    "simple_scheme = 52.0**number_of_letters \n",
    "moderate_scheme = 62.0**number_of_letters \n",
    "complex_scheme = 94.0**number_of_letters"
   ]
  },
  {
   "cell_type": "markdown",
   "metadata": {},
   "source": [
    "Plot these out."
   ]
  },
  {
   "cell_type": "code",
   "execution_count": null,
   "metadata": {
    "collapsed": false
   },
   "outputs": [],
   "source": [
    "f,ax = plt.subplots(1,1)\n",
    "\n",
    "# Divide number of guesses by 100 giga-flops (roughly how many calculations laptops can do per second)\n",
    "# times the number of seconds in a day to get the number of days a computer would have to run to guess worst-cast\n",
    "\n",
    "ax.plot(number_of_letters,simple_scheme / (86400*100*1e9),lw=3,color='b',label='Simple')\n",
    "ax.plot(number_of_letters,moderate_scheme / (86400*100*1e9),lw=3,color='r',label='Moderate')\n",
    "ax.plot(number_of_letters,complex_scheme / (86400*100*1e9),lw=3,color='g',label='Complex')\n",
    "ax.grid(True)\n",
    "\n",
    "ax.set_yscale('log')\n",
    "ax.set_xlabel('Password length')\n",
    "ax.set_ylabel('Number of days to guess')\n",
    "\n",
    "# Draw dotted cyan horizontal lines for different time thresholds\n",
    "ax.axhline(1,c='c',ls='--') # A day\n",
    "ax.axhline(365,c='c',ls='--') # A year\n",
    "ax.axhline(3650,c='c',ls='--') # A decade\n",
    "ax.axhline(36500,c='c',ls='--') # A century\n",
    "ax.axhline(365000,c='c',ls='--') # A millenium\n",
    "\n",
    "# Don't forget the legend\n",
    "ax.legend(loc='center left',bbox_to_anchor=(1,.5))"
   ]
  },
  {
   "cell_type": "markdown",
   "metadata": {},
   "source": [
    "Write a loop that prints out how many letters a moderate and complex password need to be to have similar security by comparing when the less powerful scheme with more characters has more permutations than a more powerful scheme with fewer characters. You don't need dictionaries or sets, just a loop, if statements, print, and break."
   ]
  },
  {
   "cell_type": "code",
   "execution_count": null,
   "metadata": {
    "collapsed": false
   },
   "outputs": [],
   "source": [
    "# Write a loop that includes the following print statements somewhere inside them\n",
    "# The idx_moderate, etc. are indexes returned from an enumerate function\n",
    "print(\"A {0}-letter moderate password overpowers a {1}-letter complex password\".format(idx_moderate+2, idx_complex+2))    \n",
    "\n",
    "print(\"A {0}-letter simple password overpowers a {1}-letter complex password\\n\".format(idx_simple+2, idx_complex+2))\n"
   ]
  },
  {
   "cell_type": "markdown",
   "metadata": {},
   "source": [
    "## Extra Credit: Getting more data out of the API\n",
    "How does the API let us know if there are more revisions available than the 100 most recent we requested? Hint: look at the documentation about [how to continue queries](https://www.mediawiki.org/wiki/API:Query#Continuing_queries)."
   ]
  },
  {
   "cell_type": "code",
   "execution_count": null,
   "metadata": {
    "collapsed": true
   },
   "outputs": [],
   "source": []
  },
  {
   "cell_type": "markdown",
   "metadata": {},
   "source": [
    "Update the `request` dictionary to include any new keys to access the next 100 most recent revisions from the API."
   ]
  },
  {
   "cell_type": "code",
   "execution_count": null,
   "metadata": {
    "collapsed": true
   },
   "outputs": [],
   "source": []
  },
  {
   "cell_type": "markdown",
   "metadata": {},
   "source": [
    "Confirm that these revisions' revids don't overlap with your previous call."
   ]
  },
  {
   "cell_type": "code",
   "execution_count": null,
   "metadata": {
    "collapsed": true
   },
   "outputs": [],
   "source": []
  },
  {
   "cell_type": "markdown",
   "metadata": {},
   "source": [
    "Combine the two sets of revisions."
   ]
  },
  {
   "cell_type": "code",
   "execution_count": null,
   "metadata": {
    "collapsed": true
   },
   "outputs": [],
   "source": []
  },
  {
   "cell_type": "markdown",
   "metadata": {},
   "source": [
    "Write a function `get_revisions` that will keep requesting data from the API and cumulatively combining each API call's revisions with previous revisions until there are no more revisions to get."
   ]
  },
  {
   "cell_type": "code",
   "execution_count": null,
   "metadata": {
    "collapsed": true
   },
   "outputs": [],
   "source": [
    "def get_revisions(page_title):\n",
    "    \n",
    "    # Your code here\n",
    "    \n",
    "    return revisions"
   ]
  }
 ],
 "metadata": {
  "anaconda-cloud": {},
  "kernelspec": {
   "display_name": "Python [conda root]",
   "language": "python",
   "name": "conda-root-py"
  },
  "language_info": {
   "codemirror_mode": {
    "name": "ipython",
    "version": 3
   },
   "file_extension": ".py",
   "mimetype": "text/x-python",
   "name": "python",
   "nbconvert_exporter": "python",
   "pygments_lexer": "ipython3",
   "version": "3.5.2"
  }
 },
 "nbformat": 4,
 "nbformat_minor": 1
}
