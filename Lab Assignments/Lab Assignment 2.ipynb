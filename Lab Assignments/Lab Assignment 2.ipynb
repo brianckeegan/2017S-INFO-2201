{
 "cells": [
  {
   "cell_type": "markdown",
   "metadata": {},
   "source": [
    "# Problem 1: Implement and test a `Fish` class"
   ]
  },
  {
   "cell_type": "markdown",
   "metadata": {},
   "source": [
    "Dr. Seuss's \"[One Fish, Two Fish, Red Fish, Blue Fish](https://en.wikipedia.org/wiki/One_Fish_Two_Fish_Red_Fish_Blue_Fish)\" describes fish having various attributes."
   ]
  },
  {
   "cell_type": "raw",
   "metadata": {},
   "source": [
    "\"One fish, Two fish, Red fish, Blue fish,\n",
    "Black fish, Blue fish, Old fish, New fish.\n",
    "This one has a little car.\n",
    "This one has a little star.\n",
    "Say! What a lot of fish there are.\n",
    "Yes. Some are red, and some are blue.\n",
    "Some are old and some are new.\n",
    "Some are sad, and some are glad,\n",
    "And some are very, very bad.\n",
    "Why are they sad and glad and bad?\n",
    "I do not know, go ask your dad.\n",
    "Some are thin, and some are fat.\n",
    "The fat one has a yellow hat.\n",
    "From there to here,\n",
    "From here to there,\n",
    "Funny things are everywhere.\n",
    "Here are some who like to run.\n",
    "They run for fun in the hot, hot sun.\n",
    "Oh me! Oh my! Oh me! oh my!\n",
    "What a lot of funny things go by.\n",
    "Some have two feet and some have four.\n",
    "Some have six feet and some have more.\n",
    "Where do they come from? I can't say.\n",
    "But I bet they have come a long, long way.\n",
    "we see them come, we see them go.\n",
    "Some are fast. Some are slow.\n",
    "Some are high. Some are low.\n",
    "Not one of them is like another.\n",
    "Don't ask us why, go ask your mother.\""
   ]
  },
  {
   "cell_type": "markdown",
   "metadata": {},
   "source": [
    "Implement a `Fish` class that can accomodate all the possible Fish attributes described in the story with corresponding accessor methods seen in the test cases below. Not that this would ever happen in a real-world setting while working as an engineer or data scientist, you will need to define and code this `Fish` class to interface the method calls and attributes I have arbitrarily defined as important throughout the test cases."
   ]
  },
  {
   "cell_type": "code",
   "execution_count": 10,
   "metadata": {
    "collapsed": false
   },
   "outputs": [],
   "source": [
    "class Fish(object):\n",
    "    # define all the attributes necessary to tell Dr. Seuss's story.\n",
    "    def __init__(self,car,color):\n",
    "        self.car = car\n",
    "        self.color = color\n",
    "        self.height = 5\n",
    "        \n",
    "    def get_color(self):\n",
    "        return self.color\n",
    "    \n",
    "    def grow_height(self,amount):\n",
    "        self.height += amount\n",
    "        \n",
    "    def __str__(self):\n",
    "        return \"Fishy\""
   ]
  },
  {
   "cell_type": "code",
   "execution_count": 11,
   "metadata": {
    "collapsed": false
   },
   "outputs": [
    {
     "data": {
      "text/plain": [
       "'Fishy'"
      ]
     },
     "execution_count": 11,
     "metadata": {},
     "output_type": "execute_result"
    }
   ],
   "source": [
    "fish1 = Fish(car='Yes',color='blue')\n",
    "\n",
    "str(fish1)"
   ]
  },
  {
   "cell_type": "markdown",
   "metadata": {},
   "source": [
    "### Tests"
   ]
  },
  {
   "cell_type": "code",
   "execution_count": null,
   "metadata": {
    "collapsed": true
   },
   "outputs": [],
   "source": [
    "# Create at least 6 Fish objects: fish1, ... , fish6"
   ]
  },
  {
   "cell_type": "code",
   "execution_count": null,
   "metadata": {
    "collapsed": true
   },
   "outputs": [],
   "source": [
    "all_fish_list = [fish1,fish2,fish3,fish4,fish5,fish6]"
   ]
  },
  {
   "cell_type": "code",
   "execution_count": null,
   "metadata": {
    "collapsed": true
   },
   "outputs": [],
   "source": [
    "fish1.get_color()"
   ]
  },
  {
   "cell_type": "code",
   "execution_count": null,
   "metadata": {
    "collapsed": true
   },
   "outputs": [],
   "source": [
    "fish_colors = {}\n",
    "for fish in all_fish_list:\n",
    "    try:\n",
    "        fish_colors[fish.get_color()] += 1\n",
    "    except KeyError:\n",
    "        fish_colors[fish.get_color()] = 1\n",
    "        \n",
    "fish_colors"
   ]
  },
  {
   "cell_type": "code",
   "execution_count": null,
   "metadata": {
    "collapsed": true
   },
   "outputs": [],
   "source": [
    "fish2.has_car()"
   ]
  },
  {
   "cell_type": "code",
   "execution_count": null,
   "metadata": {
    "collapsed": true
   },
   "outputs": [],
   "source": [
    "fish3.has_star()"
   ]
  },
  {
   "cell_type": "code",
   "execution_count": null,
   "metadata": {
    "collapsed": true
   },
   "outputs": [],
   "source": [
    "fish4.is_old()"
   ]
  },
  {
   "cell_type": "code",
   "execution_count": null,
   "metadata": {
    "collapsed": true
   },
   "outputs": [],
   "source": [
    "fish5.is_sad()"
   ]
  },
  {
   "cell_type": "code",
   "execution_count": null,
   "metadata": {
    "collapsed": true
   },
   "outputs": [],
   "source": [
    "fish6.is_bad()"
   ]
  },
  {
   "cell_type": "code",
   "execution_count": null,
   "metadata": {
    "collapsed": true
   },
   "outputs": [],
   "source": [
    "for fish in all_fish_list:\n",
    "    if fish.is_fat():\n",
    "        print(str(fish),fish.get_hat())"
   ]
  },
  {
   "cell_type": "code",
   "execution_count": null,
   "metadata": {
    "collapsed": true
   },
   "outputs": [],
   "source": [
    "running_fish = list()\n",
    "\n",
    "for fish in all_fish_list:\n",
    "    if fish.likes_to_run():\n",
    "        running_fish.append(fish)\n",
    "        \n",
    "len(running_fish)"
   ]
  },
  {
   "cell_type": "code",
   "execution_count": null,
   "metadata": {
    "collapsed": true
   },
   "outputs": [],
   "source": [
    "total_feet = 0\n",
    "for fish in running_fish:\n",
    "    total_feet += fish.get_feet()"
   ]
  },
  {
   "cell_type": "code",
   "execution_count": null,
   "metadata": {
    "collapsed": true
   },
   "outputs": [],
   "source": [
    "counter = {}\n",
    "for _speed in ['fast','slow']:\n",
    "    counter[_speed] = {}\n",
    "    for _height in ['high','low']:\n",
    "        counter[_speed][_height] = 0\n",
    "        for fish in all_fish_list:\n",
    "            if fish.speed == _speed and fish.height == _height:\n",
    "                counter[_speed][_height] += 1\n",
    "                \n",
    "counter"
   ]
  },
  {
   "cell_type": "markdown",
   "metadata": {},
   "source": [
    "### Bonus mega props in Friday lecture"
   ]
  },
  {
   "cell_type": "markdown",
   "metadata": {},
   "source": [
    "Define a function to generate an `all_fish_list` while guaranteeing that \"not one of [the fish] is like another\"."
   ]
  },
  {
   "cell_type": "code",
   "execution_count": null,
   "metadata": {
    "collapsed": true
   },
   "outputs": [],
   "source": []
  },
  {
   "cell_type": "markdown",
   "metadata": {
    "collapsed": true
   },
   "source": [
    "# Problem 2: Create a object-oriented story"
   ]
  },
  {
   "cell_type": "markdown",
   "metadata": {},
   "source": [
    "Use a combination of classes to tell a story programmatically. This story should have objects that inherit attributes and methods from parent objects, employs constructor, accessor, mutator, and special methods. The story could be deterministic, in that it runs the same way every time, or it could be stochastic and uses randomness to tell a different story every time, or it could be interactive choose-your-own-adventure role-playing.\n",
    "\n",
    "If you need help brainstorming how to execute this, refer to the following examples:\n",
    "\n",
    "* [Learn Python the Hard Way - Example 43](https://learnpythonthehardway.org/book/ex43.html)\n",
    "* [Learn Python the Hard Way - Example 45](https://learnpythonthehardway.org/book/ex45.html)\n",
    "* [Mad Libs](http://anh.cs.luc.edu/python/hands-on/3.1/handsonHtml/madlib2.html)"
   ]
  },
  {
   "cell_type": "code",
   "execution_count": 1,
   "metadata": {
    "collapsed": true
   },
   "outputs": [],
   "source": [
    "# Implement a Chicken class with constructor methods to give chickens reasons to cross the road\n",
    "# and accessor methods to setup the joke\n",
    "\n",
    "class Chicken(object):\n",
    "    \n",
    "    def __init__(self, reason):\n",
    "        self.reason = reason\n",
    "        \n",
    "    def get_reason(self):\n",
    "        return self.reason\n",
    "    \n",
    "    def make_joke(self):\n",
    "        return \"Why did the chicken cross the road?\\n {0}\\n\".format(self.get_reason())"
   ]
  },
  {
   "cell_type": "code",
   "execution_count": 2,
   "metadata": {
    "collapsed": false
   },
   "outputs": [
    {
     "name": "stdout",
     "output_type": "stream",
     "text": [
      "Why did the chicken cross the road?\n",
      " To get to the other side.\n",
      "\n",
      "Why did the chicken cross the road?\n",
      " It would be a fowl proceeding.\n",
      "\n",
      "Why did the chicken cross the road?\n",
      " It was too far to walk around.\n",
      "\n"
     ]
    }
   ],
   "source": [
    "# Create an empty coop of chickens\n",
    "chickens = list()\n",
    "\n",
    "# Come up with a list of reasons to cross a road\n",
    "reasons = ['To get to the other side.',\n",
    "           'It would be a fowl proceeding.',\n",
    "           'It was too far to walk around.']\n",
    "\n",
    "# Make chickens with reasons and put them in the coop\n",
    "for reason in reasons:\n",
    "    chickens.append(Chicken(reason))\n",
    "\n",
    "# Ask each chicken why they crossed the road\n",
    "for chicken in chickens:\n",
    "    print(chicken.make_joke())"
   ]
  },
  {
   "cell_type": "code",
   "execution_count": null,
   "metadata": {
    "collapsed": true
   },
   "outputs": [],
   "source": []
  }
 ],
 "metadata": {
  "anaconda-cloud": {},
  "kernelspec": {
   "display_name": "Python [conda root]",
   "language": "python",
   "name": "conda-root-py"
  },
  "language_info": {
   "codemirror_mode": {
    "name": "ipython",
    "version": 3
   },
   "file_extension": ".py",
   "mimetype": "text/x-python",
   "name": "python",
   "nbconvert_exporter": "python",
   "pygments_lexer": "ipython3",
   "version": "3.5.2"
  }
 },
 "nbformat": 4,
 "nbformat_minor": 1
}
