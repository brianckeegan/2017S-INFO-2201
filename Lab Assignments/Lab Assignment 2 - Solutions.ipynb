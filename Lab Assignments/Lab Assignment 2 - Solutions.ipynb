{
 "cells": [
  {
   "cell_type": "markdown",
   "metadata": {},
   "source": [
    "# Problem 1: Implement and test a `Fish` class"
   ]
  },
  {
   "cell_type": "markdown",
   "metadata": {},
   "source": [
    "Dr. Seuss's \"[One Fish, Two Fish, Red Fish, Blue Fish](https://en.wikipedia.org/wiki/One_Fish_Two_Fish_Red_Fish_Blue_Fish)\" describes fish having various attributes."
   ]
  },
  {
   "cell_type": "raw",
   "metadata": {},
   "source": [
    "\"One fish, Two fish, Red fish, Blue fish,\n",
    "Black fish, Blue fish, Old fish, New fish.\n",
    "This one has a little car.\n",
    "This one has a little star.\n",
    "Say! What a lot of fish there are.\n",
    "Yes. Some are red, and some are blue.\n",
    "Some are old and some are new.\n",
    "Some are sad, and some are glad,\n",
    "And some are very, very bad.\n",
    "Why are they sad and glad and bad?\n",
    "I do not know, go ask your dad.\n",
    "Some are thin, and some are fat.\n",
    "The fat one has a yellow hat.\n",
    "From there to here,\n",
    "From here to there,\n",
    "Funny things are everywhere.\n",
    "Here are some who like to run.\n",
    "They run for fun in the hot, hot sun.\n",
    "Oh me! Oh my! Oh me! oh my!\n",
    "What a lot of funny things go by.\n",
    "Some have two feet and some have four.\n",
    "Some have six feet and some have more.\n",
    "Where do they come from? I can't say.\n",
    "But I bet they have come a long, long way.\n",
    "we see them come, we see them go.\n",
    "Some are fast. Some are slow.\n",
    "Some are high. Some are low.\n",
    "Not one of them is like another.\n",
    "Don't ask us why, go ask your mother.\""
   ]
  },
  {
   "cell_type": "markdown",
   "metadata": {},
   "source": [
    "Implement a `Fish` class that can accomodate all the possible Fish attributes described in the story with corresponding accessor methods seen in the test cases below. Not that this would ever happen in a real-world setting while working as an engineer or data scientist, you will need to define and code this `Fish` class to interface the method calls and attributes I have arbitrarily defined as important throughout the test cases."
   ]
  },
  {
   "cell_type": "code",
   "execution_count": 1,
   "metadata": {
    "collapsed": false
   },
   "outputs": [],
   "source": [
    "class Fish(object):\n",
    "    # define all the attributes necessary to tell Dr. Seuss's story.\n",
    "    def __init__(self,color,car,star,age,sad,bad,fat,hat,name,runner,speed,height,feet):\n",
    "        self.color = color\n",
    "        self.car = car\n",
    "        self.star = star\n",
    "        self.age = age\n",
    "        self.sad = sad\n",
    "        self.bad = bad\n",
    "        self.fat = fat\n",
    "        self.hat = hat\n",
    "        self.name = name\n",
    "        self.runner = runner\n",
    "        self.speed = speed\n",
    "        self.height = height\n",
    "        self.feet = feet\n",
    "        \n",
    "    def get_color(self):\n",
    "        return self.color\n",
    "    \n",
    "    def has_car(self):\n",
    "        return self.car\n",
    "    \n",
    "    def has_star(self):\n",
    "        return self.star\n",
    "    \n",
    "    def is_old(self):\n",
    "        if self.age > 3:\n",
    "            return True\n",
    "        else:\n",
    "            return False\n",
    "    \n",
    "    def is_sad(self):\n",
    "        return self.sad\n",
    "    \n",
    "    def is_bad(self):\n",
    "        return self.bad\n",
    "    \n",
    "    def is_fat(self):\n",
    "        return self.fat\n",
    "    \n",
    "    def get_hat(self):\n",
    "        return self.hat\n",
    "    \n",
    "    def likes_to_run(self):\n",
    "        return self.runner\n",
    "    \n",
    "    def __str__(self):\n",
    "        return self.name\n",
    "    \n",
    "    def get_feet(self):\n",
    "        return self.feet"
   ]
  },
  {
   "cell_type": "markdown",
   "metadata": {},
   "source": [
    "### Tests"
   ]
  },
  {
   "cell_type": "code",
   "execution_count": 2,
   "metadata": {
    "collapsed": true
   },
   "outputs": [],
   "source": [
    "# Create at least 6 Fish objects: fish1, ... , fish6\n",
    "fish1 = Fish(color='blue',car=True,star=True,age=1,sad=True,bad=False,fat=False,hat=True,name='Fish 1',runner=False,speed='fast',height='high',feet=2)\n",
    "fish2 = Fish(color='red',car=False,star=True,age=2,sad=False,bad=True,fat=False,hat=False,name='Fish 2',runner=True,speed='slow',height='low',feet=3)\n",
    "fish3 = Fish(color='black',car=True,star=False,age=3,sad=False,bad=False,fat=True,hat=True,name='Fish 3',runner=True,speed='fast',height='high',feet=4)\n",
    "fish4 = Fish(color='red',car=False,star=True,age=4,sad=True,bad=True,fat=True,hat=True,name='Fish 4',runner=True,speed='slow',height='low',feet=3)\n",
    "fish5 = Fish(color='blue',car=True,star=True,age=5,sad=False,bad=False,fat=False,hat=False,name='Fish 5',runner=False,speed='slow',height='high',feet=2)\n",
    "fish6 = Fish(color='yellow',car=False,star=False,age=6,sad=False,bad=True,fat=False,hat=True,name='Fish 6',runner=True,speed='fast',height='low',feet=1)"
   ]
  },
  {
   "cell_type": "code",
   "execution_count": 3,
   "metadata": {
    "collapsed": true
   },
   "outputs": [],
   "source": [
    "all_fish_list = [fish1,fish2,fish3,fish4,fish5,fish6]"
   ]
  },
  {
   "cell_type": "code",
   "execution_count": 4,
   "metadata": {
    "collapsed": false
   },
   "outputs": [
    {
     "data": {
      "text/plain": [
       "'blue'"
      ]
     },
     "execution_count": 4,
     "metadata": {},
     "output_type": "execute_result"
    }
   ],
   "source": [
    "fish1.get_color()"
   ]
  },
  {
   "cell_type": "code",
   "execution_count": 5,
   "metadata": {
    "collapsed": false
   },
   "outputs": [
    {
     "data": {
      "text/plain": [
       "{'black': 1, 'blue': 2, 'red': 2, 'yellow': 1}"
      ]
     },
     "execution_count": 5,
     "metadata": {},
     "output_type": "execute_result"
    }
   ],
   "source": [
    "fish_colors = {}\n",
    "for fish in all_fish_list:\n",
    "    try:\n",
    "        fish_colors[fish.get_color()] += 1\n",
    "    except KeyError:\n",
    "        fish_colors[fish.get_color()] = 1\n",
    "        \n",
    "fish_colors"
   ]
  },
  {
   "cell_type": "code",
   "execution_count": 6,
   "metadata": {
    "collapsed": false
   },
   "outputs": [
    {
     "data": {
      "text/plain": [
       "False"
      ]
     },
     "execution_count": 6,
     "metadata": {},
     "output_type": "execute_result"
    }
   ],
   "source": [
    "fish2.has_car()"
   ]
  },
  {
   "cell_type": "code",
   "execution_count": 7,
   "metadata": {
    "collapsed": false
   },
   "outputs": [
    {
     "data": {
      "text/plain": [
       "False"
      ]
     },
     "execution_count": 7,
     "metadata": {},
     "output_type": "execute_result"
    }
   ],
   "source": [
    "fish3.has_star()"
   ]
  },
  {
   "cell_type": "code",
   "execution_count": 8,
   "metadata": {
    "collapsed": false
   },
   "outputs": [
    {
     "data": {
      "text/plain": [
       "True"
      ]
     },
     "execution_count": 8,
     "metadata": {},
     "output_type": "execute_result"
    }
   ],
   "source": [
    "fish4.is_old()"
   ]
  },
  {
   "cell_type": "code",
   "execution_count": 9,
   "metadata": {
    "collapsed": false
   },
   "outputs": [
    {
     "data": {
      "text/plain": [
       "False"
      ]
     },
     "execution_count": 9,
     "metadata": {},
     "output_type": "execute_result"
    }
   ],
   "source": [
    "fish5.is_sad()"
   ]
  },
  {
   "cell_type": "code",
   "execution_count": 10,
   "metadata": {
    "collapsed": false
   },
   "outputs": [
    {
     "data": {
      "text/plain": [
       "True"
      ]
     },
     "execution_count": 10,
     "metadata": {},
     "output_type": "execute_result"
    }
   ],
   "source": [
    "fish6.is_bad()"
   ]
  },
  {
   "cell_type": "code",
   "execution_count": 11,
   "metadata": {
    "collapsed": false
   },
   "outputs": [
    {
     "name": "stdout",
     "output_type": "stream",
     "text": [
      "Fish 3 True\n",
      "Fish 4 True\n"
     ]
    }
   ],
   "source": [
    "for fish in all_fish_list:\n",
    "    if fish.is_fat():\n",
    "        print(str(fish),fish.get_hat())"
   ]
  },
  {
   "cell_type": "code",
   "execution_count": 12,
   "metadata": {
    "collapsed": false
   },
   "outputs": [
    {
     "data": {
      "text/plain": [
       "4"
      ]
     },
     "execution_count": 12,
     "metadata": {},
     "output_type": "execute_result"
    }
   ],
   "source": [
    "running_fish = list()\n",
    "\n",
    "for fish in all_fish_list:\n",
    "    if fish.likes_to_run():\n",
    "        running_fish.append(fish)\n",
    "        \n",
    "len(running_fish)"
   ]
  },
  {
   "cell_type": "code",
   "execution_count": 13,
   "metadata": {
    "collapsed": false
   },
   "outputs": [
    {
     "data": {
      "text/plain": [
       "11"
      ]
     },
     "execution_count": 13,
     "metadata": {},
     "output_type": "execute_result"
    }
   ],
   "source": [
    "total_feet = 0\n",
    "for fish in running_fish:\n",
    "    total_feet += fish.get_feet()\n",
    "    \n",
    "total_feet"
   ]
  },
  {
   "cell_type": "code",
   "execution_count": 14,
   "metadata": {
    "collapsed": false
   },
   "outputs": [
    {
     "data": {
      "text/plain": [
       "{'fast': {'high': 2, 'low': 1}, 'slow': {'high': 1, 'low': 2}}"
      ]
     },
     "execution_count": 14,
     "metadata": {},
     "output_type": "execute_result"
    }
   ],
   "source": [
    "counter = {}\n",
    "for _speed in ['fast','slow']:\n",
    "    counter[_speed] = {}\n",
    "    for _height in ['high','low']:\n",
    "        counter[_speed][_height] = 0\n",
    "        for fish in all_fish_list:\n",
    "            if fish.speed == _speed and fish.height == _height:\n",
    "                counter[_speed][_height] += 1\n",
    "                \n",
    "counter"
   ]
  },
  {
   "cell_type": "markdown",
   "metadata": {},
   "source": [
    "### Bonus mega props in Friday lecture"
   ]
  },
  {
   "cell_type": "markdown",
   "metadata": {},
   "source": [
    "Define a function to generate an `all_fish_list` while guaranteeing that \"not one of [the fish] is like another\"."
   ]
  },
  {
   "cell_type": "code",
   "execution_count": 19,
   "metadata": {
    "collapsed": false
   },
   "outputs": [
    {
     "data": {
      "text/plain": [
       "{'age': 1,\n",
       " 'bad': False,\n",
       " 'car': True,\n",
       " 'color': 'blue',\n",
       " 'fat': False,\n",
       " 'feet': 2,\n",
       " 'hat': True,\n",
       " 'height': 'high',\n",
       " 'name': 'Fish 1',\n",
       " 'runner': False,\n",
       " 'sad': True,\n",
       " 'speed': 'fast',\n",
       " 'star': True}"
      ]
     },
     "execution_count": 19,
     "metadata": {},
     "output_type": "execute_result"
    }
   ],
   "source": [
    "# Check out this cool feature about objects:\n",
    "# You can turn an object into a dictionary of all its attributes with the __dict__ special method\n",
    "fish1.__dict__"
   ]
  },
  {
   "cell_type": "code",
   "execution_count": 15,
   "metadata": {
    "collapsed": false
   },
   "outputs": [
    {
     "data": {
      "text/plain": [
       "True"
      ]
     },
     "execution_count": 15,
     "metadata": {},
     "output_type": "execute_result"
    }
   ],
   "source": [
    "# Check out this other cool feature: \n",
    "# Python will tell you if a dictionary is in a list of dictionaries\n",
    "{'a':1} in [{'a':1},{'b':2}]"
   ]
  },
  {
   "cell_type": "code",
   "execution_count": 21,
   "metadata": {
    "collapsed": false
   },
   "outputs": [
    {
     "name": "stdout",
     "output_type": "stream",
     "text": [
      "Fish 1 red True False True True False False\n",
      "Fish 2 purple False False False False False True\n",
      "Fish 3 yellow False False True False False False\n",
      "Fish 4 red False True True True False False\n",
      "Fish 5 black True True False False False True\n",
      "Fish 6 green False False True False False False\n",
      "Fish 7 green False True True True False True\n",
      "Fish 8 red True False False True True True\n",
      "Fish 9 green False True False True True False\n",
      "Fish 10 green True True False False False True\n",
      "Fish 11 black True True True False False False\n"
     ]
    }
   ],
   "source": [
    "import random\n",
    "\n",
    "def make_unique_fish(number_of_fish):\n",
    "\n",
    "    # Create an empty list of fish we'll put the candidate fish into\n",
    "    unique_fish_list = list()\n",
    "\n",
    "    # While the fish list/aquarium isn't full \n",
    "    while len(unique_fish_list) <= number_of_fish:\n",
    "\n",
    "        # Randomly select some attributes\n",
    "        color = random.choice(['red','blue','black','yellow','green','orange','purple'])\n",
    "        car = random.choice([True,False])\n",
    "        star = random.choice([True,False])\n",
    "        age = random.choice(range(0,10))\n",
    "        sad = random.choice([True,False])\n",
    "        bad = random.choice([True,False])\n",
    "        fat = random.choice([True,False])\n",
    "        hat = random.choice([True,False])\n",
    "        name = 'Fish {0}'.format(len(unique_fish_list)+1)\n",
    "        runner = random.choice([True,False])\n",
    "        speed = random.choice(['fast','slow'])\n",
    "        height = random.choice(['high','low'])\n",
    "        feet = random.choice(range(0,8,2))\n",
    "\n",
    "        # Create a candidate fish with all these random\n",
    "        candidate_fish = Fish(color,car,star,age,sad,bad,fat,hat,name,runner,speed,height,feet)\n",
    "\n",
    "        # the __dict__ special method is a cool trick to convert your object's attributes into a dictionary\n",
    "        candidate_fish_dict = candidate_fish.__dict__\n",
    "\n",
    "        # Make a list of fish dicts already in in the aquarium\n",
    "        fish_dict_list = [fish.__dict__ for fish in unique_fish_list]\n",
    "\n",
    "        # Check if the candidate fish dict isn't already in the list\n",
    "        # This is cool too! Python will tell you if a dictionary is already in a list of dictionaries\n",
    "        if candidate_fish_dict not in fish_dict_list:\n",
    "            # If the fish is unique, put it in\n",
    "            unique_fish_list.append(candidate_fish)\n",
    "    \n",
    "    # Once all the fish are in there, return the fish_list\n",
    "    return unique_fish_list\n",
    "\n",
    "# Use the function to make 10 fish\n",
    "unique_fish_list = make_unique_fish(10)\n",
    "        \n",
    "# Print out all the fish properties\n",
    "for fish in unique_fish_list:\n",
    "    print(str(fish), fish.get_color(), fish.has_car(), fish.has_star(), fish.is_old(), fish.is_sad(), fish.is_bad(), fish.is_fat())"
   ]
  },
  {
   "cell_type": "markdown",
   "metadata": {
    "collapsed": true
   },
   "source": [
    "# Problem 2: Create a object-oriented story"
   ]
  },
  {
   "cell_type": "markdown",
   "metadata": {},
   "source": [
    "Use a combination of classes to tell a story programmatically. This story should have objects that inherit attributes and methods from parent objects, employs constructor, accessor, mutator, and special methods. The story could be deterministic, in that it runs the same way every time, or it could be stochastic and uses randomness to tell a different story every time, or it could be interactive choose-your-own-adventure role-playing.\n",
    "\n",
    "If you need help brainstorming how to execute this, refer to the following examples:\n",
    "\n",
    "* [Learn Python the Hard Way - Example 43](https://learnpythonthehardway.org/book/ex43.html)\n",
    "* [Learn Python the Hard Way - Example 45](https://learnpythonthehardway.org/book/ex45.html)\n",
    "* [Mad Libs](http://anh.cs.luc.edu/python/hands-on/3.1/handsonHtml/madlib2.html)"
   ]
  },
  {
   "cell_type": "code",
   "execution_count": 17,
   "metadata": {
    "collapsed": true
   },
   "outputs": [],
   "source": [
    "# Implement a Chicken class with constructor methods to give chickens reasons to cross the road\n",
    "# and accessor methods to setup the joke\n",
    "\n",
    "class Chicken(object):\n",
    "    \n",
    "    def __init__(self, reason):\n",
    "        self.reason = reason\n",
    "        \n",
    "    def get_reason(self):\n",
    "        return self.reason\n",
    "    \n",
    "    def make_joke(self):\n",
    "        return \"Why did the chicken cross the road?\\n {0}\\n\".format(self.get_reason())"
   ]
  },
  {
   "cell_type": "code",
   "execution_count": 18,
   "metadata": {
    "collapsed": false
   },
   "outputs": [
    {
     "name": "stdout",
     "output_type": "stream",
     "text": [
      "Why did the chicken cross the road?\n",
      " To get to the other side.\n",
      "\n",
      "Why did the chicken cross the road?\n",
      " It would be a fowl proceeding.\n",
      "\n",
      "Why did the chicken cross the road?\n",
      " It was too far to walk around.\n",
      "\n"
     ]
    }
   ],
   "source": [
    "# Create an empty coop of chickens\n",
    "chickens = list()\n",
    "\n",
    "# Come up with a list of reasons to cross a road\n",
    "reasons = ['To get to the other side.',\n",
    "           'It would be a fowl proceeding.',\n",
    "           'It was too far to walk around.']\n",
    "\n",
    "# Make chickens with reasons and put them in the coop\n",
    "for reason in reasons:\n",
    "    chickens.append(Chicken(reason))\n",
    "\n",
    "# Ask each chicken why they crossed the road\n",
    "for chicken in chickens:\n",
    "    print(chicken.make_joke())"
   ]
  },
  {
   "cell_type": "code",
   "execution_count": null,
   "metadata": {
    "collapsed": true
   },
   "outputs": [],
   "source": []
  },
  {
   "cell_type": "code",
   "execution_count": null,
   "metadata": {
    "collapsed": true
   },
   "outputs": [],
   "source": []
  }
 ],
 "metadata": {
  "anaconda-cloud": {},
  "kernelspec": {
   "display_name": "Python [conda root]",
   "language": "python",
   "name": "conda-root-py"
  },
  "language_info": {
   "codemirror_mode": {
    "name": "ipython",
    "version": 3
   },
   "file_extension": ".py",
   "mimetype": "text/x-python",
   "name": "python",
   "nbconvert_exporter": "python",
   "pygments_lexer": "ipython3",
   "version": "3.5.2"
  }
 },
 "nbformat": 4,
 "nbformat_minor": 1
}
