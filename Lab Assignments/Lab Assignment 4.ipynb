{
 "cells": [
  {
   "cell_type": "markdown",
   "metadata": {},
   "source": [
    "# Lab Assignment 4: Comparing Anagram Solutions\n",
    "\n",
    "One string is an anagram of another if the second is a rearrangement of the first. For example \"heart\" and \"earth\" are anagrams. What are different solutions to trying to checking if two strings (assumed to be of equal length) are anagams? We will explore four different approaches to solving this problem to illustrate the different performance and interpretability trade-offs for designing an algorithm. All four of these algorithms will produce the same solutions, but will do it in very different ways with vastly different levels of performance. Each problem will:\n",
    "\n",
    "1. Measure the algorithm's empirical performance and fit best curve to find its complexity class\n",
    "2. Break apart a completed algorithm to see how it works\n",
    "3. Analyze the algorithm to identify the bottlenecks causing its complexity class\n",
    "\n",
    "We'll do Problem 0 together, leaving you to analyze the other 3 algorithms. This first one is by far the hardest to understand, which is why we're doing it together as an example.\n",
    "\n",
    "Part 1 is just about already done for you, you only need to eyeball the fits to see which is the best.\n",
    "\n",
    "Part 2 will take the most time. The goal here is for you to take apart the algorithm (but not the functions it calls) and convince your peer grader that you know what each step is doing. Take a line or block from the algorithm, work from the inside of a loop outwards, pass in example code and test cases, etc. and convince your peer grader that you know how all the pieces are working together. \n",
    "\n",
    "Part 3 will ask you to identify which parts you suspect are causing the biggest bottlenecks in performance.\n",
    "\n",
    "\n",
    "# Setup functions and importing libraries"
   ]
  },
  {
   "cell_type": "markdown",
   "metadata": {},
   "source": [
    "Import helper libraries and functions we'll need."
   ]
  },
  {
   "cell_type": "code",
   "execution_count": 2,
   "metadata": {
    "collapsed": false
   },
   "outputs": [],
   "source": [
    "# Setup plotting\n",
    "%matplotlib inline\n",
    "import matplotlib.pyplot as plt\n",
    "\n",
    "# Import string to get access to the ascii_lowercase attribute\n",
    "import string\n",
    "\n",
    "# Import random to be able to randomly sample and shuffle a list/string\n",
    "import random\n",
    "\n",
    "# Import numpy to help with randomizing things\n",
    "import numpy as np\n",
    "\n",
    "# Import timeit to help with timing the algorithms\n",
    "import timeit\n",
    "\n",
    "# Perform curve-fitting\n",
    "from scipy.optimize import curve_fit\n",
    "\n",
    "# And use scipy's own factorial method\n",
    "from scipy.special import factorial\n",
    "\n",
    "# Generate permutations\n",
    "from itertools import permutations"
   ]
  },
  {
   "cell_type": "markdown",
   "metadata": {},
   "source": [
    "Define some basic functional forms we'll need for curve fitting."
   ]
  },
  {
   "cell_type": "code",
   "execution_count": 3,
   "metadata": {
    "collapsed": true
   },
   "outputs": [],
   "source": [
    "# Define some basic functions we'll use throughout\n",
    "def constantN(x,a=1,b=0):\n",
    "    return a\n",
    "\n",
    "def logN(x,a=1,b=0):\n",
    "    return a*np.log10(x)+b\n",
    "\n",
    "def linearN(x,a=1,b=0):\n",
    "    return a*x+b\n",
    "\n",
    "def NlogN(x,a=1,b=0):\n",
    "    return a*x*np.log10(x)+b\n",
    "\n",
    "def N2(x,a=1,b=0):\n",
    "    return a*x**2+b\n",
    "\n",
    "def twoN(x,a=1,b=0):\n",
    "    return a*2**x+b\n",
    "\n",
    "def factN(x,a=1,b=0):\n",
    "    return a*factorial(x)+b"
   ]
  },
  {
   "cell_type": "markdown",
   "metadata": {},
   "source": [
    "Create some functions that make random words of some length and can shuffle them."
   ]
  },
  {
   "cell_type": "code",
   "execution_count": 4,
   "metadata": {
    "collapsed": false
   },
   "outputs": [
    {
     "name": "stdout",
     "output_type": "stream",
     "text": [
      "The random word is 'fdytoa' and the shuffled version of the random word is 'ofytad'.\n"
     ]
    }
   ],
   "source": [
    "def make_a_random_word(length):\n",
    "    random_letters = np.random.choice(list(string.ascii_lowercase),size=length)\n",
    "    word = ''.join(random_letters)\n",
    "    return word\n",
    "\n",
    "def shuffle_a_word(word):\n",
    "    listified_word = list(word)\n",
    "    random.shuffle(listified_word)\n",
    "    shuffled_word = ''.join(listified_word)\n",
    "    return shuffled_word\n",
    "\n",
    "random_word = make_a_random_word(6)\n",
    "shuffled_word = shuffle_a_word(random_word)\n",
    "\n",
    "print(\"The random word is '{0}' and the shuffled version of the random word is '{1}'.\".format(random_word,shuffled_word))"
   ]
  },
  {
   "cell_type": "code",
   "execution_count": 11,
   "metadata": {
    "collapsed": false
   },
   "outputs": [
    {
     "data": {
      "text/plain": [
       "'kteotvjifk'"
      ]
     },
     "execution_count": 11,
     "metadata": {},
     "output_type": "execute_result"
    }
   ],
   "source": [
    "shuffle_a_word(make_a_random_word(10))"
   ]
  },
  {
   "cell_type": "markdown",
   "metadata": {},
   "source": [
    "We'll also need a mergesort function because it has nice $O(N\\ log\\ N)$ properties."
   ]
  },
  {
   "cell_type": "code",
   "execution_count": 35,
   "metadata": {
    "collapsed": false
   },
   "outputs": [
    {
     "data": {
      "text/plain": [
       "['a', 'e', 'h', 'r', 't']"
      ]
     },
     "execution_count": 35,
     "metadata": {},
     "output_type": "execute_result"
    }
   ],
   "source": [
    "# http://stackoverflow.com/a/18783542/1574687\n",
    "def mergesort(x):\n",
    "    result = []\n",
    "    if len(x) < 20:\n",
    "        return sorted(x)\n",
    "    mid = int(len(x) / 2)\n",
    "    y = mergesort(x[:mid])\n",
    "    z = mergesort(x[mid:])\n",
    "    i = 0\n",
    "    j = 0\n",
    "    while i < len(y) and j < len(z):\n",
    "        if y[i] > z[j]:\n",
    "            result.append(z[j])\n",
    "            j += 1\n",
    "        else:\n",
    "            result.append(y[i])\n",
    "            i += 1\n",
    "    result += y[i:]\n",
    "    result += z[j:]\n",
    "    return result\n",
    "\n",
    "mergesort(list('heart'))"
   ]
  },
  {
   "cell_type": "markdown",
   "metadata": {},
   "source": [
    "# An aside on working with lists\n",
    "\n",
    "We can modify what's in a list by accessing its position and assigning a new value. We'll be doing this a *lot* in the coming weeks."
   ]
  },
  {
   "cell_type": "code",
   "execution_count": 12,
   "metadata": {
    "collapsed": false
   },
   "outputs": [
    {
     "data": {
      "text/plain": [
       "[0, 1, 2, 3, 4]"
      ]
     },
     "execution_count": 12,
     "metadata": {},
     "output_type": "execute_result"
    }
   ],
   "source": [
    "test_range = list(range(5))\n",
    "test_range"
   ]
  },
  {
   "cell_type": "markdown",
   "metadata": {},
   "source": [
    "You can access a specific position in a list."
   ]
  },
  {
   "cell_type": "code",
   "execution_count": 13,
   "metadata": {
    "collapsed": false
   },
   "outputs": [
    {
     "data": {
      "text/plain": [
       "3"
      ]
     },
     "execution_count": 13,
     "metadata": {},
     "output_type": "execute_result"
    }
   ],
   "source": [
    "test_range[3]"
   ]
  },
  {
   "cell_type": "markdown",
   "metadata": {},
   "source": [
    "You can also modify a list by reassigning a value to a position in the list."
   ]
  },
  {
   "cell_type": "code",
   "execution_count": 14,
   "metadata": {
    "collapsed": false
   },
   "outputs": [
    {
     "data": {
      "text/plain": [
       "[0, 1, 2, 100, 4]"
      ]
     },
     "execution_count": 14,
     "metadata": {},
     "output_type": "execute_result"
    }
   ],
   "source": [
    "test_range[3] = 100\n",
    "test_range"
   ]
  },
  {
   "cell_type": "markdown",
   "metadata": {},
   "source": [
    "Interestingly, you can assign or replace almost anything into a Python list."
   ]
  },
  {
   "cell_type": "code",
   "execution_count": 15,
   "metadata": {
    "collapsed": false
   },
   "outputs": [
    {
     "data": {
      "text/plain": [
       "[3.141592653589793, [1, 10, 100], {'a': 1}, ('Boulder', 'Colorado'), None]"
      ]
     },
     "execution_count": 15,
     "metadata": {},
     "output_type": "execute_result"
    }
   ],
   "source": [
    "test_range[0] = np.pi # A float constant\n",
    "test_range[1] = [1,10,100] # Another list\n",
    "test_range[2] = {'a':1} # A dictionary\n",
    "test_range[3] = ('Boulder','Colorado') # A tuple\n",
    "test_range[4] = None # A None object\n",
    "test_range"
   ]
  },
  {
   "cell_type": "markdown",
   "metadata": {},
   "source": [
    "But note that lists have a defined size and if you try to do something outside of its range, you'll get an `IndexError`."
   ]
  },
  {
   "cell_type": "code",
   "execution_count": 16,
   "metadata": {
    "collapsed": false
   },
   "outputs": [
    {
     "ename": "IndexError",
     "evalue": "list assignment index out of range",
     "output_type": "error",
     "traceback": [
      "\u001b[0;31m---------------------------------------------------------------------------\u001b[0m",
      "\u001b[0;31mIndexError\u001b[0m                                Traceback (most recent call last)",
      "\u001b[0;32m<ipython-input-16-dfe9d2f138ec>\u001b[0m in \u001b[0;36m<module>\u001b[0;34m()\u001b[0m\n\u001b[0;32m----> 1\u001b[0;31m \u001b[0mtest_range\u001b[0m\u001b[0;34m[\u001b[0m\u001b[0;36m5\u001b[0m\u001b[0;34m]\u001b[0m \u001b[0;34m=\u001b[0m \u001b[0;34m'One more thing'\u001b[0m\u001b[0;34m\u001b[0m\u001b[0m\n\u001b[0m\u001b[1;32m      2\u001b[0m \u001b[0mtest_range\u001b[0m\u001b[0;34m\u001b[0m\u001b[0m\n",
      "\u001b[0;31mIndexError\u001b[0m: list assignment index out of range"
     ]
    }
   ],
   "source": [
    "test_range[5] = 'One more thing'\n",
    "test_range"
   ]
  },
  {
   "cell_type": "markdown",
   "metadata": {},
   "source": [
    "We'll be talking about linear data structures like lists a lot more next week, but for now if you wanted to make this list of 5 things have a 6th thing, you have to use the append method called on the list itself."
   ]
  },
  {
   "cell_type": "code",
   "execution_count": 17,
   "metadata": {
    "collapsed": false,
    "scrolled": true
   },
   "outputs": [
    {
     "data": {
      "text/plain": [
       "[3.141592653589793,\n",
       " [1, 10, 100],\n",
       " {'a': 1},\n",
       " ('Boulder', 'Colorado'),\n",
       " None,\n",
       " 'One more thing']"
      ]
     },
     "execution_count": 17,
     "metadata": {},
     "output_type": "execute_result"
    }
   ],
   "source": [
    "test_range.append('One more thing')\n",
    "test_range"
   ]
  },
  {
   "cell_type": "markdown",
   "metadata": {},
   "source": [
    "\n",
    "# Problem 0: $O(N^2)$ Solution\n",
    "First, we begin with the Checking Off approach. Loop through all the characters in the first string and loop through all the characters in the second string, we check if the letter from string 1 is also a letter in string 2 and if it is, add the letter from string 2 to the \"matching_letters\" list, and finally check if the length of the matching string letters is the same length as the length of string 1."
   ]
  },
  {
   "cell_type": "code",
   "execution_count": 18,
   "metadata": {
    "collapsed": true
   },
   "outputs": [],
   "source": [
    "def anagram1(s1,s2):\n",
    "    # Convert s2 into a list to do item assignment\n",
    "    a_list = list(s2)\n",
    "    # Start the loop at position 0 in s1\n",
    "    pos_s1 = 0\n",
    "    # Assume it's an anagram until you find that it isn't\n",
    "    is_anagram1 = True\n",
    "    \n",
    "    # Loop over each letter in s1 as long as we still think it's an anagram\n",
    "    while pos_s1 < len(s1) and is_anagram1:\n",
    "        # Start the next loop at position 0 in s2\n",
    "        pos_s2 = 0\n",
    "        # Assume we haven't seen an anagram until we know we have\n",
    "        is_anagram2 = False\n",
    "        \n",
    "        # Start another loop over each letter in s2 as long as we still think it's an anagram\n",
    "        while pos_s2 < len(a_list) and not is_anagram2:\n",
    "            # Finally do the comparison to check if the letter from s1 is also a letter in s2\n",
    "            if s1[pos_s1] == a_list[pos_s2]:\n",
    "                # If it's not, we don't have an anagram\n",
    "                is_anagram2 = True\n",
    "            else:\n",
    "                # Otherwise go to the next letter in s2 in the loop\n",
    "                pos_s2 += 1\n",
    "        \n",
    "        # If we've gone through the entire s2 comparing to the the letter in s1\n",
    "        # And we haven't disproved it being an anagram so far, \n",
    "        if is_anagram2:\n",
    "            # \"check\" the letter off so we don't double count\n",
    "            a_list[pos_s2] = None\n",
    "        else:\n",
    "             # Otherwise pass the false is_anagram2 up to the first loop and tell it to stop too\n",
    "            is_anagram1 = False\n",
    "            \n",
    "        \n",
    "        # Continue on to the next letter in s1\n",
    "        pos_s1 += 1\n",
    "    \n",
    "    # If we've gone through every letter in s1 and compared it against s2 \n",
    "    # and there's still no evidence it's not an anagram, it's an anagram\n",
    "    \n",
    "    return is_anagram1"
   ]
  },
  {
   "cell_type": "markdown",
   "metadata": {},
   "source": [
    "Does it work?"
   ]
  },
  {
   "cell_type": "code",
   "execution_count": 19,
   "metadata": {
    "collapsed": false
   },
   "outputs": [
    {
     "name": "stdout",
     "output_type": "stream",
     "text": [
      "True\n",
      "False\n",
      "False\n",
      "True\n"
     ]
    }
   ],
   "source": [
    "print(anagram1('heart','earth')) # True\n",
    "print(anagram1('boat','rock')) # False\n",
    "print(anagram1('off','foo')) # False\n",
    "print(anagram1('interrogatives','reinvestigator')) # True"
   ]
  },
  {
   "cell_type": "markdown",
   "metadata": {},
   "source": [
    "### Problem 0.1: Identifying complexity class"
   ]
  },
  {
   "cell_type": "code",
   "execution_count": 20,
   "metadata": {
    "collapsed": false
   },
   "outputs": [
    {
     "data": {
      "text/plain": [
       "{5: 0.0041136580002785195,\n",
       " 10: 0.01344675600194023,\n",
       " 15: 0.02603133000229718,\n",
       " 20: 0.04423546999896644,\n",
       " 25: 0.07890542600216577,\n",
       " 30: 0.10108736699839938,\n",
       " 35: 0.1159951590016135,\n",
       " 40: 0.14333362000252237,\n",
       " 45: 0.19737083699874347,\n",
       " 50: 0.2405755420004425,\n",
       " 55: 0.2739069509989349,\n",
       " 60: 0.3301041449994955,\n",
       " 65: 0.3919656459984253,\n",
       " 70: 0.44699552999736625,\n",
       " 75: 0.48871477899956517,\n",
       " 80: 0.5681708249976509,\n",
       " 85: 0.6201773600005254,\n",
       " 90: 0.6957035880004696,\n",
       " 95: 0.7806829910005035,\n",
       " 100: 0.8765042730010464}"
      ]
     },
     "execution_count": 20,
     "metadata": {},
     "output_type": "execute_result"
    }
   ],
   "source": [
    "# Create a dictionary to store the performance numbers values for different inputs ranges as key\n",
    "performance_dict_anagram1 = {}\n",
    "\n",
    "anagram1_word_sizes = range(5,105,5)\n",
    "\n",
    "for word_size in anagram1_word_sizes:\n",
    "    seconds = timeit.timeit(stmt='anagram1(random_word,shuffled_word)',\n",
    "                            setup='random_word = make_a_random_word({0});shuffled_word = shuffle_a_word(random_word)'.format(word_size),\n",
    "                            number=1000,\n",
    "                            globals=globals())\n",
    "    \n",
    "    # Record the performance in the dictionary\n",
    "    performance_dict_anagram1[word_size] = seconds\n",
    "    \n",
    "performance_dict_anagram1"
   ]
  },
  {
   "cell_type": "code",
   "execution_count": 21,
   "metadata": {
    "collapsed": false
   },
   "outputs": [
    {
     "data": {
      "text/plain": [
       "<matplotlib.legend.Legend at 0x10ebf0588>"
      ]
     },
     "execution_count": 21,
     "metadata": {},
     "output_type": "execute_result"
    },
    {
     "data": {
      "image/png": "[encoded data removed]",
      "text/plain": [
       "<matplotlib.figure.Figure at 0x10eb79f98>"
      ]
     },
     "metadata": {},
     "output_type": "display_data"
    }
   ],
   "source": [
    "# Actual performance\n",
    "actual_anagram1_x = sorted(performance_dict_anagram1.keys())\n",
    "actual_anagram1_y = sorted(performance_dict_anagram1.values())\n",
    "\n",
    "# Theoretical predictions if O(N)\n",
    "theoretical_anagram1_x = anagram1_word_sizes\n",
    "\n",
    "# Perform curve-fitting assuming both a linear and a polynomial function\n",
    "anagram1_logN_params,anagram1_logN_covariance = curve_fit(logN,actual_anagram1_x,actual_anagram1_y,bounds=[0,[np.inf,np.inf]])\n",
    "anagram1_linearN_params,anagram1_linearN_covariance = curve_fit(linearN,actual_anagram1_x,actual_anagram1_y,bounds=[0,[np.inf,np.inf]])\n",
    "anagram1_NlogN_params,anagram1_NlogN_covariance = curve_fit(NlogN,actual_anagram1_x,actual_anagram1_y,bounds=[0,[np.inf,np.inf]])\n",
    "anagram1_N2_params,anagram1_N2_covariance = curve_fit(N2,actual_anagram1_x,actual_anagram1_y,bounds=[0,[np.inf,np.inf]])\n",
    "#anagram1_twoN_params,anagram1_twoN_covariance = curve_fit(twoN,actual_anagram1_x,actual_anagram1_y,bounds=[0,[np.inf,np.inf]])\n",
    "#anagram1_factN_params,anagram1_factN_covariance = curve_fit(factN,actual_anagram1_x,actual_anagram1_y,bounds=[0,[np.inf,np.inf]])\n",
    "\n",
    "# Make different theoretical y-value predictions using parameters from curve-fitting\n",
    "theoretical_anagram1_y_logN = [logN(num,anagram1_logN_params[0],anagram1_logN_params[1]) for num in theoretical_anagram1_x]\n",
    "theoretical_anagram1_y_N = [linearN(num,anagram1_linearN_params[0],anagram1_linearN_params[1]) for num in theoretical_anagram1_x]\n",
    "theoretical_anagram1_y_NlogN = [NlogN(num,anagram1_NlogN_params[0],anagram1_NlogN_params[1]) for num in theoretical_anagram1_x]\n",
    "theoretical_anagram1_y_N2 = [N2(num,anagram1_N2_params[0],anagram1_N2_params[1]) for num in theoretical_anagram1_x]\n",
    "#theoretical_anagram1_y_twoN = [twoN(num,anagram1_twoN_params[0],anagram1_twoN_params[1]) for num in theoretical_anagram1_x]\n",
    "#theoretical_anagram1_y_factN = [factN(num,anagram1_factN_params[0],anagram1_factN_params[1]) for num in theoretical_anagram1_x]\n",
    "\n",
    "# Setup the empty plot\n",
    "f,ax = plt.subplots(1,1,sharex=True)\n",
    "#ax.set_xscale('log')\n",
    "#ax.set_yscale('log')\n",
    "ax.set_xlabel('Input size')\n",
    "ax.set_ylabel('Time (seconds)')\n",
    "ax.set_ylim((1e-3,1))\n",
    "ax.grid(True)\n",
    "\n",
    "ax.plot(actual_anagram1_x,actual_anagram1_y,color='grey',lw=4,label='Actual')\n",
    "ax.plot(theoretical_anagram1_x,theoretical_anagram1_y_logN,color='b',lw=2,ls='--',label='$O(log N)$')\n",
    "ax.plot(theoretical_anagram1_x,theoretical_anagram1_y_N,color='g',lw=2,ls='--',label='$O(N)$')\n",
    "ax.plot(theoretical_anagram1_x,theoretical_anagram1_y_NlogN,color='r',lw=2,ls='--',label='$O(N\\ log\\ N)$')\n",
    "ax.plot(theoretical_anagram1_x,theoretical_anagram1_y_N2,color='m',lw=2,ls='--',label='$O(N^2)$')\n",
    "#ax.plot(theoretical_anagram1_x,theoretical_anagram1_y_twoN,color='k',lw=2,ls='--',label='$O(2^N)$')\n",
    "#ax.plot(theoretical_anagram1_x,theoretical_anagram1_y_factN,color='y',lw=2,ls='--',label='$O(N!)$')\n",
    "\n",
    "ax.legend(loc='upper left',bbox_to_anchor=(1,.75))"
   ]
  },
  {
   "cell_type": "markdown",
   "metadata": {},
   "source": [
    "This algorithm is pretty clearly in the $O(N^2)$ complexity class."
   ]
  },
  {
   "cell_type": "markdown",
   "metadata": {},
   "source": [
    "### Problem 0.2: Break `anagram1` apart\n",
    "The function `anagram1` does a few important things. Let's take them one at a time.\n",
    "\n",
    "Next, let's examine what the two while loops are doing with a more basic example with a single loop."
   ]
  },
  {
   "cell_type": "code",
   "execution_count": 22,
   "metadata": {
    "collapsed": false
   },
   "outputs": [
    {
     "name": "stdout",
     "output_type": "stream",
     "text": [
      "h\n",
      "e\n",
      "a\n",
      "r\n",
      "t\n"
     ]
    }
   ],
   "source": [
    "s1 = 'heart'\n",
    "s2 = 'earth'\n",
    "\n",
    "pos_s1 = 0\n",
    "while pos_s1 < len(s1):\n",
    "    print(s1[pos_s1])\n",
    "    pos_s1 += 1"
   ]
  },
  {
   "cell_type": "markdown",
   "metadata": {},
   "source": [
    "Extend this to having two loops. The first (outer) loop starts at the \"h\" in s1 and then iterates through all the letters in s2. Once it reaches the end of s2, it then goes to the next letter in s1 and iterates through all the letters in s2 again, etc. until it runs out of letters in s1 and stops.\n",
    "\n",
    "You bat sense should be telling you that having a loop within a loop is a major efficiency bottleneck: you have to go through both lists before it's done. In this case 5 operations need to happen on s1 and for each operation in s1, 5 operations have to happen in s2. So $5*5 = 25$ operations need to happen in total. Because we're working with anagrams of the same size, s1 and s2 are both the same size so  $O(N) * O(N) = O(N^2)$, the third-worst performing complexity class we saw this week."
   ]
  },
  {
   "cell_type": "code",
   "execution_count": 24,
   "metadata": {
    "collapsed": false
   },
   "outputs": [
    {
     "name": "stdout",
     "output_type": "stream",
     "text": [
      "h e\n",
      "h a\n",
      "h r\n",
      "h t\n",
      "h h\n",
      "e e\n",
      "e a\n",
      "e r\n",
      "e t\n",
      "e h\n",
      "a e\n",
      "a a\n",
      "a r\n",
      "a t\n",
      "a h\n",
      "r e\n",
      "r a\n",
      "r r\n",
      "r t\n",
      "r h\n",
      "t e\n",
      "t a\n",
      "t r\n",
      "t t\n",
      "t h\n"
     ]
    }
   ],
   "source": [
    "pos_s1 = 0\n",
    "while pos_s1 < len(s1):\n",
    "    pos_s2 = 0\n",
    "    while pos_s2 < len(s2):\n",
    "        print(s1[pos_s1], s2[pos_s2])\n",
    "        pos_s2 += 1\n",
    "    pos_s1 += 1"
   ]
  },
  {
   "cell_type": "markdown",
   "metadata": {},
   "source": [
    "The core functionality of the algorithm compares whether each letter in s1 also occurs in s2 *exactly as many times*. \n",
    "\n",
    "This code will check whether each letter occurs, but will double-count repeated characters. We've added if/else statements accessing a position in a string, which is $O(1)$, and evaluating whether a string is equal to another string, also $O(1)$. So far nothing we've added is worse than the two for loops' $O(N^2)$."
   ]
  },
  {
   "cell_type": "code",
   "execution_count": 25,
   "metadata": {
    "collapsed": false
   },
   "outputs": [
    {
     "name": "stdout",
     "output_type": "stream",
     "text": [
      "h e False\n",
      "h a False\n",
      "h r False\n",
      "h t False\n",
      "h h True\n",
      "e e True\n",
      "e a False\n",
      "e r False\n",
      "e t False\n",
      "e h False\n",
      "a e False\n",
      "a a True\n",
      "a r False\n",
      "a t False\n",
      "a h False\n",
      "r e False\n",
      "r a False\n",
      "r r True\n",
      "r t False\n",
      "r h False\n",
      "t e False\n",
      "t a False\n",
      "t r False\n",
      "t t True\n",
      "t h False\n"
     ]
    }
   ],
   "source": [
    "pos_s1 = 0\n",
    "while pos_s1 < len(s1):\n",
    "    pos_s2 = 0\n",
    "    while pos_s2 < len(s2):\n",
    "        if s1[pos_s1] == s2[pos_s2]:\n",
    "            print(s1[pos_s1], s2[pos_s2], True)\n",
    "        else:\n",
    "            print(s1[pos_s1], s2[pos_s2], False)\n",
    "        pos_s2 += 1\n",
    "    pos_s1 += 1"
   ]
  },
  {
   "cell_type": "markdown",
   "metadata": {},
   "source": [
    "Let's stop printing everything and build in some stronger checks with our while loops so we don't get ourselves in trouble."
   ]
  },
  {
   "cell_type": "code",
   "execution_count": 26,
   "metadata": {
    "collapsed": false
   },
   "outputs": [
    {
     "name": "stdout",
     "output_type": "stream",
     "text": [
      "h h True\n",
      "e e True\n",
      "a a True\n",
      "r r True\n",
      "t t True\n"
     ]
    }
   ],
   "source": [
    "pos_s1 = 0\n",
    "is_anagram_s1 = True\n",
    "\n",
    "while pos_s1 < len(s1)  and is_anagram_s1:\n",
    "    pos_s2 = 0\n",
    "    is_anagram_s2 = False\n",
    "    while pos_s2 < len(s2) and not is_anagram_s2:\n",
    "        if s1[pos_s1] == s2[pos_s2]:\n",
    "            is_anagram_s2 = True\n",
    "            print(s1[pos_s1], s2[pos_s2], True)\n",
    "        else:\n",
    "            pos_s2 += 1\n",
    "    pos_s1 += 1"
   ]
  },
  {
   "cell_type": "markdown",
   "metadata": {},
   "source": [
    "It works for \"heart\" and \"string\" which both have no duplicate letters. However, \"off\" is not an anagram of \"foo\" even though they have the same letters. The first \"o\" in \"off\" matches both of the \"o\"s in \"foo\" and each \"f\" in \"off\" matches the single \"f\" in \"foo\"."
   ]
  },
  {
   "cell_type": "code",
   "execution_count": 27,
   "metadata": {
    "collapsed": false
   },
   "outputs": [
    {
     "name": "stdout",
     "output_type": "stream",
     "text": [
      "o f False\n",
      "o o True\n",
      "f f True\n",
      "f f True\n"
     ]
    }
   ],
   "source": [
    "s3 = 'off'\n",
    "s4 = 'foo'\n",
    "\n",
    "pos_s3 = 0\n",
    "is_anagram_s3 = True\n",
    "\n",
    "while pos_s3 < len(s3)  and is_anagram_s3:\n",
    "    pos_s4 = 0\n",
    "    is_anagram_s4 = False\n",
    "    while pos_s4 < len(s4) and not is_anagram_s4:\n",
    "        if s3[pos_s3] == s4[pos_s4]:\n",
    "            print(s3[pos_s3], s4[pos_s4], True)\n",
    "            is_anagram_s4 = True\n",
    "        else:\n",
    "            print(s3[pos_s3],s4[pos_s4], False)\n",
    "            pos_s4 += 1\n",
    "    pos_s3 += 1"
   ]
  },
  {
   "cell_type": "markdown",
   "metadata": {},
   "source": [
    "We need to come up with a way to \"check off\" a letter once we've established it is in the other string. We can create \"a_list\" of letters in s2 and mark off when we come across them so it's not counted a second time. This means that rather than looping through s2 itself as we've been doing, we need to loop through \"a_list\"."
   ]
  },
  {
   "cell_type": "code",
   "execution_count": 30,
   "metadata": {
    "collapsed": false
   },
   "outputs": [
    {
     "name": "stdout",
     "output_type": "stream",
     "text": [
      "h e\n",
      "h a\n",
      "h r\n",
      "h t\n",
      "h h Found a match! Breaking inner loop!\n",
      "Checking off a letter! ['e', 'a', 'r', 't', None]\n",
      "e e Found a match! Breaking inner loop!\n",
      "Checking off a letter! [None, 'a', 'r', 't', None]\n",
      "a e\n",
      "a a Found a match! Breaking inner loop!\n",
      "Checking off a letter! [None, None, 'r', 't', None]\n",
      "r e\n",
      "r a\n",
      "r r Found a match! Breaking inner loop!\n",
      "Checking off a letter! [None, None, None, 't', None]\n",
      "t e\n",
      "t a\n",
      "t r\n",
      "t t Found a match! Breaking inner loop!\n",
      "Checking off a letter! [None, None, None, None, None]\n",
      "\n",
      "'heart' and 'earth' are anagrams? True\n"
     ]
    }
   ],
   "source": [
    "s3 = 'heart'\n",
    "s4 = 'earth'\n",
    "\n",
    "pos_s3 = 0\n",
    "is_anagram_s3 = True\n",
    "\n",
    "a_list = list(s4)\n",
    "\n",
    "while pos_s3 < len(s3) and is_anagram_s3:\n",
    "    pos_s4 = 0\n",
    "    is_anagram_s4 = False\n",
    "    while pos_s4 < len(a_list) and not is_anagram_s4:\n",
    "        if s3[pos_s3] == a_list[pos_s4]:\n",
    "            print(s3[pos_s3],a_list[pos_s4],'Found a match! Breaking inner loop!')\n",
    "            is_anagram_s4 = True # If we match letter, stop the inner while loop \n",
    "        else: # If we haven't matched letters, keep on going\n",
    "            print(s3[pos_s3],s4[pos_s4])\n",
    "            pos_s4 += 1\n",
    "            \n",
    "    \n",
    "    # With the inner while loop stopped, check off the letter in s4 so we don't double count it\n",
    "    if is_anagram_s4:\n",
    "        a_list[pos_s4] = None\n",
    "        print('Checking off a letter!',a_list)\n",
    "    else:\n",
    "        is_anagram_s3 = False\n",
    "        \n",
    "    pos_s3 += 1\n",
    "    \n",
    "print(\"\\n'{0}' and '{1}' are anagrams? {2}\".format(s3,s4,is_anagram_s3))"
   ]
  },
  {
   "cell_type": "markdown",
   "metadata": {},
   "source": [
    "The `anagram1` function was the hardest one by far to break apart to understand how it operates because of the combination of loops-within-loops, breaking a loop early, and the checking off procedure. The other three algorithms will be much easier to break apart."
   ]
  },
  {
   "cell_type": "markdown",
   "metadata": {},
   "source": [
    "### Problem 0.3: Identifying code causing time complexity"
   ]
  },
  {
   "cell_type": "markdown",
   "metadata": {},
   "source": [
    "None of these steps involved anything more than comaprisons or variable assignment, which are $O(1)$, so nothing is a slower complexity class than the loop-within-a-loop from above which is $O(N^2)$. Despite all the extra stuff we had to do in terms of maintaining lists and checking when to break out of loops, none of that is worse than $O(N^2)$ so this algorithm should run in polynomial time."
   ]
  },
  {
   "cell_type": "code",
   "execution_count": 31,
   "metadata": {
    "collapsed": false
   },
   "outputs": [
    {
     "data": {
      "text/plain": [
       "100"
      ]
     },
     "execution_count": 31,
     "metadata": {},
     "output_type": "execute_result"
    }
   ],
   "source": [
    "s1 = make_a_random_word(10)\n",
    "s2 = make_a_random_word(10)\n",
    "\n",
    "comparison_list = list()\n",
    "\n",
    "pos_s1 = 0\n",
    "while pos_s1 < len(s1):\n",
    "    pos_s2 = 0\n",
    "    while pos_s2 < len(s2):\n",
    "        comparison_list.append((s1[pos_s1],s2[pos_s2]))\n",
    "        pos_s2 += 1\n",
    "    pos_s1 += 1\n",
    "    \n",
    "len(comparison_list)"
   ]
  },
  {
   "cell_type": "code",
   "execution_count": 32,
   "metadata": {
    "collapsed": false
   },
   "outputs": [
    {
     "data": {
      "text/plain": [
       "10000"
      ]
     },
     "execution_count": 32,
     "metadata": {},
     "output_type": "execute_result"
    }
   ],
   "source": [
    "s1 = make_a_random_word(100)\n",
    "s2 = make_a_random_word(100)\n",
    "\n",
    "comparison_list = list()\n",
    "\n",
    "pos_s1 = 0\n",
    "while pos_s1 < len(s1):\n",
    "    pos_s2 = 0\n",
    "    while pos_s2 < len(s2):\n",
    "        comparison_list.append((s1[pos_s1],s2[pos_s2]))\n",
    "        pos_s2 += 1\n",
    "    pos_s1 += 1\n",
    "    \n",
    "len(comparison_list)"
   ]
  },
  {
   "cell_type": "markdown",
   "metadata": {},
   "source": [
    "The number of comparisons that need to be made with this double loop grows $N^2$ with the number of inputs: put a 10-letter word in, and 100 comparisons need to be made. Put a 100-letter word in and 10000 comparisons need to be made. This is pretty clearly the bottleneck."
   ]
  },
  {
   "cell_type": "markdown",
   "metadata": {},
   "source": [
    "# Problem 1: $O(N\\ log\\ N)$ solution"
   ]
  },
  {
   "cell_type": "markdown",
   "metadata": {},
   "source": [
    "Another strategy we could adopt is to sort the letters alphabetically and check if they're all there in both. This might save us from doing those loops. We'll use a specific sorting algorithm called `mergesort` that has $O(N\\ log\\ N)$ performance."
   ]
  },
  {
   "cell_type": "code",
   "execution_count": 36,
   "metadata": {
    "collapsed": true
   },
   "outputs": [],
   "source": [
    "def anagram2(s1,s2):\n",
    "    sorted_s1 = mergesort(list(s1))\n",
    "    sorted_s2 = mergesort(list(s2))\n",
    "    is_anagram = True\n",
    "    \n",
    "    for pos in range(len(s1)):\n",
    "        \n",
    "        if sorted_s1[pos] != sorted_s2[pos]:\n",
    "            is_anagram = False\n",
    "            break\n",
    "            \n",
    "    return is_anagram"
   ]
  },
  {
   "cell_type": "code",
   "execution_count": 37,
   "metadata": {
    "collapsed": false
   },
   "outputs": [
    {
     "name": "stdout",
     "output_type": "stream",
     "text": [
      "True\n",
      "False\n",
      "False\n",
      "True\n"
     ]
    }
   ],
   "source": [
    "# Test to make sure it works\n",
    "print(anagram2('heart','earth')) # True\n",
    "print(anagram2('boat','rock')) # False\n",
    "print(anagram2('off','foo')) # False\n",
    "print(anagram2('interrogatives','reinvestigator')) # True"
   ]
  },
  {
   "cell_type": "markdown",
   "metadata": {},
   "source": [
    "### Problem 1.1: Identifying complexity class"
   ]
  },
  {
   "cell_type": "markdown",
   "metadata": {},
   "source": [
    "Test the performance of the algorithm with different input sizes."
   ]
  },
  {
   "cell_type": "code",
   "execution_count": 38,
   "metadata": {
    "collapsed": false
   },
   "outputs": [
    {
     "data": {
      "text/plain": [
       "{5: 0.003020074000232853,\n",
       " 50: 0.10063167399857775,\n",
       " 500: 1.7462164720018336,\n",
       " 5000: 30.231073822000326}"
      ]
     },
     "execution_count": 38,
     "metadata": {},
     "output_type": "execute_result"
    }
   ],
   "source": [
    "# Create a dictionary to store the performance numbers values for different inputs ranges as key\n",
    "performance_dict_anagram2 = {}\n",
    "\n",
    "anagram2_word_sizes = [5,50,500,5000]\n",
    "\n",
    "for word_size in anagram2_word_sizes:\n",
    "    seconds = timeit.timeit(stmt='anagram2(random_word,shuffled_word)',\n",
    "                            setup='random_word = make_a_random_word({0});shuffled_word = shuffle_a_word(random_word)'.format(word_size),\n",
    "                            number=1000,\n",
    "                            globals=globals())\n",
    "    \n",
    "    # Record the performance in the dictionary\n",
    "    performance_dict_anagram2[word_size] = seconds\n",
    "    \n",
    "performance_dict_anagram2"
   ]
  },
  {
   "cell_type": "markdown",
   "metadata": {},
   "source": [
    "Plot the observed performance from above against the best fits of different complexity classes."
   ]
  },
  {
   "cell_type": "code",
   "execution_count": 39,
   "metadata": {
    "collapsed": false
   },
   "outputs": [
    {
     "data": {
      "text/plain": [
       "<matplotlib.legend.Legend at 0x10ec0cef0>"
      ]
     },
     "execution_count": 39,
     "metadata": {},
     "output_type": "execute_result"
    },
    {
     "data": {
      "image/png": "[encoded data removed]",
      "text/plain": [
       "<matplotlib.figure.Figure at 0x1121a13c8>"
      ]
     },
     "metadata": {},
     "output_type": "display_data"
    }
   ],
   "source": [
    "# Actual performance\n",
    "actual_anagram2_x = sorted(performance_dict_anagram2.keys())\n",
    "actual_anagram2_y = sorted(performance_dict_anagram2.values())\n",
    "\n",
    "# Theoretical predictions if O(N)\n",
    "theoretical_anagram2_x = anagram2_word_sizes\n",
    "\n",
    "# Perform curve-fitting assuming both a linear and a polynomial function\n",
    "anagram2_logN_params,anagram2_logN_covariance = curve_fit(logN,actual_anagram2_x,actual_anagram2_y,bounds=[0,[np.inf,np.inf]])\n",
    "anagram2_linearN_params,anagram2_linearN_covariance = curve_fit(linearN,actual_anagram2_x,actual_anagram2_y,bounds=[0,[np.inf,np.inf]])\n",
    "anagram2_NlogN_params,anagram2_NlogN_covariance = curve_fit(NlogN,actual_anagram2_x,actual_anagram2_y,bounds=[0,[np.inf,np.inf]])\n",
    "anagram2_N2_params,anagram2_N2_covariance = curve_fit(N2,actual_anagram2_x,actual_anagram2_y,bounds=[0,[np.inf,np.inf]])\n",
    "#anagram2_twoN_params,anagram2_twoN_covariance = curve_fit(twoN,actual_anagram2_x,actual_anagram2_y,bounds=[0,[np.inf,np.inf]])\n",
    "#anagram2_factN_params,anagram2_factN_covariance = curve_fit(factN,actual_anagram2_x,actual_anagram2_y,bounds=[0,[np.inf,np.inf]])\n",
    "\n",
    "# Make different theoretical y-value predictions using parameters from curve-fitting\n",
    "theoretical_anagram2_y_logN = [logN(num,anagram2_logN_params[0],anagram2_logN_params[1]) for num in theoretical_anagram2_x]\n",
    "theoretical_anagram2_y_N = [linearN(num,anagram2_linearN_params[0],anagram2_linearN_params[1]) for num in theoretical_anagram2_x]\n",
    "theoretical_anagram2_y_NlogN = [NlogN(num,anagram2_NlogN_params[0],anagram2_NlogN_params[1]) for num in theoretical_anagram2_x]\n",
    "theoretical_anagram2_y_N2 = [N2(num,anagram2_N2_params[0],anagram2_N2_params[1]) for num in theoretical_anagram2_x]\n",
    "#theoretical_anagram2_y_twoN = [twoN(num,anagram2_twoN_params[0],anagram2_twoN_params[1]) for num in theoretical_anagram2_x]\n",
    "#theoretical_anagram2_y_factN = [factN(num,anagram2_factN_params[0],anagram2_factN_params[1]) for num in theoretical_anagram2_x]\n",
    "\n",
    "# Setup the empty plot\n",
    "f,ax = plt.subplots(1,1,sharex=True)\n",
    "ax.set_xscale('log')\n",
    "ax.set_yscale('log')\n",
    "ax.set_xlabel('Input size')\n",
    "ax.set_ylabel('Time (seconds)')\n",
    "#ax.set_ylim((1e-3,.2))\n",
    "ax.grid(True)\n",
    "\n",
    "ax.plot(actual_anagram2_x,actual_anagram2_y,color='grey',lw=4,label='Actual')\n",
    "ax.plot(theoretical_anagram2_x,theoretical_anagram2_y_logN,color='b',lw=2,ls='--',label='$O(log N)$')\n",
    "ax.plot(theoretical_anagram2_x,theoretical_anagram2_y_N,color='g',lw=2,ls='--',label='$O(N)$')\n",
    "ax.plot(theoretical_anagram2_x,theoretical_anagram2_y_NlogN,color='r',lw=2,ls='--',label='$O(N\\ log\\ N)$')\n",
    "ax.plot(theoretical_anagram2_x,theoretical_anagram2_y_N2,color='m',lw=2,ls='--',label='$O(N^2)$')\n",
    "#ax.plot(theoretical_anagram2_x,theoretical_anagram2_y_twoN,color='k',lw=2,ls='--',label='$O(2^N)$')\n",
    "#ax.plot(theoretical_anagram2_x,theoretical_anagram2_y_factN,color='y',lw=2,ls='--',label='$O(N!)$')\n",
    "\n",
    "ax.legend(loc='upper left',bbox_to_anchor=(1,.75))"
   ]
  },
  {
   "cell_type": "markdown",
   "metadata": {},
   "source": [
    "What complexity class best fits the Actual data?"
   ]
  },
  {
   "cell_type": "code",
   "execution_count": null,
   "metadata": {
    "collapsed": true
   },
   "outputs": [],
   "source": []
  },
  {
   "cell_type": "markdown",
   "metadata": {},
   "source": [
    "### Problem 1.2: Break `anagram2` apart"
   ]
  },
  {
   "cell_type": "markdown",
   "metadata": {},
   "source": [
    "Here's the `anagram2` function from above."
   ]
  },
  {
   "cell_type": "raw",
   "metadata": {},
   "source": [
    "def anagram2(s1,s2):\n",
    "    sorted_s1 = mergesort(list(s1))\n",
    "    sorted_s2 = mergesort(list(s2))\n",
    "    is_anagram = True\n",
    "    \n",
    "    for pos in range(len(s1)):\n",
    "        \n",
    "        if sorted_s1[pos] != sorted_s2[pos]:\n",
    "            is_anagram = False\n",
    "            break\n",
    "            \n",
    "    return is_anagram"
   ]
  },
  {
   "cell_type": "markdown",
   "metadata": {},
   "source": [
    "What do the lines with `mergesort` return?"
   ]
  },
  {
   "cell_type": "code",
   "execution_count": null,
   "metadata": {
    "collapsed": true
   },
   "outputs": [],
   "source": []
  },
  {
   "cell_type": "markdown",
   "metadata": {},
   "source": [
    "What happens in terms of performance when mergesort sorts a `make_a_random_word` of length 100? 1000?"
   ]
  },
  {
   "cell_type": "code",
   "execution_count": null,
   "metadata": {
    "collapsed": true
   },
   "outputs": [],
   "source": []
  },
  {
   "cell_type": "markdown",
   "metadata": {},
   "source": [
    "What does the loop do?"
   ]
  },
  {
   "cell_type": "code",
   "execution_count": null,
   "metadata": {
    "collapsed": true
   },
   "outputs": [],
   "source": []
  },
  {
   "cell_type": "markdown",
   "metadata": {},
   "source": [
    "What does the if statement within the loop do?"
   ]
  },
  {
   "cell_type": "code",
   "execution_count": null,
   "metadata": {
    "collapsed": true
   },
   "outputs": [],
   "source": []
  },
  {
   "cell_type": "markdown",
   "metadata": {},
   "source": [
    "What happens if you remove the `break`? Comparing the complexity classes of different operations in this algorithm, does the break actually save us time for large inputs compared to other operations?"
   ]
  },
  {
   "cell_type": "code",
   "execution_count": null,
   "metadata": {
    "collapsed": true
   },
   "outputs": [],
   "source": []
  },
  {
   "cell_type": "markdown",
   "metadata": {},
   "source": [
    "Why is \"is_anagram\" returned versus something else? How is this variable modified throughout the run of the algorithm?"
   ]
  },
  {
   "cell_type": "code",
   "execution_count": null,
   "metadata": {
    "collapsed": true
   },
   "outputs": [],
   "source": []
  },
  {
   "cell_type": "markdown",
   "metadata": {},
   "source": [
    "Having broken it apart, copy the definition of `anagram2` below and include line-by-line comments for what each line is doing."
   ]
  },
  {
   "cell_type": "code",
   "execution_count": null,
   "metadata": {
    "collapsed": true
   },
   "outputs": [],
   "source": []
  },
  {
   "cell_type": "markdown",
   "metadata": {},
   "source": [
    "### Problem 1.3: Identifying code causing time complexity"
   ]
  },
  {
   "cell_type": "markdown",
   "metadata": {},
   "source": [
    "Based on the functionality of each line above, experiment with passing different sized inputs (ideally an order of magnitude larger -- use the `make_a_random_word` function). Which part of the algorithm slows down the most when you give it a much larger input? Does this make sense in terms of the Actual performance we observed?\n",
    "\n",
    "Alternatively, follow a process of elimination: what parts of the algorithm are you confident run in $O(N)$, $O(log\\ N)$, or $O(1)$? If these parts of the code run faster than $O(N\\ log\\ N)$ but we know from Problem 1.1 that $O(N\\ log\\ N)$ is the best fit to the algorithm's run time, then what must be causing the $O(N\\ log\\ N)$ performance?"
   ]
  },
  {
   "cell_type": "code",
   "execution_count": null,
   "metadata": {
    "collapsed": true
   },
   "outputs": [],
   "source": []
  },
  {
   "cell_type": "markdown",
   "metadata": {},
   "source": [
    "# Problem 2: $O(N!)$ solution"
   ]
  },
  {
   "cell_type": "markdown",
   "metadata": {},
   "source": [
    "Define the `anagram3` function."
   ]
  },
  {
   "cell_type": "code",
   "execution_count": 40,
   "metadata": {
    "collapsed": true
   },
   "outputs": [],
   "source": [
    "def anagram3(s1,s2):\n",
    "    is_anagram = False\n",
    "    for permutation in permutations(s1,len(s1)):\n",
    "        \n",
    "        stringified = ''.join(permutation)\n",
    "        if stringified == s2:\n",
    "            is_anagram = True\n",
    "            \n",
    "    return is_anagram"
   ]
  },
  {
   "cell_type": "markdown",
   "metadata": {},
   "source": [
    "Test to make sure it works."
   ]
  },
  {
   "cell_type": "code",
   "execution_count": 41,
   "metadata": {
    "collapsed": false
   },
   "outputs": [
    {
     "name": "stdout",
     "output_type": "stream",
     "text": [
      "True\n",
      "False\n",
      "False\n"
     ]
    }
   ],
   "source": [
    "print(anagram3('heart','earth')) # True\n",
    "print(anagram3('boat','rock')) # False\n",
    "print(anagram3('off','foo')) # False\n",
    "#print(anagram2('interrogatives','reinvestigator')) # True, but don't try it"
   ]
  },
  {
   "cell_type": "markdown",
   "metadata": {},
   "source": [
    "### Problem 2.1: Identifying complexity class"
   ]
  },
  {
   "cell_type": "markdown",
   "metadata": {},
   "source": [
    "Test the performance of the algorithm with different input sizes."
   ]
  },
  {
   "cell_type": "code",
   "execution_count": 42,
   "metadata": {
    "collapsed": false
   },
   "outputs": [
    {
     "data": {
      "text/plain": [
       "{2: 0.0010860679976758547,\n",
       " 3: 0.0018506170017644763,\n",
       " 4: 0.005883470999833662,\n",
       " 5: 0.03043241399791441,\n",
       " 6: 0.1756098949990701,\n",
       " 7: 1.2070606900015264,\n",
       " 8: 10.124981128999934,\n",
       " 9: 93.70525439099947}"
      ]
     },
     "execution_count": 42,
     "metadata": {},
     "output_type": "execute_result"
    }
   ],
   "source": [
    "# Create a dictionary to store the performance numbers values for different inputs ranges as key\n",
    "performance_dict_anagram3 = {}\n",
    "\n",
    "anagram3_word_sizes = range(2,10)\n",
    "\n",
    "for word_size in anagram3_word_sizes:\n",
    "    seconds = timeit.timeit(stmt='anagram3(random_word,shuffled_word)',\n",
    "                            setup='random_word = make_a_random_word({0});shuffled_word = shuffle_a_word(random_word)'.format(word_size),\n",
    "                            number=1000,\n",
    "                            globals=globals())\n",
    "    \n",
    "    # Record the performance in the dictionary\n",
    "    performance_dict_anagram3[word_size] = seconds\n",
    "    \n",
    "performance_dict_anagram3"
   ]
  },
  {
   "cell_type": "markdown",
   "metadata": {},
   "source": [
    "Plot the observed performance from above against the best fits of different complexity classes."
   ]
  },
  {
   "cell_type": "code",
   "execution_count": 44,
   "metadata": {
    "collapsed": false
   },
   "outputs": [
    {
     "data": {
      "text/plain": [
       "<matplotlib.legend.Legend at 0x112d78160>"
      ]
     },
     "execution_count": 44,
     "metadata": {},
     "output_type": "execute_result"
    },
    {
     "data": {
      "image/png": "[encoded data removed]",
      "text/plain": [
       "<matplotlib.figure.Figure at 0x112d78d30>"
      ]
     },
     "metadata": {},
     "output_type": "display_data"
    }
   ],
   "source": [
    "# Actual performance\n",
    "actual_anagram3_x = sorted(performance_dict_anagram3.keys())\n",
    "actual_anagram3_y = sorted(performance_dict_anagram3.values())\n",
    "\n",
    "# Theoretical predictions if O(N)\n",
    "theoretical_anagram3_x = anagram3_word_sizes\n",
    "\n",
    "# Perform curve-fitting assuming both a linear and a polynomial function\n",
    "anagram3_logN_params,anagram3_logN_covariance = curve_fit(logN,actual_anagram3_x,actual_anagram3_y,bounds=[0,[np.inf,np.inf]])\n",
    "anagram3_linearN_params,anagram3_linearN_covariance = curve_fit(linearN,actual_anagram3_x,actual_anagram3_y,bounds=[0,[np.inf,np.inf]])\n",
    "anagram3_NlogN_params,anagram3_NlogN_covariance = curve_fit(NlogN,actual_anagram3_x,actual_anagram3_y,bounds=[0,[np.inf,np.inf]])\n",
    "anagram3_N2_params,anagram3_N2_covariance = curve_fit(N2,actual_anagram3_x,actual_anagram3_y,bounds=[0,[np.inf,np.inf]])\n",
    "anagram3_twoN_params,anagram3_twoN_covariance = curve_fit(twoN,actual_anagram3_x,actual_anagram3_y,bounds=[0,[np.inf,np.inf]])\n",
    "anagram3_factN_params,anagram3_factN_covariance = curve_fit(factN,actual_anagram3_x,actual_anagram3_y,bounds=[0,[np.inf,np.inf]])\n",
    "\n",
    "# Make different theoretical y-value predictions using parameters from curve-fitting\n",
    "theoretical_anagram3_y_logN = [logN(num,anagram3_logN_params[0],anagram3_logN_params[1]) for num in theoretical_anagram3_x]\n",
    "theoretical_anagram3_y_N = [linearN(num,anagram3_linearN_params[0],anagram3_linearN_params[1]) for num in theoretical_anagram3_x]\n",
    "theoretical_anagram3_y_NlogN = [NlogN(num,anagram3_NlogN_params[0],anagram3_NlogN_params[1]) for num in theoretical_anagram3_x]\n",
    "theoretical_anagram3_y_N2 = [N2(num,anagram3_N2_params[0],anagram3_N2_params[1]) for num in theoretical_anagram3_x]\n",
    "theoretical_anagram3_y_twoN = [twoN(num,anagram3_twoN_params[0],anagram3_twoN_params[1]) for num in theoretical_anagram3_x]\n",
    "theoretical_anagram3_y_factN = [factN(num,anagram3_factN_params[0],anagram3_factN_params[1]) for num in theoretical_anagram3_x]\n",
    "\n",
    "# Setup the empty plot\n",
    "f,ax = plt.subplots(1,1,sharex=True)\n",
    "#ax.set_xscale('log')\n",
    "ax.set_yscale('log')\n",
    "ax.set_xlabel('Input size')\n",
    "ax.set_ylabel('Time (seconds)')\n",
    "#ax.set_ylim((1e-3,.2))\n",
    "ax.grid(True)\n",
    "\n",
    "ax.plot(actual_anagram3_x,actual_anagram3_y,color='grey',lw=4,label='Actual')\n",
    "ax.plot(theoretical_anagram3_x,theoretical_anagram3_y_logN,color='b',lw=2,ls='--',label='$O(log N)$')\n",
    "ax.plot(theoretical_anagram3_x,theoretical_anagram3_y_N,color='g',lw=2,ls='--',label='$O(N)$')\n",
    "ax.plot(theoretical_anagram3_x,theoretical_anagram3_y_NlogN,color='r',lw=2,ls='--',label='$O(N\\ log\\ N)$')\n",
    "ax.plot(theoretical_anagram3_x,theoretical_anagram3_y_N2,color='m',lw=2,ls='--',label='$O(N^2)$')\n",
    "ax.plot(theoretical_anagram3_x,theoretical_anagram3_y_twoN,color='k',lw=2,ls='--',label='$O(2^N)$')\n",
    "ax.plot(theoretical_anagram3_x,theoretical_anagram3_y_factN,color='y',lw=2,ls='--',label='$O(N!)$')\n",
    "\n",
    "ax.legend(loc='upper left',bbox_to_anchor=(1,.75))"
   ]
  },
  {
   "cell_type": "markdown",
   "metadata": {},
   "source": [
    "What complexity class best fits the Actual data?"
   ]
  },
  {
   "cell_type": "code",
   "execution_count": null,
   "metadata": {
    "collapsed": true
   },
   "outputs": [],
   "source": []
  },
  {
   "cell_type": "markdown",
   "metadata": {},
   "source": [
    "### Problem 2.2: Break `anagram3` apart"
   ]
  },
  {
   "cell_type": "markdown",
   "metadata": {},
   "source": [
    "Here's the `anagram3` function from above."
   ]
  },
  {
   "cell_type": "raw",
   "metadata": {
    "collapsed": true
   },
   "source": [
    "def anagram3(s1,s2):\n",
    "    is_anagram = False\n",
    "    for permutation in permutations(s1,len(s1)):\n",
    "        \n",
    "        stringified = ''.join(permutation)\n",
    "        if stringified == s2:\n",
    "            is_anagram = True\n",
    "            \n",
    "    return is_anagram"
   ]
  },
  {
   "cell_type": "markdown",
   "metadata": {},
   "source": [
    "What does `permutations(s1,len(s1))` do?"
   ]
  },
  {
   "cell_type": "code",
   "execution_count": null,
   "metadata": {
    "collapsed": true
   },
   "outputs": [],
   "source": []
  },
  {
   "cell_type": "markdown",
   "metadata": {},
   "source": [
    "What does the for loop do?"
   ]
  },
  {
   "cell_type": "code",
   "execution_count": null,
   "metadata": {
    "collapsed": true
   },
   "outputs": [],
   "source": []
  },
  {
   "cell_type": "markdown",
   "metadata": {},
   "source": [
    "What is being stored as \"stringified\" versus the permutation?"
   ]
  },
  {
   "cell_type": "code",
   "execution_count": null,
   "metadata": {
    "collapsed": true
   },
   "outputs": [],
   "source": []
  },
  {
   "cell_type": "markdown",
   "metadata": {},
   "source": [
    "What is the `if` statement checking?"
   ]
  },
  {
   "cell_type": "code",
   "execution_count": null,
   "metadata": {
    "collapsed": true
   },
   "outputs": [],
   "source": []
  },
  {
   "cell_type": "markdown",
   "metadata": {},
   "source": [
    "Why is \"is_anagram\" returned versus something else? How is this variable modified throughout the run of the algorithm?"
   ]
  },
  {
   "cell_type": "code",
   "execution_count": null,
   "metadata": {
    "collapsed": true
   },
   "outputs": [],
   "source": []
  },
  {
   "cell_type": "markdown",
   "metadata": {},
   "source": [
    "Having broken it apart, copy the definition of `anagram3` below and include line-by-line comments for what each line is doing."
   ]
  },
  {
   "cell_type": "code",
   "execution_count": null,
   "metadata": {
    "collapsed": true
   },
   "outputs": [],
   "source": []
  },
  {
   "cell_type": "markdown",
   "metadata": {},
   "source": [
    "### Problem 2.3: Identifying code causing time complexity"
   ]
  },
  {
   "cell_type": "markdown",
   "metadata": {},
   "source": [
    "Based on the functionality of each line above, experiment with passing different sized inputs (use the `make_a_random_word` function **but do not give it a size greater than 10 unless you want your grandchildren to be waiting on the results**). Which part of the algorithm slows down the most or has to do many more operations when you give it a much larger input? Does this make sense in terms of the Actual performance we observed?"
   ]
  },
  {
   "cell_type": "code",
   "execution_count": null,
   "metadata": {
    "collapsed": true
   },
   "outputs": [],
   "source": []
  },
  {
   "cell_type": "markdown",
   "metadata": {},
   "source": [
    "# Problem 3: $O(N)$ solution"
   ]
  },
  {
   "cell_type": "code",
   "execution_count": 45,
   "metadata": {
    "collapsed": true
   },
   "outputs": [],
   "source": [
    "def anagram4(s1,s2):\n",
    "    code_s1 = dict(zip(string.ascii_lowercase,[0]*26))\n",
    "    code_s2 = dict(zip(string.ascii_lowercase,[0]*26))\n",
    "    \n",
    "    for s1_letter in s1:\n",
    "        code_s1[s1_letter] += 1\n",
    "    \n",
    "    for s2_letter in s2:\n",
    "        code_s2[s2_letter] += 1\n",
    "    \n",
    "    if code_s1 == code_s2:\n",
    "        return True\n",
    "    else:\n",
    "        return False"
   ]
  },
  {
   "cell_type": "markdown",
   "metadata": {},
   "source": [
    "### Problem 3.1: Identifying complexity class"
   ]
  },
  {
   "cell_type": "code",
   "execution_count": 46,
   "metadata": {
    "collapsed": false
   },
   "outputs": [
    {
     "data": {
      "text/plain": [
       "{5: 0.00835653199828812,\n",
       " 10: 0.009956228997907601,\n",
       " 100: 0.022735291000572033,\n",
       " 1000: 0.16211122199820238,\n",
       " 10000: 1.5444257459967048,\n",
       " 100000: 17.13818444500066}"
      ]
     },
     "execution_count": 46,
     "metadata": {},
     "output_type": "execute_result"
    }
   ],
   "source": [
    "# Create a dictionary to store the performance numbers values for different inputs ranges as key\n",
    "performance_dict_anagram4 = {}\n",
    "\n",
    "anagram4_word_sizes = [5,10,100,1000,10000,100000]\n",
    "\n",
    "for word_size in anagram4_word_sizes:\n",
    "    seconds = timeit.timeit(stmt='anagram4(random_word,shuffled_word)',\n",
    "                            setup='random_word = make_a_random_word({0});shuffled_word = shuffle_a_word(random_word)'.format(word_size),\n",
    "                            number=1000,\n",
    "                            globals=globals())\n",
    "    \n",
    "    # Record the performance in the dictionary\n",
    "    performance_dict_anagram4[word_size] = seconds\n",
    "    \n",
    "performance_dict_anagram4"
   ]
  },
  {
   "cell_type": "code",
   "execution_count": 49,
   "metadata": {
    "collapsed": false
   },
   "outputs": [
    {
     "data": {
      "text/plain": [
       "<matplotlib.legend.Legend at 0x113961940>"
      ]
     },
     "execution_count": 49,
     "metadata": {},
     "output_type": "execute_result"
    },
    {
     "data": {
      "image/png": "[encoded data removed]",
      "text/plain": [
       "<matplotlib.figure.Figure at 0x113a94630>"
      ]
     },
     "metadata": {},
     "output_type": "display_data"
    }
   ],
   "source": [
    "# Actual performance\n",
    "actual_anagram4_x = sorted(performance_dict_anagram4.keys())\n",
    "actual_anagram4_y = sorted(performance_dict_anagram4.values())\n",
    "\n",
    "# Theoretical predictions if O(N)\n",
    "theoretical_anagram4_x = anagram4_word_sizes\n",
    "\n",
    "# Perform curve-fitting assuming both a linear and a polynomial function\n",
    "anagram4_logN_params,anagram4_logN_covariance = curve_fit(logN,actual_anagram4_x,actual_anagram4_y,bounds=[0,[np.inf,np.inf]])\n",
    "anagram4_linearN_params,anagram4_linearN_covariance = curve_fit(linearN,actual_anagram4_x,actual_anagram4_y,bounds=[0,[np.inf,np.inf]])\n",
    "anagram4_NlogN_params,anagram4_NlogN_covariance = curve_fit(NlogN,actual_anagram4_x,actual_anagram4_y,bounds=[0,[np.inf,np.inf]])\n",
    "anagram4_N2_params,anagram4_N2_covariance = curve_fit(N2,actual_anagram4_x,actual_anagram4_y,bounds=[0,[np.inf,np.inf]])\n",
    "#anagram4_twoN_params,anagram4_twoN_covariance = curve_fit(twoN,actual_anagram4_x,actual_anagram4_y,bounds=[0,[np.inf,np.inf]])\n",
    "#anagram4_factN_params,anagram4_factN_covariance = curve_fit(factN,actual_anagram4_x,actual_anagram4_y,bounds=[0,[np.inf,np.inf]])\n",
    "\n",
    "# Make different theoretical y-value predictions using parameters from curve-fitting\n",
    "theoretical_anagram4_y_logN = [logN(num,anagram4_logN_params[0],anagram4_logN_params[1]) for num in theoretical_anagram4_x]\n",
    "theoretical_anagram4_y_N = [linearN(num,anagram4_linearN_params[0],anagram4_linearN_params[1]) for num in theoretical_anagram4_x]\n",
    "theoretical_anagram4_y_NlogN = [NlogN(num,anagram4_NlogN_params[0],anagram4_NlogN_params[1]) for num in theoretical_anagram4_x]\n",
    "theoretical_anagram4_y_N2 = [N2(num,anagram4_N2_params[0],anagram4_N2_params[1]) for num in theoretical_anagram4_x]\n",
    "#theoretical_anagram4_y_twoN = [twoN(num,anagram4_twoN_params[0],anagram4_twoN_params[1]) for num in theoretical_anagram4_x]\n",
    "#theoretical_anagram4_y_factN = [factN(num,anagram4_factN_params[0],anagram4_factN_params[1]) for num in theoretical_anagram4_x]\n",
    "\n",
    "# Setup the empty plot\n",
    "f,ax = plt.subplots(1,1,sharex=True)\n",
    "ax.set_xscale('log')\n",
    "ax.set_yscale('log')\n",
    "ax.set_xlabel('Input size')\n",
    "ax.set_ylabel('Time (seconds)')\n",
    "#ax.set_ylim((1e-3,.2))\n",
    "ax.grid(True)\n",
    "\n",
    "ax.plot(actual_anagram4_x,actual_anagram4_y,color='grey',lw=4,label='Actual')\n",
    "ax.plot(theoretical_anagram4_x,theoretical_anagram4_y_logN,color='b',lw=2,ls='--',label='$O(log N)$')\n",
    "ax.plot(theoretical_anagram4_x,theoretical_anagram4_y_N,color='g',lw=2,ls='--',label='$O(N)$')\n",
    "ax.plot(theoretical_anagram4_x,theoretical_anagram4_y_NlogN,color='r',lw=2,ls='--',label='$O(N\\ log\\ N)$')\n",
    "ax.plot(theoretical_anagram4_x,theoretical_anagram4_y_N2,color='m',lw=2,ls='--',label='$O(N^2)$')\n",
    "#ax.plot(theoretical_anagram4_x,theoretical_anagram4_y_twoN,color='k',lw=2,ls='--',label='$O(2^N)$')\n",
    "#ax.plot(theoretical_anagram4_x,theoretical_anagram4_y_factN,color='y',lw=2,ls='--',label='$O(N!)$')\n",
    "\n",
    "ax.legend(loc='upper left',bbox_to_anchor=(1,.75))"
   ]
  },
  {
   "cell_type": "markdown",
   "metadata": {},
   "source": [
    "What complexity class best fits the Actual data?"
   ]
  },
  {
   "cell_type": "code",
   "execution_count": null,
   "metadata": {
    "collapsed": true
   },
   "outputs": [],
   "source": []
  },
  {
   "cell_type": "markdown",
   "metadata": {},
   "source": [
    "### Problem 3.2: Break `anagram4` apart"
   ]
  },
  {
   "cell_type": "markdown",
   "metadata": {},
   "source": [
    "Here's the `anagram4` function from above."
   ]
  },
  {
   "cell_type": "raw",
   "metadata": {
    "collapsed": true
   },
   "source": [
    "def anagram4(s1,s2):\n",
    "    code_s1 = dict(zip(string.ascii_lowercase,[0]*26))\n",
    "    code_s2 = dict(zip(string.ascii_lowercase,[0]*26))\n",
    "    \n",
    "    for s1_letter in s1:\n",
    "        code_s1[s1_letter] += 1\n",
    "    \n",
    "    for s2_letter in s2:\n",
    "        code_s2[s2_letter] += 1\n",
    "    \n",
    "    if code_s1 == code_s2:\n",
    "        return True\n",
    "    else:\n",
    "        return False"
   ]
  },
  {
   "cell_type": "markdown",
   "metadata": {},
   "source": [
    "What does `dict(zip(string.ascii_lowercase,[0]*26))` do?"
   ]
  },
  {
   "cell_type": "code",
   "execution_count": null,
   "metadata": {
    "collapsed": true
   },
   "outputs": [],
   "source": []
  },
  {
   "cell_type": "markdown",
   "metadata": {},
   "source": [
    "What does each for loop do?"
   ]
  },
  {
   "cell_type": "code",
   "execution_count": null,
   "metadata": {
    "collapsed": true
   },
   "outputs": [],
   "source": []
  },
  {
   "cell_type": "markdown",
   "metadata": {},
   "source": [
    "What does the `if` statement check?"
   ]
  },
  {
   "cell_type": "code",
   "execution_count": null,
   "metadata": {
    "collapsed": true
   },
   "outputs": [],
   "source": []
  },
  {
   "cell_type": "markdown",
   "metadata": {},
   "source": [
    "There's no \"is_anagram\" variable here. Does it matter in terms of complexity or readability?"
   ]
  },
  {
   "cell_type": "code",
   "execution_count": null,
   "metadata": {
    "collapsed": true
   },
   "outputs": [],
   "source": []
  },
  {
   "cell_type": "markdown",
   "metadata": {},
   "source": [
    "Having broken it apart, copy the definition of `anagram4` below and include line-by-line comments for what each line is doing."
   ]
  },
  {
   "cell_type": "code",
   "execution_count": null,
   "metadata": {
    "collapsed": true
   },
   "outputs": [],
   "source": []
  },
  {
   "cell_type": "markdown",
   "metadata": {},
   "source": [
    "### Problem 3.3: Identifying code causing time complexity"
   ]
  },
  {
   "cell_type": "markdown",
   "metadata": {},
   "source": [
    "Based on the functionality of each line above, experiment with passing different sized inputs (use the `make_a_random_word` function). Which part of the algorithm slows down the most or has to do many more operations when you give it a much larger input? Does this make sense in terms of why we see the Actual performance we observed?"
   ]
  },
  {
   "cell_type": "code",
   "execution_count": null,
   "metadata": {
    "collapsed": true
   },
   "outputs": [],
   "source": []
  }
 ],
 "metadata": {
  "anaconda-cloud": {},
  "kernelspec": {
   "display_name": "Python [conda root]",
   "language": "python",
   "name": "conda-root-py"
  },
  "language_info": {
   "codemirror_mode": {
    "name": "ipython",
    "version": 3
   },
   "file_extension": ".py",
   "mimetype": "text/x-python",
   "name": "python",
   "nbconvert_exporter": "python",
   "pygments_lexer": "ipython3",
   "version": "3.5.2"
  }
 },
 "nbformat": 4,
 "nbformat_minor": 1
}
