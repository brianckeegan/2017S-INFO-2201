{
 "cells": [
  {
   "cell_type": "markdown",
   "metadata": {},
   "source": [
    "# Lab Assignment 5: Lists, Stacks, Queues, and Arrays"
   ]
  },
  {
   "cell_type": "code",
   "execution_count": 7,
   "metadata": {
    "collapsed": true
   },
   "outputs": [],
   "source": [
    "import numpy as np"
   ]
  },
  {
   "cell_type": "markdown",
   "metadata": {},
   "source": [
    "## Problem 1: Cleaning fish tanks"
   ]
  },
  {
   "cell_type": "markdown",
   "metadata": {},
   "source": [
    "Read \"Swimmy Friends Pet Store\" (pp. 51-54) in *Computational Fairy Tales*.\n",
    "\n",
    "\"fish_tanks\" is a list representing the fish tanks in the store."
   ]
  },
  {
   "cell_type": "code",
   "execution_count": 2,
   "metadata": {
    "collapsed": false
   },
   "outputs": [
    {
     "data": {
      "text/plain": [
       "['Neon Tetras', 'Guppies', 'Sword Tails', 'Piranha', 'Goldfish', 'Tiger Barbs']"
      ]
     },
     "execution_count": 2,
     "metadata": {},
     "output_type": "execute_result"
    }
   ],
   "source": [
    "fish_tanks = ['Neon Tetras','Guppies','Sword Tails','Piranha','Goldfish','Tiger Barbs']\n",
    "fish_tanks"
   ]
  },
  {
   "cell_type": "markdown",
   "metadata": {},
   "source": [
    "We also have an empty fish tank."
   ]
  },
  {
   "cell_type": "code",
   "execution_count": 3,
   "metadata": {
    "collapsed": false
   },
   "outputs": [
    {
     "data": {
      "text/plain": [
       "[None]"
      ]
     },
     "execution_count": 3,
     "metadata": {},
     "output_type": "execute_result"
    }
   ],
   "source": [
    "empty_tank = [None]\n",
    "empty_tank"
   ]
  },
  {
   "cell_type": "markdown",
   "metadata": {},
   "source": [
    "Swap the Neon Tetras and Tiger Barbs using the empty tank, making sure that the length of the fish_tanks list doesn't change and you're not replicating fish.\n",
    "\n",
    "First, put the tetras in the empty tank."
   ]
  },
  {
   "cell_type": "code",
   "execution_count": null,
   "metadata": {
    "collapsed": false
   },
   "outputs": [],
   "source": [
    "# Put the neon tetras into the empty tank\n",
    "\n",
    "\n",
    "# Remove the neon tetras, leaving an empty tank behind\n",
    "\n",
    "\n",
    "# Check the status of everybody\n",
    "print(fish_tanks)\n",
    "print(empty_tank)"
   ]
  },
  {
   "cell_type": "markdown",
   "metadata": {},
   "source": [
    "Second, move the tiger barbs to the old tetra tank."
   ]
  },
  {
   "cell_type": "code",
   "execution_count": null,
   "metadata": {
    "collapsed": false
   },
   "outputs": [],
   "source": [
    "# Put the tiger barbs in the old tetra tank\n",
    "\n",
    "# Remove the tiger barbs, leaving an empty tank behind\n",
    "\n",
    "\n",
    "# Check the status of everybody\n",
    "print(fish_tanks)\n",
    "print(empty_tank)"
   ]
  },
  {
   "cell_type": "markdown",
   "metadata": {},
   "source": [
    "Third, move the tetras to the old tiger barb tank."
   ]
  },
  {
   "cell_type": "code",
   "execution_count": null,
   "metadata": {
    "collapsed": false
   },
   "outputs": [],
   "source": [
    "# Put the tetras in the old tiger barb tank\n",
    "\n",
    "# Remove the tetras from the empty tank\n",
    "\n",
    "# Check the status of everybody\n",
    "print(fish_tanks)\n",
    "print(empty_tank)"
   ]
  },
  {
   "cell_type": "markdown",
   "metadata": {},
   "source": [
    "Instead of doing a single swap, let's rotate all the fish in the tanks. Write a function to move each set of fish two tanks to the right, printing out the status along the way.\n",
    "\n",
    "Before we do that, let's look at a helpful Python function called [`enumerate`](https://docs.python.org/3.5/library/functions.html#enumerate). It gives us an integer corresponding to our position in the iterable (a list in this case) as well the element itself. We can catch both the position integer and the iterable element by declaring two temporary variables \"pos\" and \"tank\" for use within the loop."
   ]
  },
  {
   "cell_type": "code",
   "execution_count": 4,
   "metadata": {
    "collapsed": false
   },
   "outputs": [
    {
     "name": "stdout",
     "output_type": "stream",
     "text": [
      "0 Neon Tetras\n",
      "1 Guppies\n",
      "2 Sword Tails\n",
      "3 Piranha\n",
      "4 Goldfish\n",
      "5 Tiger Barbs\n"
     ]
    }
   ],
   "source": [
    "for pos,tank in enumerate(fish_tanks):\n",
    "    print(pos,tank)"
   ]
  },
  {
   "cell_type": "markdown",
   "metadata": {},
   "source": [
    "Now define a `move_fish` function that takes three arguments:\n",
    "\n",
    "* **fish_tanks** is a list of fish in their tanks\n",
    "* **empty_tank** is a list where we can put a fish\n",
    "* **steps** is how many tanks down the fish should be moved"
   ]
  },
  {
   "cell_type": "code",
   "execution_count": null,
   "metadata": {
    "collapsed": true
   },
   "outputs": [],
   "source": [
    "def move_fish(fish_tanks,empty_tank,steps):\n",
    "    \n",
    "    # Your code here\n",
    "            \n",
    "    return fish_tanks,empty_tank"
   ]
  },
  {
   "cell_type": "markdown",
   "metadata": {},
   "source": [
    "Test the output."
   ]
  },
  {
   "cell_type": "code",
   "execution_count": null,
   "metadata": {
    "collapsed": true
   },
   "outputs": [],
   "source": [
    "fish_tanks = ['Neon Tetras','Guppies','Sword Tails','Piranha','Goldfish','Tiger Barbs']\n",
    "empty_tank = [None]\n",
    "\n",
    "print(move_fish(fish_tanks,empty_tank,2)[0] == ['Goldfish', 'Tiger Barbs', 'Neon Tetras', 'Guppies', 'Sword Tails', 'Piranha'])\n",
    "print(move_fish(fish_tanks,empty_tank,2)[1] == [None])"
   ]
  },
  {
   "cell_type": "markdown",
   "metadata": {},
   "source": [
    "## Problem 2: Implement a karaoke machine "
   ]
  },
  {
   "cell_type": "markdown",
   "metadata": {},
   "source": [
    "Implement a `Karaoke` class emulating either the `Stack` or `Queue` definitions from class code. Load your chosen data structure with lyrics from a song, then play the song."
   ]
  },
  {
   "cell_type": "code",
   "execution_count": null,
   "metadata": {
    "collapsed": true
   },
   "outputs": [],
   "source": [
    "class Karaoke(object):\n",
    "    "
   ]
  },
  {
   "cell_type": "markdown",
   "metadata": {},
   "source": [
    "Why did you choose to implement it as a stack or a queue?"
   ]
  },
  {
   "cell_type": "code",
   "execution_count": null,
   "metadata": {
    "collapsed": true
   },
   "outputs": [],
   "source": []
  },
  {
   "cell_type": "markdown",
   "metadata": {},
   "source": [
    "Load lyrics into the Karaoke machine."
   ]
  },
  {
   "cell_type": "code",
   "execution_count": null,
   "metadata": {
    "collapsed": true
   },
   "outputs": [],
   "source": []
  },
  {
   "cell_type": "markdown",
   "metadata": {},
   "source": [
    "Play your Karaoke machine!"
   ]
  },
  {
   "cell_type": "code",
   "execution_count": null,
   "metadata": {
    "collapsed": true
   },
   "outputs": [],
   "source": []
  },
  {
   "cell_type": "markdown",
   "metadata": {},
   "source": [
    "## Problem 3: Working in a cafeteria"
   ]
  },
  {
   "cell_type": "markdown",
   "metadata": {},
   "source": [
    "Read \"Cafeteria Stacks and Queues\" (pp. 93-101) in *The CS Detective*."
   ]
  },
  {
   "cell_type": "code",
   "execution_count": 5,
   "metadata": {
    "collapsed": false
   },
   "outputs": [
    {
     "ename": "IndentationError",
     "evalue": "expected an indented block (<ipython-input-5-fb6c70ddcb33>, line 9)",
     "output_type": "error",
     "traceback": [
      "\u001b[0;36m  File \u001b[0;32m\"<ipython-input-5-fb6c70ddcb33>\"\u001b[0;36m, line \u001b[0;32m9\u001b[0m\n\u001b[0;31m    def get_age(self):\u001b[0m\n\u001b[0m      ^\u001b[0m\n\u001b[0;31mIndentationError\u001b[0m\u001b[0;31m:\u001b[0m expected an indented block\n"
     ]
    }
   ],
   "source": [
    "class Plate(object):\n",
    "    def __init__(self,plate_id):\n",
    "        self.plate_id = plate_id\n",
    "        self.age = 0\n",
    "        \n",
    "    def add_time(self):\n",
    "        # Implement an add_time mutator method that increments the age attribute up by one\n",
    "        \n",
    "    def get_age(self):\n",
    "        # Implement a get_age accessor method that returns the age of a Plate\n",
    "    \n",
    "    def __str__(self):\n",
    "        return str(self.plate_id)\n",
    "    \n",
    "    def __repr__(self):\n",
    "        return 'Plate {0:02d}'.format(self.plate_id)"
   ]
  },
  {
   "cell_type": "markdown",
   "metadata": {},
   "source": [
    "Check to make sure these all work."
   ]
  },
  {
   "cell_type": "code",
   "execution_count": null,
   "metadata": {
    "collapsed": false
   },
   "outputs": [],
   "source": [
    "p = Plate(1)\n",
    "p.add_time()\n",
    "p"
   ]
  },
  {
   "cell_type": "markdown",
   "metadata": {},
   "source": [
    "Create a `PlateStack` object that lets you put plates into it."
   ]
  },
  {
   "cell_type": "code",
   "execution_count": null,
   "metadata": {
    "collapsed": true
   },
   "outputs": [],
   "source": [
    "class PlateStack(object):\n",
    "    def __init__(self):\n",
    "        self.plates = []\n",
    "        \n",
    "    def unload(self):\n",
    "        if self.is_empty():\n",
    "            raise RuntimeError('Cannot unload an empty stack of plates')\n",
    "            \n",
    "        # Include a subroutine that increments each plate's age in the stackusing the add_time method\n",
    "        \n",
    "        top_idx = len(self.plates) - 1\n",
    "        plate = self.plates[top_idx]\n",
    "        del self.plates[top_idx]\n",
    "        return plate\n",
    "    \n",
    "    def load(self,plate):\n",
    "        # Include a subroutine that increments each plate's age in the stack using the add_time method\n",
    "        \n",
    "        self.plates.append(plate)\n",
    "        \n",
    "    def top(self):\n",
    "        if self.is_empty():\n",
    "            raise RuntimeError('Empty stack has no top')\n",
    "            \n",
    "        top_idx = len(self.plates) - 1\n",
    "        return self.plates[top_idx]\n",
    "    \n",
    "    def ages(self):\n",
    "        return [{'Plate {0:02d}'.format(p.plate_id):'{0} min'.format(p.get_age())} for p in self.plates]\n",
    "    \n",
    "    def is_empty(self):\n",
    "        return len(self.plates) == 0\n",
    "    \n",
    "    def __len__(self):\n",
    "        return len(self.plates)\n",
    "    \n",
    "    def __repr__(self):\n",
    "        return 'PlateStack('+str(self.plates)+')'"
   ]
  },
  {
   "cell_type": "markdown",
   "metadata": {},
   "source": [
    "Test out the class with a basic example."
   ]
  },
  {
   "cell_type": "code",
   "execution_count": null,
   "metadata": {
    "collapsed": false
   },
   "outputs": [],
   "source": [
    "plate_stack = PlateStack()\n",
    "plate_stack.load(Plate(0))\n",
    "plate_stack"
   ]
  },
  {
   "cell_type": "markdown",
   "metadata": {},
   "source": [
    "Put a bunch of plates on."
   ]
  },
  {
   "cell_type": "code",
   "execution_count": null,
   "metadata": {
    "collapsed": false
   },
   "outputs": [],
   "source": [
    "t = 1\n",
    "\n",
    "while t < 10:\n",
    "    plate_stack.load(Plate(t))\n",
    "    t += 1\n",
    "    \n",
    "plate_stack"
   ]
  },
  {
   "cell_type": "markdown",
   "metadata": {},
   "source": [
    "Get their ages and current order."
   ]
  },
  {
   "cell_type": "code",
   "execution_count": null,
   "metadata": {
    "collapsed": false
   },
   "outputs": [],
   "source": [
    "plate_stack.ages()"
   ]
  },
  {
   "cell_type": "markdown",
   "metadata": {},
   "source": [
    "For 6 minutes, take a plate off and put it back on."
   ]
  },
  {
   "cell_type": "code",
   "execution_count": null,
   "metadata": {
    "collapsed": false
   },
   "outputs": [],
   "source": [
    "for i in range(6):\n",
    "    print(\"Taking Plate {0:02d} off!\".format(plate_stack.top().plate_id))\n",
    "    old_plate = plate_stack.unload()\n",
    "    \n",
    "    #new_plate_id = len(plate_stack)\n",
    "    print(\"Loading Plate {0:02d} on!\".format(old_plate.plate_id))\n",
    "    plate_stack.load(Plate(old_plate.plate_id))"
   ]
  },
  {
   "cell_type": "markdown",
   "metadata": {},
   "source": [
    "Check the ages and order of the PlateStack after the 6 minutes of furious plate stacking action."
   ]
  },
  {
   "cell_type": "code",
   "execution_count": null,
   "metadata": {
    "collapsed": false
   },
   "outputs": [],
   "source": [
    "plate_stack.ages()"
   ]
  },
  {
   "cell_type": "markdown",
   "metadata": {},
   "source": [
    "Compare a PlateStack approach to a PlateQueue approach."
   ]
  },
  {
   "cell_type": "code",
   "execution_count": null,
   "metadata": {
    "collapsed": true
   },
   "outputs": [],
   "source": [
    "class PlateQueue(object):\n",
    "    \n",
    "    def __init__(self):\n",
    "        self.plates = []\n",
    "    \n",
    "    def load(self,plate):\n",
    "        # Include a subroutine that increments each plate's age in the stack using the add_time method\n",
    "        \n",
    "        self.plates.append(plate)\n",
    "        \n",
    "    def unload(self):\n",
    "        if self.is_empty():\n",
    "            raise RuntimeError('Cannot pop an empty stack')\n",
    "        \n",
    "        # Include a subroutine that increments each plate's age in the stack using the add_time method\n",
    "        \n",
    "        plate = self.plates[0]\n",
    "        del self.plates[0]\n",
    "        return plate\n",
    "    \n",
    "    def ages(self):\n",
    "        return [{'Plate {0:02d}'.format(p.plate_id):'{0} min'.format(p.get_age())} for p in self.plates]\n",
    "        \n",
    "    def front(self):\n",
    "        if self.is_empty():\n",
    "            raise RuntimeError('Cannot access front of empty queue')\n",
    "        else:\n",
    "            return self.plates[0]\n",
    "        \n",
    "    def is_empty(self):\n",
    "        return len(self.plates) == 0\n",
    "    \n",
    "    def __len__(self):\n",
    "        return len(self.plates)\n",
    "    \n",
    "    def __repr__(self):\n",
    "        return 'PlateQueue('+str(self.plates)+')'"
   ]
  },
  {
   "cell_type": "markdown",
   "metadata": {},
   "source": [
    "Test out the PlateQueue."
   ]
  },
  {
   "cell_type": "code",
   "execution_count": null,
   "metadata": {
    "collapsed": false
   },
   "outputs": [],
   "source": [
    "plate_queue = PlateQueue()\n",
    "plate_queue.load(Plate(0))\n",
    "plate_queue"
   ]
  },
  {
   "cell_type": "markdown",
   "metadata": {},
   "source": [
    "Load up the PlateQueue with a few different plates."
   ]
  },
  {
   "cell_type": "code",
   "execution_count": null,
   "metadata": {
    "collapsed": false
   },
   "outputs": [],
   "source": [
    "t = 1\n",
    "\n",
    "while t < 10:\n",
    "    plate_queue.load(Plate(t))\n",
    "    t += 1\n",
    "    \n",
    "plate_queue"
   ]
  },
  {
   "cell_type": "markdown",
   "metadata": {},
   "source": [
    "Check all their ages."
   ]
  },
  {
   "cell_type": "code",
   "execution_count": null,
   "metadata": {
    "collapsed": false
   },
   "outputs": [],
   "source": [
    "plate_queue.ages()"
   ]
  },
  {
   "cell_type": "markdown",
   "metadata": {},
   "source": [
    "Now take plates off the queue and put them back on."
   ]
  },
  {
   "cell_type": "code",
   "execution_count": null,
   "metadata": {
    "collapsed": false
   },
   "outputs": [],
   "source": [
    "for i in range(6):\n",
    "    print(\"Taking Plate {0:02d} off!\".format(plate_queue.front().plate_id))\n",
    "    old_plate = plate_queue.unload()\n",
    "    \n",
    "    #new_plate_id = len(plate_queue)\n",
    "    print(\"Loading Plate {0:02d} on!\".format(old_plate.plate_id))\n",
    "    plate_queue.load(Plate(old_plate.plate_id))"
   ]
  },
  {
   "cell_type": "markdown",
   "metadata": {},
   "source": [
    "Check the ages and order of the PlateQueue after the 6 minutes of furious plate stacking action."
   ]
  },
  {
   "cell_type": "code",
   "execution_count": null,
   "metadata": {
    "collapsed": false
   },
   "outputs": [],
   "source": [
    "plate_queue.ages()"
   ]
  },
  {
   "cell_type": "markdown",
   "metadata": {},
   "source": [
    "Is the PlateQueue or PlateStack doing a better job at keeping the plates fresh?"
   ]
  },
  {
   "cell_type": "code",
   "execution_count": null,
   "metadata": {
    "collapsed": true
   },
   "outputs": [],
   "source": []
  },
  {
   "cell_type": "markdown",
   "metadata": {},
   "source": [
    "## Problem 4: Making an (incorrect) Sudoku board"
   ]
  },
  {
   "cell_type": "markdown",
   "metadata": {},
   "source": [
    "Let's stretch our legs with numpy. Use a combination of [`np.arange`](https://docs.scipy.org/doc/numpy/reference/generated/numpy.arange.html) and [`np.repeat`](https://docs.scipy.org/doc/numpy/reference/generated/numpy.repeat.html) to generate all the values we'll need for a complete [Sudoku board](https://en.wikipedia.org/wiki/Sudoku)."
   ]
  },
  {
   "cell_type": "code",
   "execution_count": null,
   "metadata": {
    "collapsed": false
   },
   "outputs": [],
   "source": [
    "sudoku_numbers = np.repeat(np.arange(),)"
   ]
  },
  {
   "cell_type": "markdown",
   "metadata": {},
   "source": [
    "Use [`np.shuffle`](https://docs.scipy.org/doc/numpy/reference/generated/numpy.random.shuffle.html) to shuffle the values of these number randomly. \n",
    "\n",
    "Why do we not assign the output of this function to a new variable like \"shuffled_numbers\"? What in the documentation about this function is the clue about how to use this function?"
   ]
  },
  {
   "cell_type": "code",
   "execution_count": null,
   "metadata": {
    "collapsed": false
   },
   "outputs": [],
   "source": [
    "np.random.shuffle(sudoku_numbers)\n",
    "sudoku_numbers"
   ]
  },
  {
   "cell_type": "markdown",
   "metadata": {},
   "source": [
    "Use the [`np.reshape`](https://docs.scipy.org/doc/numpy/reference/generated/numpy.reshape.html) function on your shuffled sudoku numbers to generate a \"sudoku_board\" containing 3x3 of 3x3 cells."
   ]
  },
  {
   "cell_type": "code",
   "execution_count": null,
   "metadata": {
    "collapsed": false
   },
   "outputs": [],
   "source": [
    "sudoku_board = sudoku_numbers.reshape()\n",
    "sudoku_board"
   ]
  },
  {
   "cell_type": "markdown",
   "metadata": {},
   "source": [
    "How do you access the most upper-left number in the entire game board?"
   ]
  },
  {
   "cell_type": "code",
   "execution_count": null,
   "metadata": {
    "collapsed": true
   },
   "outputs": [],
   "source": []
  },
  {
   "cell_type": "markdown",
   "metadata": {},
   "source": [
    "How do you access the most upper-right number in the entire game board?"
   ]
  },
  {
   "cell_type": "code",
   "execution_count": null,
   "metadata": {
    "collapsed": true
   },
   "outputs": [],
   "source": []
  },
  {
   "cell_type": "markdown",
   "metadata": {},
   "source": [
    "How do you access the most lower-left number in the entire game board?"
   ]
  },
  {
   "cell_type": "code",
   "execution_count": null,
   "metadata": {
    "collapsed": true
   },
   "outputs": [],
   "source": []
  },
  {
   "cell_type": "markdown",
   "metadata": {},
   "source": [
    "How do you access the most lower-right number in the entire game board?"
   ]
  },
  {
   "cell_type": "code",
   "execution_count": null,
   "metadata": {
    "collapsed": true
   },
   "outputs": [],
   "source": []
  },
  {
   "cell_type": "markdown",
   "metadata": {},
   "source": [
    "How do you access the number at the center of the game board?"
   ]
  },
  {
   "cell_type": "code",
   "execution_count": null,
   "metadata": {
    "collapsed": true
   },
   "outputs": [],
   "source": []
  },
  {
   "cell_type": "markdown",
   "metadata": {},
   "source": [
    "All three tests must pass as `True`."
   ]
  },
  {
   "cell_type": "code",
   "execution_count": null,
   "metadata": {
    "collapsed": false
   },
   "outputs": [],
   "source": [
    "_shape = tuple(np.random.choice(np.arange(3,4),4))\n",
    "sudoku_board.size == 81, sudoku_board.ndim == 4, sudoku_board.shape == _shape"
   ]
  },
  {
   "cell_type": "markdown",
   "metadata": {},
   "source": [
    "## Extra Credit"
   ]
  },
  {
   "cell_type": "markdown",
   "metadata": {},
   "source": [
    "I'm going to give you a \"solved_board\" as a test case to use here on out. You can visualize it from the [Wikipedia article](https://en.wikipedia.org/wiki/Sudoku):\n",
    "\n",
    "![Solved sudoku](http://i.imgur.com/etZoZkw.png)"
   ]
  },
  {
   "cell_type": "code",
   "execution_count": 8,
   "metadata": {
    "collapsed": false
   },
   "outputs": [
    {
     "data": {
      "text/plain": [
       "array([[[[5, 3, 4],\n",
       "         [6, 7, 2],\n",
       "         [1, 9, 8]],\n",
       "\n",
       "        [[6, 7, 8],\n",
       "         [1, 9, 5],\n",
       "         [3, 4, 2]],\n",
       "\n",
       "        [[9, 1, 2],\n",
       "         [3, 4, 8],\n",
       "         [5, 6, 7]]],\n",
       "\n",
       "\n",
       "       [[[8, 5, 9],\n",
       "         [4, 2, 6],\n",
       "         [7, 1, 3]],\n",
       "\n",
       "        [[7, 6, 1],\n",
       "         [8, 5, 3],\n",
       "         [9, 2, 4]],\n",
       "\n",
       "        [[4, 2, 3],\n",
       "         [7, 9, 1],\n",
       "         [8, 5, 6]]],\n",
       "\n",
       "\n",
       "       [[[9, 6, 1],\n",
       "         [2, 8, 7],\n",
       "         [3, 4, 5]],\n",
       "\n",
       "        [[5, 3, 7],\n",
       "         [4, 1, 9],\n",
       "         [2, 8, 6]],\n",
       "\n",
       "        [[2, 8, 4],\n",
       "         [6, 3, 5],\n",
       "         [1, 7, 9]]]])"
      ]
     },
     "execution_count": 8,
     "metadata": {},
     "output_type": "execute_result"
    }
   ],
   "source": [
    "solved_board = np.array([[[[5, 3, 4],[6, 7, 2],[1, 9, 8]],[[6, 7, 8],[1, 9, 5],[3, 4, 2]],[[9, 1, 2],[3, 4, 8],[5, 6, 7]]],[[[8, 5, 9],[4, 2, 6],[7, 1, 3]],[[7, 6, 1],[8, 5, 3],[9, 2, 4]],[[4, 2, 3],[7, 9, 1],[8, 5, 6]]],[[[9, 6, 1],[2, 8, 7],[3, 4, 5]],[[5, 3, 7],[4, 1, 9],[2, 8, 6]],[[2, 8, 4],[6, 3, 5],[1, 7, 9]]]])\n",
    "solved_board"
   ]
  },
  {
   "cell_type": "markdown",
   "metadata": {},
   "source": [
    "We can use reshape to change our 4-dimensional shape back to a 3-dimensional shape, which *might* just be helpful if we want to loop through each sub-grid more efficiently. Rather than there being a 3x3 grid of 3x3 grids, this reshape says there are 9 3x3 grids."
   ]
  },
  {
   "cell_type": "code",
   "execution_count": null,
   "metadata": {
    "collapsed": false
   },
   "outputs": [],
   "source": [
    "solved_board.reshape(9,3,3)"
   ]
  },
  {
   "cell_type": "markdown",
   "metadata": {},
   "source": [
    "A Sudoku game is only solved if each column, each row, and each of the 3x3 subgrids contains the digits 1 to 9. Write three functions to check if the \"sudoku_board\" you generated above fulfills each of these criteria. \n",
    "\n",
    "The [`np.unique`](https://docs.scipy.org/doc/numpy/reference/generated/numpy.unique.html) function may be helpful for checking if there are 9 unique elements in a subgrid, row, or column."
   ]
  },
  {
   "cell_type": "code",
   "execution_count": 9,
   "metadata": {
    "collapsed": false
   },
   "outputs": [
    {
     "data": {
      "text/plain": [
       "array([1, 2, 3, 4, 5, 6, 7, 8, 9])"
      ]
     },
     "execution_count": 9,
     "metadata": {},
     "output_type": "execute_result"
    }
   ],
   "source": [
    "example = np.array([[5, 3, 4],[6, 7, 2],[1, 9, 8]])\n",
    "np.unique(example)"
   ]
  },
  {
   "cell_type": "markdown",
   "metadata": {},
   "source": [
    "You can slice this 4D array to get all the rows out in the first subgrid row:"
   ]
  },
  {
   "cell_type": "code",
   "execution_count": 10,
   "metadata": {
    "collapsed": false
   },
   "outputs": [
    {
     "data": {
      "text/plain": [
       "array([[[5, 3, 4],\n",
       "        [6, 7, 8],\n",
       "        [9, 1, 2]],\n",
       "\n",
       "       [[8, 5, 9],\n",
       "        [7, 6, 1],\n",
       "        [4, 2, 3]],\n",
       "\n",
       "       [[9, 6, 1],\n",
       "        [5, 3, 7],\n",
       "        [2, 8, 4]]])"
      ]
     },
     "execution_count": 10,
     "metadata": {},
     "output_type": "execute_result"
    }
   ],
   "source": [
    "solved_board[:,:,0]"
   ]
  },
  {
   "cell_type": "markdown",
   "metadata": {},
   "source": [
    "We can extend this even more. This [`np.transpose`](https://docs.scipy.org/doc/numpy/reference/generated/numpy.rollaxis.html#numpy.rollaxis) does something interesting and returns each row across subgrids as its own subgrid."
   ]
  },
  {
   "cell_type": "code",
   "execution_count": null,
   "metadata": {
    "collapsed": false
   },
   "outputs": [],
   "source": [
    "np.transpose(solved_board,(2,0,1,3))"
   ]
  },
  {
   "cell_type": "markdown",
   "metadata": {},
   "source": [
    "This transpose returns each column as its own subgrid. You're welcome."
   ]
  },
  {
   "cell_type": "code",
   "execution_count": null,
   "metadata": {
    "collapsed": false
   },
   "outputs": [],
   "source": [
    "np.transpose(solved_board,(1,3,0,2))"
   ]
  },
  {
   "cell_type": "markdown",
   "metadata": {},
   "source": [
    "If you're wondering why transpose works the way it does, it lets you swap different dimensions around. Try comparing `np.transpose(solved_board,(0,1,2,3))` with `np.transpose(solved_board,(3,2,1,0))`. \n",
    "\n",
    "If you're like me, transposing 4-dimension arrays melts my brain, so let's just brute force discover what are the right parameters to pass to transpose to generate the subgrid outputs we want. It turns out there's two ways to do each."
   ]
  },
  {
   "cell_type": "code",
   "execution_count": null,
   "metadata": {
    "collapsed": false
   },
   "outputs": [],
   "source": [
    "from itertools import permutations\n",
    "\n",
    "# Brute force discover the permutation parameters to generate the desired rows-to-subgrids output\n",
    "for vals in list(permutations(range(4),4)):\n",
    "    swapped = np.transpose(solved_board,vals)\n",
    "    # An example of what I want as an output\n",
    "    desired = np.array([[5,3,4],[6,7,8],[9,1,2]])\n",
    "    if np.all(swapped[0,0] == desired):\n",
    "        print('ROWS:',vals)\n",
    "\n",
    "# Brute force discover the permutation parameters to generate the desired columns-to-subgrids output\n",
    "for vals in list(permutations(range(4),4)):\n",
    "    swapped = np.transpose(solved_board,vals)\n",
    "    # An example of what I want as an output\n",
    "    desired = np.array([[5,6,1],[8,4,7],[9,2,3]])\n",
    "    if np.all(swapped[0,0] == desired):\n",
    "        print('COLUMNS:',vals)"
   ]
  },
  {
   "cell_type": "markdown",
   "metadata": {},
   "source": [
    "Now use these transpose methods in the `check_rows` and `check_columns` functions respectively. Remember, you can use the `ndarray.reshape(9,3,3)` method to save you a step in looping through rows of subgrids."
   ]
  },
  {
   "cell_type": "code",
   "execution_count": null,
   "metadata": {
    "collapsed": false
   },
   "outputs": [],
   "source": [
    "def check_subgrids(sudoku_board):\n",
    "    \n",
    "\n",
    "check_subgrids(solved_board)"
   ]
  },
  {
   "cell_type": "code",
   "execution_count": null,
   "metadata": {
    "collapsed": false
   },
   "outputs": [],
   "source": [
    "def check_rows(sudoku_board):\n",
    "    \n",
    "\n",
    "check_rows(solved_board)"
   ]
  },
  {
   "cell_type": "code",
   "execution_count": null,
   "metadata": {
    "collapsed": false
   },
   "outputs": [],
   "source": [
    "def check_columns(sudoku_board):\n",
    "    \n",
    "\n",
    "check_columns(solved_board)"
   ]
  },
  {
   "cell_type": "code",
   "execution_count": null,
   "metadata": {
    "collapsed": true
   },
   "outputs": [],
   "source": []
  }
 ],
 "metadata": {
  "kernelspec": {
   "display_name": "Python [conda root]",
   "language": "python",
   "name": "conda-root-py"
  },
  "language_info": {
   "codemirror_mode": {
    "name": "ipython",
    "version": 3
   },
   "file_extension": ".py",
   "mimetype": "text/x-python",
   "name": "python",
   "nbconvert_exporter": "python",
   "pygments_lexer": "ipython3",
   "version": "3.5.2"
  }
 },
 "nbformat": 4,
 "nbformat_minor": 1
}
