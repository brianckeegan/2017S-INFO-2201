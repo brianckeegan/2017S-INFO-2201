{
 "cells": [
  {
   "cell_type": "markdown",
   "metadata": {},
   "source": [
    "# Week 9 - Reinforcing sorting algorithms\n",
    "\n",
    "We did some in-person examples of sorting algorithms in class on Monday, but now we'll take a look at how to translate different sorting strategies into code.\n",
    "\n",
    "We're going to draw extensively on the [interactive Python tutorials on Sorting and Searching](http://interactivepython.org/runestone/static/pythonds/SortSearch/toctree.html) developed by Miller and Ranum."
   ]
  },
  {
   "cell_type": "code",
   "execution_count": 2,
   "metadata": {
    "collapsed": true
   },
   "outputs": [],
   "source": [
    "import random\n",
    "import numpy as np"
   ]
  },
  {
   "cell_type": "code",
   "execution_count": 16,
   "metadata": {
    "collapsed": false
   },
   "outputs": [
    {
     "data": {
      "text/plain": [
       "[6, 1, 5, 5, 1, 5, 8, 2, 1, 2]"
      ]
     },
     "execution_count": 16,
     "metadata": {},
     "output_type": "execute_result"
    }
   ],
   "source": [
    "def make_random_list(size=10):\n",
    "     return list(np.random.choice(np.arange(10),size,replace=True))\n",
    "\n",
    "make_random_list()"
   ]
  },
  {
   "cell_type": "code",
   "execution_count": null,
   "metadata": {
    "collapsed": true
   },
   "outputs": [],
   "source": []
  },
  {
   "cell_type": "markdown",
   "metadata": {},
   "source": [
    "## Insertion sort\n",
    "\n",
    "Insertion sort is a $O(N^2)$ algorithm in the worst case, but it has a nice balance of being readable but potentially much faster than other $O(N^2)$-class sorting algorithms in the best case. [Miller & Ranum](http://interactivepython.org/runestone/static/pythonds/SortSearch/TheInsertionSort.html) describe the general idea:\n",
    "\n",
    "\"We begin by assuming that a list with one item (position 0) is already sorted. On each pass, one for each item 1 through $n−1$, the current item is checked against those in the already sorted sublist. As we look back into the already sorted sublist, we shift those items that are greater to the right. When we reach a smaller item or the end of the sublist, the current item can be inserted.\"\n",
    "\n",
    "![Insertion sort](http://interactivepython.org/runestone/static/pythonds/_images/insertionsort.png)\n",
    "\n",
    "Another way to think about insertion sort is there's a boundary where everything to the left of the boundary we *know* is sorted and everything to the right of the boundary still needs to be sorted. So the general idea is to keep moving the boundary to the right (until we get to the end of the list) by sorting each item just to the right of the boundary into the left-hand side. The actual sorting of the left-hand side works by checking each element in the left to see if it's greater that what needs to be sorted: if it's greater, slide it to the right and if it's less, you're in the right spot to insert the new value.\n",
    "\n",
    "![Step 5 of insertion sort](http://interactivepython.org/runestone/static/pythonds/_images/insertionpass.png)\n",
    "\n",
    "Here's an adapted version of M&R's `insertion_sort` function:"
   ]
  },
  {
   "cell_type": "code",
   "execution_count": 11,
   "metadata": {
    "collapsed": true
   },
   "outputs": [],
   "source": [
    "def insertion_sort(alist):\n",
    "    for index in range(1,len(alist)):\n",
    "\n",
    "        currentvalue = alist[index]\n",
    "        position = index\n",
    "\n",
    "        while position > 0 and alist[position - 1] > currentvalue:\n",
    "            alist[position] = alist[position - 1]\n",
    "            position = position - 1\n",
    "\n",
    "        alist[position] = currentvalue\n",
    "    \n",
    "    return alist"
   ]
  },
  {
   "cell_type": "markdown",
   "metadata": {},
   "source": [
    "Does it work?"
   ]
  },
  {
   "cell_type": "code",
   "execution_count": 12,
   "metadata": {
    "collapsed": false
   },
   "outputs": [
    {
     "data": {
      "text/plain": [
       "[15, 16, 21, 24, 39, 47, 63, 70, 93, 99]"
      ]
     },
     "execution_count": 12,
     "metadata": {},
     "output_type": "execute_result"
    }
   ],
   "source": [
    "insertion_sort(make_random_list())"
   ]
  },
  {
   "cell_type": "markdown",
   "metadata": {},
   "source": [
    "Why does it work? Let's add a print statement that reports out where we are in the list. We'll build on this over the next few steps."
   ]
  },
  {
   "cell_type": "code",
   "execution_count": 17,
   "metadata": {
    "collapsed": false
   },
   "outputs": [
    {
     "name": "stdout",
     "output_type": "stream",
     "text": [
      "Before we start, the list looks like:\n",
      "\t[9, 9, 2, 3, 8, 7, 7, 0, 3, 7]\n",
      "\n",
      "We sorted value 9 into position 1: This list is now:\n",
      "\t[9, 9, 2, 3, 8, 7, 7, 0, 3, 7]\n",
      "\n",
      "We sorted value 2 into position 0: This list is now:\n",
      "\t[2, 9, 9, 3, 8, 7, 7, 0, 3, 7]\n",
      "\n",
      "We sorted value 3 into position 1: This list is now:\n",
      "\t[2, 3, 9, 9, 8, 7, 7, 0, 3, 7]\n",
      "\n",
      "We sorted value 8 into position 2: This list is now:\n",
      "\t[2, 3, 8, 9, 9, 7, 7, 0, 3, 7]\n",
      "\n",
      "We sorted value 7 into position 2: This list is now:\n",
      "\t[2, 3, 7, 8, 9, 9, 7, 0, 3, 7]\n",
      "\n",
      "We sorted value 7 into position 3: This list is now:\n",
      "\t[2, 3, 7, 7, 8, 9, 9, 0, 3, 7]\n",
      "\n",
      "We sorted value 0 into position 0: This list is now:\n",
      "\t[0, 2, 3, 7, 7, 8, 9, 9, 3, 7]\n",
      "\n",
      "We sorted value 3 into position 3: This list is now:\n",
      "\t[0, 2, 3, 3, 7, 7, 8, 9, 9, 7]\n",
      "\n",
      "We sorted value 7 into position 6: This list is now:\n",
      "\t[0, 2, 3, 3, 7, 7, 7, 8, 9, 9]\n",
      "\n"
     ]
    },
    {
     "data": {
      "text/plain": [
       "[0, 2, 3, 3, 7, 7, 7, 8, 9, 9]"
      ]
     },
     "execution_count": 17,
     "metadata": {},
     "output_type": "execute_result"
    }
   ],
   "source": [
    "def insertion_sort_verbose_1(alist):\n",
    "    print(\"Before we start, the list looks like:\\n\\t{0}\\n\".format(alist))\n",
    "    \n",
    "    for index in range(1,len(alist)):\n",
    "\n",
    "        currentvalue = alist[index]\n",
    "        position = index\n",
    "        \n",
    "        while position > 0 and alist[position - 1] > currentvalue:\n",
    "            alist[position] = alist[position - 1]\n",
    "            position = position - 1\n",
    "\n",
    "        alist[position] = currentvalue\n",
    "        \n",
    "        print(\"We sorted value {0} into position {1}: This list is now:\\n\\t{2}\\n\".format(currentvalue,position, alist))\n",
    "        \n",
    "    return alist\n",
    "\n",
    "insertion_sort_verbose_1(make_random_list(10))"
   ]
  },
  {
   "cell_type": "code",
   "execution_count": 18,
   "metadata": {
    "collapsed": false
   },
   "outputs": [
    {
     "name": "stdout",
     "output_type": "stream",
     "text": [
      "Before we start, the list looks like:\n",
      "\t[2, 0, 5, 5, 1, 8, 4, 0, 0, 6]\n",
      "\n",
      "We're starting at position 1 in the list, we need to sort the value 0\n",
      "\tThe value 0 we need to sort < value 2 on left in position 0. Go left once more!\n",
      "\t\tBINGO! The value 0 we need to sort is now the smallest sorted value. Put it in position 0!\n",
      "\tThis list is now:\n",
      "\t[0, 2, 5, 5, 1, 8, 4, 0, 0, 6]\n",
      "\n",
      "We're starting at position 2 in the list, we need to sort the value 5\n",
      "\t\tBINGO! The value 5 we need to sort > value 2 on left in position 2. Put it in position 2!\n",
      "\tThis list is now:\n",
      "\t[0, 2, 5, 5, 1, 8, 4, 0, 0, 6]\n",
      "\n",
      "We're starting at position 3 in the list, we need to sort the value 5\n",
      "\t\tBINGO! The value 5 we need to sort > value 5 on left in position 3. Put it in position 3!\n",
      "\tThis list is now:\n",
      "\t[0, 2, 5, 5, 1, 8, 4, 0, 0, 6]\n",
      "\n",
      "We're starting at position 4 in the list, we need to sort the value 1\n",
      "\tThe value 1 we need to sort < value 5 on left in position 3. Go left once more!\n",
      "\tThe value 1 we need to sort < value 5 on left in position 2. Go left once more!\n",
      "\tThe value 1 we need to sort < value 2 on left in position 1. Go left once more!\n",
      "\t\tBINGO! The value 1 we need to sort > value 0 on left in position 1. Put it in position 1!\n",
      "\tThis list is now:\n",
      "\t[0, 1, 2, 5, 5, 8, 4, 0, 0, 6]\n",
      "\n",
      "We're starting at position 5 in the list, we need to sort the value 8\n",
      "\t\tBINGO! The value 8 we need to sort > value 5 on left in position 5. Put it in position 5!\n",
      "\tThis list is now:\n",
      "\t[0, 1, 2, 5, 5, 8, 4, 0, 0, 6]\n",
      "\n",
      "We're starting at position 6 in the list, we need to sort the value 4\n",
      "\tThe value 4 we need to sort < value 8 on left in position 5. Go left once more!\n",
      "\tThe value 4 we need to sort < value 5 on left in position 4. Go left once more!\n",
      "\tThe value 4 we need to sort < value 5 on left in position 3. Go left once more!\n",
      "\t\tBINGO! The value 4 we need to sort > value 2 on left in position 3. Put it in position 3!\n",
      "\tThis list is now:\n",
      "\t[0, 1, 2, 4, 5, 5, 8, 0, 0, 6]\n",
      "\n",
      "We're starting at position 7 in the list, we need to sort the value 0\n",
      "\tThe value 0 we need to sort < value 8 on left in position 6. Go left once more!\n",
      "\tThe value 0 we need to sort < value 5 on left in position 5. Go left once more!\n",
      "\tThe value 0 we need to sort < value 5 on left in position 4. Go left once more!\n",
      "\tThe value 0 we need to sort < value 4 on left in position 3. Go left once more!\n",
      "\tThe value 0 we need to sort < value 2 on left in position 2. Go left once more!\n",
      "\tThe value 0 we need to sort < value 1 on left in position 1. Go left once more!\n",
      "\t\tBINGO! The value 0 we need to sort > value 0 on left in position 1. Put it in position 1!\n",
      "\tThis list is now:\n",
      "\t[0, 0, 1, 2, 4, 5, 5, 8, 0, 6]\n",
      "\n",
      "We're starting at position 8 in the list, we need to sort the value 0\n",
      "\tThe value 0 we need to sort < value 8 on left in position 7. Go left once more!\n",
      "\tThe value 0 we need to sort < value 5 on left in position 6. Go left once more!\n",
      "\tThe value 0 we need to sort < value 5 on left in position 5. Go left once more!\n",
      "\tThe value 0 we need to sort < value 4 on left in position 4. Go left once more!\n",
      "\tThe value 0 we need to sort < value 2 on left in position 3. Go left once more!\n",
      "\tThe value 0 we need to sort < value 1 on left in position 2. Go left once more!\n",
      "\t\tBINGO! The value 0 we need to sort > value 0 on left in position 2. Put it in position 2!\n",
      "\tThis list is now:\n",
      "\t[0, 0, 0, 1, 2, 4, 5, 5, 8, 6]\n",
      "\n",
      "We're starting at position 9 in the list, we need to sort the value 6\n",
      "\tThe value 6 we need to sort < value 8 on left in position 8. Go left once more!\n",
      "\t\tBINGO! The value 6 we need to sort > value 5 on left in position 8. Put it in position 8!\n",
      "\tThis list is now:\n",
      "\t[0, 0, 0, 1, 2, 4, 5, 5, 6, 8]\n",
      "\n",
      "HURRAY! We're at the end of the list! Everything should be sorted!\n"
     ]
    },
    {
     "data": {
      "text/plain": [
       "[0, 0, 0, 1, 2, 4, 5, 5, 6, 8]"
      ]
     },
     "execution_count": 18,
     "metadata": {},
     "output_type": "execute_result"
    }
   ],
   "source": [
    "def insertion_sort_verbose_2(alist):\n",
    "    print(\"Before we start, the list looks like:\\n\\t{0}\\n\".format(alist))\n",
    "    \n",
    "    for index in range(1,len(alist)):\n",
    "        currentvalue = alist[index]\n",
    "        position = index\n",
    "        \n",
    "        print(\"We're starting at position {0} in the list, we need to sort the value {1}\".format(position,currentvalue))\n",
    "        \n",
    "        while position > 0 and alist[position - 1] > currentvalue:\n",
    "            alist[position] = alist[position - 1]\n",
    "            position = position - 1\n",
    "            print(\"\\tThe value {0} we need to sort < value {1} on left in position {2}. Go left once more!\".format(currentvalue,alist[position],position))\n",
    "        \n",
    "        alist[position] = currentvalue\n",
    "        \n",
    "        if position > 0:\n",
    "            print(\"\\t\\tBINGO! The value {0} we need to sort > value {1} on left in position {2}. Put it in position {2}!\".format(currentvalue,alist[position-1],position))\n",
    "            print(\"\\tThis list is now:\\n\\t{0}\\n\".format(alist))\n",
    "        else:\n",
    "            print(\"\\t\\tBINGO! The value {0} we need to sort is now the smallest sorted value. Put it in position 0!\".format(currentvalue,alist[position],position))\n",
    "            print(\"\\tThis list is now:\\n\\t{0}\\n\".format(alist))\n",
    "    \n",
    "    print(\"HURRAY! We're at the end of the list! Everything should be sorted!\")\n",
    "    \n",
    "    return alist\n",
    "\n",
    "insertion_sort_verbose_2(make_random_list(10))"
   ]
  },
  {
   "cell_type": "code",
   "execution_count": 22,
   "metadata": {
    "collapsed": false
   },
   "outputs": [
    {
     "name": "stdout",
     "output_type": "stream",
     "text": [
      "Before we start, the list looks like:\n",
      "\t[2, 6, 5, 9, 6, 7, 3, 8, 2, 1]\n",
      "\n",
      "We're starting at position 1 in the list, we need to sort the value 6\n",
      "\t\tBINGO! The value 6 we need to sort > value 2 on left in position 1. Put it in position 1!\n",
      "\tThis list is now:\n",
      "\t[2, 6, 5, 9, 6, 7, 3, 8, 2, 1]\n",
      "\n",
      "We're starting at position 2 in the list, we need to sort the value 5\n",
      "\tThe value 5 we need to sort < value 6 on left in position 1. Go left once more!\n",
      "\tThis list is now: [2, 6, 6, 9, 6, 7, 3, 8, 2, 1]\n",
      "\n",
      "\t\tBINGO! The value 5 we need to sort > value 2 on left in position 1. Put it in position 1!\n",
      "\tThis list is now:\n",
      "\t[2, 5, 6, 9, 6, 7, 3, 8, 2, 1]\n",
      "\n",
      "We're starting at position 3 in the list, we need to sort the value 9\n",
      "\t\tBINGO! The value 9 we need to sort > value 6 on left in position 3. Put it in position 3!\n",
      "\tThis list is now:\n",
      "\t[2, 5, 6, 9, 6, 7, 3, 8, 2, 1]\n",
      "\n",
      "We're starting at position 4 in the list, we need to sort the value 6\n",
      "\tThe value 6 we need to sort < value 9 on left in position 3. Go left once more!\n",
      "\tThis list is now: [2, 5, 6, 9, 9, 7, 3, 8, 2, 1]\n",
      "\n",
      "\t\tBINGO! The value 6 we need to sort > value 6 on left in position 3. Put it in position 3!\n",
      "\tThis list is now:\n",
      "\t[2, 5, 6, 6, 9, 7, 3, 8, 2, 1]\n",
      "\n",
      "We're starting at position 5 in the list, we need to sort the value 7\n",
      "\tThe value 7 we need to sort < value 9 on left in position 4. Go left once more!\n",
      "\tThis list is now: [2, 5, 6, 6, 9, 9, 3, 8, 2, 1]\n",
      "\n",
      "\t\tBINGO! The value 7 we need to sort > value 6 on left in position 4. Put it in position 4!\n",
      "\tThis list is now:\n",
      "\t[2, 5, 6, 6, 7, 9, 3, 8, 2, 1]\n",
      "\n",
      "We're starting at position 6 in the list, we need to sort the value 3\n",
      "\tThe value 3 we need to sort < value 9 on left in position 5. Go left once more!\n",
      "\tThis list is now: [2, 5, 6, 6, 7, 9, 9, 8, 2, 1]\n",
      "\n",
      "\tThe value 3 we need to sort < value 7 on left in position 4. Go left once more!\n",
      "\tThis list is now: [2, 5, 6, 6, 7, 7, 9, 8, 2, 1]\n",
      "\n",
      "\tThe value 3 we need to sort < value 6 on left in position 3. Go left once more!\n",
      "\tThis list is now: [2, 5, 6, 6, 6, 7, 9, 8, 2, 1]\n",
      "\n",
      "\tThe value 3 we need to sort < value 6 on left in position 2. Go left once more!\n",
      "\tThis list is now: [2, 5, 6, 6, 6, 7, 9, 8, 2, 1]\n",
      "\n",
      "\tThe value 3 we need to sort < value 5 on left in position 1. Go left once more!\n",
      "\tThis list is now: [2, 5, 5, 6, 6, 7, 9, 8, 2, 1]\n",
      "\n",
      "\t\tBINGO! The value 3 we need to sort > value 2 on left in position 1. Put it in position 1!\n",
      "\tThis list is now:\n",
      "\t[2, 3, 5, 6, 6, 7, 9, 8, 2, 1]\n",
      "\n",
      "We're starting at position 7 in the list, we need to sort the value 8\n",
      "\tThe value 8 we need to sort < value 9 on left in position 6. Go left once more!\n",
      "\tThis list is now: [2, 3, 5, 6, 6, 7, 9, 9, 2, 1]\n",
      "\n",
      "\t\tBINGO! The value 8 we need to sort > value 7 on left in position 6. Put it in position 6!\n",
      "\tThis list is now:\n",
      "\t[2, 3, 5, 6, 6, 7, 8, 9, 2, 1]\n",
      "\n",
      "We're starting at position 8 in the list, we need to sort the value 2\n",
      "\tThe value 2 we need to sort < value 9 on left in position 7. Go left once more!\n",
      "\tThis list is now: [2, 3, 5, 6, 6, 7, 8, 9, 9, 1]\n",
      "\n",
      "\tThe value 2 we need to sort < value 8 on left in position 6. Go left once more!\n",
      "\tThis list is now: [2, 3, 5, 6, 6, 7, 8, 8, 9, 1]\n",
      "\n",
      "\tThe value 2 we need to sort < value 7 on left in position 5. Go left once more!\n",
      "\tThis list is now: [2, 3, 5, 6, 6, 7, 7, 8, 9, 1]\n",
      "\n",
      "\tThe value 2 we need to sort < value 6 on left in position 4. Go left once more!\n",
      "\tThis list is now: [2, 3, 5, 6, 6, 6, 7, 8, 9, 1]\n",
      "\n",
      "\tThe value 2 we need to sort < value 6 on left in position 3. Go left once more!\n",
      "\tThis list is now: [2, 3, 5, 6, 6, 6, 7, 8, 9, 1]\n",
      "\n",
      "\tThe value 2 we need to sort < value 5 on left in position 2. Go left once more!\n",
      "\tThis list is now: [2, 3, 5, 5, 6, 6, 7, 8, 9, 1]\n",
      "\n",
      "\tThe value 2 we need to sort < value 3 on left in position 1. Go left once more!\n",
      "\tThis list is now: [2, 3, 3, 5, 6, 6, 7, 8, 9, 1]\n",
      "\n",
      "\t\tBINGO! The value 2 we need to sort > value 2 on left in position 1. Put it in position 1!\n",
      "\tThis list is now:\n",
      "\t[2, 2, 3, 5, 6, 6, 7, 8, 9, 1]\n",
      "\n",
      "We're starting at position 9 in the list, we need to sort the value 1\n",
      "\tThe value 1 we need to sort < value 9 on left in position 8. Go left once more!\n",
      "\tThis list is now: [2, 2, 3, 5, 6, 6, 7, 8, 9, 9]\n",
      "\n",
      "\tThe value 1 we need to sort < value 8 on left in position 7. Go left once more!\n",
      "\tThis list is now: [2, 2, 3, 5, 6, 6, 7, 8, 8, 9]\n",
      "\n",
      "\tThe value 1 we need to sort < value 7 on left in position 6. Go left once more!\n",
      "\tThis list is now: [2, 2, 3, 5, 6, 6, 7, 7, 8, 9]\n",
      "\n",
      "\tThe value 1 we need to sort < value 6 on left in position 5. Go left once more!\n",
      "\tThis list is now: [2, 2, 3, 5, 6, 6, 6, 7, 8, 9]\n",
      "\n",
      "\tThe value 1 we need to sort < value 6 on left in position 4. Go left once more!\n",
      "\tThis list is now: [2, 2, 3, 5, 6, 6, 6, 7, 8, 9]\n",
      "\n",
      "\tThe value 1 we need to sort < value 5 on left in position 3. Go left once more!\n",
      "\tThis list is now: [2, 2, 3, 5, 5, 6, 6, 7, 8, 9]\n",
      "\n",
      "\tThe value 1 we need to sort < value 3 on left in position 2. Go left once more!\n",
      "\tThis list is now: [2, 2, 3, 3, 5, 6, 6, 7, 8, 9]\n",
      "\n",
      "\tThe value 1 we need to sort < value 2 on left in position 1. Go left once more!\n",
      "\tThis list is now: [2, 2, 2, 3, 5, 6, 6, 7, 8, 9]\n",
      "\n",
      "\tThe value 1 we need to sort < value 2 on left in position 0. Go left once more!\n",
      "\tThis list is now: [2, 2, 2, 3, 5, 6, 6, 7, 8, 9]\n",
      "\n",
      "\t\tBINGO! The value 1 we need to sort is now the smallest sorted value. Put it in position 0!\n",
      "\tThis list is now:\n",
      "\t[1, 2, 2, 3, 5, 6, 6, 7, 8, 9]\n",
      "\n",
      "HURRAY! We're at the end of the list! Everything should be sorted!\n"
     ]
    },
    {
     "data": {
      "text/plain": [
       "[1, 2, 2, 3, 5, 6, 6, 7, 8, 9]"
      ]
     },
     "execution_count": 22,
     "metadata": {},
     "output_type": "execute_result"
    }
   ],
   "source": [
    "def insertion_sort_verbose_3(alist):\n",
    "    print(\"Before we start, the list looks like:\\n\\t{0}\\n\".format(alist))\n",
    "    \n",
    "    for index in range(1,len(alist)):\n",
    "        currentvalue = alist[index]\n",
    "        position = index\n",
    "        \n",
    "        print(\"We're starting at position {0} in the list, we need to sort the value {1}\".format(position,currentvalue))\n",
    "        \n",
    "        #while alist[position - 1] > currentvalue:\n",
    "        while position > 0 and alist[position - 1] > currentvalue:\n",
    "            alist[position] = alist[position - 1]\n",
    "            position = position - 1\n",
    "            print(\"\\tThe value {0} we need to sort < value {1} on left in position {2}. Go left once more!\".format(currentvalue,alist[position],position))\n",
    "            print(\"\\tThis list is now: {0}\\n\".format(alist))\n",
    "        \n",
    "        alist[position] = currentvalue\n",
    "        \n",
    "        if position > 0:\n",
    "            print(\"\\t\\tBINGO! The value {0} we need to sort > value {1} on left in position {2}. Put it in position {2}!\".format(currentvalue,alist[position-1],position))\n",
    "            print(\"\\tThis list is now:\\n\\t{0}\\n\".format(alist))\n",
    "        else:\n",
    "            print(\"\\t\\tBINGO! The value {0} we need to sort is now the smallest sorted value. Put it in position 0!\".format(currentvalue,alist[position],position))\n",
    "            print(\"\\tThis list is now:\\n\\t{0}\\n\".format(alist))\n",
    "    \n",
    "    print(\"HURRAY! We're at the end of the list! Everything should be sorted!\")\n",
    "    \n",
    "    return alist\n",
    "\n",
    "insertion_sort_verbose_3(make_random_list(10))"
   ]
  },
  {
   "cell_type": "code",
   "execution_count": 20,
   "metadata": {
    "collapsed": false
   },
   "outputs": [
    {
     "name": "stdout",
     "output_type": "stream",
     "text": [
      "Before we start, the list looks like:\n",
      "\t[1, 9, 5, 3, 0, 6, 6, 0, 6, 6]\n",
      "\n",
      "We're starting at position 1 in the list, we need to sort the value 9\n",
      "\tWe sorted value 9 into position 1: This list is now:\n",
      "\t[1, 9, 5, 3, 0, 6, 6, 0, 6, 6]\n",
      "\n",
      "We're starting at position 2 in the list, we need to sort the value 5\n",
      "\tWe sorted value 5 into position 1: This list is now:\n",
      "\t[1, 5, 9, 3, 0, 6, 6, 0, 6, 6]\n",
      "\n",
      "We're starting at position 3 in the list, we need to sort the value 3\n",
      "\tWe sorted value 3 into position 1: This list is now:\n",
      "\t[1, 3, 5, 9, 0, 6, 6, 0, 6, 6]\n",
      "\n",
      "We're starting at position 4 in the list, we need to sort the value 0\n",
      "\tWe sorted value 0 into position 0: This list is now:\n",
      "\t[0, 1, 3, 5, 9, 6, 6, 0, 6, 6]\n",
      "\n",
      "We're starting at position 5 in the list, we need to sort the value 6\n",
      "\tWe sorted value 6 into position 4: This list is now:\n",
      "\t[0, 1, 3, 5, 6, 9, 6, 0, 6, 6]\n",
      "\n",
      "We're starting at position 6 in the list, we need to sort the value 6\n",
      "\tWe sorted value 6 into position 5: This list is now:\n",
      "\t[0, 1, 3, 5, 6, 6, 9, 0, 6, 6]\n",
      "\n",
      "We're starting at position 7 in the list, we need to sort the value 0\n",
      "\tWe sorted value 0 into position 1: This list is now:\n",
      "\t[0, 0, 1, 3, 5, 6, 6, 9, 6, 6]\n",
      "\n",
      "We're starting at position 8 in the list, we need to sort the value 6\n",
      "\tWe sorted value 6 into position 7: This list is now:\n",
      "\t[0, 0, 1, 3, 5, 6, 6, 6, 9, 6]\n",
      "\n",
      "We're starting at position 9 in the list, we need to sort the value 6\n",
      "\tWe sorted value 6 into position 8: This list is now:\n",
      "\t[0, 0, 1, 3, 5, 6, 6, 6, 6, 9]\n",
      "\n",
      "HURRAY! We're at the end of the list! Everything should be sorted!\n"
     ]
    },
    {
     "data": {
      "text/plain": [
       "[0, 0, 1, 3, 5, 6, 6, 6, 6, 9]"
      ]
     },
     "execution_count": 20,
     "metadata": {},
     "output_type": "execute_result"
    }
   ],
   "source": [
    "def insertion_sort_verbose_4(alist):\n",
    "    print(\"Before we start, the list looks like:\\n\\t{0}\\n\".format(alist))\n",
    "    for index in range(1,len(alist)):\n",
    "        currentvalue = alist[index]\n",
    "        position = index\n",
    "        \n",
    "        print(\"We're starting at position {0} in the list, we need to sort the value {1}\".format(position,currentvalue))\n",
    "        \n",
    "        while position > 0 and alist[position - 1] > currentvalue:\n",
    "            alist[position] = alist[position - 1]\n",
    "            position = position - 1\n",
    "        \n",
    "        alist[position] = currentvalue\n",
    "        \n",
    "        print(\"\\tWe sorted value {0} into position {1}: This list is now:\\n\\t{2}\\n\".format(currentvalue,position, alist))\n",
    "        \n",
    "    print(\"HURRAY! We're at the end of the list! Everything should be sorted!\")\n",
    "    \n",
    "    return alist\n",
    "\n",
    "insertion_sort_verbose_4(make_random_list(10))"
   ]
  },
  {
   "cell_type": "markdown",
   "metadata": {},
   "source": [
    "## Merge sort\n",
    "\n",
    "Merge sort operates in $O(N~log~N)$, which makes it more efficient than insertion sort that operates in $O(N^2)$. It achieves this higher performance by using a divide-and-conquer approach.\n",
    "\n",
    "From [M&R's description of mergesort](http://interactivepython.org/runestone/static/pythonds/SortSearch/TheMergeSort.html):\n",
    "\n",
    "\"Merge sort is a recursive algorithm that continually splits a list in half. If the list is empty or has one item, it is sorted by definition (the base case). If the list has more than one item, we split the list and recursively invoke a merge sort on both halves. Once the two halves are sorted, the fundamental operation, called a merge, is performed. Merging is the process of taking two smaller sorted lists and combining them together into a single, sorted, new list.\"\n",
    "\n",
    "A list of values is broken down into halves recursively:\n",
    "\n",
    "![Splitting a list](http://interactivepython.org/runestone/static/pythonds/_images/mergesortA.png)\n",
    "\n",
    "The values are then recursively sorted and merged back together:\n",
    "\n",
    "![Merging sorted lists together](http://interactivepython.org/runestone/static/pythonds/_images/mergesortB.png)\n",
    "\n",
    "Here is the (long!) code adapted from M&R:"
   ]
  },
  {
   "cell_type": "code",
   "execution_count": null,
   "metadata": {
    "collapsed": false
   },
   "outputs": [],
   "source": [
    "def merge_sort(alist):\n",
    "    print(\"Before we start, the list looks like: {0}\".format(alist)) \n",
    "    if len(alist)>1:\n",
    "        mid = len(alist)//2\n",
    "        lefthalf = alist[:mid]\n",
    "        righthalf = alist[mid:]\n",
    "\n",
    "        merge_sort(lefthalf)\n",
    "        merge_sort(righthalf)\n",
    "\n",
    "        left_index = 0 # index of the \n",
    "        right_index = 0\n",
    "        list_index = 0\n",
    "        \n",
    "        while left_index < len(lefthalf) and right_index < len(righthalf):\n",
    "            if lefthalf[left_index] < righthalf[right_index]:\n",
    "                alist[list_index] = lefthalf[left_index]\n",
    "                left_index += 1\n",
    "            else:\n",
    "                alist[list_index] = righthalf[right_index]\n",
    "                right_index += 1\n",
    "            list_index += 1\n",
    "\n",
    "        while left_index < len(lefthalf):\n",
    "            alist[list_index] = lefthalf[left_index]\n",
    "            left_index += 1\n",
    "            list_index += 1\n",
    "\n",
    "        while right_index < len(righthalf):\n",
    "            alist[list_index] = righthalf[right_index]\n",
    "            right_index += 1\n",
    "            list_index += 1\n",
    "            \n",
    "        print(\"Now we've finshed, the list looks like: {0}\\n\".format(alist)) \n",
    "    return alist\n",
    "\n",
    "merge_sort(make_random_list(10))"
   ]
  },
  {
   "cell_type": "markdown",
   "metadata": {},
   "source": [
    "I don't think this is a very good explanation, so let's use Kubica's \"[Merge Sort and Lines of Kidergarteners](http://computationaltales.blogspot.com/2011/10/merge-sort-and-lines-of-kindergarteners.html)\" parable instead.\n",
    "\n",
    "Imagine a line of kids carrying numbers who are not sorted in any way:\n",
    "\n",
    "![Class before sorting](http://3.bp.blogspot.com/-RAF6QegbLDU/TpD3pIHc5yI/AAAAAAAAALw/H1WbJa8p_nQ/s1600/MergeSort1.jpg)\n",
    "\n",
    "We split the group in half (this is where we get the divide-and-conquer speed-ups!):\n",
    "\n",
    "![First split](http://3.bp.blogspot.com/-2waBa0o8tPs/TpD3uh8WYlI/AAAAAAAAAL4/O5cvaZjQm0I/s400/MergeSort2.jpg)\n",
    "\n",
    "We keep recursively splitting the groups until each group has just a single person:\n",
    "\n",
    "![Recursively split groups](http://1.bp.blogspot.com/-L9CxZm2a-DE/TpD3kHxqUSI/AAAAAAAAALo/NtYsfA-ULCc/s400/MergeSort3a.jpg)\n",
    "![Recursively split groups](http://4.bp.blogspot.com/-vSt1EXf3tA0/TpD30oM3_bI/AAAAAAAAAMA/eBtXtUxiwrA/s400/MergeSort3b.jpg)\n",
    "\n",
    "Starting with each pair of singletons, we quickly form sorted pairs:\n",
    "\n",
    "![Ordered pairs](http://2.bp.blogspot.com/-ygALZ02eNbY/TpD4kjB1mwI/AAAAAAAAAMI/YqiuyeBNijE/s400/MergeSort4.jpg)\n",
    "\n",
    "After one branch of pairs are sorted, we start to merge pairs together to form quads. We only compare the first kid in each pair, since these are ordered so the smaller of each pair must be the smallest in both pairs. This smallest number gets to go into the merged list.\n",
    "\n",
    "![Merge step 1](http://4.bp.blogspot.com/-KnfTH8xn8vQ/TpD4ynHH5yI/AAAAAAAAAMw/cTsEjbKeP8A/s400/MergeSort5a.jpg)\n",
    "\n",
    "The second smallest of the two sublists must either be the new front kid in the sublist that lost a kid or the front kid in the sublist that didn't lose a kid.\n",
    "\n",
    "![Merge step 2](http://1.bp.blogspot.com/-HvceKTldrrg/TpD4yX9xzII/AAAAAAAAAMo/I8hTRKo9RRY/s400/MergeSort5b.jpg)\n",
    "\n",
    "And so on until all the sublists are empty and the merge sort is complete.\n",
    "\n",
    "![Merge step 3](http://2.bp.blogspot.com/-GDT_Zzu1-lY/TpD4yY5GZeI/AAAAAAAAAMg/sCyOAzo4Pf4/s1600/MergeSort5c.jpg)\n",
    "\n",
    "![Merge step 4](http://3.bp.blogspot.com/-wfsu-N-yXDs/TpD4yBvkNoI/AAAAAAAAAMY/c9LkWnq2l7w/s400/MergeSort5d.jpg)\n",
    "\n",
    "![Merge step 5](http://3.bp.blogspot.com/-wfsu-N-yXDs/TpD4yBvkNoI/AAAAAAAAAMY/c9LkWnq2l7w/s400/MergeSort5e.jpg)"
   ]
  },
  {
   "cell_type": "code",
   "execution_count": null,
   "metadata": {
    "collapsed": true
   },
   "outputs": [],
   "source": []
  },
  {
   "cell_type": "code",
   "execution_count": null,
   "metadata": {
    "collapsed": false
   },
   "outputs": [],
   "source": [
    "def merge_sort_verbose_1(alist):\n",
    "    print(\"Before we start, the list looks like: {0}\".format(alist)) \n",
    "    if len(alist)>1:\n",
    "        mid = len(alist)//2\n",
    "        lefthalf = alist[:mid]\n",
    "        righthalf = alist[mid:]\n",
    "\n",
    "        merge_sort_verbose_1(lefthalf)\n",
    "        merge_sort_verbose_1(righthalf)\n",
    "\n",
    "        left_index = 0 #\n",
    "        right_index = 0\n",
    "        list_index = 0\n",
    "        \n",
    "        while left_index < len(lefthalf) and right_index < len(righthalf):\n",
    "            if lefthalf[left_index] < righthalf[right_index]:\n",
    "                alist[list_index] = lefthalf[left_index]\n",
    "                left_index += 1\n",
    "            else:\n",
    "                alist[list_index] = righthalf[right_index]\n",
    "                right_index += 1\n",
    "            list_index += 1\n",
    "\n",
    "        while left_index < len(lefthalf):\n",
    "            alist[list_index] = lefthalf[left_index]\n",
    "            left_index += 1\n",
    "            list_index += 1\n",
    "\n",
    "        while right_index < len(righthalf):\n",
    "            alist[list_index] = righthalf[right_index]\n",
    "            right_index += 1\n",
    "            list_index += 1\n",
    "            \n",
    "        print(\"Now we've finshed, the list looks like: {0}\\n\".format(alist)) \n",
    "    return alist\n",
    "\n",
    "merge_sort_verbose_1(make_random_list(10))"
   ]
  },
  {
   "cell_type": "code",
   "execution_count": null,
   "metadata": {
    "collapsed": true
   },
   "outputs": [],
   "source": []
  }
 ],
 "metadata": {
  "kernelspec": {
   "display_name": "Python [conda root]",
   "language": "python",
   "name": "conda-root-py"
  },
  "language_info": {
   "codemirror_mode": {
    "name": "ipython",
    "version": 3
   },
   "file_extension": ".py",
   "mimetype": "text/x-python",
   "name": "python",
   "nbconvert_exporter": "python",
   "pygments_lexer": "ipython3",
   "version": "3.5.2"
  }
 },
 "nbformat": 4,
 "nbformat_minor": 2
}
