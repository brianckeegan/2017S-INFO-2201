{
 "cells": [
  {
   "cell_type": "markdown",
   "metadata": {},
   "source": [
    "# Class 28 - Analyzing movie data"
   ]
  },
  {
   "cell_type": "markdown",
   "metadata": {},
   "source": [
    "The nodes in this network are movie actors derived from data published [here](http://www3.ul.ie/gd2005/dataset.html). This original graph is a [bipartite graph](https://en.wikipedia.org/wiki/Bipartite_graph) containing two kinds of nodes: movies and their actors. I've simplified this graph in several ways to make it smaller and simpler to analyze:\n",
    "\n",
    "* This is a **weighted projected graph** because links are between actors if they appeared in the same movie. No movies explicitly in this data.\n",
    "* The only actors and movies included are for movies produced since 2000\n",
    "* The actors have appeared in more than 5 movies in the dataset\n",
    "* The actors are connected only if they have been in a movie together more than once.\n",
    "\n",
    "Launch Gephi and load either `actors_gt1` or `actors_gt2` to have in the background.\n",
    "\n",
    "Load [networkx](http://networkx.readthedocs.io/en/networkx-1.11/)."
   ]
  },
  {
   "cell_type": "code",
   "execution_count": 2,
   "metadata": {
    "collapsed": true
   },
   "outputs": [],
   "source": [
    "import networkx as nx"
   ]
  },
  {
   "cell_type": "markdown",
   "metadata": {},
   "source": [
    "Read in one of the GEXF graph file."
   ]
  },
  {
   "cell_type": "code",
   "execution_count": 38,
   "metadata": {
    "collapsed": true
   },
   "outputs": [],
   "source": [
    "g = nx.read_gexf('actors_gt1.gexf')"
   ]
  },
  {
   "cell_type": "markdown",
   "metadata": {},
   "source": [
    "## Descriptive statistics\n",
    "\n",
    "Calculate the number of nodes, edges, diameter, and density of the graph."
   ]
  },
  {
   "cell_type": "code",
   "execution_count": 17,
   "metadata": {
    "collapsed": false
   },
   "outputs": [
    {
     "data": {
      "text/plain": [
       "5633"
      ]
     },
     "execution_count": 17,
     "metadata": {},
     "output_type": "execute_result"
    }
   ],
   "source": [
    "len(g)"
   ]
  },
  {
   "cell_type": "code",
   "execution_count": 18,
   "metadata": {
    "collapsed": false
   },
   "outputs": [
    {
     "data": {
      "text/plain": [
       "5633"
      ]
     },
     "execution_count": 18,
     "metadata": {},
     "output_type": "execute_result"
    }
   ],
   "source": [
    "g.number_of_nodes()"
   ]
  },
  {
   "cell_type": "code",
   "execution_count": 19,
   "metadata": {
    "collapsed": false
   },
   "outputs": [
    {
     "data": {
      "text/plain": [
       "29774"
      ]
     },
     "execution_count": 19,
     "metadata": {},
     "output_type": "execute_result"
    }
   ],
   "source": [
    "g.number_of_edges()"
   ]
  },
  {
   "cell_type": "code",
   "execution_count": 20,
   "metadata": {
    "collapsed": false
   },
   "outputs": [
    {
     "ename": "NetworkXError",
     "evalue": "Graph not connected: infinite path length",
     "output_type": "error",
     "traceback": [
      "\u001b[0;31m---------------------------------------------------------------------------\u001b[0m",
      "\u001b[0;31mNetworkXError\u001b[0m                             Traceback (most recent call last)",
      "\u001b[0;32m<ipython-input-20-2b8a3cef05a2>\u001b[0m in \u001b[0;36m<module>\u001b[0;34m()\u001b[0m\n\u001b[0;32m----> 1\u001b[0;31m \u001b[0mnx\u001b[0m\u001b[0;34m.\u001b[0m\u001b[0mdiameter\u001b[0m\u001b[0;34m(\u001b[0m\u001b[0mg\u001b[0m\u001b[0;34m)\u001b[0m\u001b[0;34m\u001b[0m\u001b[0m\n\u001b[0m",
      "\u001b[0;32m/Users/briankeegan/anaconda/lib/python3.5/site-packages/networkx/algorithms/distance_measures.py\u001b[0m in \u001b[0;36mdiameter\u001b[0;34m(G, e)\u001b[0m\n\u001b[1;32m     94\u001b[0m     \"\"\"\n\u001b[1;32m     95\u001b[0m     \u001b[0;32mif\u001b[0m \u001b[0me\u001b[0m \u001b[0;32mis\u001b[0m \u001b[0;32mNone\u001b[0m\u001b[0;34m:\u001b[0m\u001b[0;34m\u001b[0m\u001b[0m\n\u001b[0;32m---> 96\u001b[0;31m         \u001b[0me\u001b[0m\u001b[0;34m=\u001b[0m\u001b[0meccentricity\u001b[0m\u001b[0;34m(\u001b[0m\u001b[0mG\u001b[0m\u001b[0;34m)\u001b[0m\u001b[0;34m\u001b[0m\u001b[0m\n\u001b[0m\u001b[1;32m     97\u001b[0m     \u001b[0;32mreturn\u001b[0m \u001b[0mmax\u001b[0m\u001b[0;34m(\u001b[0m\u001b[0me\u001b[0m\u001b[0;34m.\u001b[0m\u001b[0mvalues\u001b[0m\u001b[0;34m(\u001b[0m\u001b[0;34m)\u001b[0m\u001b[0;34m)\u001b[0m\u001b[0;34m\u001b[0m\u001b[0m\n\u001b[1;32m     98\u001b[0m \u001b[0;34m\u001b[0m\u001b[0m\n",
      "\u001b[0;32m/Users/briankeegan/anaconda/lib/python3.5/site-packages/networkx/algorithms/distance_measures.py\u001b[0m in \u001b[0;36meccentricity\u001b[0;34m(G, v, sp)\u001b[0m\n\u001b[1;32m     61\u001b[0m         \u001b[0;32mif\u001b[0m \u001b[0mL\u001b[0m \u001b[0;34m!=\u001b[0m \u001b[0morder\u001b[0m\u001b[0;34m:\u001b[0m\u001b[0;34m\u001b[0m\u001b[0m\n\u001b[1;32m     62\u001b[0m             \u001b[0mmsg\u001b[0m \u001b[0;34m=\u001b[0m \u001b[0;34m\"Graph not connected: infinite path length\"\u001b[0m\u001b[0;34m\u001b[0m\u001b[0m\n\u001b[0;32m---> 63\u001b[0;31m             \u001b[0;32mraise\u001b[0m \u001b[0mnetworkx\u001b[0m\u001b[0;34m.\u001b[0m\u001b[0mNetworkXError\u001b[0m\u001b[0;34m(\u001b[0m\u001b[0mmsg\u001b[0m\u001b[0;34m)\u001b[0m\u001b[0;34m\u001b[0m\u001b[0m\n\u001b[0m\u001b[1;32m     64\u001b[0m \u001b[0;34m\u001b[0m\u001b[0m\n\u001b[1;32m     65\u001b[0m         \u001b[0me\u001b[0m\u001b[0;34m[\u001b[0m\u001b[0mn\u001b[0m\u001b[0;34m]\u001b[0m\u001b[0;34m=\u001b[0m\u001b[0mmax\u001b[0m\u001b[0;34m(\u001b[0m\u001b[0mlength\u001b[0m\u001b[0;34m.\u001b[0m\u001b[0mvalues\u001b[0m\u001b[0;34m(\u001b[0m\u001b[0;34m)\u001b[0m\u001b[0;34m)\u001b[0m\u001b[0;34m\u001b[0m\u001b[0m\n",
      "\u001b[0;31mNetworkXError\u001b[0m: Graph not connected: infinite path length"
     ]
    }
   ],
   "source": [
    "nx.diameter(g)"
   ]
  },
  {
   "cell_type": "code",
   "execution_count": 21,
   "metadata": {
    "collapsed": false
   },
   "outputs": [
    {
     "name": "stdout",
     "output_type": "stream",
     "text": [
      "0 3687\n",
      "1 2\n",
      "2 2\n",
      "3 33\n",
      "4 3\n",
      "5 58\n",
      "6 2\n",
      "7 2\n",
      "8 45\n",
      "9 2\n",
      "10 348\n",
      "11 128\n",
      "12 2\n",
      "13 18\n",
      "14 3\n",
      "15 12\n",
      "16 6\n",
      "17 2\n",
      "18 39\n",
      "19 7\n",
      "20 2\n",
      "21 96\n",
      "22 2\n",
      "23 12\n",
      "24 2\n",
      "25 2\n",
      "26 67\n",
      "27 5\n",
      "28 2\n",
      "29 2\n",
      "30 9\n",
      "31 2\n",
      "32 2\n",
      "33 2\n",
      "34 3\n",
      "35 2\n",
      "36 3\n",
      "37 46\n",
      "38 9\n",
      "39 19\n",
      "40 9\n",
      "41 2\n",
      "42 2\n",
      "43 5\n",
      "44 2\n",
      "45 2\n",
      "46 3\n",
      "47 6\n",
      "48 2\n",
      "49 2\n",
      "50 8\n",
      "51 2\n",
      "52 2\n",
      "53 2\n",
      "54 2\n",
      "55 2\n",
      "56 3\n",
      "57 5\n",
      "58 3\n",
      "59 3\n",
      "60 3\n",
      "61 3\n",
      "62 2\n",
      "63 12\n",
      "64 3\n",
      "65 2\n",
      "66 3\n",
      "67 3\n",
      "68 2\n",
      "69 44\n",
      "70 3\n",
      "71 2\n",
      "72 3\n",
      "73 2\n",
      "74 2\n",
      "75 2\n",
      "76 2\n",
      "77 20\n",
      "78 3\n",
      "79 2\n",
      "80 3\n",
      "81 3\n",
      "82 3\n",
      "83 3\n",
      "84 2\n",
      "85 9\n",
      "86 6\n",
      "87 2\n",
      "88 10\n",
      "89 19\n",
      "90 10\n",
      "91 2\n",
      "92 2\n",
      "93 2\n",
      "94 2\n",
      "95 2\n",
      "96 2\n",
      "97 2\n",
      "98 2\n",
      "99 4\n",
      "100 4\n",
      "101 7\n",
      "102 4\n",
      "103 4\n",
      "104 2\n",
      "105 3\n",
      "106 3\n",
      "107 2\n",
      "108 3\n",
      "109 2\n",
      "110 2\n",
      "111 2\n",
      "112 2\n",
      "113 3\n",
      "114 3\n",
      "115 2\n",
      "116 2\n",
      "117 3\n",
      "118 9\n",
      "119 2\n",
      "120 4\n",
      "121 3\n",
      "122 3\n",
      "123 6\n",
      "124 2\n",
      "125 2\n",
      "126 2\n",
      "127 3\n",
      "128 2\n",
      "129 2\n",
      "130 2\n",
      "131 2\n",
      "132 3\n",
      "133 2\n",
      "134 9\n",
      "135 4\n",
      "136 10\n",
      "137 2\n",
      "138 2\n",
      "139 2\n",
      "140 2\n",
      "141 3\n",
      "142 4\n",
      "143 2\n",
      "144 5\n",
      "145 2\n",
      "146 8\n",
      "147 3\n",
      "148 2\n",
      "149 2\n",
      "150 4\n",
      "151 3\n",
      "152 2\n",
      "153 3\n",
      "154 2\n",
      "155 2\n",
      "156 2\n",
      "157 2\n",
      "158 2\n",
      "159 2\n",
      "160 4\n",
      "161 3\n",
      "162 10\n",
      "163 4\n",
      "164 3\n",
      "165 2\n",
      "166 2\n",
      "167 4\n",
      "168 4\n",
      "169 2\n",
      "170 5\n",
      "171 3\n",
      "172 7\n",
      "173 2\n",
      "174 12\n",
      "175 6\n",
      "176 2\n",
      "177 3\n",
      "178 3\n",
      "179 2\n",
      "180 2\n",
      "181 2\n",
      "182 2\n",
      "183 6\n",
      "184 2\n",
      "185 2\n",
      "186 3\n",
      "187 2\n",
      "188 5\n",
      "189 3\n",
      "190 3\n",
      "191 2\n",
      "192 3\n",
      "193 2\n",
      "194 2\n",
      "195 3\n",
      "196 4\n",
      "197 2\n",
      "198 2\n",
      "199 2\n",
      "200 2\n",
      "201 3\n",
      "202 3\n",
      "203 8\n",
      "204 6\n",
      "205 2\n",
      "206 2\n",
      "207 2\n",
      "208 2\n",
      "209 2\n",
      "210 2\n",
      "211 2\n",
      "212 6\n",
      "213 2\n",
      "214 3\n",
      "215 2\n",
      "216 2\n",
      "217 2\n",
      "218 2\n",
      "219 2\n",
      "220 2\n",
      "221 2\n",
      "222 3\n",
      "223 2\n",
      "224 3\n",
      "225 2\n",
      "226 2\n",
      "227 2\n",
      "228 4\n",
      "229 2\n",
      "230 2\n",
      "231 2\n",
      "232 4\n",
      "233 4\n",
      "234 2\n",
      "235 3\n",
      "236 3\n",
      "237 2\n",
      "238 2\n",
      "239 5\n",
      "240 2\n",
      "241 3\n",
      "242 2\n",
      "243 3\n",
      "244 2\n",
      "245 2\n",
      "246 2\n",
      "247 4\n",
      "248 2\n",
      "249 3\n",
      "250 3\n",
      "251 2\n",
      "252 3\n",
      "253 2\n",
      "254 2\n",
      "255 2\n",
      "256 3\n",
      "257 3\n",
      "258 2\n",
      "259 2\n",
      "260 2\n",
      "261 2\n",
      "262 2\n",
      "263 3\n",
      "264 2\n",
      "265 3\n",
      "266 2\n",
      "267 2\n",
      "268 2\n",
      "269 2\n",
      "270 2\n",
      "271 2\n",
      "272 2\n",
      "273 2\n",
      "274 2\n",
      "275 2\n",
      "276 3\n",
      "277 2\n",
      "278 3\n",
      "279 3\n",
      "280 2\n",
      "281 2\n",
      "282 2\n",
      "283 2\n",
      "284 2\n",
      "285 2\n",
      "286 2\n",
      "287 2\n",
      "288 3\n",
      "289 2\n",
      "290 2\n",
      "291 2\n",
      "292 2\n",
      "293 2\n",
      "294 3\n",
      "295 2\n",
      "296 2\n",
      "297 2\n",
      "298 2\n",
      "299 2\n",
      "300 3\n",
      "301 2\n",
      "302 2\n",
      "303 2\n",
      "304 2\n",
      "305 2\n",
      "306 2\n",
      "307 2\n",
      "308 2\n",
      "309 2\n",
      "310 2\n",
      "311 2\n",
      "312 2\n",
      "313 2\n",
      "314 2\n",
      "315 4\n",
      "316 2\n",
      "317 2\n",
      "318 2\n",
      "319 2\n",
      "320 2\n",
      "321 2\n",
      "322 2\n",
      "323 3\n",
      "324 2\n",
      "325 2\n",
      "326 2\n",
      "327 2\n",
      "328 2\n",
      "329 2\n",
      "330 3\n",
      "331 2\n",
      "332 2\n",
      "333 2\n",
      "334 2\n",
      "335 2\n",
      "336 2\n",
      "337 2\n",
      "338 2\n",
      "339 2\n",
      "340 2\n",
      "341 2\n",
      "342 2\n",
      "343 2\n",
      "344 2\n",
      "345 2\n"
     ]
    }
   ],
   "source": [
    "for index,graph in enumerate(list(nx.components.connected_component_subgraphs(g))):\n",
    "    print(index,graph.number_of_nodes())"
   ]
  },
  {
   "cell_type": "code",
   "execution_count": 26,
   "metadata": {
    "collapsed": false
   },
   "outputs": [
    {
     "data": {
      "text/plain": [
       "33"
      ]
     },
     "execution_count": 26,
     "metadata": {},
     "output_type": "execute_result"
    }
   ],
   "source": [
    "lcc = list(nx.components.connected_component_subgraphs(g))[3]\n",
    "lcc.number_of_nodes()"
   ]
  },
  {
   "cell_type": "code",
   "execution_count": 27,
   "metadata": {
    "collapsed": false
   },
   "outputs": [
    {
     "data": {
      "text/plain": [
       "8"
      ]
     },
     "execution_count": 27,
     "metadata": {},
     "output_type": "execute_result"
    }
   ],
   "source": [
    "nx.diameter(lcc)"
   ]
  },
  {
   "cell_type": "code",
   "execution_count": 30,
   "metadata": {
    "collapsed": false
   },
   "outputs": [
    {
     "data": {
      "text/plain": [
       "3.570075757575758"
      ]
     },
     "execution_count": 30,
     "metadata": {},
     "output_type": "execute_result"
    }
   ],
   "source": [
    "nx.average_shortest_path_length(lcc)"
   ]
  },
  {
   "cell_type": "code",
   "execution_count": 28,
   "metadata": {
    "collapsed": true
   },
   "outputs": [],
   "source": [
    "nx.write_gexf(lcc,'lcc.gexf')"
   ]
  },
  {
   "cell_type": "code",
   "execution_count": 29,
   "metadata": {
    "collapsed": false
   },
   "outputs": [
    {
     "data": {
      "text/plain": [
       "0.0018770022029275535"
      ]
     },
     "execution_count": 29,
     "metadata": {},
     "output_type": "execute_result"
    }
   ],
   "source": [
    "nx.density(g)"
   ]
  },
  {
   "cell_type": "markdown",
   "metadata": {},
   "source": [
    "## Find the neighbors of nodes\n",
    "\n",
    "Use the `neighbors` method on the `g` object and give a node name to find all the nodes to which it's directly connected."
   ]
  },
  {
   "cell_type": "code",
   "execution_count": 34,
   "metadata": {
    "collapsed": false
   },
   "outputs": [
    {
     "data": {
      "text/plain": [
       "['Zeta-Jones, Catherine',\n",
       " 'Carrey, Jim',\n",
       " 'Jackson, Samuel L.',\n",
       " 'Jolie, Angelina',\n",
       " 'Hayek, Salma',\n",
       " 'Smith, Will (I)',\n",
       " 'Stiller, Ben',\n",
       " 'Leno, Jay',\n",
       " 'Del Toro, Benicio',\n",
       " 'Clooney, George',\n",
       " 'McConaughey, Matthew',\n",
       " 'Harden, Marcia Gay',\n",
       " 'Berry, Halle',\n",
       " 'Lane, Diane (I)',\n",
       " 'Affleck, Ben',\n",
       " 'Voight, Jon',\n",
       " 'Hopper, Dennis',\n",
       " 'Roberts, Julia',\n",
       " 'Cruise, Tom',\n",
       " 'Hudson, Kate (I)',\n",
       " 'Kidman, Nicole',\n",
       " 'Douglas, Michael (I)',\n",
       " 'Cruz, Penélope',\n",
       " 'Slater, Christian',\n",
       " 'Theron, Charlize',\n",
       " 'Diaz, Cameron',\n",
       " 'Ford, Harrison (I)',\n",
       " 'Zellweger, Renée',\n",
       " 'Travolta, John',\n",
       " 'Spacey, Kevin',\n",
       " 'Cooper, Chris (I)',\n",
       " 'Connery, Sean',\n",
       " 'Lopez, Jennifer (I)',\n",
       " 'Nicholson, Jack',\n",
       " 'Hanks, Tom',\n",
       " 'Reeves, Keanu',\n",
       " 'Bullock, Sandra',\n",
       " 'Swank, Hilary',\n",
       " 'Moore, Julianne (I)']"
      ]
     },
     "execution_count": 34,
     "metadata": {},
     "output_type": "execute_result"
    }
   ],
   "source": [
    "g.neighbors('Cage, Nicolas')"
   ]
  },
  {
   "cell_type": "markdown",
   "metadata": {},
   "source": [
    "## Find the most connected node\n",
    "\n",
    "What actor is the most important actor in the network?\n",
    "\n",
    "A few ways to measure this:\n",
    "\n",
    "* **Degree centrality**: Number of connections\n",
    "* **Betweenness centrality**: Laying along many shortest paths between nodes\n",
    "* **Closeness centrality**: Having the shortest distance to all other nodes\n",
    "* **Eigenvector centrality**: Being connected to well-connected nodes"
   ]
  },
  {
   "cell_type": "code",
   "execution_count": null,
   "metadata": {
    "collapsed": true
   },
   "outputs": [],
   "source": []
  },
  {
   "cell_type": "markdown",
   "metadata": {},
   "source": [
    "## Find the shortest path between nodes\n",
    "\n",
    "What's a path? What's a shortest path? What's the longest shortest path?"
   ]
  },
  {
   "cell_type": "code",
   "execution_count": 40,
   "metadata": {
    "collapsed": false
   },
   "outputs": [
    {
     "data": {
      "text/plain": [
       "['Daly, Tess',\n",
       " 'Webbe, Simon',\n",
       " 'Cowell, Simon',\n",
       " 'Hawk, Tony',\n",
       " 'Wingert, Wally',\n",
       " 'Erholtz, Doug']"
      ]
     },
     "execution_count": 40,
     "metadata": {},
     "output_type": "execute_result"
    }
   ],
   "source": [
    "nx.shortest_path(g,source='Daly, Tess',target='Erholtz, Doug')"
   ]
  },
  {
   "cell_type": "markdown",
   "metadata": {},
   "source": [
    "## Find brokering nodes\n",
    "\n",
    "What nodes lie along many short paths?"
   ]
  },
  {
   "cell_type": "code",
   "execution_count": null,
   "metadata": {
    "collapsed": true
   },
   "outputs": [],
   "source": []
  }
 ],
 "metadata": {
  "kernelspec": {
   "display_name": "Python [conda root]",
   "language": "python",
   "name": "conda-root-py"
  },
  "language_info": {
   "codemirror_mode": {
    "name": "ipython",
    "version": 3
   },
   "file_extension": ".py",
   "mimetype": "text/x-python",
   "name": "python",
   "nbconvert_exporter": "python",
   "pygments_lexer": "ipython3",
   "version": "3.5.2"
  }
 },
 "nbformat": 4,
 "nbformat_minor": 1
}
