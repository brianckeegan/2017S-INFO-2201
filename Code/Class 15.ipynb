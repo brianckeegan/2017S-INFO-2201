{
 "cells": [
  {
   "cell_type": "markdown",
   "metadata": {},
   "source": [
    "# Class 15: Introducing dictionaries, sets, & hashes\n",
    "\n",
    "Optional (but helpful!) background reading:\n",
    "\n",
    "* Lee & Hubbard, Ch 5: [Sets and Maps](https://learn.colorado.edu/d2l/le/content/190526/viewContent/2892655/View)\n",
    "* Lutz, Ch. 8: [Lists and Dictionaries](https://learn.colorado.edu/d2l/le/content/190526/viewContent/2892656/View)\n",
    "* Ramalho, Ch. 3: [Dictionaries and Sets](https://learn.colorado.edu/d2l/le/content/190526/viewContent/2892657/View)\n",
    "* Goodrich, Tamassia, & Goldwasser, Ch. 10: [Maps, Hash Tables, and Skip Lists](https://learn.colorado.edu/d2l/le/content/190526/viewContent/2892657/View)\n",
    "\n",
    "Other resources on the web:\n",
    "* Official Python 3.5 tutorial: [Dictionaries](https://docs.python.org/3.5/tutorial/datastructures.html#dictionaries)\n",
    "* Learn Python the Hard Way: [Exercise 39](https://learnpythonthehardway.org/book/ex39.html)\n",
    "* Knupp: [Python Dictionaries](https://jeffknupp.com/blog/2015/08/30/python-dictionaries/)\n",
    "\n",
    "## Dictionaries\n",
    "Python [implements dictionaries](https://docs.python.org/3.5/library/stdtypes.html#mapping-types-dict) (also called an *associative array* or *map* in other languages) that expresses a relationship between keys and values. Crucially, the keys in a dictionary must be unique but the values are not necessarily unique. There are several basic methods we can use on a dictionary *D*.\n",
    "\n",
    "| Operation | Complexity | Useage | Description |\n",
    "| --- | :---: | --- | --- |\n",
    "| Creation | $O(1)$ | `D = dict(iterable)` | Takes an iterable (*e.g.*, a list) and returns a dictionary |\n",
    "| Size | $O(1)$ | `len(D)` | The number of items (keys) in `D` |\n",
    "| Membership | $O(1)$ | `k in D` | Returns `True` if `k` is a key in `D` |\n",
    "| Lookup | $O(1)$ | `D[k]` | Get the value stored at key `k` in `D` |\n",
    "| Add/Mutate | $O(1)$ | `D[k]  = v` | Associate a value *v* with key `k` in `D` |\n",
    "| Delete | $O(1)$ | `del D[k]` | Remove the key `k` and its value from `D` |\n",
    "| Iterate | $O(1)$ | `iter(D)` | Generates a sequence of keys |\n",
    "| Keys | $O(1)$ | `D.keys()` | Returns a view of keys in `D` |\n",
    "| Values | $O(1)$ | `D.values()` | Returns a view of values in `D` |\n",
    "| Items | $O(1)$ | `D.items()` | Returns a view of (`k`,`v`) in `D` |\n",
    "| Clear | $O(1)$ | `D.clear()` | Removes all key/value pairs from `D` and returns empty dictionary |\n",
    "| Update | $O(N)$ | `D.update(E)` | Updates `D` with the contents of dictionary `E` |"
   ]
  },
  {
   "cell_type": "markdown",
   "metadata": {},
   "source": [
    "A basic example of a dictionary where the keys are the state abbreviations and the values are the full state names."
   ]
  },
  {
   "cell_type": "code",
   "execution_count": 54,
   "metadata": {
    "collapsed": true
   },
   "outputs": [],
   "source": [
    "state_abbrevs = {\"AL\": \"Alabama\",\n",
    " \"AK\": \"Alaska\",\n",
    " \"AZ\": \"Arizona\",\n",
    " \"AR\": \"Arkansas\",\n",
    " \"CA\": \"California\",\n",
    " \"CO\": \"Colorado\",\n",
    " \"CT\": \"Connecticut\",\n",
    " \"DE\": \"Delaware\",\n",
    " \"FL\": \"Florida\",\n",
    " \"GA\": \"Georgia\",\n",
    " \"HI\": \"Hawaii\",\n",
    " \"ID\": \"Idaho\",\n",
    " \"IL\": \"Illinois\",\n",
    " \"IN\": \"Indiana\",\n",
    " \"IA\": \"Iowa\",\n",
    " \"KS\": \"Kansas\",\n",
    " \"KY\": \"Kentucky\",\n",
    " \"LA\": \"Louisiana\",\n",
    " \"ME\": \"Maine\",\n",
    " \"MD\": \"Maryland\",\n",
    " \"MA\": \"Massachusetts\",\n",
    " \"MI\": \"Michigan\",\n",
    " \"MN\": \"Minnesota\",\n",
    " \"MS\": \"Mississippi\",\n",
    " \"MO\": \"Missouri\",\n",
    " \"MT\": \"Montana\",\n",
    " \"NE\": \"Nebraska\",\n",
    " \"NV\": \"Nevada\",\n",
    " \"NH\": \"New Hampshire\",\n",
    " \"NJ\": \"New Jersey\",\n",
    " \"NM\": \"New Mexico\",\n",
    " \"NY\": \"New York\",\n",
    " \"NC\": \"North Carolina\",\n",
    " \"ND\": \"North Dakota\",\n",
    " \"OH\": \"Ohio\",\n",
    " \"OK\": \"Oklahoma\",\n",
    " \"OR\": \"Oregon\",\n",
    " \"PA\": \"Pennsylvania\",\n",
    " \"RI\": \"Rhode Island\",\n",
    " \"SC\": \"South Carolina\",\n",
    " \"SD\": \"South Dakota\",\n",
    " \"TN\": \"Tennessee\",\n",
    " \"TX\": \"Texas\",\n",
    " \"UT\": \"Utah\",\n",
    " \"VT\": \"Vermont\",\n",
    " \"VA\": \"Virginia\",\n",
    " \"WA\": \"Washington\",\n",
    " \"WV\": \"West Virginia\",\n",
    " \"WI\": \"Wisconsin\",\n",
    " \"WY\": \"Wyoming\"}"
   ]
  },
  {
   "cell_type": "markdown",
   "metadata": {},
   "source": [
    "Another dictionary of territories abbreviations and names as key-value pairs."
   ]
  },
  {
   "cell_type": "code",
   "execution_count": 55,
   "metadata": {
    "collapsed": true
   },
   "outputs": [],
   "source": [
    "territory_abbrevs = {\"AS\": \"American Samoa\",\n",
    " \"FM\": \"Federated States Of Micronesia\",\n",
    " \"MH\": \"Marshall Islands\",\n",
    " \"MP\": \"Northern Mariana Islands\",\n",
    " \"PR\": \"Puerto Rico\",\n",
    " \"VI\": \"Virgin Islands\",\n",
    " \"PW\": \"Palau\",\n",
    " \"GU\": \"Guam\",}"
   ]
  },
  {
   "cell_type": "markdown",
   "metadata": {},
   "source": [
    "Access an element in a dictionary with the bracket notation."
   ]
  },
  {
   "cell_type": "code",
   "execution_count": 56,
   "metadata": {
    "collapsed": false
   },
   "outputs": [
    {
     "data": {
      "text/plain": [
       "'Colorado'"
      ]
     },
     "execution_count": 56,
     "metadata": {},
     "output_type": "execute_result"
    }
   ],
   "source": [
    "state_abbrevs['CO']"
   ]
  },
  {
   "cell_type": "code",
   "execution_count": 57,
   "metadata": {
    "collapsed": true
   },
   "outputs": [],
   "source": [
    "state_abbrevs['CO'] = 'Canberra'"
   ]
  },
  {
   "cell_type": "code",
   "execution_count": 58,
   "metadata": {
    "collapsed": false
   },
   "outputs": [
    {
     "data": {
      "text/plain": [
       "'Canberra'"
      ]
     },
     "execution_count": 58,
     "metadata": {},
     "output_type": "execute_result"
    }
   ],
   "source": [
    "state_abbrevs['CO']"
   ]
  },
  {
   "cell_type": "markdown",
   "metadata": {},
   "source": [
    "How many keys are there in the dictionary?"
   ]
  },
  {
   "cell_type": "code",
   "execution_count": 8,
   "metadata": {
    "collapsed": false
   },
   "outputs": [
    {
     "data": {
      "text/plain": [
       "50"
      ]
     },
     "execution_count": 8,
     "metadata": {},
     "output_type": "execute_result"
    }
   ],
   "source": [
    "len(state_abbrevs)"
   ]
  },
  {
   "cell_type": "markdown",
   "metadata": {},
   "source": [
    "Check if a key is in the dictionary."
   ]
  },
  {
   "cell_type": "code",
   "execution_count": 9,
   "metadata": {
    "collapsed": false
   },
   "outputs": [
    {
     "data": {
      "text/plain": [
       "False"
      ]
     },
     "execution_count": 9,
     "metadata": {},
     "output_type": "execute_result"
    }
   ],
   "source": [
    "'DC' in state_abbrevs"
   ]
  },
  {
   "cell_type": "markdown",
   "metadata": {},
   "source": [
    "Add a key into the dictionary."
   ]
  },
  {
   "cell_type": "code",
   "execution_count": 10,
   "metadata": {
    "collapsed": true
   },
   "outputs": [],
   "source": [
    "state_abbrevs['DC'] = \"District Of Columbia\""
   ]
  },
  {
   "cell_type": "markdown",
   "metadata": {},
   "source": [
    "Check if the key is in there now."
   ]
  },
  {
   "cell_type": "code",
   "execution_count": 11,
   "metadata": {
    "collapsed": false
   },
   "outputs": [
    {
     "data": {
      "text/plain": [
       "True"
      ]
     },
     "execution_count": 11,
     "metadata": {},
     "output_type": "execute_result"
    }
   ],
   "source": [
    "'DC' in state_abbrevs"
   ]
  },
  {
   "cell_type": "markdown",
   "metadata": {},
   "source": [
    "Check how many keys in the dictionary now."
   ]
  },
  {
   "cell_type": "code",
   "execution_count": 12,
   "metadata": {
    "collapsed": false
   },
   "outputs": [
    {
     "data": {
      "text/plain": [
       "51"
      ]
     },
     "execution_count": 12,
     "metadata": {},
     "output_type": "execute_result"
    }
   ],
   "source": [
    "len(state_abbrevs)"
   ]
  },
  {
   "cell_type": "markdown",
   "metadata": {},
   "source": [
    "Lookup only checks keys."
   ]
  },
  {
   "cell_type": "code",
   "execution_count": 13,
   "metadata": {
    "collapsed": false
   },
   "outputs": [
    {
     "data": {
      "text/plain": [
       "False"
      ]
     },
     "execution_count": 13,
     "metadata": {},
     "output_type": "execute_result"
    }
   ],
   "source": [
    "'Colorado' in state_abbrevs"
   ]
  },
  {
   "cell_type": "markdown",
   "metadata": {},
   "source": [
    "Get a set of all the keys in the dictionary. Note that these are not returned in any ordered way (alphabetical, sequence order, *etc.*)"
   ]
  },
  {
   "cell_type": "code",
   "execution_count": 20,
   "metadata": {
    "collapsed": false
   },
   "outputs": [
    {
     "data": {
      "text/plain": [
       "dict_keys(['NJ', 'WI', 'VA', 'MO', 'SD', 'OK', 'ID', 'NH', 'WA', 'MA', 'HI', 'WY', 'AZ', 'NM', 'IA', 'OH', 'MI', 'PA', 'GA', 'MT', 'VT', 'DC', 'RI', 'MS', 'MN', 'IN', 'ND', 'CO', 'SC', 'KS', 'ME', 'TX', 'TN', 'AK', 'NC', 'AR', 'DE', 'FL', 'UT', 'NV', 'CA', 'NY', 'IL', 'KY', 'OR', 'MD', 'CT', 'LA', 'WV', 'NE', 'AL'])"
      ]
     },
     "execution_count": 20,
     "metadata": {},
     "output_type": "execute_result"
    }
   ],
   "source": [
    "state_abbrevs.keys()"
   ]
  },
  {
   "cell_type": "markdown",
   "metadata": {},
   "source": [
    "Get a set of all the values in the dictionary. Note that these are not returned in an ordered way, but should be in the same order as the keys."
   ]
  },
  {
   "cell_type": "code",
   "execution_count": 21,
   "metadata": {
    "collapsed": false
   },
   "outputs": [
    {
     "data": {
      "text/plain": [
       "dict_values(['New Jersey', 'Wisconsin', 'Virginia', 'Missouri', 'South Dakota', 'Oklahoma', 'Idaho', 'New Hampshire', 'Washington', 'Massachusetts', 'Hawaii', 'Wyoming', 'Arizona', 'New Mexico', 'Iowa', 'Ohio', 'Michigan', 'Pennsylvania', 'Georgia', 'Montana', 'Vermont', 'District Of Columbia', 'Rhode Island', 'Mississippi', 'Minnesota', 'Indiana', 'North Dakota', 'Colorado', 'South Carolina', 'Kansas', 'Maine', 'Texas', 'Tennessee', 'Alaska', 'North Carolina', 'Arkansas', 'Delaware', 'Florida', 'Utah', 'Nevada', 'California', 'New York', 'Illinois', 'Kentucky', 'Oregon', 'Maryland', 'Connecticut', 'Louisiana', 'West Virginia', 'Nebraska', 'Alabama'])"
      ]
     },
     "execution_count": 21,
     "metadata": {},
     "output_type": "execute_result"
    }
   ],
   "source": [
    "state_abbrevs.values()"
   ]
  },
  {
   "cell_type": "markdown",
   "metadata": {},
   "source": [
    "If you want to access the key-value pairs to loop through, use the `items()` method."
   ]
  },
  {
   "cell_type": "code",
   "execution_count": 22,
   "metadata": {
    "collapsed": false
   },
   "outputs": [
    {
     "data": {
      "text/plain": [
       "dict_items([('NJ', 'New Jersey'), ('WI', 'Wisconsin'), ('VA', 'Virginia'), ('MO', 'Missouri'), ('SD', 'South Dakota'), ('OK', 'Oklahoma'), ('ID', 'Idaho'), ('NH', 'New Hampshire'), ('WA', 'Washington'), ('MA', 'Massachusetts'), ('HI', 'Hawaii'), ('WY', 'Wyoming'), ('AZ', 'Arizona'), ('NM', 'New Mexico'), ('IA', 'Iowa'), ('OH', 'Ohio'), ('MI', 'Michigan'), ('PA', 'Pennsylvania'), ('GA', 'Georgia'), ('MT', 'Montana'), ('VT', 'Vermont'), ('DC', 'District Of Columbia'), ('RI', 'Rhode Island'), ('MS', 'Mississippi'), ('MN', 'Minnesota'), ('IN', 'Indiana'), ('ND', 'North Dakota'), ('CO', 'Colorado'), ('SC', 'South Carolina'), ('KS', 'Kansas'), ('ME', 'Maine'), ('TX', 'Texas'), ('TN', 'Tennessee'), ('AK', 'Alaska'), ('NC', 'North Carolina'), ('AR', 'Arkansas'), ('DE', 'Delaware'), ('FL', 'Florida'), ('UT', 'Utah'), ('NV', 'Nevada'), ('CA', 'California'), ('NY', 'New York'), ('IL', 'Illinois'), ('KY', 'Kentucky'), ('OR', 'Oregon'), ('MD', 'Maryland'), ('CT', 'Connecticut'), ('LA', 'Louisiana'), ('WV', 'West Virginia'), ('NE', 'Nebraska'), ('AL', 'Alabama')])"
      ]
     },
     "execution_count": 22,
     "metadata": {},
     "output_type": "execute_result"
    }
   ],
   "source": [
    "state_abbrevs.items()"
   ]
  },
  {
   "cell_type": "markdown",
   "metadata": {},
   "source": [
    "An example of how to use the `items()` method to loop through a dictionary."
   ]
  },
  {
   "cell_type": "code",
   "execution_count": 23,
   "metadata": {
    "collapsed": false,
    "scrolled": true
   },
   "outputs": [
    {
     "name": "stdout",
     "output_type": "stream",
     "text": [
      "AZ Arizona\n",
      "AK Alaska\n",
      "AR Arkansas\n",
      "AL Alabama\n"
     ]
    }
   ],
   "source": [
    "for abbrev,name in state_abbrevs.items():\n",
    "    # Print out only the abbreviations starting with A\n",
    "    if abbrev[0] == 'A':\n",
    "        print(abbrev,name)"
   ]
  },
  {
   "cell_type": "markdown",
   "metadata": {},
   "source": [
    "You can combine two dictionaries. Note that the update doesn't return a new dictionary object, but updates the `state_abbrev` object with the new values. If there are any key collisions (two dictionaries having the same key but different values) then old key values will be overwritten."
   ]
  },
  {
   "cell_type": "code",
   "execution_count": 24,
   "metadata": {
    "collapsed": false
   },
   "outputs": [
    {
     "data": {
      "text/plain": [
       "59"
      ]
     },
     "execution_count": 24,
     "metadata": {},
     "output_type": "execute_result"
    }
   ],
   "source": [
    "state_abbrevs.update(territory_abbrevs)\n",
    "len(state_abbrevs)"
   ]
  },
  {
   "cell_type": "markdown",
   "metadata": {},
   "source": [
    "Check that the new key values are in there."
   ]
  },
  {
   "cell_type": "code",
   "execution_count": 27,
   "metadata": {
    "collapsed": false
   },
   "outputs": [
    {
     "data": {
      "text/plain": [
       "True"
      ]
     },
     "execution_count": 27,
     "metadata": {},
     "output_type": "execute_result"
    }
   ],
   "source": [
    "'PR' in state_abbrevs"
   ]
  },
  {
   "cell_type": "markdown",
   "metadata": {},
   "source": [
    "Dictionaries can be nested within each other so that a dictionary can have dictionaries as values. This is a very common and powerful data structure in many online systems."
   ]
  },
  {
   "cell_type": "code",
   "execution_count": 28,
   "metadata": {
    "collapsed": false
   },
   "outputs": [
    {
     "data": {
      "text/plain": [
       "2"
      ]
     },
     "execution_count": 28,
     "metadata": {},
     "output_type": "execute_result"
    }
   ],
   "source": [
    "dict_within_dict = {'outer0':{'inner0':1,\n",
    "                              'inner1':2},\n",
    "                    'outer1':{'inner0':1,\n",
    "                              'inner1':2}}\n",
    "len(dict_within_dict)"
   ]
  },
  {
   "cell_type": "markdown",
   "metadata": {},
   "source": [
    "Access the first key in the dictionary, and see that it returns a dictionary."
   ]
  },
  {
   "cell_type": "code",
   "execution_count": 29,
   "metadata": {
    "collapsed": false
   },
   "outputs": [
    {
     "data": {
      "text/plain": [
       "{'inner0': 1, 'inner1': 2}"
      ]
     },
     "execution_count": 29,
     "metadata": {},
     "output_type": "execute_result"
    }
   ],
   "source": [
    "dict_within_dict['outer0']"
   ]
  },
  {
   "cell_type": "markdown",
   "metadata": {},
   "source": [
    "We can chain the key accessors together to get the value hidden inside with successive bracket notation."
   ]
  },
  {
   "cell_type": "code",
   "execution_count": 30,
   "metadata": {
    "collapsed": false
   },
   "outputs": [
    {
     "data": {
      "text/plain": [
       "1"
      ]
     },
     "execution_count": 30,
     "metadata": {},
     "output_type": "execute_result"
    }
   ],
   "source": [
    "dict_within_dict['outer0']['inner0']"
   ]
  },
  {
   "cell_type": "markdown",
   "metadata": {},
   "source": [
    "### Real-world application"
   ]
  },
  {
   "cell_type": "markdown",
   "metadata": {},
   "source": [
    "Below is an example of a [tweet status](https://dev.twitter.com/overview/api/tweets) object that Twitter's [API returns](https://dev.twitter.com/rest/reference/get/statuses/show/id). This `obama_tweet` dictionary corresponds to [this tweet](https://twitter.com/BarackObama/status/831527113211645959)."
   ]
  },
  {
   "cell_type": "code",
   "execution_count": 32,
   "metadata": {
    "collapsed": false
   },
   "outputs": [],
   "source": [
    "obama_tweet = {'created_at': 'Tue Feb 14 15:34:47 +0000 2017',\n",
    "               'favorite_count': 1023379,\n",
    "               'hashtags': [],\n",
    "               'id': 831527113211645959,\n",
    "               'id_str': '831527113211645959',\n",
    "               'lang': 'en',\n",
    "               'media': [{'display_url': 'pic.twitter.com/O0UhJWoqGN',\n",
    "                          'expanded_url': 'https://twitter.com/BarackObama/status/831527113211645959/photo/1',\n",
    "                          'id': 831526916398149634,\n",
    "                          'media_url': 'http://pbs.twimg.com/media/C4otUykWcAIbSy1.jpg',\n",
    "                          'media_url_https': 'https://pbs.twimg.com/media/C4otUykWcAIbSy1.jpg',\n",
    "                          'sizes': {'large': {'h': 800, 'resize': 'fit', 'w': 1200},\n",
    "                                    'medium': {'h': 800, 'resize': 'fit', 'w': 1200},\n",
    "                                    'small': {'h': 453, 'resize': 'fit', 'w': 680},\n",
    "                                    'thumb': {'h': 150, 'resize': 'crop', 'w': 150}},\n",
    "                          'type': 'photo',\n",
    "                          'url': 'https://t.co/O0UhJWoqGN'}],\n",
    "               'retweet_count': 252266,\n",
    "               'source': '<a href=\"http://twitter.com\" rel=\"nofollow\">Twitter Web Client</a>',\n",
    "               'text': 'Happy Valentine’s Day, @michelleobama! Almost 28 years with you, but it always feels new. https://t.co/O0UhJWoqGN',\n",
    "               'urls': [],\n",
    "               'user': {'created_at': 'Mon Mar 05 22:08:25 +0000 2007',\n",
    "                        'description': 'Dad, husband, President, citizen.',\n",
    "                        'favourites_count': 10,\n",
    "                        'followers_count': 84814791,\n",
    "                        'following': True,\n",
    "                        'friends_count': 631357,\n",
    "                        'id': 813286,\n",
    "                        'lang': 'en',\n",
    "                        'listed_count': 221906,\n",
    "                        'location': 'Washington, DC',\n",
    "                        'name': 'Barack Obama',\n",
    "                        'profile_background_color': '77B0DC',\n",
    "                        'profile_background_image_url': 'http://pbs.twimg.com/profile_background_images/451819093436268544/kLbRvwBg.png',\n",
    "                        'profile_banner_url': 'https://pbs.twimg.com/profile_banners/813286/1484945688',\n",
    "                        'profile_image_url': 'http://pbs.twimg.com/profile_images/822547732376207360/5g0FC8XX_normal.jpg',\n",
    "                        'profile_link_color': '2574AD',\n",
    "                        'profile_sidebar_fill_color': 'C2E0F6',\n",
    "                        'profile_text_color': '333333',\n",
    "                        'screen_name': 'BarackObama',\n",
    "                        'statuses_count': 15436,\n",
    "                        'time_zone': 'Eastern Time (US & Canada)',\n",
    "                        'url': 'https://t.co/93Y27HEnnX',\n",
    "                        'utc_offset': -18000,\n",
    "                        'verified': True},\n",
    "               'user_mentions': [{'id': 409486555,\n",
    "                                  'name': 'Michelle Obama',\n",
    "                                  'screen_name': 'MichelleObama'}]}"
   ]
  },
  {
   "cell_type": "markdown",
   "metadata": {},
   "source": [
    "What are the keys in the first level of this dictionary?"
   ]
  },
  {
   "cell_type": "code",
   "execution_count": 33,
   "metadata": {
    "collapsed": false
   },
   "outputs": [
    {
     "data": {
      "text/plain": [
       "dict_keys(['created_at', 'media', 'user_mentions', 'hashtags', 'lang', 'id', 'user', 'source', 'id_str', 'favorite_count', 'text', 'retweet_count', 'urls'])"
      ]
     },
     "execution_count": 33,
     "metadata": {},
     "output_type": "execute_result"
    }
   ],
   "source": [
    "obama_tweet.keys()"
   ]
  },
  {
   "cell_type": "markdown",
   "metadata": {},
   "source": [
    "When was this tweet created?"
   ]
  },
  {
   "cell_type": "code",
   "execution_count": 34,
   "metadata": {
    "collapsed": false
   },
   "outputs": [
    {
     "data": {
      "text/plain": [
       "'Tue Feb 14 15:34:47 +0000 2017'"
      ]
     },
     "execution_count": 34,
     "metadata": {},
     "output_type": "execute_result"
    }
   ],
   "source": [
    "obama_tweet['created_at']"
   ]
  },
  {
   "cell_type": "markdown",
   "metadata": {},
   "source": [
    "What's the text of the tweet?"
   ]
  },
  {
   "cell_type": "code",
   "execution_count": 35,
   "metadata": {
    "collapsed": false
   },
   "outputs": [
    {
     "data": {
      "text/plain": [
       "'Happy Valentine’s Day, @michelleobama! Almost 28 years with you, but it always feels new. https://t.co/O0UhJWoqGN'"
      ]
     },
     "execution_count": 35,
     "metadata": {},
     "output_type": "execute_result"
    }
   ],
   "source": [
    "obama_tweet['text']"
   ]
  },
  {
   "cell_type": "markdown",
   "metadata": {},
   "source": [
    "Print out how many times has it been retweeted and favorited."
   ]
  },
  {
   "cell_type": "code",
   "execution_count": 36,
   "metadata": {
    "collapsed": false
   },
   "outputs": [
    {
     "name": "stdout",
     "output_type": "stream",
     "text": [
      "This tweet has been retweeted 252,266 times.\n",
      "This tweet has been favorited 1,023,379 times.\n"
     ]
    }
   ],
   "source": [
    "print('This tweet has been retweeted {0:,} times.'.format(obama_tweet['retweet_count']))\n",
    "print('This tweet has been favorited {0:,} times.'.format(obama_tweet['favorite_count']))"
   ]
  },
  {
   "cell_type": "markdown",
   "metadata": {},
   "source": [
    "Who wrote this tweet? We need to go into the dictionary within the `user` key to get the screen name."
   ]
  },
  {
   "cell_type": "code",
   "execution_count": 38,
   "metadata": {
    "collapsed": false
   },
   "outputs": [
    {
     "ename": "KeyError",
     "evalue": "'screen_name'",
     "output_type": "error",
     "traceback": [
      "\u001b[0;31m---------------------------------------------------------------------------\u001b[0m",
      "\u001b[0;31mKeyError\u001b[0m                                  Traceback (most recent call last)",
      "\u001b[0;32m<ipython-input-38-491916b00682>\u001b[0m in \u001b[0;36m<module>\u001b[0;34m()\u001b[0m\n\u001b[0;32m----> 1\u001b[0;31m \u001b[0mobama_tweet\u001b[0m\u001b[0;34m[\u001b[0m\u001b[0;34m'screen_name'\u001b[0m\u001b[0;34m]\u001b[0m\u001b[0;34m\u001b[0m\u001b[0m\n\u001b[0m",
      "\u001b[0;31mKeyError\u001b[0m: 'screen_name'"
     ]
    }
   ],
   "source": [
    "obama_tweet['screen_name']"
   ]
  },
  {
   "cell_type": "code",
   "execution_count": 39,
   "metadata": {
    "collapsed": false
   },
   "outputs": [
    {
     "data": {
      "text/plain": [
       "'BarackObama'"
      ]
     },
     "execution_count": 39,
     "metadata": {},
     "output_type": "execute_result"
    }
   ],
   "source": [
    "obama_tweet['user']['screen_name']"
   ]
  },
  {
   "cell_type": "markdown",
   "metadata": {},
   "source": [
    "Who does this tweet mention? The `user_mentions` key returns a list of dictionaries, in this case a list with only a single dictionary."
   ]
  },
  {
   "cell_type": "code",
   "execution_count": 42,
   "metadata": {
    "collapsed": false
   },
   "outputs": [
    {
     "data": {
      "text/plain": [
       "[{'id': 409486555, 'name': 'Michelle Obama', 'screen_name': 'MichelleObama'}]"
      ]
     },
     "execution_count": 42,
     "metadata": {},
     "output_type": "execute_result"
    }
   ],
   "source": [
    "obama_tweet['user_mentions']"
   ]
  },
  {
   "cell_type": "markdown",
   "metadata": {},
   "source": [
    "Only one user was mentioned, so this list only has one dictionary in it. Get the first element out of this list, then access the `screen_name` key to get the Twitter handle out."
   ]
  },
  {
   "cell_type": "code",
   "execution_count": 53,
   "metadata": {
    "collapsed": false
   },
   "outputs": [
    {
     "data": {
      "text/plain": [
       "dict_keys(['screen_name', 'id', 'name'])"
      ]
     },
     "execution_count": 53,
     "metadata": {},
     "output_type": "execute_result"
    }
   ],
   "source": [
    "obama_tweet['user_mentions'][0].keys()['screen_name']"
   ]
  },
  {
   "cell_type": "markdown",
   "metadata": {},
   "source": [
    "Pull the image link out."
   ]
  },
  {
   "cell_type": "code",
   "execution_count": 45,
   "metadata": {
    "collapsed": false
   },
   "outputs": [
    {
     "data": {
      "text/plain": [
       "'http://pbs.twimg.com/media/C4otUykWcAIbSy1.jpg'"
      ]
     },
     "execution_count": 45,
     "metadata": {},
     "output_type": "execute_result"
    }
   ],
   "source": [
    "obama_tweet['media'][0]['media_url']"
   ]
  },
  {
   "cell_type": "markdown",
   "metadata": {},
   "source": [
    "Jupyter Notebook can display this image in the notebook!"
   ]
  },
  {
   "cell_type": "code",
   "execution_count": 46,
   "metadata": {
    "collapsed": false
   },
   "outputs": [
    {
     "data": {
      "image/jpeg": "[encoded data removed]",
      "text/plain": [
       "<IPython.core.display.Image object>"
      ]
     },
     "execution_count": 46,
     "metadata": {},
     "output_type": "execute_result"
    }
   ],
   "source": [
    "from IPython.display import Image\n",
    "Image(obama_tweet['media'][0]['media_url'])"
   ]
  },
  {
   "cell_type": "markdown",
   "metadata": {},
   "source": [
    "## Sets\n",
    "\n",
    "Python [implements sets](https://docs.python.org/3.5/library/stdtypes.html#set-types-set-frozenset) that is a collection of unique (no duplicate) values. Sets can be composed of basic data types like integers and strings as well as other Python data objects like lists and dictionaries.\n",
    "\n",
    "| Operation | Complexity | Useage | Description |\n",
    "| --- | :---: | --- | --- |\n",
    "| Creation | $O(1)$ | `s = set(iterable)` | Take an iterable (e.g., a list) and returns the unique set of elements |\n",
    "| Cardinality | $O(1)$ | `len(s)` | Number of elements in `s` |\n",
    "| Add | $O(1)$ | `s.add(e)` | Adds element `e` to `s` | \n",
    "| Remove | $O(1)$ | `s.remove(e)` | Removes element `e` from `s` | \n",
    "| Clear | $O(1)$ | `s.clear()` | Remove all elements of `s` leaving an empty set | \n",
    "| Membership | $O(1)$ | `e in s` | Returns `True` if `e` is in `s` |\n",
    "| Subset | $O(N)$ | `s.issubset(t)` | Returns `True` if `s` is a subset of `t` |\n",
    "| Superset | $O(N)$ | `s.issuperset(t)` | Return `True` if `s` is a superset of `t` |\n",
    "| Union | $O(N)$ | `s.union(t)` | ![Union](https://upload.wikimedia.org/wikipedia/commons/3/30/Venn0111.svg) |\n",
    "| Intersection | $O(N)$ | `s.intersection(t)` | ![Intersection](https://upload.wikimedia.org/wikipedia/commons/9/99/Venn0001.svg) |\n",
    "| Difference | $O(N)$ | `s.difference(t)` | ![Difference](https://upload.wikimedia.org/wikipedia/commons/e/e6/Venn0100.svg) | \n",
    "| Disjoint | $O(N)$ | `s.symmetric_difference(t)` | ![Symmetric difference](https://upload.wikimedia.org/wikipedia/commons/4/46/Venn0110.svg) |\n",
    "\n",
    "\n",
    "\n",
    "\n",
    "\n",
    "\n",
    "\n"
   ]
  },
  {
   "cell_type": "markdown",
   "metadata": {},
   "source": [
    "Create some different kinds of sets to do differences."
   ]
  },
  {
   "cell_type": "code",
   "execution_count": 60,
   "metadata": {
    "collapsed": false
   },
   "outputs": [],
   "source": [
    "set0 = set(['a', 'b', 'c'])\n",
    "set1 = set(['a', 'b', 'c', 'd', 'e', 'f', 'g', 'h', 'i', 'j', 'k', 'l', 'm'])\n",
    "set2 = set(['g', 'h', 'i', 'j', 'k', 'l', 'm', 'n', 'o', 'p', 'q', 'r', 's'])\n",
    "set3 = set(['m', 'n', 'o', 'p', 'q', 'r', 's', 't', 'u', 'v', 'w', 'x', 'y', 'z'])"
   ]
  },
  {
   "cell_type": "code",
   "execution_count": 61,
   "metadata": {
    "collapsed": false
   },
   "outputs": [
    {
     "data": {
      "text/plain": [
       "{'a', 'b', 'c', 'd', 'e', 'f'}"
      ]
     },
     "execution_count": 61,
     "metadata": {},
     "output_type": "execute_result"
    }
   ],
   "source": [
    "set1.difference(set2)"
   ]
  },
  {
   "cell_type": "code",
   "execution_count": 10,
   "metadata": {
    "collapsed": false
   },
   "outputs": [
    {
     "data": {
      "text/plain": [
       "set()"
      ]
     },
     "execution_count": 10,
     "metadata": {},
     "output_type": "execute_result"
    }
   ],
   "source": [
    "set([])"
   ]
  },
  {
   "cell_type": "code",
   "execution_count": 62,
   "metadata": {
    "collapsed": false
   },
   "outputs": [
    {
     "data": {
      "text/plain": [
       "{'a', 'b', 'c', 'd', 'e', 'f'}"
      ]
     },
     "execution_count": 62,
     "metadata": {},
     "output_type": "execute_result"
    }
   ],
   "source": [
    "set1 - set2"
   ]
  },
  {
   "cell_type": "code",
   "execution_count": 63,
   "metadata": {
    "collapsed": false
   },
   "outputs": [
    {
     "data": {
      "text/plain": [
       "{'g', 'h', 'i', 'j', 'k', 'l', 'm'}"
      ]
     },
     "execution_count": 63,
     "metadata": {},
     "output_type": "execute_result"
    }
   ],
   "source": [
    "set1.intersection(set2)"
   ]
  },
  {
   "cell_type": "code",
   "execution_count": 65,
   "metadata": {
    "collapsed": false
   },
   "outputs": [
    {
     "data": {
      "text/plain": [
       "{'g', 'h', 'i', 'j', 'k', 'l', 'm'}"
      ]
     },
     "execution_count": 65,
     "metadata": {},
     "output_type": "execute_result"
    }
   ],
   "source": [
    "set1 & set2"
   ]
  },
  {
   "cell_type": "code",
   "execution_count": 66,
   "metadata": {
    "collapsed": false,
    "scrolled": true
   },
   "outputs": [
    {
     "data": {
      "text/plain": [
       "{'a',\n",
       " 'b',\n",
       " 'c',\n",
       " 'd',\n",
       " 'e',\n",
       " 'f',\n",
       " 'g',\n",
       " 'h',\n",
       " 'i',\n",
       " 'j',\n",
       " 'k',\n",
       " 'l',\n",
       " 'm',\n",
       " 'n',\n",
       " 'o',\n",
       " 'p',\n",
       " 'q',\n",
       " 'r',\n",
       " 's',\n",
       " 't',\n",
       " 'u',\n",
       " 'v',\n",
       " 'w',\n",
       " 'x',\n",
       " 'y',\n",
       " 'z'}"
      ]
     },
     "execution_count": 66,
     "metadata": {},
     "output_type": "execute_result"
    }
   ],
   "source": [
    "set1.union(set3)"
   ]
  },
  {
   "cell_type": "code",
   "execution_count": 67,
   "metadata": {
    "collapsed": false,
    "scrolled": true
   },
   "outputs": [
    {
     "data": {
      "text/plain": [
       "{'a',\n",
       " 'b',\n",
       " 'c',\n",
       " 'd',\n",
       " 'e',\n",
       " 'f',\n",
       " 'g',\n",
       " 'h',\n",
       " 'i',\n",
       " 'j',\n",
       " 'k',\n",
       " 'l',\n",
       " 'm',\n",
       " 'n',\n",
       " 'o',\n",
       " 'p',\n",
       " 'q',\n",
       " 'r',\n",
       " 's',\n",
       " 't',\n",
       " 'u',\n",
       " 'v',\n",
       " 'w',\n",
       " 'x',\n",
       " 'y',\n",
       " 'z'}"
      ]
     },
     "execution_count": 67,
     "metadata": {},
     "output_type": "execute_result"
    }
   ],
   "source": [
    "set1 | set3"
   ]
  },
  {
   "cell_type": "code",
   "execution_count": 68,
   "metadata": {
    "collapsed": false
   },
   "outputs": [
    {
     "data": {
      "text/plain": [
       "{'a', 'b', 'c', 'd', 'e', 'f', 'n', 'o', 'p', 'q', 'r', 's'}"
      ]
     },
     "execution_count": 68,
     "metadata": {},
     "output_type": "execute_result"
    }
   ],
   "source": [
    "set1.symmetric_difference(set2)"
   ]
  },
  {
   "cell_type": "code",
   "execution_count": 69,
   "metadata": {
    "collapsed": false
   },
   "outputs": [
    {
     "data": {
      "text/plain": [
       "True"
      ]
     },
     "execution_count": 69,
     "metadata": {},
     "output_type": "execute_result"
    }
   ],
   "source": [
    "set0.issubset(set1)"
   ]
  },
  {
   "cell_type": "code",
   "execution_count": 70,
   "metadata": {
    "collapsed": false
   },
   "outputs": [
    {
     "data": {
      "text/plain": [
       "False"
      ]
     },
     "execution_count": 70,
     "metadata": {},
     "output_type": "execute_result"
    }
   ],
   "source": [
    "set1.issuperset(set2)"
   ]
  },
  {
   "cell_type": "markdown",
   "metadata": {},
   "source": [
    "Sets are also able to quickly remove duplicates from a list of values. Make a list that has 100,000 \"Duplicated\" values and 900,000 \"Repeat\" values. There are 1,000,000 elements in the resulting list."
   ]
  },
  {
   "cell_type": "code",
   "execution_count": 71,
   "metadata": {
    "collapsed": false
   },
   "outputs": [
    {
     "data": {
      "text/plain": [
       "1000000"
      ]
     },
     "execution_count": 71,
     "metadata": {},
     "output_type": "execute_result"
    }
   ],
   "source": [
    "lots_of_duplicates = ['Duplicated'] * 100000 + ['Repeat'] * 900000\n",
    "len(lots_of_duplicates)"
   ]
  },
  {
   "cell_type": "markdown",
   "metadata": {},
   "source": [
    "Sure enough, there are lots of duplicated values."
   ]
  },
  {
   "cell_type": "code",
   "execution_count": 72,
   "metadata": {
    "collapsed": false
   },
   "outputs": [
    {
     "data": {
      "text/plain": [
       "['Duplicated',\n",
       " 'Duplicated',\n",
       " 'Duplicated',\n",
       " 'Duplicated',\n",
       " 'Duplicated',\n",
       " 'Duplicated',\n",
       " 'Duplicated',\n",
       " 'Duplicated',\n",
       " 'Duplicated',\n",
       " 'Duplicated']"
      ]
     },
     "execution_count": 72,
     "metadata": {},
     "output_type": "execute_result"
    }
   ],
   "source": [
    "lots_of_duplicates[:10]"
   ]
  },
  {
   "cell_type": "markdown",
   "metadata": {},
   "source": [
    "We *could* write a loop like this to get the unique values out, but we know this is a $O(N)$ operation (actually could be worse with the `if element not in unique_values` ends up getting very long.)"
   ]
  },
  {
   "cell_type": "code",
   "execution_count": 73,
   "metadata": {
    "collapsed": false
   },
   "outputs": [
    {
     "data": {
      "text/plain": [
       "['Duplicated', 'Repeat']"
      ]
     },
     "execution_count": 73,
     "metadata": {},
     "output_type": "execute_result"
    }
   ],
   "source": [
    "unique_values_list = []\n",
    "\n",
    "for element in lots_of_duplicates:\n",
    "    if element not in unique_values_list:\n",
    "        unique_values_list.append(element)\n",
    "        \n",
    "unique_values_list"
   ]
  },
  {
   "cell_type": "markdown",
   "metadata": {},
   "source": [
    "Alternatively, we can use a set construction to return the list of unique items quickly. We'll talk on Wednesday about hashing and why this set construction is so efficient compared to doing the list looping and checking."
   ]
  },
  {
   "cell_type": "code",
   "execution_count": 74,
   "metadata": {
    "collapsed": false
   },
   "outputs": [
    {
     "data": {
      "text/plain": [
       "{'Duplicated', 'Repeat'}"
      ]
     },
     "execution_count": 74,
     "metadata": {},
     "output_type": "execute_result"
    }
   ],
   "source": [
    "unique_values_set = set(lots_of_duplicates)\n",
    "unique_values_set"
   ]
  },
  {
   "cell_type": "markdown",
   "metadata": {},
   "source": [
    "## Getting data from the web "
   ]
  },
  {
   "cell_type": "code",
   "execution_count": 101,
   "metadata": {
    "collapsed": false
   },
   "outputs": [],
   "source": [
    "import requests\n",
    "import pandas as pd"
   ]
  },
  {
   "cell_type": "markdown",
   "metadata": {},
   "source": [
    "### Wikipedia example"
   ]
  },
  {
   "cell_type": "code",
   "execution_count": 105,
   "metadata": {
    "collapsed": false
   },
   "outputs": [
    {
     "data": {
      "text/plain": [
       "{'continue': {'continue': '||', 'rvcontinue': '20130313092127|543802941'},\n",
       " 'query': {'pages': [{'ns': 0,\n",
       "    'pageid': 12533291,\n",
       "    'revisions': [{'content': \"<!-- This article was auto-generated by [[User:Polbot]]. -->\\n{{Taxobox\\n| name = Therese's shrew\\n| image = \\n| status = LC | status_system = IUCN3.1\\n| regnum = [[Animalia]]\\n| phylum = [[Chordata]]\\n| classis = [[Mammalia]]\\n| ordo = [[Eulipotyphla]]\\n| familia = [[Soricidae]]\\n| genus = ''[[Crocidura]]''\\n| species = '''''C. theresae'''''\\n| binomial = ''Crocidura theresae''\\n| binomial_authority = Heim de Balsac, 1968\\n| synonyms = \\n| range_map = Therese's Shrew area.png\\n| range_map_caption = Therese's shrew range\\n}}\\n'''Therese's shrew''' (''Crocidura theresae'') is a species of [[mammal]] in the family [[Soricidae]]. It is found in [[Ivory Coast]], [[Ghana]], [[Guinea]], [[Liberia]], and [[Sierra Leone]]. Its natural [[habitat]]s are subtropical or tropical moist lowland [[forest]]s and moist [[savanna]].\\n\\n==References==\\n* Hutterer, R. 2004.  [http://www.iucnredlist.org/search/details.php/41362/all Crocidura theresae].   [http://www.iucnredlist.org 2006 IUCN Red List of Threatened Species. ]  Downloaded on 30 July 2007.\\n{{Soricomorpha|C1.}}\\n\\n[[Category:Crocidura]]\\n[[Category:Animals described in 1968]]\\n\\n\\n{{whitetoothed-shrew-stub}}\",\n",
       "      'contentformat': 'text/x-wiki',\n",
       "      'contentmodel': 'wikitext',\n",
       "      'parentid': 697337596,\n",
       "      'revid': 755136585,\n",
       "      'sha1': 'b5e87d5bb21988b464e90460cb7f64191bfa78f8',\n",
       "      'size': 1141,\n",
       "      'timestamp': '2016-12-16T12:35:58Z',\n",
       "      'user': 'William Avery'},\n",
       "     {'content': \"<!-- This article was auto-generated by [[User:Polbot]]. -->\\n{{Taxobox\\n| name = Therese's shrew\\n| image = \\n| status = LC | status_system = IUCN3.1\\n| regnum = [[Animalia]]\\n| phylum = [[Chordata]]\\n| classis = [[Mammalia]]\\n| ordo = [[Eulipotyphla]]\\n| familia = [[Soricidae]]\\n| genus = ''[[Crocidura]]''\\n| species = '''''C. theresae'''''\\n| binomial = ''Crocidura theresae''\\n| binomial_authority = Heim de Balsac, 1968\\n| synonyms = \\n| range_map = Therese's Shrew area.png\\n| range_map_caption = Therese's shrew range\\n}}\\n'''Therese's shrew''' (''Crocidura theresae'') is a species of [[mammal]] in the family [[Soricidae]]. It is found in [[Ivory Coast]], [[Ghana]], [[Guinea]], [[Liberia]], and [[Sierra Leone]]. Its natural [[habitat]]s are subtropical or tropical moist lowland [[forest]]s and moist [[savanna]].\\n\\n==References==\\n* Hutterer, R. 2004.  [http://www.iucnredlist.org/search/details.php/41362/all Crocidura theresae].   [http://www.iucnredlist.org 2006 IUCN Red List of Threatened Species. ]  Downloaded on 30 July 2007.\\n{{Soricomorpha|C1.}}\\n\\n[[Category:Crocidura]]\\n\\n\\n{{whitetoothed-shrew-stub}}\",\n",
       "      'contentformat': 'text/x-wiki',\n",
       "      'contentmodel': 'wikitext',\n",
       "      'parentid': 691963899,\n",
       "      'revid': 697337596,\n",
       "      'sha1': '706908a152a80ec6e73a3fb274bea160445e8d5d',\n",
       "      'size': 1102,\n",
       "      'timestamp': '2015-12-29T21:22:02Z',\n",
       "      'user': 'William Avery'},\n",
       "     {'content': \"<!-- This article was auto-generated by [[User:Polbot]]. -->\\n{{Taxobox\\n| name = Therese's shrew\\n| image = \\n| status = LC | status_system = IUCN3.1\\n| regnum = [[Animalia]]\\n| phylum = [[Chordata]]\\n| classis = [[Mammalia]]\\n| ordo = [[Eulipotyphla]]\\n| familia = [[Soricidae]]\\n| genus = ''[[Crocidura]]''\\n| species = '''''C. theresae'''''\\n| binomial = ''Crocidura theresae''\\n| binomial_authority = Heim de Balsac, 1968\\n| synonyms = \\n| range_map = Therese's Shrew area.png\\n| range_map_caption = Therese's shrew range\\n}}\\n'''Therese's shrew''' ('''''Crocidura theresae''''') is a species of [[mammal]] in the family [[Soricidae]]. It is found in [[Ivory Coast]], [[Ghana]], [[Guinea]], [[Liberia]], and [[Sierra Leone]]. Its natural [[habitat]]s are subtropical or tropical moist lowland [[forest]]s and moist [[savanna]].\\n\\n==References==\\n* Hutterer, R. 2004.  [http://www.iucnredlist.org/search/details.php/41362/all Crocidura theresae].   [http://www.iucnredlist.org 2006 IUCN Red List of Threatened Species. ]  Downloaded on 30 July 2007.\\n{{Soricomorpha|C1.}}\\n\\n[[Category:Crocidura]]\\n\\n\\n{{whitetoothed-shrew-stub}}\",\n",
       "      'contentformat': 'text/x-wiki',\n",
       "      'contentmodel': 'wikitext',\n",
       "      'parentid': 549997361,\n",
       "      'revid': 691963899,\n",
       "      'sha1': '1c11c3a0c1b6d08ac24eca7f1268533a1a37a6ad',\n",
       "      'size': 1108,\n",
       "      'timestamp': '2015-11-23T08:50:14Z',\n",
       "      'user': 'WolfmanSF'},\n",
       "     {'content': \"<!-- This article was auto-generated by [[User:Polbot]]. -->\\n{{Taxobox\\n| name = Therese's shrew\\n| image = \\n| status = LC | status_system = IUCN3.1\\n| regnum = [[Animalia]]\\n| phylum = [[Chordata]]\\n| classis = [[Mammalia]]\\n| ordo = [[Soricomorpha]]\\n| familia = [[Soricidae]]\\n| genus = ''[[Crocidura]]''\\n| species = '''''C. theresae'''''\\n| binomial = ''Crocidura theresae''\\n| binomial_authority = Heim de Balsac, 1968\\n| synonyms = \\n| range_map = Therese's Shrew area.png\\n| range_map_caption = Therese's shrew range\\n}}\\n'''Therese's shrew''' ('''''Crocidura theresae''''') is a species of [[mammal]] in the [[Soricidae]] family. It is found in [[Ivory Coast]], [[Ghana]], [[Guinea]], [[Liberia]], and [[Sierra Leone]]. Its natural [[habitat]]s are subtropical or tropical moist lowland [[forest]]s and moist [[savanna]]. \\n\\n==References==\\n* Hutterer, R. 2004.  [http://www.iucnredlist.org/search/details.php/41362/all Crocidura theresae].   [http://www.iucnredlist.org 2006 IUCN Red List of Threatened Species. ]  Downloaded on 30 July 2007.\\n{{Soricomorpha|C1.}}\\n[[Category:Crocidura]]\\n\\n{{whitetoothed-shrew-stub}}\",\n",
       "      'contentformat': 'text/x-wiki',\n",
       "      'contentmodel': 'wikitext',\n",
       "      'parentid': 543803179,\n",
       "      'revid': 549997361,\n",
       "      'sha1': '9b263aee71137d8736e4ed91981902b9a9b19220',\n",
       "      'size': 1107,\n",
       "      'timestamp': '2013-04-12T13:15:57Z',\n",
       "      'user': 'EmausBot'},\n",
       "     {'content': \"<!-- This article was auto-generated by [[User:Polbot]]. -->\\n{{Taxobox\\n| name = Therese's shrew\\n| image = \\n| status = LC | status_system = IUCN3.1\\n| regnum = [[Animalia]]\\n| phylum = [[Chordata]]\\n| classis = [[Mammalia]]\\n| ordo = [[Soricomorpha]]\\n| familia = [[Soricidae]]\\n| genus = ''[[Crocidura]]''\\n| species = '''''C. theresae'''''\\n| binomial = ''Crocidura theresae''\\n| binomial_authority = Heim de Balsac, 1968\\n| synonyms = \\n| range_map = Therese's Shrew area.png\\n| range_map_caption = Therese's shrew range\\n}}\\n'''Therese's shrew''' ('''''Crocidura theresae''''') is a species of [[mammal]] in the [[Soricidae]] family. It is found in [[Ivory Coast]], [[Ghana]], [[Guinea]], [[Liberia]], and [[Sierra Leone]]. Its natural [[habitat]]s are subtropical or tropical moist lowland [[forest]]s and moist [[savanna]]. \\n\\n==References==\\n* Hutterer, R. 2004.  [http://www.iucnredlist.org/search/details.php/41362/all Crocidura theresae].   [http://www.iucnredlist.org 2006 IUCN Red List of Threatened Species. ]  Downloaded on 30 July 2007.\\n{{Soricomorpha|C1.}}\\n[[Category:Crocidura]]\\n\\n{{whitetoothed-shrew-stub}}\\n\\n[[vi:Crocidura theresae]]\",\n",
       "      'contentformat': 'text/x-wiki',\n",
       "      'contentmodel': 'wikitext',\n",
       "      'parentid': 543802941,\n",
       "      'revid': 543803179,\n",
       "      'sha1': '2488b25bfdfedc1b16c78567e8406b5a19f3dfed',\n",
       "      'size': 1134,\n",
       "      'timestamp': '2013-03-13T09:23:35Z',\n",
       "      'user': 'Jackhynes'}],\n",
       "    'title': \"Therese's shrew\"}]}}"
      ]
     },
     "execution_count": 105,
     "metadata": {},
     "output_type": "execute_result"
    }
   ],
   "source": [
    "request = {}\n",
    "request['action'] = 'query'\n",
    "request['format'] = 'json'\n",
    "request['prop'] = 'revisions'\n",
    "request['titles'] = \"Therese's shrew\"\n",
    "request['rvlimit'] = 5\n",
    "request['formatversion'] = 2\n",
    "request['rvprop'] = '|'.join(['user','timestamp','ids','size','sha1','content'])\n",
    "\n",
    "result = requests.get('http://en.wikipedia.org/w/api.php', params=request).json()\n",
    "result"
   ]
  },
  {
   "cell_type": "code",
   "execution_count": 102,
   "metadata": {
    "collapsed": false
   },
   "outputs": [
    {
     "data": {
      "text/html": [
       "<div>\n",
       "<table border=\"1\" class=\"dataframe\">\n",
       "  <thead>\n",
       "    <tr style=\"text-align: right;\">\n",
       "      <th></th>\n",
       "      <th>anon</th>\n",
       "      <th>size</th>\n",
       "      <th>timestamp</th>\n",
       "      <th>user</th>\n",
       "    </tr>\n",
       "  </thead>\n",
       "  <tbody>\n",
       "    <tr>\n",
       "      <th>0</th>\n",
       "      <td>NaN</td>\n",
       "      <td>63640</td>\n",
       "      <td>2017-02-15T19:41:38Z</td>\n",
       "      <td>CityOfSilver</td>\n",
       "    </tr>\n",
       "    <tr>\n",
       "      <th>1</th>\n",
       "      <td>NaN</td>\n",
       "      <td>63643</td>\n",
       "      <td>2017-02-15T19:40:32Z</td>\n",
       "      <td>TAM Boulder</td>\n",
       "    </tr>\n",
       "    <tr>\n",
       "      <th>2</th>\n",
       "      <td>NaN</td>\n",
       "      <td>63640</td>\n",
       "      <td>2017-02-14T17:37:30Z</td>\n",
       "      <td>Jeff.zehnder</td>\n",
       "    </tr>\n",
       "    <tr>\n",
       "      <th>3</th>\n",
       "      <td>NaN</td>\n",
       "      <td>63602</td>\n",
       "      <td>2017-02-14T17:35:54Z</td>\n",
       "      <td>Jeff.zehnder</td>\n",
       "    </tr>\n",
       "    <tr>\n",
       "      <th>4</th>\n",
       "      <td>NaN</td>\n",
       "      <td>63507</td>\n",
       "      <td>2017-02-14T17:34:12Z</td>\n",
       "      <td>Jeff.zehnder</td>\n",
       "    </tr>\n",
       "    <tr>\n",
       "      <th>5</th>\n",
       "      <td>NaN</td>\n",
       "      <td>63034</td>\n",
       "      <td>2017-02-14T17:22:45Z</td>\n",
       "      <td>Jeff.zehnder</td>\n",
       "    </tr>\n",
       "    <tr>\n",
       "      <th>6</th>\n",
       "      <td>NaN</td>\n",
       "      <td>63072</td>\n",
       "      <td>2017-02-08T05:14:34Z</td>\n",
       "      <td>Madcoverboy</td>\n",
       "    </tr>\n",
       "    <tr>\n",
       "      <th>7</th>\n",
       "      <td>True</td>\n",
       "      <td>63103</td>\n",
       "      <td>2017-02-07T01:58:06Z</td>\n",
       "      <td>128.84.124.252</td>\n",
       "    </tr>\n",
       "    <tr>\n",
       "      <th>8</th>\n",
       "      <td>NaN</td>\n",
       "      <td>63098</td>\n",
       "      <td>2017-02-06T19:58:27Z</td>\n",
       "      <td>Corkythehornetfan</td>\n",
       "    </tr>\n",
       "    <tr>\n",
       "      <th>9</th>\n",
       "      <td>NaN</td>\n",
       "      <td>63169</td>\n",
       "      <td>2017-02-04T03:22:54Z</td>\n",
       "      <td>Contributor321</td>\n",
       "    </tr>\n",
       "    <tr>\n",
       "      <th>10</th>\n",
       "      <td>NaN</td>\n",
       "      <td>63174</td>\n",
       "      <td>2017-02-01T23:52:35Z</td>\n",
       "      <td>Tim bates</td>\n",
       "    </tr>\n",
       "    <tr>\n",
       "      <th>11</th>\n",
       "      <td>NaN</td>\n",
       "      <td>63151</td>\n",
       "      <td>2017-01-18T20:05:55Z</td>\n",
       "      <td>Rogermx</td>\n",
       "    </tr>\n",
       "    <tr>\n",
       "      <th>12</th>\n",
       "      <td>NaN</td>\n",
       "      <td>63020</td>\n",
       "      <td>2016-12-31T09:19:20Z</td>\n",
       "      <td>Charlesaaronthompson</td>\n",
       "    </tr>\n",
       "    <tr>\n",
       "      <th>13</th>\n",
       "      <td>NaN</td>\n",
       "      <td>63020</td>\n",
       "      <td>2016-12-31T06:55:28Z</td>\n",
       "      <td>Charlesaaronthompson</td>\n",
       "    </tr>\n",
       "    <tr>\n",
       "      <th>14</th>\n",
       "      <td>NaN</td>\n",
       "      <td>63020</td>\n",
       "      <td>2016-12-31T06:54:30Z</td>\n",
       "      <td>Charlesaaronthompson</td>\n",
       "    </tr>\n",
       "    <tr>\n",
       "      <th>15</th>\n",
       "      <td>True</td>\n",
       "      <td>63034</td>\n",
       "      <td>2016-12-24T06:18:52Z</td>\n",
       "      <td>2605:E000:8A4E:5000:D9F6:6234:B70B:68B</td>\n",
       "    </tr>\n",
       "    <tr>\n",
       "      <th>16</th>\n",
       "      <td>NaN</td>\n",
       "      <td>62972</td>\n",
       "      <td>2016-12-16T23:28:28Z</td>\n",
       "      <td>Cydebot</td>\n",
       "    </tr>\n",
       "    <tr>\n",
       "      <th>17</th>\n",
       "      <td>True</td>\n",
       "      <td>62972</td>\n",
       "      <td>2016-12-14T20:11:37Z</td>\n",
       "      <td>134.10.79.138</td>\n",
       "    </tr>\n",
       "    <tr>\n",
       "      <th>18</th>\n",
       "      <td>True</td>\n",
       "      <td>62972</td>\n",
       "      <td>2016-12-14T20:09:49Z</td>\n",
       "      <td>134.10.79.138</td>\n",
       "    </tr>\n",
       "    <tr>\n",
       "      <th>19</th>\n",
       "      <td>NaN</td>\n",
       "      <td>62972</td>\n",
       "      <td>2016-12-11T05:52:03Z</td>\n",
       "      <td>RaphaelQS</td>\n",
       "    </tr>\n",
       "    <tr>\n",
       "      <th>20</th>\n",
       "      <td>NaN</td>\n",
       "      <td>62972</td>\n",
       "      <td>2016-12-07T16:33:04Z</td>\n",
       "      <td>Corkythehornetfan</td>\n",
       "    </tr>\n",
       "    <tr>\n",
       "      <th>21</th>\n",
       "      <td>NaN</td>\n",
       "      <td>62952</td>\n",
       "      <td>2016-12-04T18:47:49Z</td>\n",
       "      <td>Corkythehornetfan</td>\n",
       "    </tr>\n",
       "    <tr>\n",
       "      <th>22</th>\n",
       "      <td>True</td>\n",
       "      <td>62954</td>\n",
       "      <td>2016-11-11T12:39:16Z</td>\n",
       "      <td>172.56.32.185</td>\n",
       "    </tr>\n",
       "    <tr>\n",
       "      <th>23</th>\n",
       "      <td>NaN</td>\n",
       "      <td>63012</td>\n",
       "      <td>2016-11-05T14:51:31Z</td>\n",
       "      <td>Krueger.joey</td>\n",
       "    </tr>\n",
       "    <tr>\n",
       "      <th>24</th>\n",
       "      <td>True</td>\n",
       "      <td>63009</td>\n",
       "      <td>2016-11-04T20:21:40Z</td>\n",
       "      <td>50.247.224.29</td>\n",
       "    </tr>\n",
       "    <tr>\n",
       "      <th>25</th>\n",
       "      <td>NaN</td>\n",
       "      <td>63009</td>\n",
       "      <td>2016-10-29T00:32:50Z</td>\n",
       "      <td>Contributor321</td>\n",
       "    </tr>\n",
       "    <tr>\n",
       "      <th>26</th>\n",
       "      <td>True</td>\n",
       "      <td>63000</td>\n",
       "      <td>2016-10-28T23:23:42Z</td>\n",
       "      <td>2600:100E:B015:D405:10D4:7AE2:CEA3:3AFB</td>\n",
       "    </tr>\n",
       "    <tr>\n",
       "      <th>27</th>\n",
       "      <td>NaN</td>\n",
       "      <td>63000</td>\n",
       "      <td>2016-10-13T03:18:59Z</td>\n",
       "      <td>Murph9000</td>\n",
       "    </tr>\n",
       "    <tr>\n",
       "      <th>28</th>\n",
       "      <td>NaN</td>\n",
       "      <td>63158</td>\n",
       "      <td>2016-10-13T03:17:48Z</td>\n",
       "      <td>FluffyNuggetts69</td>\n",
       "    </tr>\n",
       "    <tr>\n",
       "      <th>29</th>\n",
       "      <td>NaN</td>\n",
       "      <td>63000</td>\n",
       "      <td>2016-10-03T06:03:21Z</td>\n",
       "      <td>Madcoverboy</td>\n",
       "    </tr>\n",
       "    <tr>\n",
       "      <th>...</th>\n",
       "      <td>...</td>\n",
       "      <td>...</td>\n",
       "      <td>...</td>\n",
       "      <td>...</td>\n",
       "    </tr>\n",
       "    <tr>\n",
       "      <th>470</th>\n",
       "      <td>NaN</td>\n",
       "      <td>56785</td>\n",
       "      <td>2012-07-25T13:53:08Z</td>\n",
       "      <td>Johnluisocasio</td>\n",
       "    </tr>\n",
       "    <tr>\n",
       "      <th>471</th>\n",
       "      <td>NaN</td>\n",
       "      <td>56782</td>\n",
       "      <td>2012-07-13T04:09:09Z</td>\n",
       "      <td>CW221</td>\n",
       "    </tr>\n",
       "    <tr>\n",
       "      <th>472</th>\n",
       "      <td>NaN</td>\n",
       "      <td>56782</td>\n",
       "      <td>2012-07-08T00:19:05Z</td>\n",
       "      <td>FrescoBot</td>\n",
       "    </tr>\n",
       "    <tr>\n",
       "      <th>473</th>\n",
       "      <td>NaN</td>\n",
       "      <td>56781</td>\n",
       "      <td>2012-06-30T04:46:38Z</td>\n",
       "      <td>Enderandpeter</td>\n",
       "    </tr>\n",
       "    <tr>\n",
       "      <th>474</th>\n",
       "      <td>NaN</td>\n",
       "      <td>56732</td>\n",
       "      <td>2012-06-25T22:47:37Z</td>\n",
       "      <td>ElKevbo</td>\n",
       "    </tr>\n",
       "    <tr>\n",
       "      <th>475</th>\n",
       "      <td>True</td>\n",
       "      <td>56750</td>\n",
       "      <td>2012-06-25T22:42:58Z</td>\n",
       "      <td>63.253.110.42</td>\n",
       "    </tr>\n",
       "    <tr>\n",
       "      <th>476</th>\n",
       "      <td>True</td>\n",
       "      <td>56732</td>\n",
       "      <td>2012-06-13T22:44:08Z</td>\n",
       "      <td>173.14.12.233</td>\n",
       "    </tr>\n",
       "    <tr>\n",
       "      <th>477</th>\n",
       "      <td>True</td>\n",
       "      <td>56732</td>\n",
       "      <td>2012-06-07T16:29:27Z</td>\n",
       "      <td>208.125.96.138</td>\n",
       "    </tr>\n",
       "    <tr>\n",
       "      <th>478</th>\n",
       "      <td>True</td>\n",
       "      <td>56743</td>\n",
       "      <td>2012-06-07T16:28:34Z</td>\n",
       "      <td>208.125.96.138</td>\n",
       "    </tr>\n",
       "    <tr>\n",
       "      <th>479</th>\n",
       "      <td>NaN</td>\n",
       "      <td>56720</td>\n",
       "      <td>2012-06-03T18:20:01Z</td>\n",
       "      <td>89spaceman</td>\n",
       "    </tr>\n",
       "    <tr>\n",
       "      <th>480</th>\n",
       "      <td>NaN</td>\n",
       "      <td>56565</td>\n",
       "      <td>2012-05-28T06:24:03Z</td>\n",
       "      <td>89spaceman</td>\n",
       "    </tr>\n",
       "    <tr>\n",
       "      <th>481</th>\n",
       "      <td>NaN</td>\n",
       "      <td>56564</td>\n",
       "      <td>2012-05-28T06:23:19Z</td>\n",
       "      <td>89spaceman</td>\n",
       "    </tr>\n",
       "    <tr>\n",
       "      <th>482</th>\n",
       "      <td>NaN</td>\n",
       "      <td>56964</td>\n",
       "      <td>2012-05-27T12:50:56Z</td>\n",
       "      <td>C.Fred</td>\n",
       "    </tr>\n",
       "    <tr>\n",
       "      <th>483</th>\n",
       "      <td>True</td>\n",
       "      <td>57048</td>\n",
       "      <td>2012-05-27T12:29:09Z</td>\n",
       "      <td>41.92.113.9</td>\n",
       "    </tr>\n",
       "    <tr>\n",
       "      <th>484</th>\n",
       "      <td>True</td>\n",
       "      <td>56964</td>\n",
       "      <td>2012-05-27T09:33:53Z</td>\n",
       "      <td>134.71.161.198</td>\n",
       "    </tr>\n",
       "    <tr>\n",
       "      <th>485</th>\n",
       "      <td>NaN</td>\n",
       "      <td>56983</td>\n",
       "      <td>2012-05-04T00:34:30Z</td>\n",
       "      <td>Tyros1972</td>\n",
       "    </tr>\n",
       "    <tr>\n",
       "      <th>486</th>\n",
       "      <td>True</td>\n",
       "      <td>56977</td>\n",
       "      <td>2012-05-03T23:19:26Z</td>\n",
       "      <td>85.53.185.134</td>\n",
       "    </tr>\n",
       "    <tr>\n",
       "      <th>487</th>\n",
       "      <td>NaN</td>\n",
       "      <td>56983</td>\n",
       "      <td>2012-04-29T20:45:52Z</td>\n",
       "      <td>Discospinster</td>\n",
       "    </tr>\n",
       "    <tr>\n",
       "      <th>488</th>\n",
       "      <td>True</td>\n",
       "      <td>57000</td>\n",
       "      <td>2012-04-29T20:45:38Z</td>\n",
       "      <td>174.29.185.32</td>\n",
       "    </tr>\n",
       "    <tr>\n",
       "      <th>489</th>\n",
       "      <td>NaN</td>\n",
       "      <td>56983</td>\n",
       "      <td>2012-04-29T20:44:49Z</td>\n",
       "      <td>ClueBot NG</td>\n",
       "    </tr>\n",
       "    <tr>\n",
       "      <th>490</th>\n",
       "      <td>True</td>\n",
       "      <td>57000</td>\n",
       "      <td>2012-04-29T20:44:31Z</td>\n",
       "      <td>174.29.185.32</td>\n",
       "    </tr>\n",
       "    <tr>\n",
       "      <th>491</th>\n",
       "      <td>NaN</td>\n",
       "      <td>56983</td>\n",
       "      <td>2012-04-27T11:05:54Z</td>\n",
       "      <td>Coffeepusher</td>\n",
       "    </tr>\n",
       "    <tr>\n",
       "      <th>492</th>\n",
       "      <td>True</td>\n",
       "      <td>56972</td>\n",
       "      <td>2012-04-27T04:57:32Z</td>\n",
       "      <td>71.218.240.223</td>\n",
       "    </tr>\n",
       "    <tr>\n",
       "      <th>493</th>\n",
       "      <td>NaN</td>\n",
       "      <td>56983</td>\n",
       "      <td>2012-04-26T19:23:02Z</td>\n",
       "      <td>Uhai</td>\n",
       "    </tr>\n",
       "    <tr>\n",
       "      <th>494</th>\n",
       "      <td>True</td>\n",
       "      <td>57074</td>\n",
       "      <td>2012-04-26T17:25:07Z</td>\n",
       "      <td>129.82.74.247</td>\n",
       "    </tr>\n",
       "    <tr>\n",
       "      <th>495</th>\n",
       "      <td>True</td>\n",
       "      <td>56983</td>\n",
       "      <td>2012-04-26T02:18:13Z</td>\n",
       "      <td>203.134.137.66</td>\n",
       "    </tr>\n",
       "    <tr>\n",
       "      <th>496</th>\n",
       "      <td>True</td>\n",
       "      <td>56982</td>\n",
       "      <td>2012-04-26T02:17:30Z</td>\n",
       "      <td>203.134.137.66</td>\n",
       "    </tr>\n",
       "    <tr>\n",
       "      <th>497</th>\n",
       "      <td>NaN</td>\n",
       "      <td>56965</td>\n",
       "      <td>2012-04-23T02:52:51Z</td>\n",
       "      <td>Langthorne</td>\n",
       "    </tr>\n",
       "    <tr>\n",
       "      <th>498</th>\n",
       "      <td>NaN</td>\n",
       "      <td>56965</td>\n",
       "      <td>2012-04-23T01:05:48Z</td>\n",
       "      <td>Grand51paul</td>\n",
       "    </tr>\n",
       "    <tr>\n",
       "      <th>499</th>\n",
       "      <td>NaN</td>\n",
       "      <td>56899</td>\n",
       "      <td>2012-04-23T00:53:56Z</td>\n",
       "      <td>Grand51paul</td>\n",
       "    </tr>\n",
       "  </tbody>\n",
       "</table>\n",
       "<p>500 rows × 4 columns</p>\n",
       "</div>"
      ],
      "text/plain": [
       "     anon   size             timestamp  \\\n",
       "0     NaN  63640  2017-02-15T19:41:38Z   \n",
       "1     NaN  63643  2017-02-15T19:40:32Z   \n",
       "2     NaN  63640  2017-02-14T17:37:30Z   \n",
       "3     NaN  63602  2017-02-14T17:35:54Z   \n",
       "4     NaN  63507  2017-02-14T17:34:12Z   \n",
       "5     NaN  63034  2017-02-14T17:22:45Z   \n",
       "6     NaN  63072  2017-02-08T05:14:34Z   \n",
       "7    True  63103  2017-02-07T01:58:06Z   \n",
       "8     NaN  63098  2017-02-06T19:58:27Z   \n",
       "9     NaN  63169  2017-02-04T03:22:54Z   \n",
       "10    NaN  63174  2017-02-01T23:52:35Z   \n",
       "11    NaN  63151  2017-01-18T20:05:55Z   \n",
       "12    NaN  63020  2016-12-31T09:19:20Z   \n",
       "13    NaN  63020  2016-12-31T06:55:28Z   \n",
       "14    NaN  63020  2016-12-31T06:54:30Z   \n",
       "15   True  63034  2016-12-24T06:18:52Z   \n",
       "16    NaN  62972  2016-12-16T23:28:28Z   \n",
       "17   True  62972  2016-12-14T20:11:37Z   \n",
       "18   True  62972  2016-12-14T20:09:49Z   \n",
       "19    NaN  62972  2016-12-11T05:52:03Z   \n",
       "20    NaN  62972  2016-12-07T16:33:04Z   \n",
       "21    NaN  62952  2016-12-04T18:47:49Z   \n",
       "22   True  62954  2016-11-11T12:39:16Z   \n",
       "23    NaN  63012  2016-11-05T14:51:31Z   \n",
       "24   True  63009  2016-11-04T20:21:40Z   \n",
       "25    NaN  63009  2016-10-29T00:32:50Z   \n",
       "26   True  63000  2016-10-28T23:23:42Z   \n",
       "27    NaN  63000  2016-10-13T03:18:59Z   \n",
       "28    NaN  63158  2016-10-13T03:17:48Z   \n",
       "29    NaN  63000  2016-10-03T06:03:21Z   \n",
       "..    ...    ...                   ...   \n",
       "470   NaN  56785  2012-07-25T13:53:08Z   \n",
       "471   NaN  56782  2012-07-13T04:09:09Z   \n",
       "472   NaN  56782  2012-07-08T00:19:05Z   \n",
       "473   NaN  56781  2012-06-30T04:46:38Z   \n",
       "474   NaN  56732  2012-06-25T22:47:37Z   \n",
       "475  True  56750  2012-06-25T22:42:58Z   \n",
       "476  True  56732  2012-06-13T22:44:08Z   \n",
       "477  True  56732  2012-06-07T16:29:27Z   \n",
       "478  True  56743  2012-06-07T16:28:34Z   \n",
       "479   NaN  56720  2012-06-03T18:20:01Z   \n",
       "480   NaN  56565  2012-05-28T06:24:03Z   \n",
       "481   NaN  56564  2012-05-28T06:23:19Z   \n",
       "482   NaN  56964  2012-05-27T12:50:56Z   \n",
       "483  True  57048  2012-05-27T12:29:09Z   \n",
       "484  True  56964  2012-05-27T09:33:53Z   \n",
       "485   NaN  56983  2012-05-04T00:34:30Z   \n",
       "486  True  56977  2012-05-03T23:19:26Z   \n",
       "487   NaN  56983  2012-04-29T20:45:52Z   \n",
       "488  True  57000  2012-04-29T20:45:38Z   \n",
       "489   NaN  56983  2012-04-29T20:44:49Z   \n",
       "490  True  57000  2012-04-29T20:44:31Z   \n",
       "491   NaN  56983  2012-04-27T11:05:54Z   \n",
       "492  True  56972  2012-04-27T04:57:32Z   \n",
       "493   NaN  56983  2012-04-26T19:23:02Z   \n",
       "494  True  57074  2012-04-26T17:25:07Z   \n",
       "495  True  56983  2012-04-26T02:18:13Z   \n",
       "496  True  56982  2012-04-26T02:17:30Z   \n",
       "497   NaN  56965  2012-04-23T02:52:51Z   \n",
       "498   NaN  56965  2012-04-23T01:05:48Z   \n",
       "499   NaN  56899  2012-04-23T00:53:56Z   \n",
       "\n",
       "                                        user  \n",
       "0                               CityOfSilver  \n",
       "1                                TAM Boulder  \n",
       "2                               Jeff.zehnder  \n",
       "3                               Jeff.zehnder  \n",
       "4                               Jeff.zehnder  \n",
       "5                               Jeff.zehnder  \n",
       "6                                Madcoverboy  \n",
       "7                             128.84.124.252  \n",
       "8                          Corkythehornetfan  \n",
       "9                             Contributor321  \n",
       "10                                 Tim bates  \n",
       "11                                   Rogermx  \n",
       "12                      Charlesaaronthompson  \n",
       "13                      Charlesaaronthompson  \n",
       "14                      Charlesaaronthompson  \n",
       "15    2605:E000:8A4E:5000:D9F6:6234:B70B:68B  \n",
       "16                                   Cydebot  \n",
       "17                             134.10.79.138  \n",
       "18                             134.10.79.138  \n",
       "19                                 RaphaelQS  \n",
       "20                         Corkythehornetfan  \n",
       "21                         Corkythehornetfan  \n",
       "22                             172.56.32.185  \n",
       "23                              Krueger.joey  \n",
       "24                             50.247.224.29  \n",
       "25                            Contributor321  \n",
       "26   2600:100E:B015:D405:10D4:7AE2:CEA3:3AFB  \n",
       "27                                 Murph9000  \n",
       "28                          FluffyNuggetts69  \n",
       "29                               Madcoverboy  \n",
       "..                                       ...  \n",
       "470                           Johnluisocasio  \n",
       "471                                    CW221  \n",
       "472                                FrescoBot  \n",
       "473                            Enderandpeter  \n",
       "474                                  ElKevbo  \n",
       "475                            63.253.110.42  \n",
       "476                            173.14.12.233  \n",
       "477                           208.125.96.138  \n",
       "478                           208.125.96.138  \n",
       "479                               89spaceman  \n",
       "480                               89spaceman  \n",
       "481                               89spaceman  \n",
       "482                                   C.Fred  \n",
       "483                              41.92.113.9  \n",
       "484                           134.71.161.198  \n",
       "485                                Tyros1972  \n",
       "486                            85.53.185.134  \n",
       "487                            Discospinster  \n",
       "488                            174.29.185.32  \n",
       "489                               ClueBot NG  \n",
       "490                            174.29.185.32  \n",
       "491                             Coffeepusher  \n",
       "492                           71.218.240.223  \n",
       "493                                     Uhai  \n",
       "494                            129.82.74.247  \n",
       "495                           203.134.137.66  \n",
       "496                           203.134.137.66  \n",
       "497                               Langthorne  \n",
       "498                              Grand51paul  \n",
       "499                              Grand51paul  \n",
       "\n",
       "[500 rows x 4 columns]"
      ]
     },
     "execution_count": 102,
     "metadata": {},
     "output_type": "execute_result"
    }
   ],
   "source": [
    "pd.DataFrame(result['query']['pages'][0]['revisions'])"
   ]
  },
  {
   "cell_type": "markdown",
   "metadata": {},
   "source": [
    "### Twitter example"
   ]
  },
  {
   "cell_type": "code",
   "execution_count": 7,
   "metadata": {
    "collapsed": false
   },
   "outputs": [
    {
     "data": {
      "text/plain": [
       "Status(ID=440322224407314432, ScreenName=TheEllenShow, Created=Mon Mar 03 03:06:13 +0000 2014, Text=\"If only Bradley's arm was longer. Best photo ever. #oscars http://t.co/C9U5NOtGap\")"
      ]
     },
     "execution_count": 7,
     "metadata": {},
     "output_type": "execute_result"
    }
   ],
   "source": [
    "import twitter\n",
    "tweet_id = '440322224407314432'\n",
    "consumer = '5hnXwxRdIjgvb6dXE7lcw5e7W'\n",
    "consumer_secret = 'IaI5u8Mu96Cvc4GXf5JEHiGQaSQxwRHGsIiIeg4rAcbANCPHX5'\n",
    "access = '16629994-NbeuzldlAktPWuAlAF340G98LNPBWcg5C8ovOruYd'\n",
    "access_secret = 'YxmH91NMVf0YfL6NNVZxC4Q3TrHj4x1ZMMPFlqwsLF7he'\n",
    "\n",
    "api = twitter.Api(consumer, consumer_secret, access, access_secret)\n",
    "\n",
    "status = api.GetStatus(tweet_id)\n",
    "status"
   ]
  },
  {
   "cell_type": "code",
   "execution_count": 8,
   "metadata": {
    "collapsed": false
   },
   "outputs": [
    {
     "data": {
      "text/plain": [
       "{'created_at': 'Mon Mar 03 03:06:13 +0000 2014',\n",
       " 'favorite_count': 2287373,\n",
       " 'hashtags': [{'text': 'oscars'}],\n",
       " 'id': 440322224407314432,\n",
       " 'id_str': '440322224407314432',\n",
       " 'lang': 'en',\n",
       " 'media': [{'display_url': 'pic.twitter.com/C9U5NOtGap',\n",
       "   'expanded_url': 'https://twitter.com/TheEllenShow/status/440322224407314432/photo/1',\n",
       "   'id': 440322224092745728,\n",
       "   'media_url': 'http://pbs.twimg.com/media/BhxWutnCEAAtEQ6.jpg',\n",
       "   'media_url_https': 'https://pbs.twimg.com/media/BhxWutnCEAAtEQ6.jpg',\n",
       "   'sizes': {'large': {'h': 576, 'resize': 'fit', 'w': 1024},\n",
       "    'medium': {'h': 338, 'resize': 'fit', 'w': 600},\n",
       "    'small': {'h': 191, 'resize': 'fit', 'w': 340},\n",
       "    'thumb': {'h': 150, 'resize': 'crop', 'w': 150}},\n",
       "   'type': 'photo',\n",
       "   'url': 'http://t.co/C9U5NOtGap'}],\n",
       " 'retweet_count': 3283665,\n",
       " 'source': '<a href=\"http://twitter.com/download/android\" rel=\"nofollow\">Twitter for Android</a>',\n",
       " 'text': \"If only Bradley's arm was longer. Best photo ever. #oscars http://t.co/C9U5NOtGap\",\n",
       " 'urls': [],\n",
       " 'user': {'created_at': 'Thu Aug 14 03:50:42 +0000 2008',\n",
       "  'description': 'Comedian, talk show host and ice road trucker. My tweets are real, and they’re spectacular. https://t.co/rJNCGU9GhH',\n",
       "  'favourites_count': 403,\n",
       "  'followers_count': 65687853,\n",
       "  'friends_count': 36166,\n",
       "  'geo_enabled': True,\n",
       "  'id': 15846407,\n",
       "  'lang': 'en',\n",
       "  'listed_count': 105879,\n",
       "  'location': 'California',\n",
       "  'name': 'Ellen DeGeneres',\n",
       "  'profile_background_color': '3ABEE3',\n",
       "  'profile_background_image_url': 'http://pbs.twimg.com/profile_background_images/446411201413541888/uY6CCUHT.png',\n",
       "  'profile_banner_url': 'https://pbs.twimg.com/profile_banners/15846407/1483484375',\n",
       "  'profile_image_url': 'http://pbs.twimg.com/profile_images/825052637246599168/hVqgHtfD_normal.jpg',\n",
       "  'profile_link_color': '3ABEE3',\n",
       "  'profile_sidebar_fill_color': 'C4C6CC',\n",
       "  'profile_text_color': '000000',\n",
       "  'screen_name': 'TheEllenShow',\n",
       "  'statuses_count': 13775,\n",
       "  'time_zone': 'Pacific Time (US & Canada)',\n",
       "  'url': 'https://t.co/t2QLdtDIfN',\n",
       "  'utc_offset': -28800,\n",
       "  'verified': True},\n",
       " 'user_mentions': []}"
      ]
     },
     "execution_count": 8,
     "metadata": {},
     "output_type": "execute_result"
    }
   ],
   "source": [
    "status.AsDict()"
   ]
  },
  {
   "cell_type": "code",
   "execution_count": null,
   "metadata": {
    "collapsed": true
   },
   "outputs": [],
   "source": []
  }
 ],
 "metadata": {
  "anaconda-cloud": {},
  "kernelspec": {
   "display_name": "Python [conda root]",
   "language": "python",
   "name": "conda-root-py"
  },
  "language_info": {
   "codemirror_mode": {
    "name": "ipython",
    "version": 3
   },
   "file_extension": ".py",
   "mimetype": "text/x-python",
   "name": "python",
   "nbconvert_exporter": "python",
   "pygments_lexer": "ipython3",
   "version": "3.5.2"
  }
 },
 "nbformat": 4,
 "nbformat_minor": 1
}
