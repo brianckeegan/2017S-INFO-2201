{
 "cells": [
  {
   "cell_type": "code",
   "execution_count": null,
   "metadata": {
    "collapsed": true
   },
   "outputs": [],
   "source": []
  },
  {
   "cell_type": "markdown",
   "metadata": {},
   "source": [
    "# (Almost) Everything in Python is a class"
   ]
  },
  {
   "cell_type": "markdown",
   "metadata": {},
   "source": [
    "Almost everything in Python is defined as a class and the `type` function lets us see what kind of object it is."
   ]
  },
  {
   "cell_type": "code",
   "execution_count": 1,
   "metadata": {
    "collapsed": false
   },
   "outputs": [
    {
     "data": {
      "text/plain": [
       "int"
      ]
     },
     "execution_count": 1,
     "metadata": {},
     "output_type": "execute_result"
    }
   ],
   "source": [
    "x = 42\n",
    "type(x)"
   ]
  },
  {
   "cell_type": "code",
   "execution_count": 8,
   "metadata": {
    "collapsed": false
   },
   "outputs": [
    {
     "data": {
      "text/plain": [
       "list"
      ]
     },
     "execution_count": 8,
     "metadata": {},
     "output_type": "execute_result"
    }
   ],
   "source": [
    "l = [1,\n",
    "     2.0,\n",
    "     'three']\n",
    "type(l)"
   ]
  },
  {
   "cell_type": "code",
   "execution_count": 5,
   "metadata": {
    "collapsed": false
   },
   "outputs": [
    {
     "data": {
      "text/plain": [
       "function"
      ]
     },
     "execution_count": 5,
     "metadata": {},
     "output_type": "execute_result"
    }
   ],
   "source": [
    "def add_one(x):\n",
    "    return x+1\n",
    "\n",
    "type(add_one)"
   ]
  },
  {
   "cell_type": "code",
   "execution_count": 7,
   "metadata": {
    "collapsed": false,
    "scrolled": true
   },
   "outputs": [
    {
     "data": {
      "text/plain": [
       "module"
      ]
     },
     "execution_count": 7,
     "metadata": {},
     "output_type": "execute_result"
    }
   ],
   "source": [
    "import random\n",
    "type(random)"
   ]
  },
  {
   "cell_type": "markdown",
   "metadata": {},
   "source": [
    "Even the types returned by `type` are classes."
   ]
  },
  {
   "cell_type": "code",
   "execution_count": 27,
   "metadata": {
    "collapsed": false
   },
   "outputs": [
    {
     "data": {
      "text/plain": [
       "type"
      ]
     },
     "execution_count": 27,
     "metadata": {},
     "output_type": "execute_result"
    }
   ],
   "source": [
    "type(int)"
   ]
  },
  {
   "cell_type": "markdown",
   "metadata": {},
   "source": [
    "# Modules are like dictionaries"
   ]
  },
  {
   "cell_type": "markdown",
   "metadata": {},
   "source": [
    "If we have a dictionary with the following keys and values, how do we access the value for \"grapefruit\"?"
   ]
  },
  {
   "cell_type": "code",
   "execution_count": 12,
   "metadata": {
    "collapsed": false
   },
   "outputs": [
    {
     "data": {
      "text/plain": [
       "{'grapefruit': 'sour', 'lime': 'tangy', 'strawberry': 'sweet'}"
      ]
     },
     "execution_count": 12,
     "metadata": {},
     "output_type": "execute_result"
    }
   ],
   "source": [
    "# Can create a dictionary with {key1:value1,...}\n",
    "fruit_flavors = {'strawberry':'sweet',\n",
    "                 'lime':'tangy'}\n",
    "\n",
    "# Can also add to the dictionary with bracet notation\n",
    "fruit_flavors['grapefruit'] = 'sour'\n",
    "\n",
    "# Check that all the keys and values we wanted are in there\n",
    "# Also notice that the dictionary doesn't preserve the ordering sequence when we input\n",
    "fruit_flavors"
   ]
  },
  {
   "cell_type": "markdown",
   "metadata": {},
   "source": [
    "Building on the idea of getting some value by calling its key is a powerful idea that can be found in more advanced concepts like working with modules (and in a bit, classes). A Python file containing functions and variables can be imported and then accessed using the `.` (dot) operator.\n",
    "\n",
    "There should be a small Python file called `fruit_flavors.py`. It also has variables for different fruit, the same as above. We can import this file as a module and access these variables."
   ]
  },
  {
   "cell_type": "code",
   "execution_count": 13,
   "metadata": {
    "collapsed": false
   },
   "outputs": [
    {
     "data": {
      "text/plain": [
       "'sweet'"
      ]
     },
     "execution_count": 13,
     "metadata": {},
     "output_type": "execute_result"
    }
   ],
   "source": [
    "import fruit_flavors\n",
    "\n",
    "fruit_flavors.strawberry"
   ]
  },
  {
   "cell_type": "markdown",
   "metadata": {},
   "source": [
    "# Classes are like modules"
   ]
  },
  {
   "cell_type": "markdown",
   "metadata": {},
   "source": [
    "Classes are \"mini-modules\" that similarly let you define functions (methods) and variables (attributes) within them. But these have lots of other nice properties as well, which is why using them is a popular design pattern among software engineers and researchers.\n",
    "\n",
    "Here's an extremely basic \"Fruit\" class that lets us represent the same information as above."
   ]
  },
  {
   "cell_type": "code",
   "execution_count": 15,
   "metadata": {
    "collapsed": false
   },
   "outputs": [],
   "source": [
    "class Fruit:\n",
    "    \n",
    "    # The __init__() method is a function setting values for any parameters when the object is first created.\n",
    "    \n",
    "    # The \"self\" variable is treated specially inside a class definition\n",
    "    # It lets you access variables about the class in other methods within the class\n",
    "    def __init__(self,name,taste):\n",
    "        self.name = name\n",
    "        self.taste = taste"
   ]
  },
  {
   "cell_type": "markdown",
   "metadata": {},
   "source": [
    "We can create a simple fruit object with the two attributes from above, a name and a taste. By calling `type` we can see that Python is treating this as an object."
   ]
  },
  {
   "cell_type": "code",
   "execution_count": 23,
   "metadata": {
    "collapsed": false
   },
   "outputs": [
    {
     "data": {
      "text/plain": [
       "__main__.Fruit"
      ]
     },
     "execution_count": 23,
     "metadata": {},
     "output_type": "execute_result"
    }
   ],
   "source": [
    "fruit1 = Fruit(name='strawberry',taste='sweet')\n",
    "type(fruit1)"
   ]
  },
  {
   "cell_type": "markdown",
   "metadata": {},
   "source": [
    "We can access the attributes of the object with the `.` dot notation."
   ]
  },
  {
   "cell_type": "code",
   "execution_count": 24,
   "metadata": {
    "collapsed": false
   },
   "outputs": [
    {
     "name": "stdout",
     "output_type": "stream",
     "text": [
      "strawberry\n",
      "sweet\n"
     ]
    }
   ],
   "source": [
    "print(fruit1.name)\n",
    "print(fruit1.taste)"
   ]
  },
  {
   "cell_type": "markdown",
   "metadata": {},
   "source": [
    "Create another fruit."
   ]
  },
  {
   "cell_type": "code",
   "execution_count": 21,
   "metadata": {
    "collapsed": false
   },
   "outputs": [
    {
     "name": "stdout",
     "output_type": "stream",
     "text": [
      "lime\n",
      "tangy\n"
     ]
    }
   ],
   "source": [
    "fruit2 = Fruit(name='lime',taste='tangy')\n",
    "print(fruit2.name)\n",
    "print(fruit2.taste)"
   ]
  },
  {
   "cell_type": "markdown",
   "metadata": {},
   "source": [
    "Classes aren't just for storing attribute data, they're much more powerful when we put functions inside them to modify attributes of the object. We'll cover this more below and on Wednesday."
   ]
  },
  {
   "cell_type": "markdown",
   "metadata": {},
   "source": [
    "# Bad habit for modifying objects"
   ]
  },
  {
   "cell_type": "markdown",
   "metadata": {},
   "source": [
    "We can manually add more attributes to the Fruit object we created and check to see if it was successfully added."
   ]
  },
  {
   "cell_type": "code",
   "execution_count": 68,
   "metadata": {
    "collapsed": false
   },
   "outputs": [
    {
     "data": {
      "text/plain": [
       "{'color': 'red', 'name': 'strawberry', 'taste': 'sweet'}"
      ]
     },
     "execution_count": 68,
     "metadata": {},
     "output_type": "execute_result"
    }
   ],
   "source": [
    "fruit1.color = 'red'\n",
    "fruit1.__dict__"
   ]
  },
  {
   "cell_type": "markdown",
   "metadata": {},
   "source": [
    "However, because we haven't defined a color attribute in the class or manually, there won't be a color for `fruit2`."
   ]
  },
  {
   "cell_type": "code",
   "execution_count": 69,
   "metadata": {
    "collapsed": false
   },
   "outputs": [
    {
     "ename": "AttributeError",
     "evalue": "'Fruit' object has no attribute 'color'",
     "output_type": "error",
     "traceback": [
      "\u001b[0;31m---------------------------------------------------------------------------\u001b[0m",
      "\u001b[0;31mAttributeError\u001b[0m                            Traceback (most recent call last)",
      "\u001b[0;32m<ipython-input-69-85a61a8b5840>\u001b[0m in \u001b[0;36m<module>\u001b[0;34m()\u001b[0m\n\u001b[0;32m----> 1\u001b[0;31m \u001b[0mfruit2\u001b[0m\u001b[0;34m.\u001b[0m\u001b[0mcolor\u001b[0m\u001b[0;34m\u001b[0m\u001b[0m\n\u001b[0m",
      "\u001b[0;31mAttributeError\u001b[0m: 'Fruit' object has no attribute 'color'"
     ]
    }
   ],
   "source": [
    "fruit2.color"
   ]
  },
  {
   "cell_type": "markdown",
   "metadata": {},
   "source": [
    "Adding attributes manually to objects is a really bad habit because you'll end up with objects with inconsistent properties. Just because you can, doesn't mean you should!"
   ]
  },
  {
   "cell_type": "markdown",
   "metadata": {},
   "source": [
    "# Methods and objects"
   ]
  },
  {
   "cell_type": "code",
   "execution_count": 58,
   "metadata": {
    "collapsed": false
   },
   "outputs": [],
   "source": [
    "class EdibleFood:\n",
    "\n",
    "    def __init__(self,name,taste,edible):\n",
    "        self.name = name\n",
    "        self.taste = taste\n",
    "        \n",
    "        # Adding two attributes to declare whether it's edible \n",
    "        self.edible = edible\n",
    "        self.eaten = 0\n",
    "    \n",
    "    # Adding a method called bite that modifies the \"eaten\" variable\n",
    "    def bite(self,percentage):\n",
    "        \n",
    "        # Check if the food is edible and hasn't already been eaten:\n",
    "        if self.edible and self.eaten < 1:\n",
    "            \n",
    "            # Check if the amount that is going to be eaten is more than what's left\n",
    "            if percentage <= 1 - self.eaten:\n",
    "                self.eaten += percentage\n",
    "                return '{0:.0%} eaten!'.format(self.eaten)\n",
    "            \n",
    "            # If percentage is more than what's left, then warn!\n",
    "            else:\n",
    "                return 'Cannot eat more than 100%!'\n",
    "        \n",
    "        # If it's edible and already been eaten, then warn!\n",
    "        elif self.edible and self.eaten >= 1:\n",
    "            return 'Nothing left to eat!'.format(self.eaten)\n",
    "        \n",
    "        # If it's not edible, then warn!\n",
    "        else:\n",
    "            return 'Not edible!'"
   ]
  },
  {
   "cell_type": "markdown",
   "metadata": {},
   "source": [
    "Create an `EdibleFood` object and take a bite out of it."
   ]
  },
  {
   "cell_type": "code",
   "execution_count": 65,
   "metadata": {
    "collapsed": false
   },
   "outputs": [
    {
     "data": {
      "text/plain": [
       "'25% eaten!'"
      ]
     },
     "execution_count": 65,
     "metadata": {},
     "output_type": "execute_result"
    }
   ],
   "source": [
    "food1 = EdibleFood(name='steak',taste='savory',edible=True)\n",
    "\n",
    "food1.bite(.25)"
   ]
  },
  {
   "cell_type": "code",
   "execution_count": 66,
   "metadata": {
    "collapsed": false
   },
   "outputs": [
    {
     "data": {
      "text/plain": [
       "0.25"
      ]
     },
     "execution_count": 66,
     "metadata": {},
     "output_type": "execute_result"
    }
   ],
   "source": [
    "# Check that the bite method changed the eaten variable state\n",
    "food1.eaten"
   ]
  },
  {
   "cell_type": "code",
   "execution_count": 61,
   "metadata": {
    "collapsed": false
   },
   "outputs": [
    {
     "data": {
      "text/plain": [
       "'75% eaten!'"
      ]
     },
     "execution_count": 61,
     "metadata": {},
     "output_type": "execute_result"
    }
   ],
   "source": [
    "# Take another bite\n",
    "food1.bite(.5)"
   ]
  },
  {
   "cell_type": "code",
   "execution_count": 62,
   "metadata": {
    "collapsed": false
   },
   "outputs": [
    {
     "data": {
      "text/plain": [
       "'100% eaten!'"
      ]
     },
     "execution_count": 62,
     "metadata": {},
     "output_type": "execute_result"
    }
   ],
   "source": [
    "# Take another bite\n",
    "food1.bite(.25)"
   ]
  },
  {
   "cell_type": "code",
   "execution_count": 63,
   "metadata": {
    "collapsed": false
   },
   "outputs": [
    {
     "data": {
      "text/plain": [
       "'Nothing left to eat!'"
      ]
     },
     "execution_count": 63,
     "metadata": {},
     "output_type": "execute_result"
    }
   ],
   "source": [
    "# Take another bite\n",
    "food1.bite(.25)"
   ]
  },
  {
   "cell_type": "code",
   "execution_count": 64,
   "metadata": {
    "collapsed": false
   },
   "outputs": [
    {
     "data": {
      "text/plain": [
       "1.0"
      ]
     },
     "execution_count": 64,
     "metadata": {},
     "output_type": "execute_result"
    }
   ],
   "source": [
    "# Check that the bite method still changed the eaten variable state\n",
    "food1.eaten"
   ]
  },
  {
   "cell_type": "markdown",
   "metadata": {},
   "source": [
    "Create a new `EdibleFood` object that isn't edible and try to take a bite."
   ]
  },
  {
   "cell_type": "code",
   "execution_count": 48,
   "metadata": {
    "collapsed": false
   },
   "outputs": [
    {
     "data": {
      "text/plain": [
       "'Not edible!'"
      ]
     },
     "execution_count": 48,
     "metadata": {},
     "output_type": "execute_result"
    }
   ],
   "source": [
    "food2 = EdibleFood(name='death cap',taste='sweet',edible=False)\n",
    "\n",
    "food2.bite(.5)"
   ]
  },
  {
   "cell_type": "code",
   "execution_count": 59,
   "metadata": {
    "collapsed": false
   },
   "outputs": [
    {
     "data": {
      "text/plain": [
       "0"
      ]
     },
     "execution_count": 59,
     "metadata": {},
     "output_type": "execute_result"
    }
   ],
   "source": [
    "food2.eaten"
   ]
  },
  {
   "cell_type": "markdown",
   "metadata": {},
   "source": [
    "# Acknowledgements"
   ]
  },
  {
   "cell_type": "markdown",
   "metadata": {},
   "source": [
    "These notes and examples were adapted from the following tutorials:\n",
    "\n",
    "* [Erle Robotics GitBook](https://erlerobotics.gitbooks.io/erle-robotics-learning-python-gitbook-free/content/classes/exercisesclasses.html)\n",
    "* [Python-Course EU](http://www.python-course.eu/python3_object_oriented_programming.php)\n",
    "* [Learn Python the Hard Way](https://learnpythonthehardway.org/book/ex40.html)\n",
    "* [Python Practice Book](http://anandology.com/python-practice-book/object_oriented_programming.html)\n",
    "* [IntroToPython.org](http://introtopython.org/classes.html)\n",
    "* [Complete Python Bootcamp](https://github.com/jmportilla/Complete-Python-Bootcamp/blob/master/Object%20Oriented%20Programming.ipynb)\n",
    "* [Jeff Knupp](https://jeffknupp.com/blog/2014/06/18/improve-your-python-python-classes-and-object-oriented-programming/)\n",
    "* [Mozilla](https://developer.mozilla.org/en-US/docs/Learn/Drafts/Python/Quickly_Learn_Object_Oriented_Programming)\n",
    "* [TutorialsPoint](http://www.tutorialspoint.com/python/python_classes_objects.htm)\n",
    "* [TU Delft - Exploratory Computing with Python](http://nbviewer.jupyter.org/github/mbakker7/exploratory_computing_with_python/blob/master/notebook_adv3/py_exp_comp_adv3_sol.ipynb)"
   ]
  },
  {
   "cell_type": "code",
   "execution_count": null,
   "metadata": {
    "collapsed": true
   },
   "outputs": [],
   "source": []
  }
 ],
 "metadata": {
  "anaconda-cloud": {},
  "kernelspec": {
   "display_name": "Python [conda root]",
   "language": "python",
   "name": "conda-root-py"
  },
  "language_info": {
   "codemirror_mode": {
    "name": "ipython",
    "version": 3
   },
   "file_extension": ".py",
   "mimetype": "text/x-python",
   "name": "python",
   "nbconvert_exporter": "python",
   "pygments_lexer": "ipython3",
   "version": "3.5.2"
  }
 },
 "nbformat": 4,
 "nbformat_minor": 1
}
