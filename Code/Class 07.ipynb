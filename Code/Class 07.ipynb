{
 "cells": [
  {
   "cell_type": "code",
   "execution_count": 5,
   "metadata": {
    "collapsed": true
   },
   "outputs": [],
   "source": [
    "# Test function from http://openbookproject.net/thinkcs/python/english3e/fruitful_functions.html\n",
    "\n",
    "import sys\n",
    "\n",
    "def test(did_pass):\n",
    "    \"\"\"  Print the result of a test.  \"\"\"\n",
    "    linenum = sys._getframe(1).f_lineno   # Get the caller's line number.\n",
    "    if did_pass:\n",
    "        msg = \"Test at line {0} ok.\".format(linenum)\n",
    "    else:\n",
    "        msg = (\"Test at line {0} FAILED.\".format(linenum))\n",
    "    print(msg)"
   ]
  },
  {
   "cell_type": "markdown",
   "metadata": {},
   "source": [
    "# Fibonacci numbers"
   ]
  },
  {
   "cell_type": "code",
   "execution_count": 1,
   "metadata": {
    "collapsed": true
   },
   "outputs": [],
   "source": [
    "# Adapted from: http://openbookproject.net/thinkcs/python/english3e/recursion.html\n",
    "\n",
    "def fib(n):\n",
    "    mem = {}\n",
    "    if n <= 1:\n",
    "        return n\n",
    "    try:\n",
    "        mem[n] = \n",
    "    t = fib(n-1) + fib(n-2)   \n",
    "    return t"
   ]
  },
  {
   "cell_type": "code",
   "execution_count": 3,
   "metadata": {
    "collapsed": false
   },
   "outputs": [
    {
     "data": {
      "text/plain": [
       "5"
      ]
     },
     "execution_count": 3,
     "metadata": {},
     "output_type": "execute_result"
    }
   ],
   "source": [
    "fib(5)"
   ]
  },
  {
   "cell_type": "markdown",
   "metadata": {},
   "source": [
    "# List reverser"
   ]
  },
  {
   "cell_type": "code",
   "execution_count": null,
   "metadata": {
    "collapsed": true
   },
   "outputs": [],
   "source": [
    "# Adapted from 3.7.2 in Lee & Hubbard (2015)\n",
    "\n",
    "def reverser(l):\n",
    "    if l == []: # base case\n",
    "        return []\n",
    "    else:\n",
    "        list_end = reverser(l[1:]) # Recursive case\n",
    "        list_start = l[:1]\n",
    "        return list_end + list_start"
   ]
  },
  {
   "cell_type": "markdown",
   "metadata": {},
   "source": [
    "# Factorials"
   ]
  },
  {
   "cell_type": "code",
   "execution_count": null,
   "metadata": {
    "collapsed": true
   },
   "outputs": [],
   "source": [
    "def fact(num):\n",
    "    if num > 0:\n",
    "        if num == 1: # Base case!\n",
    "            return 1\n",
    "        else: # Recursive case!\n",
    "            return num * fact(num - 1)"
   ]
  }
 ],
 "metadata": {
  "anaconda-cloud": {},
  "kernelspec": {
   "display_name": "Python [conda root]",
   "language": "python",
   "name": "conda-root-py"
  },
  "language_info": {
   "codemirror_mode": {
    "name": "ipython",
    "version": 3
   },
   "file_extension": ".py",
   "mimetype": "text/x-python",
   "name": "python",
   "nbconvert_exporter": "python",
   "pygments_lexer": "ipython3",
   "version": "3.5.2"
  }
 },
 "nbformat": 4,
 "nbformat_minor": 1
}
