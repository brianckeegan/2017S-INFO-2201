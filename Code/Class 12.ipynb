{
 "cells": [
  {
   "cell_type": "markdown",
   "metadata": {},
   "source": [
    "# Class 12: Introduction to linear data structures"
   ]
  },
  {
   "cell_type": "markdown",
   "metadata": {},
   "source": [
    "We're going to dive deep on how Python's lists work, both in terms of using its syntax to interact with data as well as examining its [data structure](https://docs.python.org/3.5/tutorial/datastructures.html) with accessor and mutator methods that have different performance costs.  Python has [lots of special methods](https://docs.python.org/3/reference/datamodel.html#special-method-names) ([see also](http://www.diveintopython3.net/special-method-names.html)) for accessing and manipulating data. When we create new data structures, we may want to let our data structure cooperate with these methods so we'll need to define it in the class.\n",
    "\n",
    "Adapted from [Goodrich, Tamassia, & Goldwasser Chapter 5](https://learn.colorado.edu/d2l/le/content/190526/viewContent/2885049/View) and [Lee & Hubbard Chapter 4](https://learn.colorado.edu/d2l/le/content/190526/viewContent/2885050/View):\n",
    "\n",
    "### Accessor methods in Python's `list` class.\n",
    "\n",
    "| Operation | Running time | Method |\n",
    "| --- | :---: | --- |\n",
    "| `len(data)` | $O(1)$ | `data.__len__()`\n",
    "| `data[j]` | $O(1)$ | `data.__getitem__(j)` | \n",
    "| `data.count(val)` | $O(N)$ | `data.count(val)` | \n",
    "| `data.index(val)` | $O(k+1)$ | `data.index(val)` | \n",
    "| `val in data` | $O(k+1)$ | `data.__contains__(val)` |\n",
    "| `data1 == data2` | $O(k+1)$ | `data1.__eq__(data2)` |\n",
    "| `data[j:k]` | $O(j-k+1)$ | ` ` |\n",
    "\n",
    "In additon to the `__eq__` special method, there are [many other standard operators](https://docs.python.org/3.5/library/operator.html) for making comparisons within python."
   ]
  },
  {
   "cell_type": "code",
   "execution_count": 28,
   "metadata": {
    "collapsed": true
   },
   "outputs": [],
   "source": [
    "data1 = ['a', 'b', 'c', 'd', 'e', 'f', 'g', 'h', 'i', 'j', 'k', 'l', 'm']\n",
    "data2 = ['z', 'y', 'x', 'w', 'v', 'u', 't', 's', 'r', 'q', 'p', 'o', 'n']"
   ]
  },
  {
   "cell_type": "code",
   "execution_count": 36,
   "metadata": {
    "collapsed": false
   },
   "outputs": [
    {
     "ename": "AttributeError",
     "evalue": "'list' object has no attribute '__data__'",
     "output_type": "error",
     "traceback": [
      "\u001b[0;31m---------------------------------------------------------------------------\u001b[0m",
      "\u001b[0;31mAttributeError\u001b[0m                            Traceback (most recent call last)",
      "\u001b[0;32m<ipython-input-36-63c79e280f1d>\u001b[0m in \u001b[0;36m<module>\u001b[0;34m()\u001b[0m\n\u001b[0;32m----> 1\u001b[0;31m \u001b[0mdata1\u001b[0m\u001b[0;34m.\u001b[0m\u001b[0m__data__\u001b[0m\u001b[0;34m\u001b[0m\u001b[0m\n\u001b[0m",
      "\u001b[0;31mAttributeError\u001b[0m: 'list' object has no attribute '__data__'"
     ]
    }
   ],
   "source": [
    "data1"
   ]
  },
  {
   "cell_type": "code",
   "execution_count": 32,
   "metadata": {
    "collapsed": false
   },
   "outputs": [
    {
     "data": {
      "text/plain": [
       "[('a', 'z'),\n",
       " ('b', 'y'),\n",
       " ('c', 'x'),\n",
       " ('d', 'w'),\n",
       " ('e', 'v'),\n",
       " ('f', 'u'),\n",
       " ('g', 't'),\n",
       " ('h', 's'),\n",
       " ('i', 'r'),\n",
       " ('j', 'q'),\n",
       " ('k', 'p'),\n",
       " ('l', 'o'),\n",
       " ('m', 'n')]"
      ]
     },
     "execution_count": 32,
     "metadata": {},
     "output_type": "execute_result"
    }
   ],
   "source": [
    "list(zip(data1,data2))"
   ]
  },
  {
   "cell_type": "code",
   "execution_count": 30,
   "metadata": {
    "collapsed": false
   },
   "outputs": [
    {
     "data": {
      "text/plain": [
       "['a', 'd', 'g', 'j', 'm']"
      ]
     },
     "execution_count": 30,
     "metadata": {},
     "output_type": "execute_result"
    }
   ],
   "source": [
    "data1[::3]"
   ]
  },
  {
   "cell_type": "code",
   "execution_count": null,
   "metadata": {
    "collapsed": false
   },
   "outputs": [],
   "source": [
    "data1.count('a')"
   ]
  },
  {
   "cell_type": "code",
   "execution_count": null,
   "metadata": {
    "collapsed": false
   },
   "outputs": [],
   "source": [
    "data1.index('k')"
   ]
  },
  {
   "cell_type": "code",
   "execution_count": null,
   "metadata": {
    "collapsed": false
   },
   "outputs": [],
   "source": [
    "'z' in data1"
   ]
  },
  {
   "cell_type": "code",
   "execution_count": null,
   "metadata": {
    "collapsed": false
   },
   "outputs": [],
   "source": [
    "data1 == data2"
   ]
  },
  {
   "cell_type": "markdown",
   "metadata": {},
   "source": [
    "##### Slicing"
   ]
  },
  {
   "cell_type": "markdown",
   "metadata": {},
   "source": [
    "Adapted from [Moving to Python From Other Languages](https://wiki.python.org/moin/MovingToPythonFromOtherLanguages) and [this StackOverflow answer](http://stackoverflow.com/a/509295/1574687) by Greg Hewgill. You better believe there will be some Friday Quiz questions about this!"
   ]
  },
  {
   "cell_type": "raw",
   "metadata": {},
   "source": [
    "Index from rear:    -6  -5  -4  -3  -2  -1\n",
    "Index from front:    0   1   2   3   4   5\n",
    "                   +---+---+---+---+---+---+   \n",
    "                   | a | b | c | d | e | f | \n",
    "                   +---+---+---+---+---+---+    \n",
    "Slice from front:  :   1   2   3   4   5   : \n",
    "Slice from rear:   :  -5  -4  -3  -2  -1   :\n",
    "\n",
    "alist[start:end]            # items start through end-1\n",
    "alist[start:]               # items start through the rest of the array\n",
    "alist[:end]                 # items from the beginning through end-1\n",
    "alist[:]                    # a copy of the whole array\n",
    "alist[-1]                   # last item in the array\n",
    "alist[-2:]                  # last two items in the array\n",
    "alist[:-2]                  # everything except the last two items\n",
    "alist[start:end:step]       # step defaults to 1 above, but can be changed\n",
    "alist[::-1]                 # return a copy of the list iterating through it backwards\n",
    "alist[3::-1]                # start at the third element and work backwards"
   ]
  },
  {
   "cell_type": "code",
   "execution_count": null,
   "metadata": {
    "collapsed": true
   },
   "outputs": [],
   "source": [
    "alist = ['a','b','c','d','e','f']"
   ]
  },
  {
   "cell_type": "code",
   "execution_count": null,
   "metadata": {
    "collapsed": false
   },
   "outputs": [],
   "source": [
    "alist[3:7]"
   ]
  },
  {
   "cell_type": "code",
   "execution_count": null,
   "metadata": {
    "collapsed": false
   },
   "outputs": [],
   "source": [
    "alist[4:]"
   ]
  },
  {
   "cell_type": "code",
   "execution_count": null,
   "metadata": {
    "collapsed": false
   },
   "outputs": [],
   "source": [
    "alist[:4]"
   ]
  },
  {
   "cell_type": "code",
   "execution_count": null,
   "metadata": {
    "collapsed": false
   },
   "outputs": [],
   "source": [
    "alist[:]"
   ]
  },
  {
   "cell_type": "code",
   "execution_count": null,
   "metadata": {
    "collapsed": false
   },
   "outputs": [],
   "source": [
    "alist[-1]"
   ]
  },
  {
   "cell_type": "code",
   "execution_count": null,
   "metadata": {
    "collapsed": false
   },
   "outputs": [],
   "source": [
    "alist[-2:]"
   ]
  },
  {
   "cell_type": "code",
   "execution_count": null,
   "metadata": {
    "collapsed": false
   },
   "outputs": [],
   "source": [
    "alist[:-2]"
   ]
  },
  {
   "cell_type": "code",
   "execution_count": null,
   "metadata": {
    "collapsed": false
   },
   "outputs": [],
   "source": [
    "alist[0:5:2]"
   ]
  },
  {
   "cell_type": "code",
   "execution_count": null,
   "metadata": {
    "collapsed": false
   },
   "outputs": [],
   "source": [
    "alist[::2]"
   ]
  },
  {
   "cell_type": "code",
   "execution_count": null,
   "metadata": {
    "collapsed": false
   },
   "outputs": [],
   "source": [
    "alist[::-1]"
   ]
  },
  {
   "cell_type": "code",
   "execution_count": null,
   "metadata": {
    "collapsed": false
   },
   "outputs": [],
   "source": [
    "alist[3::-1]"
   ]
  },
  {
   "cell_type": "code",
   "execution_count": null,
   "metadata": {
    "collapsed": false
   },
   "outputs": [],
   "source": [
    "alist[3:0:-1]"
   ]
  },
  {
   "cell_type": "markdown",
   "metadata": {},
   "source": [
    "### Mutator methods in Python's `list` class.\n",
    "\n",
    "| Operation | Running time | Method |\n",
    "| --- | :---: | --- |\n",
    "| `data[j] = val` | $O(1)$ | `data.__setitem__(j,val)` |\n",
    "| `data.append(val)` | $O(1)$ | `data.append(val)` |\n",
    "| `data.insert(k,val)` | $O(N-k+1)$ | `data.insert(k,val)` |\n",
    "| `data.pop()` | $O(1)$ | `data.pop()` |\n",
    "| `data.pop(k)` | $O(N-k)$ | `data.pop(k)` |\n",
    "| `del data[k]` | $O(N-k)$ | `data.__delitem__(k)` |\n",
    "| `data.remove(val)` | $O(N)$ | `data.remove(val)` |\n",
    "| `data1.extend(data2)` | $O(N_2)$ | `data1.extend(data2)` |\n",
    "| `data1 + data2` | $O(N_1 + N_2)$ | `data1.__concat__(data2)` |\n",
    "| `data1 += data2` | $O(N_2)$ | `data1.__iconcat__(data2)` |\n",
    "| `data.reverse()` | $O(N)$ | `data.reverse()` |\n",
    "| `data.sort()` | $O(N\\ log\\ N)$ | `data.sort()` |"
   ]
  },
  {
   "cell_type": "code",
   "execution_count": 1,
   "metadata": {
    "collapsed": false
   },
   "outputs": [
    {
     "data": {
      "text/plain": [
       "['a', 'b', 'c', 'd', 'e']"
      ]
     },
     "execution_count": 1,
     "metadata": {},
     "output_type": "execute_result"
    }
   ],
   "source": [
    "data3 = ['a', 'b', 'c', 'd', 'e']\n",
    "data3"
   ]
  },
  {
   "cell_type": "code",
   "execution_count": 5,
   "metadata": {
    "collapsed": false
   },
   "outputs": [
    {
     "data": {
      "text/plain": [
       "['d', 'e']"
      ]
     },
     "execution_count": 5,
     "metadata": {},
     "output_type": "execute_result"
    }
   ],
   "source": [
    "data3[3:]"
   ]
  },
  {
   "cell_type": "code",
   "execution_count": 6,
   "metadata": {
    "collapsed": true
   },
   "outputs": [],
   "source": [
    "import numpy as np"
   ]
  },
  {
   "cell_type": "code",
   "execution_count": 7,
   "metadata": {
    "collapsed": false
   },
   "outputs": [
    {
     "ename": "TypeError",
     "evalue": "ufunc 'add' did not contain a loop with signature matching types dtype('<U3') dtype('<U3') dtype('<U3')",
     "output_type": "error",
     "traceback": [
      "\u001b[0;31m---------------------------------------------------------------------------\u001b[0m",
      "\u001b[0;31mTypeError\u001b[0m                                 Traceback (most recent call last)",
      "\u001b[0;32m<ipython-input-7-cbb74e4b587e>\u001b[0m in \u001b[0;36m<module>\u001b[0;34m()\u001b[0m\n\u001b[0;32m----> 1\u001b[0;31m \u001b[0mnp\u001b[0m\u001b[0;34m.\u001b[0m\u001b[0marray\u001b[0m\u001b[0;34m(\u001b[0m\u001b[0mdata3\u001b[0m\u001b[0;34m)\u001b[0m \u001b[0;34m+\u001b[0m \u001b[0;36m1\u001b[0m\u001b[0;34m\u001b[0m\u001b[0m\n\u001b[0m",
      "\u001b[0;31mTypeError\u001b[0m: ufunc 'add' did not contain a loop with signature matching types dtype('<U3') dtype('<U3') dtype('<U3')"
     ]
    }
   ],
   "source": [
    "np.array(data3) + 1"
   ]
  },
  {
   "cell_type": "code",
   "execution_count": null,
   "metadata": {
    "collapsed": false
   },
   "outputs": [],
   "source": [
    "data3[0] = 0\n",
    "data3"
   ]
  },
  {
   "cell_type": "code",
   "execution_count": null,
   "metadata": {
    "collapsed": false
   },
   "outputs": [],
   "source": [
    "data3.append(6)\n",
    "data3"
   ]
  },
  {
   "cell_type": "code",
   "execution_count": null,
   "metadata": {
    "collapsed": false
   },
   "outputs": [],
   "source": [
    "data3.insert(3,'three')\n",
    "data3"
   ]
  },
  {
   "cell_type": "code",
   "execution_count": null,
   "metadata": {
    "collapsed": false
   },
   "outputs": [],
   "source": [
    "data3.pop()\n",
    "data3"
   ]
  },
  {
   "cell_type": "code",
   "execution_count": null,
   "metadata": {
    "collapsed": false
   },
   "outputs": [],
   "source": [
    "data3.pop(3)\n",
    "data3"
   ]
  },
  {
   "cell_type": "code",
   "execution_count": null,
   "metadata": {
    "collapsed": false
   },
   "outputs": [],
   "source": [
    "del data3[0]\n",
    "data3"
   ]
  },
  {
   "cell_type": "code",
   "execution_count": null,
   "metadata": {
    "collapsed": false
   },
   "outputs": [],
   "source": [
    "data3.remove('e')\n",
    "data3"
   ]
  },
  {
   "cell_type": "code",
   "execution_count": null,
   "metadata": {
    "collapsed": false
   },
   "outputs": [],
   "source": [
    "data4 = ['e','f','g']\n",
    "\n",
    "data3.extend(data4)\n",
    "\n",
    "data3"
   ]
  },
  {
   "cell_type": "code",
   "execution_count": null,
   "metadata": {
    "collapsed": false
   },
   "outputs": [],
   "source": [
    "data0 = ['y','z','a']\n",
    "\n",
    "data0 += data3\n",
    "\n",
    "print(data0)\n",
    "print(data3)"
   ]
  },
  {
   "cell_type": "code",
   "execution_count": null,
   "metadata": {
    "collapsed": false
   },
   "outputs": [],
   "source": [
    "data0.reverse()\n",
    "data0"
   ]
  },
  {
   "cell_type": "code",
   "execution_count": null,
   "metadata": {
    "collapsed": false
   },
   "outputs": [],
   "source": [
    "data0.sort()\n",
    "data0"
   ]
  },
  {
   "cell_type": "markdown",
   "metadata": {},
   "source": [
    "# (Re-)Implementing a list data structure as `PyList`"
   ]
  },
  {
   "cell_type": "markdown",
   "metadata": {},
   "source": [
    "This material has been adapted from [Lee & Hubbard (2015) Chapter 4](https://learn.colorado.edu/d2l/le/content/190526/viewContent/2885050/View)."
   ]
  },
  {
   "cell_type": "code",
   "execution_count": null,
   "metadata": {
    "collapsed": false
   },
   "outputs": [],
   "source": [
    "[None] * 10"
   ]
  },
  {
   "cell_type": "code",
   "execution_count": null,
   "metadata": {
    "collapsed": false
   },
   "outputs": [],
   "source": [
    "class PyList(object):\n",
    "    \n",
    "    def __init__(self,contents=[],size=10):\n",
    "        self.items = [None] * size\n",
    "        self.numItems = 0\n",
    "        self.size = size\n",
    "\n",
    "        for content in contents:\n",
    "            self.append(content)\n",
    "            \n",
    "    def __getitem__(self,index):\n",
    "        if index >= 0 and index < self.numItems:\n",
    "            return self.items[index]\n",
    "        else:\n",
    "            raise IndexError(\"PyList out of range\")\n",
    "            \n",
    "    def __setitem__(self,index,val):\n",
    "        if index >= 0 and index < self.numItems:\n",
    "            self.items[index] = val\n",
    "            return\n",
    "        else:\n",
    "            raise IndexError('PyList assignment index out of range')\n",
    "            \n",
    "    def __add__(self,other):\n",
    "        result = PyList(size=self.numItems+other.numItems)\n",
    "        \n",
    "        for i in range(self.numItems):\n",
    "            result.append(self.items[i])\n",
    "        \n",
    "        for i in range(other.numItems):\n",
    "            result.append(other.items[i])\n",
    "            \n",
    "        return result\n",
    "    \n",
    "    def __makeroom(self):\n",
    "        newlen = (self.size // 4) + self.size + 1\n",
    "        newlst = [None] * newlen\n",
    "        \n",
    "        for i in range(self.numItems):\n",
    "            newlst = self.items[i]\n",
    "            \n",
    "        self.items = newlist\n",
    "        self.size = newlen\n",
    "        \n",
    "    def append(self,item):\n",
    "        if self.numItems == self.size:\n",
    "            self.__makeroom()\n",
    "            \n",
    "        self.items[self.numItems] = item\n",
    "        self.numItems += 1\n",
    "    \n",
    "    def insert(self,i,e):\n",
    "        if self.numItems == self.size:\n",
    "            self.__makeroom()\n",
    "            \n",
    "        if i < self.numItems:\n",
    "            for j in range(self.numItems-1,i-1,-1):\n",
    "                self.items[j+1] = self.items[j]\n",
    "                \n",
    "            self.items[i] = e\n",
    "            self.numItems +=  1\n",
    "        else:\n",
    "            self.append(e)\n",
    "    \n",
    "    def __delitem__(self,index):\n",
    "        for i in range(index, self.numItems-1):\n",
    "            self.items[i] = self.items[i+1]\n",
    "            \n",
    "        self.numItems -= 1\n",
    "        \n",
    "    def __len__(self):\n",
    "        return self.numItems\n",
    "    \n",
    "    def __str__(self):\n",
    "        s = \"[\"\n",
    "        \n",
    "        for i in range(self.numItems):\n",
    "            s = s + str(self.items[i])\n",
    "            if i < self.numItems - 1:\n",
    "                s = s + \", \"\n",
    "                \n",
    "        s = s + \"]\"\n",
    "        return s\n",
    "    \n",
    "    # Uncomment this to see something interesting\n",
    "    def __repr__(self):\n",
    "        s = \"PyList([\"\n",
    "        \n",
    "        for i in range(self.numItems):\n",
    "            s = s + repr(self.items[i])\n",
    "            if i < self.numItems - 1:\n",
    "                s = s + \", \"\n",
    "                \n",
    "        s = s + \"])\"\n",
    "        return s"
   ]
  },
  {
   "cell_type": "code",
   "execution_count": null,
   "metadata": {
    "collapsed": false
   },
   "outputs": [],
   "source": [
    "test_pylist = PyList(['a','b','c'])\n",
    "test_pylist"
   ]
  },
  {
   "cell_type": "code",
   "execution_count": null,
   "metadata": {
    "collapsed": false
   },
   "outputs": [],
   "source": [
    "test_pylist.items"
   ]
  },
  {
   "cell_type": "code",
   "execution_count": null,
   "metadata": {
    "collapsed": false
   },
   "outputs": [],
   "source": [
    "test_pylist[0]"
   ]
  },
  {
   "cell_type": "code",
   "execution_count": null,
   "metadata": {
    "collapsed": false
   },
   "outputs": [],
   "source": [
    "test_pylist[2] = 'two'\n",
    "test_pylist.items"
   ]
  },
  {
   "cell_type": "code",
   "execution_count": null,
   "metadata": {
    "collapsed": false
   },
   "outputs": [],
   "source": [
    "test_pylist.append('delta')\n",
    "test_pylist.items"
   ]
  },
  {
   "cell_type": "code",
   "execution_count": null,
   "metadata": {
    "collapsed": false
   },
   "outputs": [],
   "source": [
    "test_pylist.insert(1,'inserted')\n",
    "test_pylist.items"
   ]
  },
  {
   "cell_type": "code",
   "execution_count": null,
   "metadata": {
    "collapsed": false
   },
   "outputs": [],
   "source": [
    "del test_pylist[1]\n",
    "test_pylist.items"
   ]
  },
  {
   "cell_type": "code",
   "execution_count": null,
   "metadata": {
    "collapsed": false
   },
   "outputs": [],
   "source": [
    "len(test_pylist)"
   ]
  },
  {
   "cell_type": "code",
   "execution_count": null,
   "metadata": {
    "collapsed": false
   },
   "outputs": [],
   "source": [
    "print(test_pylist)"
   ]
  },
  {
   "cell_type": "code",
   "execution_count": null,
   "metadata": {
    "collapsed": false
   },
   "outputs": [],
   "source": [
    "test_pylist"
   ]
  },
  {
   "cell_type": "markdown",
   "metadata": {},
   "source": [
    "# Stacks and queues\n",
    "\n",
    "A **stack** is a data structure where the last element added is the first element retrieved (\"last in, first out\").\n",
    "\n",
    "A **queue** is a data structure where the first element added is the first element retried (\"first in, first out\").\n",
    "\n",
    "Stacks and queues are appealing since all their mutator methods operator in $O(1)$ time. For many kinds of computations, you only need a sequence of inputs to iterate through one at a time rather than operations on the entire list. Thus, you can use a stack or queue design to improve the efficiency of your code in some circumstances.\n",
    "\n",
    "We can use lists in Python to implement much of the [functionality of a stack or queue](https://docs.python.org/3.5/tutorial/datastructures.html#using-lists-as-stacks). This material has been adapted from [Lee & Hubbard (2015) Chapter 4](https://learn.colorado.edu/d2l/le/content/190526/viewContent/2885050/View)."
   ]
  },
  {
   "cell_type": "markdown",
   "metadata": {},
   "source": [
    "### Stack\n",
    "\n",
    "Methods on a stack:\n",
    "\n",
    "| Operation | Complexity | Useage | Description |\n",
    "| --- | :---: | --- | --- |\n",
    "| Stack creation | $O(1)$ | `s = Stack()` | Calls the constructor |\n",
    "| push | $O(1)$ | `s.push(a)` | Puts the item `a` to the back the stack `s` |\n",
    "| pop | $O(1)$ | `a = s.pop()` | Returns last item in `s` and removes it |\n",
    "| top | $O(1)$ | `a = q.top()` | Returns top item in `s` without popping |\n",
    "| is_empty | $O(1)$ | `a = q.is_empty()` | Returns `True` if stack has no pushed items |\n"
   ]
  },
  {
   "cell_type": "code",
   "execution_count": null,
   "metadata": {
    "collapsed": true
   },
   "outputs": [],
   "source": [
    "class Stack(object):\n",
    "    def __init__(self):\n",
    "        self.items = []\n",
    "        \n",
    "    def pop(self):\n",
    "        if self.is_empty():\n",
    "            raise RuntimeError('Cannot pop an empty stack')\n",
    "        top_idx = len(self.items) - 1\n",
    "        item = self.items[top_idx]\n",
    "        del self.items[top_idx]\n",
    "        return item\n",
    "    \n",
    "    def push(self,item):\n",
    "        self.items.append(item)\n",
    "        \n",
    "    def top(self):\n",
    "        if self.is_empty():\n",
    "            raise RuntimeError('Empty stack has no top')\n",
    "            \n",
    "        top_idx = len(self.items) - 1\n",
    "        return self.items[top_idx]\n",
    "    \n",
    "    def is_empty(self):\n",
    "        return len(self.items) == 0\n",
    "    \n",
    "    def __repr__(self):\n",
    "        return 'Stack('+str(self.items)+')'"
   ]
  },
  {
   "cell_type": "code",
   "execution_count": null,
   "metadata": {
    "collapsed": false
   },
   "outputs": [],
   "source": [
    "test_stack = Stack()\n",
    "test_stack"
   ]
  },
  {
   "cell_type": "code",
   "execution_count": null,
   "metadata": {
    "collapsed": false
   },
   "outputs": [],
   "source": [
    "test_stack.is_empty()"
   ]
  },
  {
   "cell_type": "code",
   "execution_count": null,
   "metadata": {
    "collapsed": false
   },
   "outputs": [],
   "source": [
    "test_stack.push('a')\n",
    "print(test_stack)\n",
    "test_stack.push('b')\n",
    "print(test_stack)\n",
    "test_stack.push('c')\n",
    "print(test_stack)"
   ]
  },
  {
   "cell_type": "code",
   "execution_count": null,
   "metadata": {
    "collapsed": false
   },
   "outputs": [],
   "source": [
    "test_stack.top()"
   ]
  },
  {
   "cell_type": "code",
   "execution_count": null,
   "metadata": {
    "collapsed": false
   },
   "outputs": [],
   "source": [
    "test_stack.pop()\n",
    "print(test_stack)\n",
    "test_stack.pop()\n",
    "print(test_stack)\n",
    "test_stack.pop()\n",
    "print(test_stack)"
   ]
  },
  {
   "cell_type": "markdown",
   "metadata": {},
   "source": [
    "### Queues\n",
    "\n",
    "Methods on a queue:\n",
    "\n",
    "| Operation | Complexity | Useage | Description |\n",
    "| --- | :---: | --- | --- |\n",
    "| Queue creation | $O(1)$ | `q = Queue()` | Calls the constructor |\n",
    "| enqueue | $O(1)$ | `q.enqueue(a)` | Puts the item `a` on the queue `q` |\n",
    "| dequeue | $O(1)$ | `a = q.dequeue()` | Returns first item in `q` and removes it |\n",
    "| front | $O(1)$ | `a = q.front()` | Returns front item in `q` without dequeueing |\n",
    "| is_empty | $O(1)$ | `a = q.is_empty()` | Returns `True` if queue has no enqueued items |\n"
   ]
  },
  {
   "cell_type": "code",
   "execution_count": null,
   "metadata": {
    "collapsed": true
   },
   "outputs": [],
   "source": [
    "class Queue(object):\n",
    "    \n",
    "    def __init__(self):\n",
    "        self.items = []\n",
    "        self.front_index = 0\n",
    "        \n",
    "    def __compress(self):\n",
    "        new_list = []\n",
    "        for i in range(self.front_index,len(self.items)):\n",
    "            new_list.append(self.items[i])\n",
    "        \n",
    "        self.items = new_list\n",
    "        self.front_index = 0\n",
    "    \n",
    "    def enqueue(self,item):\n",
    "        self.items.append(item)\n",
    "\n",
    "    def dequeue(self):\n",
    "        if self.is_empty():\n",
    "            raise RuntimeError('Cannot dequeue an empty queue')\n",
    "            \n",
    "        if self.front_index * 2 > len(self.items):\n",
    "            self.__compress()\n",
    "            \n",
    "        item = self.items[self.front_index]\n",
    "        self.front_index += 1\n",
    "        return item\n",
    "        \n",
    "    def front(self):\n",
    "        if self.is_empty():\n",
    "            raise RuntimeError('Cannot access front of empty queue')\n",
    "        else:\n",
    "            return self.items[self.front_index]\n",
    "        \n",
    "    def is_empty(self):\n",
    "        return self.front_index == len(self.items)\n",
    "    \n",
    "    def __repr__(self):\n",
    "        return 'Queue('+str(self.items)+')'"
   ]
  },
  {
   "cell_type": "code",
   "execution_count": null,
   "metadata": {
    "collapsed": false
   },
   "outputs": [],
   "source": [
    "test_queue = Queue()\n",
    "test_queue"
   ]
  },
  {
   "cell_type": "code",
   "execution_count": null,
   "metadata": {
    "collapsed": false
   },
   "outputs": [],
   "source": [
    "test_queue.enqueue('a')\n",
    "print(test_queue)\n",
    "test_queue.enqueue('b')\n",
    "print(test_queue)\n",
    "test_queue.enqueue('c')\n",
    "print(test_queue)"
   ]
  },
  {
   "cell_type": "code",
   "execution_count": null,
   "metadata": {
    "collapsed": false
   },
   "outputs": [],
   "source": [
    "test_queue.front()"
   ]
  },
  {
   "cell_type": "code",
   "execution_count": null,
   "metadata": {
    "collapsed": false
   },
   "outputs": [],
   "source": [
    "test_queue.is_empty()"
   ]
  },
  {
   "cell_type": "code",
   "execution_count": null,
   "metadata": {
    "collapsed": false
   },
   "outputs": [],
   "source": [
    "test_queue.dequeue()"
   ]
  },
  {
   "cell_type": "code",
   "execution_count": null,
   "metadata": {
    "collapsed": false
   },
   "outputs": [],
   "source": [
    "test_queue.dequeue()"
   ]
  },
  {
   "cell_type": "code",
   "execution_count": null,
   "metadata": {
    "collapsed": false
   },
   "outputs": [],
   "source": [
    "test_queue.dequeue()"
   ]
  },
  {
   "cell_type": "code",
   "execution_count": null,
   "metadata": {
    "collapsed": false
   },
   "outputs": [],
   "source": [
    "test_queue.dequeue()"
   ]
  },
  {
   "cell_type": "code",
   "execution_count": null,
   "metadata": {
    "collapsed": true
   },
   "outputs": [],
   "source": []
  },
  {
   "cell_type": "code",
   "execution_count": null,
   "metadata": {
    "collapsed": true
   },
   "outputs": [],
   "source": []
  }
 ],
 "metadata": {
  "kernelspec": {
   "display_name": "Python [conda root]",
   "language": "python",
   "name": "conda-root-py"
  },
  "language_info": {
   "codemirror_mode": {
    "name": "ipython",
    "version": 3
   },
   "file_extension": ".py",
   "mimetype": "text/x-python",
   "name": "python",
   "nbconvert_exporter": "python",
   "pygments_lexer": "ipython3",
   "version": "3.5.2"
  }
 },
 "nbformat": 4,
 "nbformat_minor": 1
}
