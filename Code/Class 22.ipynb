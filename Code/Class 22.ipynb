{
 "cells": [
  {
   "cell_type": "markdown",
   "metadata": {},
   "source": [
    "# Class 22: Reinforcement of strings with regex and NLTK\n",
    "\n",
    "We are going to discuss two other approaches to dealing with string and text data. We're going to use the [Natural Language Toolkit](http://www.nltk.org) library, but we first have to download some data corpora and libraries to use NLTK. Running this block of code *should* pop up a new window with four blue tabs: Collections, Corpora, Models, All Packages. Under Collections, Select the entry with \"book\" in the Identifier column and select download. Once the status \"Finished downloading collection 'book'.\" prints in the grey bar at the bottom, you can close this pop-up.\n",
    "\n",
    "![](http://www.nltk.org/images/nltk-downloader.png)"
   ]
  },
  {
   "cell_type": "markdown",
   "metadata": {},
   "source": [
    "## NLTK"
   ]
  },
  {
   "cell_type": "code",
   "execution_count": null,
   "metadata": {
    "collapsed": false
   },
   "outputs": [],
   "source": [
    "import nltk\n",
    "nltk.download()"
   ]
  },
  {
   "cell_type": "markdown",
   "metadata": {},
   "source": [
    "You should only need to do the download step once. In the future, you can start from the cell below."
   ]
  },
  {
   "cell_type": "code",
   "execution_count": 2,
   "metadata": {
    "collapsed": true
   },
   "outputs": [],
   "source": [
    "from collections import Counter\n",
    "import nltk\n",
    "import requests\n",
    "import matplotlib.pyplot as plt\n",
    "%matplotlib inline"
   ]
  },
  {
   "cell_type": "code",
   "execution_count": 3,
   "metadata": {
    "collapsed": false
   },
   "outputs": [
    {
     "name": "stdout",
     "output_type": "stream",
     "text": [
      "*** Introductory Examples for the NLTK Book ***\n",
      "Loading text1, ..., text9 and sent1, ..., sent9\n",
      "Type the name of the text or sentence to view it.\n",
      "Type: 'texts()' or 'sents()' to list the materials.\n",
      "text1: Moby Dick by Herman Melville 1851\n",
      "text2: Sense and Sensibility by Jane Austen 1811\n",
      "text3: The Book of Genesis\n",
      "text4: Inaugural Address Corpus\n",
      "text5: Chat Corpus\n",
      "text6: Monty Python and the Holy Grail\n",
      "text7: Wall Street Journal\n",
      "text8: Personals Corpus\n",
      "text9: The Man Who Was Thursday by G . K . Chesterton 1908\n"
     ]
    }
   ],
   "source": [
    "from nltk.book import text1, text2, text3, text4, text5, text6, text7, text8, text9\n",
    "text_list = [text1, text2, text3, text4, text5, text6, text7, text8, text9]"
   ]
  },
  {
   "cell_type": "markdown",
   "metadata": {},
   "source": [
    "We can also download text from the web and load it into a NLTK Text object. Let's get something from [Project Gutenberg's Top 100 list](https://www.gutenberg.org/browse/scores/top)."
   ]
  },
  {
   "cell_type": "markdown",
   "metadata": {},
   "source": [
    "How long is each body of text? We can use `len` on a `Text` object."
   ]
  },
  {
   "cell_type": "code",
   "execution_count": 4,
   "metadata": {
    "collapsed": false
   },
   "outputs": [
    {
     "name": "stdout",
     "output_type": "stream",
     "text": [
      "<Text: Moby Dick by Herman Melville 1851> has 260,819 words\n",
      "\n",
      "<Text: Sense and Sensibility by Jane Austen 1811> has 141,576 words\n",
      "\n",
      "<Text: The Book of Genesis> has 44,764 words\n",
      "\n",
      "<Text: Inaugural Address Corpus> has 145,735 words\n",
      "\n",
      "<Text: Chat Corpus> has 45,010 words\n",
      "\n",
      "<Text: Monty Python and the Holy Grail> has 16,967 words\n",
      "\n",
      "<Text: Wall Street Journal> has 100,676 words\n",
      "\n",
      "<Text: Personals Corpus> has 4,867 words\n",
      "\n",
      "<Text: The Man Who Was Thursday by G . K . Chesterton 1908> has 69,213 words\n",
      "\n"
     ]
    }
   ],
   "source": [
    "for t in text_list:\n",
    "    print(\"{0} has {1:,} words\\n\".format(t,len(t)))"
   ]
  },
  {
   "cell_type": "markdown",
   "metadata": {},
   "source": [
    "How many unique words in each text document? We can call `set` on a Text object."
   ]
  },
  {
   "cell_type": "code",
   "execution_count": 5,
   "metadata": {
    "collapsed": false
   },
   "outputs": [
    {
     "name": "stdout",
     "output_type": "stream",
     "text": [
      "<Text: Moby Dick by Herman Melville 1851> has 19,317 unique words\n",
      "\n",
      "<Text: Sense and Sensibility by Jane Austen 1811> has 6,833 unique words\n",
      "\n",
      "<Text: The Book of Genesis> has 2,789 unique words\n",
      "\n",
      "<Text: Inaugural Address Corpus> has 9,754 unique words\n",
      "\n",
      "<Text: Chat Corpus> has 6,066 unique words\n",
      "\n",
      "<Text: Monty Python and the Holy Grail> has 2,166 unique words\n",
      "\n",
      "<Text: Wall Street Journal> has 12,408 unique words\n",
      "\n",
      "<Text: Personals Corpus> has 1,108 unique words\n",
      "\n",
      "<Text: The Man Who Was Thursday by G . K . Chesterton 1908> has 6,807 unique words\n",
      "\n"
     ]
    }
   ],
   "source": [
    "for t in text_list:\n",
    "    print(\"{0} has {1:,} unique words\\n\".format(t,len(set(t))))"
   ]
  },
  {
   "cell_type": "markdown",
   "metadata": {},
   "source": [
    "We can define a function that measures the [lexical diversity](https://en.wikipedia.org/wiki/Lexical_diversity) of the text by computing the number of unique words as a percentage of the total number of words. If each word was used only once, then the richness would be 100% but if the same word was repeated the entire length of the document, then the richness would be 0%."
   ]
  },
  {
   "cell_type": "code",
   "execution_count": 6,
   "metadata": {
    "collapsed": false
   },
   "outputs": [
    {
     "name": "stdout",
     "output_type": "stream",
     "text": [
      "<Text: Moby Dick by Herman Melville 1851> has a lexical diversity of 0.074\n",
      "\n",
      "<Text: Sense and Sensibility by Jane Austen 1811> has a lexical diversity of 0.048\n",
      "\n",
      "<Text: The Book of Genesis> has a lexical diversity of 0.062\n",
      "\n",
      "<Text: Inaugural Address Corpus> has a lexical diversity of 0.067\n",
      "\n",
      "<Text: Chat Corpus> has a lexical diversity of 0.13\n",
      "\n",
      "<Text: Monty Python and the Holy Grail> has a lexical diversity of 0.13\n",
      "\n",
      "<Text: Wall Street Journal> has a lexical diversity of 0.12\n",
      "\n",
      "<Text: Personals Corpus> has a lexical diversity of 0.23\n",
      "\n",
      "<Text: The Man Who Was Thursday by G . K . Chesterton 1908> has a lexical diversity of 0.098\n",
      "\n"
     ]
    }
   ],
   "source": [
    "def lexical_diversity(text):\n",
    "    return len(set(text))/len(text)\n",
    "\n",
    "for t in text_list:\n",
    "    print(\"{0} has a lexical diversity of {1:.2}\\n\".format(t,lexical_diversity(t)))"
   ]
  },
  {
   "cell_type": "markdown",
   "metadata": {},
   "source": [
    "What are the longest words in the text?"
   ]
  },
  {
   "cell_type": "code",
   "execution_count": 7,
   "metadata": {
    "collapsed": false
   },
   "outputs": [
    {
     "name": "stdout",
     "output_type": "stream",
     "text": [
      "The longest word in <Text: Moby Dick by Herman Melville 1851> is: uninterpenetratingly\n",
      "\n",
      "The longest word in <Text: Sense and Sensibility by Jane Austen 1811> is: companionableness\n",
      "\n",
      "The longest word in <Text: The Book of Genesis> is: Zaphnathpaaneah\n",
      "\n",
      "The longest word in <Text: Inaugural Address Corpus> is: antiphilosophists\n",
      "\n",
      "The longest word in <Text: Chat Corpus> is: //www.wunderground.com/cgi-bin/findweather/getForecast?query=95953#FIR\n",
      "\n",
      "The longest word in <Text: Monty Python and the Holy Grail> is: understanding\n",
      "\n",
      "The longest word in <Text: Wall Street Journal> is: marketing-communications\n",
      "\n",
      "The longest word in <Text: Personals Corpus> is: DISCIPLINARIAN\n",
      "\n",
      "The longest word in <Text: The Man Who Was Thursday by G . K . Chesterton 1908> is: undenominational\n",
      "\n"
     ]
    }
   ],
   "source": [
    "def find_longest_word(text):\n",
    "    longest = ''\n",
    "    for word in set(text):\n",
    "        if len(word) > len(longest):\n",
    "            longest = word\n",
    "    return longest\n",
    "\n",
    "for t in text_list:\n",
    "    print(\"The longest word in {0} is: {1}\\n\".format(t,find_longest_word(t)))"
   ]
  },
  {
   "cell_type": "markdown",
   "metadata": {},
   "source": [
    "We can also measure the frequency distribution of how often a word is used in a corpus."
   ]
  },
  {
   "cell_type": "code",
   "execution_count": 57,
   "metadata": {
    "collapsed": false
   },
   "outputs": [
    {
     "data": {
      "text/plain": [
       "[(',', 18713),\n",
       " ('the', 13721),\n",
       " ('.', 6862),\n",
       " ('of', 6536),\n",
       " ('and', 6024),\n",
       " ('a', 4569),\n",
       " ('to', 4542),\n",
       " (';', 4072),\n",
       " ('in', 3916),\n",
       " ('that', 2982),\n",
       " (\"'\", 2684),\n",
       " ('-', 2552),\n",
       " ('his', 2459),\n",
       " ('it', 2209),\n",
       " ('I', 2124),\n",
       " ('s', 1739),\n",
       " ('is', 1695),\n",
       " ('he', 1661),\n",
       " ('with', 1659),\n",
       " ('was', 1632),\n",
       " ('as', 1620),\n",
       " ('\"', 1478),\n",
       " ('all', 1462),\n",
       " ('for', 1414),\n",
       " ('this', 1280)]"
      ]
     },
     "execution_count": 57,
     "metadata": {},
     "output_type": "execute_result"
    }
   ],
   "source": [
    "_t = text1\n",
    "fdist_text1 = nltk.FreqDist(_t)\n",
    "fdist_text1.most_common(25)"
   ]
  },
  {
   "cell_type": "markdown",
   "metadata": {},
   "source": [
    "We can also plot the distribution of how often words occur in the corpus. We get an interesting pattern called the [Zipf distribution](https://en.wikipedia.org/wiki/Zipf%27s_law). There are many words that occur only once (upper left) and single words that occur thousands of times (lower right) but the pattern follows a consistent log-linear pattern."
   ]
  },
  {
   "cell_type": "code",
   "execution_count": 58,
   "metadata": {
    "collapsed": false
   },
   "outputs": [
    {
     "data": {
      "text/plain": [
       "<matplotlib.text.Text at 0x124a6b898>"
      ]
     },
     "execution_count": 58,
     "metadata": {},
     "output_type": "execute_result"
    },
    {
     "data": {
      "image/png": "[encoded data removed]",
      "text/plain": [
       "<matplotlib.figure.Figure at 0x124a5f9e8>"
      ]
     },
     "metadata": {},
     "output_type": "display_data"
    }
   ],
   "source": [
    "counter_text1 = Counter(fdist_text1.values())\n",
    "\n",
    "f,ax = plt.subplots(1,1)\n",
    "ax.scatter(list(counter_text1.keys()),list(counter_text1.values()))\n",
    "ax.set_ylim((1e-1,1e5))\n",
    "ax.set_xscale('log')\n",
    "ax.set_yscale('log')\n",
    "ax.set_title(_t.name)\n",
    "ax.set_xlabel('Number of occurrences')\n",
    "ax.set_ylabel('Number of words')"
   ]
  },
  {
   "cell_type": "markdown",
   "metadata": {},
   "source": [
    "## Normalizing text\n",
    "\n",
    "An important part of processing natural language data is normalizing this data by removing variations in the text that the computer naively thinks are different entities but humans recognize as being the same. There are several steps to this including case adjustment and stemming/lemmatization.\n",
    "\n",
    "In the case of case adjustment, it turns out several of the different \"words\" in the corpus are actually the same, but because they have different capitalizations, they're counted as different unique words. Explore how many five-letter words are the same, just with different capitalizations."
   ]
  },
  {
   "cell_type": "code",
   "execution_count": null,
   "metadata": {
    "collapsed": true
   },
   "outputs": [],
   "source": [
    "five_letter_words = list()\n",
    "\n",
    "for w in set(text1):\n",
    "    if len(w) == 5:\n",
    "        five_letter_words.append(w)"
   ]
  },
  {
   "cell_type": "code",
   "execution_count": 15,
   "metadata": {
    "collapsed": false
   },
   "outputs": [
    {
     "name": "stdout",
     "output_type": "stream",
     "text": [
      "There are 2,397 five-letter words in the corpus.\n"
     ]
    }
   ],
   "source": [
    "five_letter_words = [w for w in set(text1) if len(w) == 5]\n",
    "\n",
    "print(\"There are {0:,} five-letter words in the corpus.\".format(len(five_letter_words)))"
   ]
  },
  {
   "cell_type": "code",
   "execution_count": 16,
   "metadata": {
    "collapsed": false
   },
   "outputs": [
    {
     "name": "stdout",
     "output_type": "stream",
     "text": [
      "There are 924 five-letter words in the corpus that are the same but have different cases.\n"
     ]
    },
    {
     "data": {
      "text/plain": [
       "[('being', 'Being'),\n",
       " ('being', 'BEING'),\n",
       " ('LYING', 'lying'),\n",
       " ('LYING', 'Lying'),\n",
       " ('fifth', 'Fifth'),\n",
       " ('young', 'Young'),\n",
       " ('CEASE', 'cease'),\n",
       " ('OATHS', 'oaths'),\n",
       " ('speak', 'Speak'),\n",
       " ('Doesn', 'doesn')]"
      ]
     },
     "execution_count": 16,
     "metadata": {},
     "output_type": "execute_result"
    }
   ],
   "source": [
    "mixed_case_tokens = []\n",
    "\n",
    "for word1 in five_letter_words:\n",
    "    for word2 in five_letter_words:\n",
    "        if word1.lower() == word2.lower() and word1 != word2:\n",
    "            mixed_case_tokens.append((word1,word2))\n",
    "\n",
    "print(\"There are {0:,} five-letter words in the corpus that are the same but have different cases.\".format(len(mixed_case_tokens)))\n",
    "mixed_case_tokens[:10]"
   ]
  },
  {
   "cell_type": "code",
   "execution_count": 17,
   "metadata": {
    "collapsed": false
   },
   "outputs": [
    {
     "name": "stdout",
     "output_type": "stream",
     "text": [
      "There are 19,317 unique words in text1 before lowering and 17,231 after lowering\n"
     ]
    }
   ],
   "source": [
    "text1_lowered = [i.lower() for i in text1.tokens]\n",
    "print(\"There are {0:,} unique words in text1 before lowering and {1:,} after lowering\".format(len(set(text1)),len(set(text1_lowered))))"
   ]
  },
  {
   "cell_type": "markdown",
   "metadata": {},
   "source": [
    "Another problem with natural language text is plural (dogs vs. dog) and possessive (dog's vs. dog) forms, verb conjugations (walk, walks, walked, walking), and contractions (they're) are also counted as unique words even if the underlying concepts are similar. Extracting [word stems](https://en.wikipedia.org/wiki/Word_stem) means removing prefixes and affixes that result in a new token, but not a significantly new meaning.\n",
    "\n",
    "We can use a variety of [stemming](https://en.wikipedia.org/wiki/Stemming) and [lemmatization](https://en.wikipedia.org/wiki/Lemmatisation) tools in NLTK to try to recover unique words stripped of any prefixes or suffixes."
   ]
  },
  {
   "cell_type": "code",
   "execution_count": 18,
   "metadata": {
    "collapsed": false
   },
   "outputs": [
    {
     "data": {
      "text/plain": [
       "['suppli',\n",
       " 'late',\n",
       " 'consumpt',\n",
       " 'usher',\n",
       " 'grammar',\n",
       " 'school',\n",
       " 'the',\n",
       " 'pale',\n",
       " 'usher',\n",
       " 'threadbar',\n",
       " 'coat',\n",
       " 'heart',\n",
       " 'bodi',\n",
       " 'and',\n",
       " 'brain',\n",
       " 'see',\n",
       " 'him',\n",
       " 'now',\n",
       " 'wa',\n",
       " 'ever',\n",
       " 'dust',\n",
       " 'hi',\n",
       " 'old',\n",
       " 'lexicon',\n",
       " 'and']"
      ]
     },
     "execution_count": 18,
     "metadata": {},
     "output_type": "execute_result"
    }
   ],
   "source": [
    "porter = nltk.PorterStemmer()\n",
    "\n",
    "[porter.stem(t.lower()) for t in text1.tokens[10:50] if len(t) > 2]"
   ]
  },
  {
   "cell_type": "markdown",
   "metadata": {},
   "source": [
    "After stemming the words in `text1`, how many unique words remain? \n",
    "\n",
    "Nearly half of the words in *Moby Dick* that were initially counted as unique were actually duplicates of other words!"
   ]
  },
  {
   "cell_type": "code",
   "execution_count": 19,
   "metadata": {
    "collapsed": false
   },
   "outputs": [
    {
     "name": "stdout",
     "output_type": "stream",
     "text": [
      "There are 19,317 unique words in text1 before and 10,927 after lowering and stemming\n"
     ]
    }
   ],
   "source": [
    "text1_lowered_stemmed = set()\n",
    "\n",
    "for t in set(text1):\n",
    "    t_lower = t.lower()\n",
    "    t_stemmed = porter.stem(t_lower)\n",
    "    text1_lowered_stemmed.add(t_stemmed)\n",
    "    \n",
    "print(\"There are {0:,} unique words in text1 before and {1:,} after lowering and stemming\".format(len(set(text1)),len(set(text1_lowered_stemmed))))"
   ]
  },
  {
   "cell_type": "markdown",
   "metadata": {},
   "source": [
    "Lemmatization is a bit smarter about removing letters: it checks if the word is a plural, conjugation, etc. of another word and them \"stems\" it down to the root word only if in the dictionary. These lookups are expensive in comparision to basically slicing characters off a list like stemming, but results in better quality — but far from perfect — results. For example, \"supplied\" should have been reduced to \"supply\" and \"dusting\" and \"dust\"."
   ]
  },
  {
   "cell_type": "code",
   "execution_count": 21,
   "metadata": {
    "collapsed": false
   },
   "outputs": [
    {
     "data": {
      "text/plain": [
       "['supplied',\n",
       " 'late',\n",
       " 'consumptive',\n",
       " 'usher',\n",
       " 'grammar',\n",
       " 'school',\n",
       " 'the',\n",
       " 'pale',\n",
       " 'usher',\n",
       " 'threadbare',\n",
       " 'coat',\n",
       " 'heart',\n",
       " 'body',\n",
       " 'and',\n",
       " 'brain',\n",
       " 'see',\n",
       " 'him',\n",
       " 'now',\n",
       " 'wa',\n",
       " 'ever',\n",
       " 'dusting',\n",
       " 'his',\n",
       " 'old',\n",
       " 'lexicon',\n",
       " 'and']"
      ]
     },
     "execution_count": 21,
     "metadata": {},
     "output_type": "execute_result"
    }
   ],
   "source": [
    "wnl = nltk.WordNetLemmatizer()\n",
    "\n",
    "[wnl.lemmatize(t.lower()) for t in text1.tokens[10:50] if len(t) > 2]"
   ]
  },
  {
   "cell_type": "markdown",
   "metadata": {},
   "source": [
    "After lemmatizing the words in `text1`, how many unique words remain? Lemmatizing isn't as aggressive as stemming, but there's still a 25% reduction in the total number of unique words!"
   ]
  },
  {
   "cell_type": "code",
   "execution_count": 23,
   "metadata": {
    "collapsed": false
   },
   "outputs": [
    {
     "name": "stdout",
     "output_type": "stream",
     "text": [
      "There are 19,317 unique words in text1 before and 15,168 after lowering and stemming\n"
     ]
    }
   ],
   "source": [
    "text1_lowered_lemmatized = set()\n",
    "\n",
    "for t in set(text1):\n",
    "    t_lower = t.lower()\n",
    "    t_lemmatized = wnl.lemmatize(t_lower)\n",
    "    text1_lowered_lemmatized.add(t_lemmatized)\n",
    "    \n",
    "print(\"There are {0:,} unique words in text1 before and {1:,} after lowering and stemming\".format(len(set(text1)),len(set(text1_lowered_lemmatized))))\n"
   ]
  },
  {
   "cell_type": "markdown",
   "metadata": {},
   "source": [
    "## Regular expressions"
   ]
  },
  {
   "cell_type": "code",
   "execution_count": 24,
   "metadata": {
    "collapsed": true
   },
   "outputs": [],
   "source": [
    "import re\n",
    "from bs4 import BeautifulSoup"
   ]
  },
  {
   "cell_type": "code",
   "execution_count": 26,
   "metadata": {
    "collapsed": false
   },
   "outputs": [],
   "source": [
    "# We have to pretend to be a web browser in order for it to actually give us data\n",
    "headers = {'User-Agent': 'Mozilla/5.0 (Macintosh; Intel Mac OS X 10_10_1) AppleWebKit/537.36 (KHTML, like Gecko) Chrome/39.0.2171.95 Safari/537.36'}\n",
    "\n",
    "# Congress webmasters actually have nicely parsed member data into XML for you\n",
    "senate_raw = requests.get('https://www.senate.gov/general/contact_information/senators_cfm.xml',headers=headers).text\n",
    "house_raw = requests.get('http://clerk.house.gov/xml/lists/MemberData.xml',headers=headers).text\n",
    "\n",
    "senate_soup = BeautifulSoup(senate_raw,'lxml')\n",
    "house_soup = BeautifulSoup(house_raw,'lxml')"
   ]
  },
  {
   "cell_type": "markdown",
   "metadata": {},
   "source": [
    "Compare the data that the House and the Senator provide about their respective members. The House office fields break out the building, room, ZIP code, etc. of the address while the Senate just has the full string as an address."
   ]
  },
  {
   "cell_type": "code",
   "execution_count": 27,
   "metadata": {
    "collapsed": false
   },
   "outputs": [
    {
     "data": {
      "text/plain": [
       "{'bioguideid': 'Y000033',\n",
       " 'caucus': 'R',\n",
       " 'courtesy': 'Mr.',\n",
       " 'district': 'At Large',\n",
       " 'elected-date': 'November  8, 2016',\n",
       " 'firstname': 'Don',\n",
       " 'formal-name': 'Mr. Young of Alaska',\n",
       " 'lastname': 'Young',\n",
       " 'middlename': '',\n",
       " 'namelist': 'Young, Don',\n",
       " 'office-building': 'RHOB',\n",
       " 'office-room': '2314',\n",
       " 'office-zip': '20515',\n",
       " 'office-zip-suffix': '0200',\n",
       " 'official-name': 'Don Young',\n",
       " 'party': 'R',\n",
       " 'phone': '(202) 225-5765',\n",
       " 'prior-congress': '114',\n",
       " 'sort-name': 'YOUNG,DON',\n",
       " 'state': 'Alaska',\n",
       " 'suffix': '',\n",
       " 'sworn-date': 'January  3, 2017',\n",
       " 'townname': 'Fort Yukon'}"
      ]
     },
     "execution_count": 27,
     "metadata": {},
     "output_type": "execute_result"
    }
   ],
   "source": [
    "house_dict = [{i.name:i.text for i in list(member.children) if i != '\\n'} for member in house_soup.find_all('member-info')]\n",
    "house_dict[0]"
   ]
  },
  {
   "cell_type": "code",
   "execution_count": 31,
   "metadata": {
    "collapsed": false
   },
   "outputs": [
    {
     "data": {
      "text/plain": [
       "{'address': '455 Dirksen Senate Office Building Washington DC 20510',\n",
       " 'bioguide_id': 'A000360',\n",
       " 'class': 'Class II',\n",
       " 'email': 'http://www.alexander.senate.gov/public/index.cfm?p=Email',\n",
       " 'first_name': 'Lamar',\n",
       " 'last_name': 'Alexander',\n",
       " 'member_full': 'Alexander (R-TN)',\n",
       " 'party': 'R',\n",
       " 'phone': '(202) 224-4944',\n",
       " 'state': 'TN',\n",
       " 'website': 'http://www.alexander.senate.gov/'}"
      ]
     },
     "execution_count": 31,
     "metadata": {},
     "output_type": "execute_result"
    }
   ],
   "source": [
    "senator_dict = [{i.name:i.text for i in list(member.children) if i != '\\n'} for member in list(senate_soup.find_all('member'))]\n",
    "senator_dict[0]"
   ]
  },
  {
   "cell_type": "markdown",
   "metadata": {},
   "source": [
    "How could we parse out the building, room, and ZIP code from the Senate office fields? We could use regular expressions!"
   ]
  },
  {
   "cell_type": "code",
   "execution_count": 32,
   "metadata": {
    "collapsed": false
   },
   "outputs": [
    {
     "data": {
      "text/plain": [
       "'455 Dirksen Senate Office Building Washington DC 20510'"
      ]
     },
     "execution_count": 32,
     "metadata": {},
     "output_type": "execute_result"
    }
   ],
   "source": [
    "example_address = senator_dict[0]['address']\n",
    "example_address"
   ]
  },
  {
   "cell_type": "markdown",
   "metadata": {},
   "source": [
    "There's a lot of really advanced and specialized terminology around writing regular expressions. The [documentation](https://docs.python.org/3/library/re.html) can be arcane to read, but there are some basic symbols we can play with.\n",
    "\n",
    "| Symbol | Function |\n",
    "| --- | --- | \n",
    "| \\b | Word boundary (zero width) |\n",
    "| \\d | Any decimal digit (equivalent to [0-9]) |\n",
    "| \\D | Any non-digit character (equivalent to [^0-9]) |\n",
    "| \\s | Any whitespace character (equivalent to [ \\t\\n\\r\\f\\v]) |\n",
    "| \\S | Any non-whitespace character (equivalent to [^ \\t\\n\\r\\f\\v]) |\n",
    "| \\w | Any alphanumeric character (equivalent to [a-zA-Z0-9\\_]) |\n",
    "| \\W | Any non-alphanumeric character (equivalent to [^a-zA-Z0-9\\_]) |\n",
    "| \\t | The tab character |\n",
    "| \\n | The newline character |\n",
    "\n",
    "Using the `\\d+` expression, we can get all the repeated digits in the string. This captures both the office number and the ZIP code."
   ]
  },
  {
   "cell_type": "code",
   "execution_count": 33,
   "metadata": {
    "collapsed": false
   },
   "outputs": [
    {
     "data": {
      "text/plain": [
       "['455', '20510']"
      ]
     },
     "execution_count": 33,
     "metadata": {},
     "output_type": "execute_result"
    }
   ],
   "source": [
    "re.findall(r'\\d+',example_address)"
   ]
  },
  {
   "cell_type": "markdown",
   "metadata": {},
   "source": [
    "We could try to capture exactly three digits with the `\\d{3}` expression, but this still captures part of the zip code."
   ]
  },
  {
   "cell_type": "code",
   "execution_count": 34,
   "metadata": {
    "collapsed": false
   },
   "outputs": [
    {
     "data": {
      "text/plain": [
       "['455', '205']"
      ]
     },
     "execution_count": 34,
     "metadata": {},
     "output_type": "execute_result"
    }
   ],
   "source": [
    "re.findall(r'\\d{3}',example_address)"
   ]
  },
  {
   "cell_type": "markdown",
   "metadata": {},
   "source": [
    "We could use word boundaries `\\b` in the expression to capture where words end, but this captures the last three digits of the ZIP code now."
   ]
  },
  {
   "cell_type": "code",
   "execution_count": 35,
   "metadata": {
    "collapsed": false
   },
   "outputs": [
    {
     "data": {
      "text/plain": [
       "['455', '510']"
      ]
     },
     "execution_count": 35,
     "metadata": {},
     "output_type": "execute_result"
    }
   ],
   "source": [
    "re.findall(r'\\d{3}\\b',example_address)"
   ]
  },
  {
   "cell_type": "markdown",
   "metadata": {},
   "source": [
    "We can use word boundaries at the beginning and end."
   ]
  },
  {
   "cell_type": "code",
   "execution_count": 36,
   "metadata": {
    "collapsed": false
   },
   "outputs": [
    {
     "data": {
      "text/plain": [
       "['455']"
      ]
     },
     "execution_count": 36,
     "metadata": {},
     "output_type": "execute_result"
    }
   ],
   "source": [
    "re.findall(r'\\b\\d{3}\\b',example_address)"
   ]
  },
  {
   "cell_type": "markdown",
   "metadata": {},
   "source": [
    "We can do the same for the ZIP code now."
   ]
  },
  {
   "cell_type": "code",
   "execution_count": 37,
   "metadata": {
    "collapsed": false
   },
   "outputs": [
    {
     "data": {
      "text/plain": [
       "['20510']"
      ]
     },
     "execution_count": 37,
     "metadata": {},
     "output_type": "execute_result"
    }
   ],
   "source": [
    "re.findall(r'\\b\\d{5}\\b',example_address)"
   ]
  },
  {
   "cell_type": "markdown",
   "metadata": {},
   "source": [
    "We can match more complex strings too. the `\\w+` syntax will match any unicode word character and combined with the \"Senate Office Building will get us the full office building."
   ]
  },
  {
   "cell_type": "code",
   "execution_count": 38,
   "metadata": {
    "collapsed": false
   },
   "outputs": [
    {
     "data": {
      "text/plain": [
       "['Dirksen Senate Office Building']"
      ]
     },
     "execution_count": 38,
     "metadata": {},
     "output_type": "execute_result"
    }
   ],
   "source": [
    "re.findall(r'\\b\\w+\\b Senate Office Building',example_address)"
   ]
  },
  {
   "cell_type": "markdown",
   "metadata": {},
   "source": [
    "Parentheses will match whatever is inside. So we can match the whole string but only return the name of the office building."
   ]
  },
  {
   "cell_type": "code",
   "execution_count": 39,
   "metadata": {
    "collapsed": false
   },
   "outputs": [
    {
     "data": {
      "text/plain": [
       "['Dirksen']"
      ]
     },
     "execution_count": 39,
     "metadata": {},
     "output_type": "execute_result"
    }
   ],
   "source": [
    "re.findall(r'(\\b\\w+\\b) Senate Office Building',example_address)"
   ]
  },
  {
   "cell_type": "markdown",
   "metadata": {},
   "source": [
    "Compare this to just matching all the words with a word end or beginning picks up all the phrases."
   ]
  },
  {
   "cell_type": "code",
   "execution_count": 40,
   "metadata": {
    "collapsed": false
   },
   "outputs": [
    {
     "data": {
      "text/plain": [
       "['455', 'Dirksen', 'Senate', 'Office', 'Building', 'Washington', 'DC', '20510']"
      ]
     },
     "execution_count": 40,
     "metadata": {},
     "output_type": "execute_result"
    }
   ],
   "source": [
    "re.findall(r'(\\b\\w+\\b)',example_address)"
   ]
  },
  {
   "cell_type": "markdown",
   "metadata": {},
   "source": [
    "Let's pretend there wasn't a \"party\" field but the only party information we had was inside the \"member_full\" field."
   ]
  },
  {
   "cell_type": "code",
   "execution_count": 41,
   "metadata": {
    "collapsed": false
   },
   "outputs": [
    {
     "data": {
      "text/plain": [
       "'Alexander (R-TN)'"
      ]
     },
     "execution_count": 41,
     "metadata": {},
     "output_type": "execute_result"
    }
   ],
   "source": [
    "example_member_full = senator_dict[0]['member_full']\n",
    "example_member_full"
   ]
  },
  {
   "cell_type": "markdown",
   "metadata": {},
   "source": [
    "We can match any character with the `.` dot and catch all of them with the `+`. However, we want the content inside the parentheses but we know from above that the parentheses inside a regex have special functions. So we can *escape* the parentheses with a forward slash so that the pattern actually tries to match parentheses in the string itself."
   ]
  },
  {
   "cell_type": "code",
   "execution_count": 44,
   "metadata": {
    "collapsed": false
   },
   "outputs": [
    {
     "data": {
      "text/plain": [
       "'(R-TN)'"
      ]
     },
     "execution_count": 44,
     "metadata": {},
     "output_type": "execute_result"
    }
   ],
   "source": [
    "re.findall(r'\\(.+\\)',example_member_full)[0]"
   ]
  },
  {
   "cell_type": "code",
   "execution_count": 45,
   "metadata": {
    "collapsed": false
   },
   "outputs": [
    {
     "data": {
      "text/plain": [
       "'(R-TN)'"
      ]
     },
     "execution_count": 45,
     "metadata": {},
     "output_type": "execute_result"
    }
   ],
   "source": [
    "re.findall(r'\\(R-TN\\)',example_member_full)[0]"
   ]
  },
  {
   "cell_type": "code",
   "execution_count": 46,
   "metadata": {
    "collapsed": false
   },
   "outputs": [
    {
     "data": {
      "text/plain": [
       "'(R-TN)'"
      ]
     },
     "execution_count": 46,
     "metadata": {},
     "output_type": "execute_result"
    }
   ],
   "source": [
    "re.findall(r'\\(\\w-\\w{2}\\)',example_member_full)[0] # Now matches R and any \"-XX\" where x are any word characters"
   ]
  },
  {
   "cell_type": "markdown",
   "metadata": {},
   "source": [
    "Again assuming that every senator is a Democrat, Republican, or Independent, we can also try to match combinations of regular expressions. For instance, we can match the D, R, or I joined by the pipes."
   ]
  },
  {
   "cell_type": "code",
   "execution_count": 47,
   "metadata": {
    "collapsed": false
   },
   "outputs": [
    {
     "data": {
      "text/plain": [
       "'R'"
      ]
     },
     "execution_count": 47,
     "metadata": {},
     "output_type": "execute_result"
    }
   ],
   "source": [
    "re.findall(r'\\(D|R|I-\\w{2}\\)',example_member_full)[0]"
   ]
  },
  {
   "cell_type": "markdown",
   "metadata": {},
   "source": [
    "Now imagine we wanted to catch the state instead. The pipe notation we used above is \"greedy\" in the sense that once they match, it stops looking so we never get to return the state abbreviate we indended it should return inside the parentheses."
   ]
  },
  {
   "cell_type": "code",
   "execution_count": 48,
   "metadata": {
    "collapsed": false
   },
   "outputs": [
    {
     "data": {
      "text/plain": [
       "''"
      ]
     },
     "execution_count": 48,
     "metadata": {},
     "output_type": "execute_result"
    }
   ],
   "source": [
    "re.findall(r'\\(D|R|I-(\\w{2})\\)',example_member_full)[0]"
   ]
  },
  {
   "cell_type": "markdown",
   "metadata": {},
   "source": [
    "One solution is to put the `D|R|I` inside parentheses so that both matches are treated equally and will return even if they're for different purposes."
   ]
  },
  {
   "cell_type": "code",
   "execution_count": 49,
   "metadata": {
    "collapsed": false
   },
   "outputs": [
    {
     "data": {
      "text/plain": [
       "('R', 'TN')"
      ]
     },
     "execution_count": 49,
     "metadata": {},
     "output_type": "execute_result"
    }
   ],
   "source": [
    "re.findall(r'\\((D|R|I)-(\\w{2})\\)',example_member_full)[0]"
   ]
  },
  {
   "cell_type": "markdown",
   "metadata": {},
   "source": [
    "Back up a step and swap out the `D|R|I` and just match any one-character party identification."
   ]
  },
  {
   "cell_type": "code",
   "execution_count": 50,
   "metadata": {
    "collapsed": false
   },
   "outputs": [
    {
     "data": {
      "text/plain": [
       "'TN'"
      ]
     },
     "execution_count": 50,
     "metadata": {},
     "output_type": "execute_result"
    }
   ],
   "source": [
    "re.findall(r'\\(\\w-(\\w{2})\\)',example_member_full)[0]"
   ]
  },
  {
   "cell_type": "markdown",
   "metadata": {},
   "source": [
    "Let's combine all of these."
   ]
  },
  {
   "cell_type": "code",
   "execution_count": 51,
   "metadata": {
    "collapsed": false
   },
   "outputs": [
    {
     "name": "stdout",
     "output_type": "stream",
     "text": [
      "Lamar Alexander (R) represents TN: Office room is 455, building is Dirksen, and ZIP is 20510\n"
     ]
    },
    {
     "ename": "IndexError",
     "evalue": "list index out of range",
     "output_type": "error",
     "traceback": [
      "\u001b[0;31m---------------------------------------------------------------------------\u001b[0m",
      "\u001b[0;31mIndexError\u001b[0m                                Traceback (most recent call last)",
      "\u001b[0;32m<ipython-input-51-645e903caa5d>\u001b[0m in \u001b[0;36m<module>\u001b[0;34m()\u001b[0m\n\u001b[1;32m      2\u001b[0m     \u001b[0moffice_room\u001b[0m \u001b[0;34m=\u001b[0m \u001b[0mre\u001b[0m\u001b[0;34m.\u001b[0m\u001b[0mfindall\u001b[0m\u001b[0;34m(\u001b[0m\u001b[0;34mr'\\b\\d{3}\\b'\u001b[0m\u001b[0;34m,\u001b[0m\u001b[0msenator\u001b[0m\u001b[0;34m[\u001b[0m\u001b[0;34m'address'\u001b[0m\u001b[0;34m]\u001b[0m\u001b[0;34m)\u001b[0m\u001b[0;34m[\u001b[0m\u001b[0;36m0\u001b[0m\u001b[0;34m]\u001b[0m\u001b[0;34m\u001b[0m\u001b[0m\n\u001b[1;32m      3\u001b[0m     \u001b[0moffice_zip\u001b[0m \u001b[0;34m=\u001b[0m \u001b[0mre\u001b[0m\u001b[0;34m.\u001b[0m\u001b[0mfindall\u001b[0m\u001b[0;34m(\u001b[0m\u001b[0;34mr'\\b\\d{5}\\b'\u001b[0m\u001b[0;34m,\u001b[0m\u001b[0msenator\u001b[0m\u001b[0;34m[\u001b[0m\u001b[0;34m'address'\u001b[0m\u001b[0;34m]\u001b[0m\u001b[0;34m)\u001b[0m\u001b[0;34m[\u001b[0m\u001b[0;36m0\u001b[0m\u001b[0;34m]\u001b[0m\u001b[0;34m\u001b[0m\u001b[0m\n\u001b[0;32m----> 4\u001b[0;31m     \u001b[0moffice_building\u001b[0m \u001b[0;34m=\u001b[0m \u001b[0mre\u001b[0m\u001b[0;34m.\u001b[0m\u001b[0mfindall\u001b[0m\u001b[0;34m(\u001b[0m\u001b[0;34mr'(\\b\\w+\\b) Senate Office Building'\u001b[0m\u001b[0;34m,\u001b[0m\u001b[0msenator\u001b[0m\u001b[0;34m[\u001b[0m\u001b[0;34m'address'\u001b[0m\u001b[0;34m]\u001b[0m\u001b[0;34m)\u001b[0m\u001b[0;34m[\u001b[0m\u001b[0;36m0\u001b[0m\u001b[0;34m]\u001b[0m\u001b[0;34m\u001b[0m\u001b[0m\n\u001b[0m\u001b[1;32m      5\u001b[0m     \u001b[0mparty\u001b[0m \u001b[0;34m=\u001b[0m \u001b[0mre\u001b[0m\u001b[0;34m.\u001b[0m\u001b[0mfindall\u001b[0m\u001b[0;34m(\u001b[0m\u001b[0;34mr'\\((R|D|I)-\\w{2}\\)'\u001b[0m\u001b[0;34m,\u001b[0m\u001b[0msenator\u001b[0m\u001b[0;34m[\u001b[0m\u001b[0;34m'member_full'\u001b[0m\u001b[0;34m]\u001b[0m\u001b[0;34m)\u001b[0m\u001b[0;34m[\u001b[0m\u001b[0;36m0\u001b[0m\u001b[0;34m]\u001b[0m\u001b[0;34m\u001b[0m\u001b[0m\n\u001b[1;32m      6\u001b[0m     \u001b[0mstate\u001b[0m \u001b[0;34m=\u001b[0m \u001b[0mre\u001b[0m\u001b[0;34m.\u001b[0m\u001b[0mfindall\u001b[0m\u001b[0;34m(\u001b[0m\u001b[0;34mr'\\(\\w-(\\w{2})\\)'\u001b[0m\u001b[0;34m,\u001b[0m\u001b[0mexample_member_full\u001b[0m\u001b[0;34m)\u001b[0m\u001b[0;34m[\u001b[0m\u001b[0;36m0\u001b[0m\u001b[0;34m]\u001b[0m\u001b[0;34m\u001b[0m\u001b[0m\n",
      "\u001b[0;31mIndexError\u001b[0m: list index out of range"
     ]
    }
   ],
   "source": [
    "for senator in senator_dict:\n",
    "    office_room = re.findall(r'\\b\\d{3}\\b',senator['address'])[0]\n",
    "    office_zip = re.findall(r'\\b\\d{5}\\b',senator['address'])[0]\n",
    "    office_building = re.findall(r'(\\b\\w+\\b) Senate Office Building',senator['address'])[0]\n",
    "    party = re.findall(r'\\((R|D|I)-\\w{2}\\)',senator['member_full'])[0]\n",
    "    state = re.findall(r'\\(\\w-(\\w{2})\\)',example_member_full)[0]\n",
    "    print('{0} {1} ({2}) represents {3}: Office room is {4}, building is {5}, and ZIP is {6}'.format(senator['first_name'],senator['last_name'],party,state,office_room,office_building,office_zip))"
   ]
  },
  {
   "cell_type": "markdown",
   "metadata": {},
   "source": [
    "It turns out Tammy Baldwin doesn't have a \"Senate Office Building\" in her address. An inconsistency in the raw data! Oh well, such is the data life."
   ]
  },
  {
   "cell_type": "code",
   "execution_count": 52,
   "metadata": {
    "collapsed": false
   },
   "outputs": [
    {
     "data": {
      "text/plain": [
       "'709 Hart Washington DC 20510'"
      ]
     },
     "execution_count": 52,
     "metadata": {},
     "output_type": "execute_result"
    }
   ],
   "source": [
    "exception_address = senator_dict[1]['address']\n",
    "exception_address"
   ]
  },
  {
   "cell_type": "markdown",
   "metadata": {},
   "source": [
    "We could try to code for these kinds of exceptions."
   ]
  },
  {
   "cell_type": "code",
   "execution_count": 53,
   "metadata": {
    "collapsed": false
   },
   "outputs": [
    {
     "data": {
      "text/plain": [
       "['Hart']"
      ]
     },
     "execution_count": 53,
     "metadata": {},
     "output_type": "execute_result"
    }
   ],
   "source": [
    "re.findall(r'\\d+ (\\w+|\\w+ Senate Office Building).+Washington',exception_address)"
   ]
  },
  {
   "cell_type": "markdown",
   "metadata": {},
   "source": [
    "Make sure it still matches the initial `example_address` test case."
   ]
  },
  {
   "cell_type": "code",
   "execution_count": 54,
   "metadata": {
    "collapsed": false
   },
   "outputs": [
    {
     "data": {
      "text/plain": [
       "['Dirksen']"
      ]
     },
     "execution_count": 54,
     "metadata": {},
     "output_type": "execute_result"
    }
   ],
   "source": [
    "re.findall(r'\\d+ (\\w+|\\w+ Senate Office Building).+Washington',example_address)"
   ]
  },
  {
   "cell_type": "markdown",
   "metadata": {},
   "source": [
    "We should skip her for now then. It looks like there are still a few more inconsistencies in the data, but we're still getting most of it."
   ]
  },
  {
   "cell_type": "code",
   "execution_count": 80,
   "metadata": {
    "collapsed": false
   },
   "outputs": [
    {
     "name": "stdout",
     "output_type": "stream",
     "text": [
      "Lamar Alexander (R) represents TN: Office room is 455, building is Dirksen, and ZIP is 20510\n",
      "Tammy Baldwin (D) represents WI: Office room is 709, building is Hart, and ZIP is 20510\n",
      "John Barrasso (R) represents WY: Office room is 307, building is Dirksen, and ZIP is 20510\n",
      "Michael F. Bennet (D) represents CO: Office room is 261, building is Russell, and ZIP is 20510\n",
      "Richard Blumenthal (D) represents CT: Office room is 706, building is Hart, and ZIP is 20510\n",
      "Roy Blunt (R) represents MO: Office room is 260, building is Russell, and ZIP is 20510\n",
      "Cory A. Booker (D) represents NJ: Office room is 359, building is Dirksen, and ZIP is 20510\n",
      "John Boozman (R) represents AR: Office room is 141, building is Hart, and ZIP is 20510\n",
      "Sherrod Brown (D) represents OH: Office room is 713, building is Hart, and ZIP is 20510\n",
      "Richard Burr (R) represents NC: Office room is 217, building is Russell, and ZIP is 20510\n",
      "Maria Cantwell (D) represents WA: Office room is 511, building is Hart, and ZIP is 20510\n",
      "Shelley Moore Capito (R) represents WV: Office room is 172, building is Russell, and ZIP is 20510\n",
      "Benjamin L. Cardin (D) represents MD: Office room is 509, building is Hart, and ZIP is 20510\n",
      "Thomas R. Carper (D) represents DE: Office room is 513, building is Hart, and ZIP is 20510\n",
      "Robert P., Jr. Casey (D) represents PA: Office room is 393, building is Russell, and ZIP is 20510\n",
      "Bill Cassidy (R) represents LA: Office room is 520, building is Hart, and ZIP is 20510\n",
      "Thad Cochran (R) represents MS: Office room is 113, building is Dirksen, and ZIP is 20510\n",
      "Susan M. Collins (R) represents ME: Office room is 413, building is Dirksen, and ZIP is 20510\n",
      "Christopher A. Coons had an error\n",
      "Bob Corker (R) represents TN: Office room is 425, building is Dirksen, and ZIP is 20510\n",
      "John Cornyn (R) represents TX: Office room is 517, building is Hart, and ZIP is 20510\n",
      "Catherine Cortez Masto had an error\n",
      "Tom Cotton (R) represents AR: Office room is 124, building is Russell, and ZIP is 20510\n",
      "Mike Crapo (R) represents ID: Office room is 239, building is Dirksen, and ZIP is 20510\n",
      "Ted Cruz (R) represents TX: Office room is 404, building is Russell, and ZIP is 20510\n",
      "Steve Daines (R) represents MT: Office room is 320, building is Hart, and ZIP is 20510\n",
      "Joe Donnelly (D) represents IN: Office room is 720, building is Hart, and ZIP is 20510\n",
      "Tammy Duckworth (D) represents IL: Office room is 524, building is Hart, and ZIP is 20510\n",
      "Richard J. Durbin (D) represents IL: Office room is 711, building is Hart, and ZIP is 20510\n",
      "Michael B. Enzi had an error\n",
      "Joni Ernst (R) represents IA: Office room is 111, building is Russell, and ZIP is 20510\n",
      "Dianne Feinstein (D) represents CA: Office room is 331, building is Hart, and ZIP is 20510\n",
      "Deb Fischer (R) represents NE: Office room is 454, building is Russell, and ZIP is 20510\n",
      "Jeff Flake (R) represents AZ: Office room is 413, building is Russell, and ZIP is 20510\n",
      "Al Franken (D) represents MN: Office room is 309, building is Hart, and ZIP is 20510\n",
      "Cory Gardner (R) represents CO: Office room is 354, building is Russell, and ZIP is 20510\n",
      "Kirsten E. Gillibrand (D) represents NY: Office room is 478, building is Russell, and ZIP is 20510\n",
      "Lindsey Graham (R) represents SC: Office room is 290, building is Russell, and ZIP is 20510\n",
      "Chuck Grassley (R) represents IA: Office room is 135, building is Hart, and ZIP is 20510\n",
      "Kamala D. Harris (D) represents CA: Office room is 112, building is Hart, and ZIP is 20510\n",
      "Margaret Wood Hassan (D) represents NH: Office room is 330, building is Hart, and ZIP is 20510\n",
      "Orrin G. Hatch (R) represents UT: Office room is 104, building is Hart, and ZIP is 20510\n",
      "Martin Heinrich (D) represents NM: Office room is 303, building is Hart, and ZIP is 20510\n",
      "Heidi Heitkamp (D) represents ND: Office room is 516, building is Hart, and ZIP is 20510\n",
      "Dean Heller (R) represents NV: Office room is 324, building is Hart, and ZIP is 20510\n",
      "Mazie K. Hirono (D) represents HI: Office room is 730, building is Hart, and ZIP is 20510\n",
      "John Hoeven (R) represents ND: Office room is 338, building is Russell, and ZIP is 20510\n",
      "James M. Inhofe (R) represents OK: Office room is 205, building is Russell, and ZIP is 20510\n",
      "Johnny Isakson (R) represents GA: Office room is 131, building is Russell, and ZIP is 20510\n",
      "Ron Johnson (R) represents WI: Office room is 328, building is Hart, and ZIP is 20510\n",
      "Tim Kaine (D) represents VA: Office room is 231, building is Russell, and ZIP is 20510\n",
      "John Kennedy (R) represents LA: Office room is B11, building is Russell, and ZIP is 20510\n",
      "Angus S., Jr. King (I) represents ME: Office room is 133, building is Hart, and ZIP is 20510\n",
      "Amy Klobuchar (D) represents MN: Office room is 302, building is Hart, and ZIP is 20510\n",
      "James Lankford (R) represents OK: Office room is 316, building is Hart, and ZIP is 20510\n",
      "Patrick J. Leahy (D) represents VT: Office room is 437, building is Russell, and ZIP is 20510\n",
      "Mike Lee had an error\n",
      "Joe, III Manchin (D) represents WV: Office room is 306, building is Hart, and ZIP is 20510\n",
      "Edward J. Markey (D) represents MA: Office room is 255, building is Dirksen, and ZIP is 20510\n",
      "John McCain (R) represents AZ: Office room is 218, building is Russell, and ZIP is 20510\n",
      "Claire McCaskill (D) represents MO: Office room is 503, building is Hart, and ZIP is 20510\n",
      "Mitch McConnell (R) represents KY: Office room is 317, building is Russell, and ZIP is 20510\n",
      "Robert Menendez (D) represents NJ: Office room is 528, building is Hart, and ZIP is 20510\n",
      "Jeff Merkley (D) represents OR: Office room is 313, building is Hart, and ZIP is 20510\n",
      "Jerry Moran (R) represents KS: Office room is 521, building is Dirksen, and ZIP is 20510\n",
      "Lisa Murkowski (R) represents AK: Office room is 522, building is Hart, and ZIP is 20510\n",
      "Christopher Murphy (D) represents CT: Office room is 136, building is Hart, and ZIP is 20510\n",
      "Patty Murray (D) represents WA: Office room is 154, building is Russell, and ZIP is 20510\n",
      "Bill Nelson (D) represents FL: Office room is 716, building is Hart, and ZIP is 20510\n",
      "Rand Paul (R) represents KY: Office room is 167, building is Russell, and ZIP is 20510\n",
      "David Perdue (R) represents GA: Office room is 383, building is Russell, and ZIP is 20510\n",
      "Gary C. Peters (D) represents MI: Office room is 724, building is Hart, and ZIP is 20510\n",
      "Rob Portman (R) represents OH: Office room is 448, building is Russell, and ZIP is 20510\n",
      "Jack Reed (D) represents RI: Office room is 728, building is Hart, and ZIP is 20510\n",
      "James E. Risch (R) represents ID: Office room is 483, building is Russell, and ZIP is 20510\n",
      "Pat Roberts (R) represents KS: Office room is 109, building is Hart, and ZIP is 20510\n",
      "Mike Rounds (R) represents SD: Office room is 502, building is Hart, and ZIP is 20510\n",
      "Marco Rubio (R) represents FL: Office room is 284, building is Russell, and ZIP is 20510\n",
      "Bernard Sanders (I) represents VT: Office room is 332, building is Dirksen, and ZIP is 20510\n",
      "Ben Sasse (R) represents NE: Office room is 136, building is Russell, and ZIP is 20510\n",
      "Brian Schatz (D) represents HI: Office room is 722, building is Hart, and ZIP is 20510\n",
      "Charles E. Schumer (D) represents NY: Office room is 322, building is Hart, and ZIP is 20510\n",
      "Tim Scott (R) represents SC: Office room is 717, building is Hart, and ZIP is 20510\n",
      "Jeanne Shaheen (D) represents NH: Office room is 506, building is Hart, and ZIP is 20510\n",
      "Richard C. Shelby (R) represents AL: Office room is 304, building is Russell, and ZIP is 20510\n",
      "Debbie Stabenow (D) represents MI: Office room is 731, building is Hart, and ZIP is 20510\n",
      "Luther Strange had an error\n",
      "Dan Sullivan (R) represents AK: Office room is 702, building is Hart, and ZIP is 20510\n",
      "Jon Tester (D) represents MT: Office room is 311, building is Hart, and ZIP is 20510\n",
      "John Thune (R) represents SD: Office room is 511, building is Dirksen, and ZIP is 20510\n",
      "Thom Tillis (R) represents NC: Office room is 185, building is Dirksen, and ZIP is 20510\n",
      "Patrick J. Toomey (R) represents PA: Office room is 248, building is Russell, and ZIP is 20510\n",
      "Tom Udall (D) represents NM: Office room is 531, building is Hart, and ZIP is 20510\n",
      "Chris Van Hollen (D) represents MD: Office room is 110, building is Hart, and ZIP is 20510\n",
      "Mark R. Warner (D) represents VA: Office room is 703, building is Hart, and ZIP is 20510\n",
      "Elizabeth Warren (D) represents MA: Office room is 317, building is Hart, and ZIP is 20510\n",
      "Sheldon Whitehouse (D) represents RI: Office room is 530, building is Hart, and ZIP is 20510\n",
      "Roger F. Wicker (R) represents MS: Office room is 555, building is Dirksen, and ZIP is 20510\n",
      "Ron Wyden (D) represents OR: Office room is 221, building is Dirksen, and ZIP is 20510\n",
      "Todd Young (R) represents IN: Office room is 400, building is Russell, and ZIP is 20510\n"
     ]
    }
   ],
   "source": [
    "for senator in senator_dict:\n",
    "    try:\n",
    "        office_room = re.findall(r'\\b\\w{3,4}\\b',senator['address'])[0]\n",
    "        office_zip = re.findall(r'\\b\\d{5}\\b',senator['address'])[0]\n",
    "        office_building = re.findall(r'\\d+ (\\w+|\\w+ Senate Office Building).+Washington',senator['address'])[0]\n",
    "        party = re.findall(r'\\((R|D|I)-\\w{2}\\)',senator['member_full'])[0]\n",
    "        state = re.findall(r'\\(\\w-(\\w{2})\\)',senator['member_full'])[0]\n",
    "        print('{0} {1} ({2}) represents {3}: Office room is {4}, building is {5}, and ZIP is {6}'.format(senator['first_name'],senator['last_name'],party,state,office_room,office_building,office_zip))\n",
    "    except IndexError:\n",
    "        print('{0} {1} had an error'.format(senator['first_name'],senator['last_name']))"
   ]
  },
  {
   "cell_type": "code",
   "execution_count": null,
   "metadata": {
    "collapsed": true
   },
   "outputs": [],
   "source": []
  }
 ],
 "metadata": {
  "anaconda-cloud": {},
  "kernelspec": {
   "display_name": "Python [conda root]",
   "language": "python",
   "name": "conda-root-py"
  },
  "language_info": {
   "codemirror_mode": {
    "name": "ipython",
    "version": 3
   },
   "file_extension": ".py",
   "mimetype": "text/x-python",
   "name": "python",
   "nbconvert_exporter": "python",
   "pygments_lexer": "ipython3",
   "version": "3.5.2"
  }
 },
 "nbformat": 4,
 "nbformat_minor": 1
}
