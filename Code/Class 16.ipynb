{
 "cells": [
  {
   "cell_type": "markdown",
   "metadata": {},
   "source": [
    "# Class 16: Reinforcing data structures with unique elements\n",
    "\n",
    "The previous class provided an introduction into how to work with sets and dictionaries by constructing, accessing, and mutating these objects. We also looked at some real world examples in terms of how APIs like Twitter's returns structured meta-data in the form of dictionaries. \n",
    "\n",
    "Dictionaries have some nice performance $O(1)$ properties for accessing and mutating data compared to lists. In this class, we'll explore how dictionaries and sets take advantage of [hash functions](https://en.wikipedia.org/wiki/Hash_function) to achieve these high levels of performance. Hashing also has [applications for cryptography](https://en.wikipedia.org/wiki/Cryptographic_hash_function) to secure data by making it difficult for un-authenticated users to access data or alternatively make it obvious if someone altered the data. \n",
    "\n",
    "This lesson is adapted from the following resources:\n",
    "\n",
    "* [Hashing Strings with Python](http://pythoncentral.io/hashing-strings-with-python/), Python Central.\n",
    "* [Python dictionary implementation](http://www.laurentluce.com/posts/python-dictionary-implementation/), Laurent Luce.\n",
    "* [What happens when you mess with hashing in Python](http://www.asmeurer.com/blog/posts/what-happens-when-you-mess-with-hashing-in-python/), Aaron Meurer's Blog.\n",
    "* [Hashing](http://interactivepython.org/runestone/static/pythonds/SortSearch/Hashing.html), Problem Solving with Algorithms and Data Structures.\n",
    "* [What does `hash` do in python?](http://stackoverflow.com/questions/17585730/what-does-hash-do-in-python), Stack Overflow.\n",
    "\n",
    "## Hashing functions\n",
    "A hash function takes an input of some variable length and converts it to a fixed length sequence. Hashing has the property of calculating the hashed value of an input is extremely fast but trying to reverse from a hash back to the input is enormously expensive. This makes them great for cryptography where you want to easily encode information while making it difficult to decode. \n",
    "\n",
    "The value it puts out can be called a hash, message digest, hash value, or checksum. \n",
    "\n",
    "Most hash functions should produce unique outputs for a given input, but in some cases *collisions* can occur where two different inputs result in the same hash value. Understanding why this happens requires diving deeper into the mathematical theory of hashing functions, but we'll simply assert that hashing functions should always return a unique hash value.\n",
    "\n",
    "Vanilla Python has a [`hash`](https://docs.python.org/3/library/functions.html#hash) function we can call without importing anything as well as a [`hashlib`](https://docs.python.org/3/library/hashlib.html#) that implements more complicated approaches. In Python 3.3 and up, the hash of the same object like `hash('a')` will differ based on a randomized seed from the start of each session. This is primarily for security."
   ]
  },
  {
   "cell_type": "code",
   "execution_count": 1,
   "metadata": {
    "collapsed": false
   },
   "outputs": [
    {
     "data": {
      "text/plain": [
       "0"
      ]
     },
     "execution_count": 1,
     "metadata": {},
     "output_type": "execute_result"
    }
   ],
   "source": [
    "hash(0)"
   ]
  },
  {
   "cell_type": "code",
   "execution_count": 7,
   "metadata": {
    "collapsed": false
   },
   "outputs": [
    {
     "data": {
      "text/plain": [
       "1"
      ]
     },
     "execution_count": 7,
     "metadata": {},
     "output_type": "execute_result"
    }
   ],
   "source": [
    "hash(1)"
   ]
  },
  {
   "cell_type": "code",
   "execution_count": 3,
   "metadata": {
    "collapsed": false
   },
   "outputs": [
    {
     "data": {
      "text/plain": [
       "1"
      ]
     },
     "execution_count": 3,
     "metadata": {},
     "output_type": "execute_result"
    }
   ],
   "source": [
    "hash(1.0)"
   ]
  },
  {
   "cell_type": "code",
   "execution_count": 4,
   "metadata": {
    "collapsed": false
   },
   "outputs": [
    {
     "data": {
      "text/plain": [
       "1"
      ]
     },
     "execution_count": 4,
     "metadata": {},
     "output_type": "execute_result"
    }
   ],
   "source": [
    "hash(True)"
   ]
  },
  {
   "cell_type": "code",
   "execution_count": 5,
   "metadata": {
    "collapsed": false
   },
   "outputs": [
    {
     "data": {
      "text/plain": [
       "0"
      ]
     },
     "execution_count": 5,
     "metadata": {},
     "output_type": "execute_result"
    }
   ],
   "source": [
    "hash(False)"
   ]
  },
  {
   "cell_type": "code",
   "execution_count": 1,
   "metadata": {
    "collapsed": false
   },
   "outputs": [
    {
     "data": {
      "text/plain": [
       "-2503828751330989411"
      ]
     },
     "execution_count": 1,
     "metadata": {},
     "output_type": "execute_result"
    }
   ],
   "source": [
    "hash('1')"
   ]
  },
  {
   "cell_type": "code",
   "execution_count": 2,
   "metadata": {
    "collapsed": false
   },
   "outputs": [
    {
     "data": {
      "text/plain": [
       "1138401930875163393"
      ]
     },
     "execution_count": 2,
     "metadata": {},
     "output_type": "execute_result"
    }
   ],
   "source": [
    "hash('a')"
   ]
  },
  {
   "cell_type": "markdown",
   "metadata": {},
   "source": [
    "We can hash longer strings as well. This is often how passwords are securely stored in databases."
   ]
  },
  {
   "cell_type": "code",
   "execution_count": 5,
   "metadata": {
    "collapsed": true
   },
   "outputs": [],
   "source": [
    "_short = 'abcd'\n",
    "_long = 'abcd'*100000000"
   ]
  },
  {
   "cell_type": "code",
   "execution_count": 6,
   "metadata": {
    "collapsed": false
   },
   "outputs": [
    {
     "data": {
      "text/plain": [
       "-7672584178109169190"
      ]
     },
     "execution_count": 6,
     "metadata": {},
     "output_type": "execute_result"
    }
   ],
   "source": [
    "hash(_short)"
   ]
  },
  {
   "cell_type": "code",
   "execution_count": 7,
   "metadata": {
    "collapsed": false
   },
   "outputs": [
    {
     "data": {
      "text/plain": [
       "-8229056510577254563"
      ]
     },
     "execution_count": 7,
     "metadata": {},
     "output_type": "execute_result"
    }
   ],
   "source": [
    "hash(_long)"
   ]
  },
  {
   "cell_type": "markdown",
   "metadata": {},
   "source": [
    "We haven't talked about tuples much, but these are a linear data structure like a list but are \"immutable\" because we can't change them (*i.e.*, use mutator methods like append) once they're created. The reason why we'd want such a functionality is because we can hash tuples!"
   ]
  },
  {
   "cell_type": "code",
   "execution_count": 10,
   "metadata": {
    "collapsed": true
   },
   "outputs": [],
   "source": [
    "['a','b','c'].append('d')"
   ]
  },
  {
   "cell_type": "code",
   "execution_count": 14,
   "metadata": {
    "collapsed": false
   },
   "outputs": [
    {
     "data": {
      "text/plain": [
       "'b'"
      ]
     },
     "execution_count": 14,
     "metadata": {},
     "output_type": "execute_result"
    }
   ],
   "source": [
    "('a','b','c')"
   ]
  },
  {
   "cell_type": "code",
   "execution_count": 15,
   "metadata": {
    "collapsed": false
   },
   "outputs": [
    {
     "data": {
      "text/plain": [
       "1742628348583651419"
      ]
     },
     "execution_count": 15,
     "metadata": {},
     "output_type": "execute_result"
    }
   ],
   "source": [
    "hash(('a','b','c','d'))"
   ]
  },
  {
   "cell_type": "markdown",
   "metadata": {},
   "source": [
    "In contrast, mutable data structures like lists, sets, and dictionaries can't be hashed and will return `TypeError` if you try to hash them."
   ]
  },
  {
   "cell_type": "code",
   "execution_count": 16,
   "metadata": {
    "collapsed": false
   },
   "outputs": [
    {
     "ename": "TypeError",
     "evalue": "unhashable type: 'list'",
     "output_type": "error",
     "traceback": [
      "\u001b[0;31m---------------------------------------------------------------------------\u001b[0m",
      "\u001b[0;31mTypeError\u001b[0m                                 Traceback (most recent call last)",
      "\u001b[0;32m<ipython-input-16-e51560961306>\u001b[0m in \u001b[0;36m<module>\u001b[0;34m()\u001b[0m\n\u001b[0;32m----> 1\u001b[0;31m \u001b[0mhash\u001b[0m\u001b[0;34m(\u001b[0m\u001b[0;34m[\u001b[0m\u001b[0;34m'a'\u001b[0m\u001b[0;34m,\u001b[0m\u001b[0;34m'b'\u001b[0m\u001b[0;34m,\u001b[0m\u001b[0;34m'c'\u001b[0m\u001b[0;34m,\u001b[0m\u001b[0;34m'd'\u001b[0m\u001b[0;34m]\u001b[0m\u001b[0;34m)\u001b[0m\u001b[0;34m\u001b[0m\u001b[0m\n\u001b[0m",
      "\u001b[0;31mTypeError\u001b[0m: unhashable type: 'list'"
     ]
    }
   ],
   "source": [
    "hash(['a','b','c','d'])"
   ]
  },
  {
   "cell_type": "code",
   "execution_count": 17,
   "metadata": {
    "collapsed": false
   },
   "outputs": [
    {
     "ename": "TypeError",
     "evalue": "unhashable type: 'set'",
     "output_type": "error",
     "traceback": [
      "\u001b[0;31m---------------------------------------------------------------------------\u001b[0m",
      "\u001b[0;31mTypeError\u001b[0m                                 Traceback (most recent call last)",
      "\u001b[0;32m<ipython-input-17-cfa1bdfa164a>\u001b[0m in \u001b[0;36m<module>\u001b[0;34m()\u001b[0m\n\u001b[1;32m      1\u001b[0m \u001b[0mstring_set\u001b[0m \u001b[0;34m=\u001b[0m \u001b[0mset\u001b[0m\u001b[0;34m(\u001b[0m\u001b[0;34m[\u001b[0m\u001b[0;34m'a'\u001b[0m\u001b[0;34m,\u001b[0m\u001b[0;34m'b'\u001b[0m\u001b[0;34m,\u001b[0m\u001b[0;34m'c'\u001b[0m\u001b[0;34m,\u001b[0m\u001b[0;34m'd'\u001b[0m\u001b[0;34m]\u001b[0m\u001b[0;34m)\u001b[0m\u001b[0;34m\u001b[0m\u001b[0m\n\u001b[0;32m----> 2\u001b[0;31m \u001b[0mhash\u001b[0m\u001b[0;34m(\u001b[0m\u001b[0mstring_set\u001b[0m\u001b[0;34m)\u001b[0m\u001b[0;34m\u001b[0m\u001b[0m\n\u001b[0m",
      "\u001b[0;31mTypeError\u001b[0m: unhashable type: 'set'"
     ]
    }
   ],
   "source": [
    "string_set = set(['a','b','c','d'])\n",
    "hash(string_set)"
   ]
  },
  {
   "cell_type": "code",
   "execution_count": 18,
   "metadata": {
    "collapsed": false
   },
   "outputs": [
    {
     "ename": "TypeError",
     "evalue": "unhashable type: 'dict'",
     "output_type": "error",
     "traceback": [
      "\u001b[0;31m---------------------------------------------------------------------------\u001b[0m",
      "\u001b[0;31mTypeError\u001b[0m                                 Traceback (most recent call last)",
      "\u001b[0;32m<ipython-input-18-44def9788331>\u001b[0m in \u001b[0;36m<module>\u001b[0;34m()\u001b[0m\n\u001b[0;32m----> 1\u001b[0;31m \u001b[0mhash\u001b[0m\u001b[0;34m(\u001b[0m\u001b[0;34m{\u001b[0m\u001b[0;34m'a'\u001b[0m\u001b[0;34m:\u001b[0m\u001b[0;36m1\u001b[0m\u001b[0;34m}\u001b[0m\u001b[0;34m)\u001b[0m\u001b[0;34m\u001b[0m\u001b[0m\n\u001b[0m",
      "\u001b[0;31mTypeError\u001b[0m: unhashable type: 'dict'"
     ]
    }
   ],
   "source": [
    "hash({'a':1})"
   ]
  },
  {
   "cell_type": "markdown",
   "metadata": {},
   "source": [
    "You can hash an object."
   ]
  },
  {
   "cell_type": "code",
   "execution_count": 19,
   "metadata": {
    "collapsed": false
   },
   "outputs": [
    {
     "data": {
      "text/plain": [
       "-9223372036579304234"
      ]
     },
     "execution_count": 19,
     "metadata": {},
     "output_type": "execute_result"
    }
   ],
   "source": [
    "class Foo(object):\n",
    "    def __init__(self,identifier):\n",
    "        self.identifer = identifier\n",
    "        self.items = []\n",
    "        \n",
    "    def add_item(self,item):\n",
    "        self.items.append(item)\n",
    "        \n",
    "f = Foo(1)\n",
    "hash(f)"
   ]
  },
  {
   "cell_type": "markdown",
   "metadata": {},
   "source": [
    "Interestingly, after we mutate our object it still has the same hash."
   ]
  },
  {
   "cell_type": "code",
   "execution_count": 20,
   "metadata": {
    "collapsed": false
   },
   "outputs": [
    {
     "data": {
      "text/plain": [
       "-9223372036579304234"
      ]
     },
     "execution_count": 20,
     "metadata": {},
     "output_type": "execute_result"
    }
   ],
   "source": [
    "f.add_item(1)\n",
    "hash(f)"
   ]
  },
  {
   "cell_type": "markdown",
   "metadata": {},
   "source": [
    "## Dictionaries rely on hashing"
   ]
  },
  {
   "cell_type": "markdown",
   "metadata": {},
   "source": [
    "Remember dictionaries allow us to map unique keys to their values. The keys must be unique, but they don't have to be similarly typed. `test_dict_1` below has keys 'a' and 2 mapping to values 1 and 'b', respectively."
   ]
  },
  {
   "cell_type": "code",
   "execution_count": 21,
   "metadata": {
    "collapsed": false
   },
   "outputs": [
    {
     "data": {
      "text/plain": [
       "{'a': 1, 2: 'b'}"
      ]
     },
     "execution_count": 21,
     "metadata": {},
     "output_type": "execute_result"
    }
   ],
   "source": [
    "test_dict_1 = {'a':1,2:'b'}\n",
    "test_dict_1"
   ]
  },
  {
   "cell_type": "code",
   "execution_count": 22,
   "metadata": {
    "collapsed": false
   },
   "outputs": [
    {
     "data": {
      "text/plain": [
       "1"
      ]
     },
     "execution_count": 22,
     "metadata": {},
     "output_type": "execute_result"
    }
   ],
   "source": [
    "test_dict_1['a']"
   ]
  },
  {
   "cell_type": "code",
   "execution_count": 23,
   "metadata": {
    "collapsed": false
   },
   "outputs": [
    {
     "data": {
      "text/plain": [
       "'b'"
      ]
     },
     "execution_count": 23,
     "metadata": {},
     "output_type": "execute_result"
    }
   ],
   "source": [
    "test_dict_1[2]"
   ]
  },
  {
   "cell_type": "markdown",
   "metadata": {},
   "source": [
    "One important assumption we made was that these keys are hashable objects like integers and strings. We saw in Class 15 that dictionaries like what Twitter or Wikipedia's APIs returns can be strings, integers, lists, or other dictionaries. \n",
    "\n",
    "But what happens if we try to make a dictionary where the key is a list or a dictionary?"
   ]
  },
  {
   "cell_type": "code",
   "execution_count": 24,
   "metadata": {
    "collapsed": false
   },
   "outputs": [
    {
     "ename": "TypeError",
     "evalue": "unhashable type: 'list'",
     "output_type": "error",
     "traceback": [
      "\u001b[0;31m---------------------------------------------------------------------------\u001b[0m",
      "\u001b[0;31mTypeError\u001b[0m                                 Traceback (most recent call last)",
      "\u001b[0;32m<ipython-input-24-614d1c198e46>\u001b[0m in \u001b[0;36m<module>\u001b[0;34m()\u001b[0m\n\u001b[0;32m----> 1\u001b[0;31m \u001b[0mtest_dict_2\u001b[0m \u001b[0;34m=\u001b[0m \u001b[0;34m{\u001b[0m\u001b[0;34m[\u001b[0m\u001b[0;34m'a'\u001b[0m\u001b[0;34m,\u001b[0m\u001b[0;34m'b'\u001b[0m\u001b[0;34m]\u001b[0m\u001b[0;34m:\u001b[0m\u001b[0;36m1\u001b[0m\u001b[0;34m,\u001b[0m\u001b[0;34m{\u001b[0m\u001b[0;34m'c'\u001b[0m\u001b[0;34m:\u001b[0m\u001b[0;36m3\u001b[0m\u001b[0;34m}\u001b[0m\u001b[0;34m:\u001b[0m\u001b[0;36m4\u001b[0m\u001b[0;34m}\u001b[0m\u001b[0;34m\u001b[0m\u001b[0m\n\u001b[0m",
      "\u001b[0;31mTypeError\u001b[0m: unhashable type: 'list'"
     ]
    }
   ],
   "source": [
    "test_dict_2 = {['a','b']:1,{'c':3}:4}"
   ]
  },
  {
   "cell_type": "markdown",
   "metadata": {},
   "source": [
    "We get the same error as we got above when we tried to call the hash function on a list or dictionary! So clearly when we construct a dictionary, the keys are being passed to the hash function, which means that only hashable objects like strings and integers can be keys in a dictionary! \n",
    "\n",
    "Note that we *can* hash an immutable object like a tuple, so we can also use tuples as keys in a dictionary."
   ]
  },
  {
   "cell_type": "code",
   "execution_count": 32,
   "metadata": {
    "collapsed": false
   },
   "outputs": [],
   "source": [
    "f = 'a'\n",
    "h = 'a'"
   ]
  },
  {
   "cell_type": "code",
   "execution_count": 36,
   "metadata": {
    "collapsed": false
   },
   "outputs": [
    {
     "data": {
      "text/plain": [
       "1138401930875163393"
      ]
     },
     "execution_count": 36,
     "metadata": {},
     "output_type": "execute_result"
    }
   ],
   "source": [
    "hash(hash('a'))"
   ]
  },
  {
   "cell_type": "code",
   "execution_count": 30,
   "metadata": {
    "collapsed": false
   },
   "outputs": [
    {
     "data": {
      "text/plain": [
       "1138401930875163393"
      ]
     },
     "execution_count": 30,
     "metadata": {},
     "output_type": "execute_result"
    }
   ],
   "source": [
    "hash(h)"
   ]
  },
  {
   "cell_type": "code",
   "execution_count": 25,
   "metadata": {
    "collapsed": false
   },
   "outputs": [
    {
     "data": {
      "text/plain": [
       "{('a', 'b'): 1, ('c', 2, 3): 4}"
      ]
     },
     "execution_count": 25,
     "metadata": {},
     "output_type": "execute_result"
    }
   ],
   "source": [
    "test_dict_3 = {('a','b'):1,('c',2,3):4}\n",
    "test_dict_3"
   ]
  },
  {
   "cell_type": "markdown",
   "metadata": {},
   "source": [
    "## Memoization"
   ]
  },
  {
   "cell_type": "markdown",
   "metadata": {},
   "source": [
    "Adapted from [Lee & Hubbard (2015) Ch. 5](https://learn.colorado.edu/d2l/le/content/190526/viewContent/2892655/View).\n",
    "\n",
    "Recall the recursive Fibonacci function we wrote in Week 3."
   ]
  },
  {
   "cell_type": "code",
   "execution_count": 37,
   "metadata": {
    "collapsed": true
   },
   "outputs": [],
   "source": [
    "def fib(n):\n",
    "    if n < 2:\n",
    "        return n\n",
    "    else:\n",
    "        return fib(n-1) + fib(n-2)"
   ]
  },
  {
   "cell_type": "markdown",
   "metadata": {},
   "source": [
    "This function branches out and makes multiple recursive calls. Its call stack looks something like and operates in $O(2^N)$ time.\n",
    "\n",
    "* fib(5) = fib(4) + fib(3)\n",
    "* fib(4) = fib(3) + fib(2)\n",
    "* fib(3) = fib(2) + fib(1)\n",
    "* fib(2) = fib(1) + fib(0)\n",
    "* fib(1) = 1\n",
    "* fib(0) = 0\n",
    "\n",
    "But it's not quite that simple: \n",
    "\n",
    "![](http://i.imgur.com/P2Gfvbq.png)\n",
    "\n",
    "We can see that some calls like `fib(3)` or `fib(2)` are repeatedly called. However, once it's computed we should store its value so we don't need to compute it again. Rather than computing it recursively *each* time, lookup if the value has been computed already and only compute it if it has not been computed."
   ]
  },
  {
   "cell_type": "code",
   "execution_count": 38,
   "metadata": {
    "collapsed": true
   },
   "outputs": [],
   "source": [
    "def fib_memoized(num):\n",
    "    # Start off the memo with some base cases\n",
    "    memo = {0:0,1:1}\n",
    "    \n",
    "    # If the num has already been computed, return it\n",
    "    if num in memo:\n",
    "        return memo[num]\n",
    "    \n",
    "    # Define the base case\n",
    "    if num < 2:\n",
    "        return memo[num]\n",
    "    \n",
    "    # Compute and store the recursive case\n",
    "    val = fib(num-1) + fib(num-2)\n",
    "    memo[num] = val\n",
    "    return val"
   ]
  },
  {
   "cell_type": "code",
   "execution_count": 39,
   "metadata": {
    "collapsed": false
   },
   "outputs": [
    {
     "data": {
      "text/plain": [
       "5"
      ]
     },
     "execution_count": 39,
     "metadata": {},
     "output_type": "execute_result"
    }
   ],
   "source": [
    "fib_memoized(5)"
   ]
  },
  {
   "cell_type": "markdown",
   "metadata": {},
   "source": [
    "## Using hashing to securely store passwords in a database"
   ]
  },
  {
   "cell_type": "markdown",
   "metadata": {},
   "source": [
    "How would we store and retrieve a password in a database? (Adapted from [Hashing strings with Python](http://pythoncentral.io/hashing-strings-with-python/))"
   ]
  },
  {
   "cell_type": "code",
   "execution_count": 2,
   "metadata": {
    "collapsed": false
   },
   "outputs": [
    {
     "data": {
      "text/plain": [
       "'eff1cee20b994124938c0fd612b5fa68'"
      ]
     },
     "execution_count": 2,
     "metadata": {},
     "output_type": "execute_result"
    }
   ],
   "source": [
    "import hashlib\n",
    "import uuid # Used to generate a random number\n",
    "\n",
    "uuid.uuid4().hex"
   ]
  },
  {
   "cell_type": "markdown",
   "metadata": {},
   "source": [
    "Make two functions to hash and check a password: `hash_password` and `check_password`"
   ]
  },
  {
   "cell_type": "code",
   "execution_count": 3,
   "metadata": {
    "collapsed": false
   },
   "outputs": [
    {
     "name": "stdout",
     "output_type": "stream",
     "text": [
      "Please enter a password: password\n",
      "The string to store in the db is: ebdd047de12687072c02fe2851d1abc887899d27dcdaa74dc89a94962f4ea2f2:ce57509a89634604966d54f61cf6c190\n",
      "Now please enter the password again to check: password\n",
      "You entered the right password\n"
     ]
    }
   ],
   "source": [
    "def hash_password(password):\n",
    "    # uuid is used to generate a random number\n",
    "    salt = uuid.uuid4().hex\n",
    "    return hashlib.sha256(salt.encode() + password.encode()).hexdigest() + ':' + salt\n",
    "    \n",
    "def check_password(hashed_password, user_password):\n",
    "    password, salt = hashed_password.split(':')\n",
    "    return password == hashlib.sha256(salt.encode() + user_password.encode()).hexdigest()\n",
    " \n",
    "new_pass = input('Please enter a password: ')\n",
    "hashed_password = hash_password(new_pass)\n",
    "print('The string to store in the db is: ' + hashed_password)\n",
    "old_pass = input('Now please enter the password again to check: ')\n",
    "if check_password(hashed_password, old_pass):\n",
    "    print('You entered the right password')\n",
    "else:\n",
    "    print('I am sorry but the password does not match')"
   ]
  },
  {
   "cell_type": "code",
   "execution_count": 6,
   "metadata": {
    "collapsed": false
   },
   "outputs": [
    {
     "data": {
      "text/plain": [
       "'1debf73c4db9056f821a21011e5d72d255ffdf235f5aa03263c6f2504953d166:4b01ec8271414f4dafca05ba7908042f'"
      ]
     },
     "execution_count": 6,
     "metadata": {},
     "output_type": "execute_result"
    }
   ],
   "source": [
    "hash_password('password')"
   ]
  },
  {
   "cell_type": "code",
   "execution_count": 7,
   "metadata": {
    "collapsed": false
   },
   "outputs": [
    {
     "data": {
      "text/plain": [
       "'368becf2cdfd37b00ede26cdfd85178b2fd66232a43d14fe7dce84c69720758a:033e4cc4f19b4ae2b7c08d0b2eef0ef6'"
      ]
     },
     "execution_count": 7,
     "metadata": {},
     "output_type": "execute_result"
    }
   ],
   "source": [
    "hash_password('password')"
   ]
  },
  {
   "cell_type": "markdown",
   "metadata": {},
   "source": [
    "## Using hashing to simplify Wikipedia revision comparisons"
   ]
  },
  {
   "cell_type": "markdown",
   "metadata": {},
   "source": [
    "We saw above that we can use the `hash` function to convert a string (among other kinds of objects) to a hashed value. We could theoretically pass a string of a very long length and the hashing function should ideally return a unique hash value."
   ]
  },
  {
   "cell_type": "code",
   "execution_count": 49,
   "metadata": {
    "collapsed": false,
    "scrolled": true
   },
   "outputs": [
    {
     "data": {
      "text/plain": [
       "{'anon': True,\n",
       " 'content': '{{Distinguish|analytics|information extraction|data analysis}}\\n{{machine learning bar}}\\n\\n\\'\\'\\'Data mining\\'\\'\\'  is the computational process of discovering patterns in large [[data set]]s involving methods at the intersection of [[artificial intelligence]], [[machine learning]], [[statistics]], and [[database system]]s.<ref name=\"acm\" /> It is an [[interdisciplinary]] subfield of [[computer science]].<ref name=\"acm\">{{cite web |url=http://www.kdd.org/curriculum/index.html |title=Data Mining Curriculum |publisher=[[Association for Computing Machinery|ACM]] [[SIGKDD]] |date=2006-04-30 |accessdate=2014-01-27 }}</ref><ref name=\"brittanica\">{{cite web |last=Clifton |first=Christopher |title=Encyclopædia Britannica: Definition of Data Mining |year=2010 |url=http://www.britannica.com/EBchecked/topic/1056150/data-mining |accessdate=2010-12-09 }}</ref><ref name=\"elements\">{{cite web |last1=Hastie|first1=Trevor |authorlink1=Trevor Hastie|last2=Tibshirani|first2=Robert|authorlink2=Robert Tibshirani|last3=Friedman|first3=Jerome|authorlink3=Jerome H. Friedman |title=The Elements of Statistical Learning: Data Mining, Inference, and Prediction |year=2009 |url=http://www-stat.stanford.edu/~tibs/ElemStatLearn/ |accessdate=2012-08-07 }}</ref> The overall goal of the data mining process is to extract information from a data set and transform it into an understandable structure for further use.<ref name=\"acm\" /> Aside from the raw analysis step, it involves database and [[data management]] aspects, [[data pre-processing]], [[statistical model|model]] and [[Statistical inference|inference]] considerations, interestingness metrics, [[Computational complexity theory|complexity]] considerations, post-processing of discovered structures, [[Data visualization|visualization]], and [[Online algorithm|online updating]].<ref name=\"acm\" /> Data mining is the analysis step of the \"knowledge discovery in databases\" process, or KDD.<ref name=\"Fayyad\" />\\n\\nThe term is a [[misnomer]], because the goal is the extraction of patterns and knowledge from large amounts of data, not the extraction (\\'\\'mining\\'\\') of data itself.<ref name=\"han-kamber\">{{cite book |first1=Jiawei |last1=Han |authorlink1=Jiawei Han |first2=Micheline |last2=Kamber |date=2001 |title=Data mining: concepts and techniques |publisher=[[Morgan Kaufmann]] |page=5 |isbn=978-1-55860-489-6 |quote=Thus, data mining should have been more appropriately named \"knowledge mining from data,\" which is unfortunately somewhat long}}</ref>\\nIt also is a [[buzzword]]<ref>See e.g. [http://www.okairp.org/documents/2005%20Fall/F05_ROMEDataQualityETC.pdf OKAIRP 2005 Fall Conference, Arizona State University] [http://databases.about.com/od/datamining/a/datamining.htm About.com: Datamining]</ref> and is frequently applied to any form of large-scale data or [[information processing]] ([[Data collection|collection]], [[information extraction|extraction]], [[Data warehouse|warehousing]], [[data analysis|analysis]], and statistics) as well as any application of [[Decision support system|computer decision support system]], including artificial intelligence, machine learning, and [[business intelligence]]. The book \\'\\'Data mining: Practical machine learning tools and techniques with Java\\'\\'<ref name=\"witten\">{{cite book |last1=Witten|first1=Ian H.|authorlink1=Ian H. Witten|last2=Frank|first2=Eibe |last3=Hall|first3=Mark A. |title=Data Mining: Practical Machine Learning Tools and Techniques |edition=3 |date=30 January 2011 |publisher=Elsevier |isbn=978-0-12-374856-0 }}</ref> (which covers mostly machine learning material) was originally to be named just \\'\\'Practical machine learning\\'\\', and the term \\'\\'data mining\\'\\' was only added for marketing reasons.<ref>{{Cite journal |title=WEKA Experiences with a Java open-source project |author1=Bouckaert, Remco R. |author2=Frank, Eibe |author3=Hall, Mark A. |author4=Holmes, Geoffrey |author5=Pfahringer, Bernhard |author6=Reutemann, Peter |author7=Witten, Ian H.|authorlink7=Ian H. Witten |journal=Journal of Machine Learning Research |volume=11 |pages=2533–2541 |year=2010 |quote=the original title, \"Practical machine learning\", was changed&nbsp;... The term \"data mining\" was [added] primarily for marketing reasons. |postscript={{inconsistent citations}} }}</ref> Often the more general terms (\\'\\'large scale\\'\\') \\'\\'[[data analysis]]\\'\\' and \\'\\'[[analytics]]\\'\\' – or, when referring to actual methods, \\'\\'artificial intelligence\\'\\' and \\'\\'machine learning\\'\\' – are more appropriate.\\n\\nThe actual data mining task is the automatic or semi-automatic analysis of large quantities of data to extract previously unknown, interesting patterns such as groups of data records ([[cluster analysis]]), unusual records ([[anomaly detection]]), and dependencies ([[association rule mining]], [[sequential pattern mining]]). This usually involves using database techniques such as [[spatial index|spatial indices]]. These patterns can then be seen as a kind of summary of the input data, and may be used in further analysis or, for example, in machine learning and [[predictive analytics]]. For example, the data mining step might identify multiple groups in the data, which can then be used to obtain more accurate prediction results by a [[decision support system]]. Neither the data collection, data preparation, nor result interpretation and reporting is part of the data mining step, but do belong to the overall KDD process as additional steps.\\n\\nThe related terms \\'\\'[[data dredging]]\\'\\', \\'\\'data fishing\\'\\', and \\'\\'data snooping\\'\\' refer to the use of data mining methods to sample parts of a larger population data set that are (or may be) too small for reliable statistical inferences to be made about the validity of any patterns discovered. These methods can, however, be used in creating new hypotheses to test against the larger data populations.\\n\\n==Etymology==\\nIn the 1960s, statisticians used terms like \"Data Fishing\" or \"Data Dredging\" to refer to what they considered the bad practice of analyzing data without an a-priori hypothesis. The term \"Data Mining\" appeared around 1990 in the database community. For a short time in 1980s, a phrase \"database mining\"™, was used, but since it was trademarked by HNC, a San Diego-based company, to pitch their Database Mining Workstation;<ref name=\"Mena\">{{cite book |last=Mena |first=Jesús |year=2011 |title=Machine Learning Forensics for Law Enforcement, Security, and Intelligence |location=Boca Raton, FL |publisher=CRC Press (Taylor & Francis Group) |isbn=978-1-4398-6069-4 }}</ref> researchers consequently turned to \"data mining\". Other terms used include Data Archaeology, Information Harvesting, Information Discovery, Knowledge Extraction, etc. [[Gregory I. Piatetsky-Shapiro|Gregory Piatetsky-Shapiro]] coined the term \"Knowledge Discovery in Databases\" for the first workshop on the same topic [http://www.kdnuggets.com/meetings/kdd89/ (KDD-1989)] and this term became more popular in AI and Machine Learning Community. However, the term data mining became more popular in the business and press communities.<ref>{{cite web |last1=Piatetsky-Shapiro |first1=Gregory |authorlink1=Gregory Piatetsky-Shapiro |last2=Parker |first2=Gary |url=http://www.kdnuggets.com/data_mining_course/x1-intro-to-data-mining-notes.html |title=Lesson: Data Mining, and Knowledge Discovery: An Introduction |publisher=KD Nuggets |year=2011 |work=Introduction to Data Mining |accessdate=30 August 2012 }}</ref> Currently, Data Mining and Knowledge Discovery are used interchangeably.\\n\\nIn the Academic community, the major forums for research started in 1995 when the First International Conference on Data Mining and Knowledge Discovery ([[KDD-95]]) was started in Montreal under [[AAAI]] sponsorship. It was co-chaired by [[Usama Fayyad]] and Ramasamy Uthurusamy.  A year later, in 1996,  [[Usama Fayyad]] launched the journal by Kluwer called [[Data Mining and Knowledge Discovery]] as its founding Editor-in-Chief.   Later he started the [[SIGKDDD]] Newsletter SIGKDD Explorations.<ref name=SIGKDD-explorations>{{cite journal|last1=Fayyad|first1=Usama|title=First Editorial by Editor-in-Chief|journal=SIGKDD Explorations|date=15 June 1999|volume=13|issue=1|pages=102|doi=10.1145/2207243.2207269|url=http://www.kdd.org/explorations/view/june-1999-volume-1-issue-1|accessdate=27 December 2010|ref=SIGKDD-explorations}}</ref>  The KDD International conference became the primary highest quality conference in Data Mining with an acceptance rate of research paper submissions below 18%. The Journal Data Mining and Knowledge Discovery is the primary research journal of the field.\\n\\n==Background==\\nThe manual extraction of patterns from [[data]] has occurred for centuries. Early methods of identifying patterns in data include [[Bayes\\' theorem]] (1700s) and [[regression analysis]] (1800s). The proliferation, ubiquity and increasing power of computer technology has dramatically increased data collection, storage, and manipulation ability. As [[data set]]s have grown in size and complexity, direct \"hands-on\" data analysis has increasingly been augmented with indirect, automated data processing, aided by other discoveries in computer science, such as [[neural networks]], [[cluster analysis]], [[genetic algorithms]] (1950s), [[decision tree learning|decision trees]] and [[decision rules]] (1960s), and [[support vector machines]] (1990s). Data mining is the process of applying these methods with the intention of uncovering hidden patterns<ref name=\"Kantardzic\">{{cite book |last=Kantardzic |first=Mehmed |title=Data Mining: Concepts, Models, Methods, and Algorithms |year=2003 |publisher=John Wiley & Sons |isbn=0-471-22852-4 |oclc=50055336 }}</ref> in large data sets. It bridges the gap from [[applied statistics]] and artificial intelligence (which usually provide the mathematical background) to [[database management]] by exploiting the way data is stored and indexed in databases to execute the actual learning and discovery algorithms more efficiently, allowing such methods to be applied to ever larger data sets.\\n\\n==Process==\\nThe \\'\\'\\'Knowledge Discovery in Databases (KDD) process\\'\\'\\' is commonly defined with the stages:\\n\\n:(1) Selection\\n:(2) Pre-processing\\n:(3) Transformation\\n:(4) \\'\\'Data Mining\\'\\'\\n:(5) Interpretation/Evaluation.<ref name=\"Fayyad\" />\\n\\nIt exists, however, in many variations on this theme, such as the [[Cross Industry Standard Process for Data Mining]] (CRISP-DM) which defines six phases:\\n\\n:(1) Business Understanding\\n:(2) Data Understanding\\n:(3) Data Preparation\\n:(4) Modeling\\n:(5) Evaluation\\n:(6) Deployment\\n\\nor a simplified process such as (1) pre-processing, (2) data mining, and (3) results validation.\\n\\nPolls conducted in 2002, 2004, 2007 and 2014 show that the CRISP-DM methodology is the leading methodology used by data miners.<ref>[[Gregory Piatetsky-Shapiro]] (2002) [http://www.kdnuggets.com/polls/2002/methodology.htm \\'\\'KDnuggets Methodology Poll\\'\\'], [[Gregory Piatetsky-Shapiro]] (2004) [http://www.kdnuggets.com/polls/2004/data_mining_methodology.htm \\'\\'KDnuggets Methodology Poll\\'\\'], [[Gregory Piatetsky-Shapiro]] (2007) [http://www.kdnuggets.com/polls/2007/data_mining_methodology.htm \\'\\'KDnuggets Methodology Poll\\'\\'], [[Gregory Piatetsky-Shapiro]] (2014) [http://www.kdnuggets.com/polls/2014/analytics-data-mining-data-science-methodology.html \\'\\'KDnuggets Methodology Poll\\'\\']</ref> The only other data mining standard named in these polls was [[SEMMA]]. However, 3–4 times as many people reported using CRISP-DM. Several teams of researchers have published reviews of data mining process models,<ref name=\"Marban\">Óscar Marbán, Gonzalo Mariscal and Javier Segovia (2009); [http://cdn.intechopen.com/pdfs/5937/InTech-A_data_mining_amp_knowledge_discovery_process_model.pdf \\'\\'A Data Mining & Knowledge Discovery Process Model\\'\\']. In Data Mining and Knowledge Discovery in Real Life Applications, Book edited by: Julio Ponce and Adem Karahoca, ISBN 978-3-902613-53-0, pp.&nbsp;438–453, February 2009, I-Tech, Vienna, Austria.</ref><ref name=\"kurgan\">Lukasz Kurgan and Petr Musilek (2006); [http://journals.cambridge.org/action/displayAbstract?fromPage=online&aid=451120 \\'\\'A survey of Knowledge Discovery and Data Mining process models\\'\\']. The Knowledge Engineering Review. Volume 21 Issue 1, March 2006, pp&nbsp;1–24, Cambridge University Press, New York, NY, USA {{DOI|10.1017/S0269888906000737}}</ref> and Azevedo and Santos conducted a comparison of CRISP-DM and SEMMA in 2008.<ref name=\"AzevedoSantos\">Azevedo, A. and Santos, M. F. [http://www.iadis.net/dl/final_uploads/200812P033.pdf KDD, SEMMA and CRISP-DM: a parallel overview]. In Proceedings of the IADIS European Conference on Data Mining 2008, pp&nbsp;182–185.</ref>\\n\\n===Pre-processing===\\nBefore data mining algorithms can be used, a target data set must be assembled. As data mining can only uncover patterns actually present in the data, the target data set must be large enough to contain these patterns while remaining concise enough to be mined within an acceptable time limit. A common source for data is a [[data mart]] or [[data warehouse]]. Pre-processing is essential to analyze the [[Multivariate statistics|multivariate]] data sets before data mining. The target set is then cleaned. Data cleaning removes the observations containing [[statistical noise|noise]] and those with [[missing data]].\\n\\n===Data mining===\\nData mining involves six common classes of tasks:<ref name=\"Fayyad\">{{cite web |last1=Fayyad |first1=Usama |authorlink1=Usama Fayyad |last2=Piatetsky-Shapiro |first2=Gregory|authorlink2=Gregory Piatetsky-Shapiro |last3=Smyth |first3=Padhraic |title=From Data Mining to Knowledge Discovery in Databases |year=1996 |url=http://www.kdnuggets.com/gpspubs/aimag-kdd-overview-1996-Fayyad.pdf |accessdate = 17 December 2008 }}</ref>\\n\\n* [[Anomaly detection]] (Outlier/change/deviation detection) – The identification of unusual data records, that might be interesting or data errors that require further investigation.\\n* [[Association rule learning]] (Dependency modelling) – Searches for relationships between variables. For example, a supermarket might gather data on customer purchasing habits. Using association rule learning, the supermarket can determine which products are frequently bought together and use this information for marketing purposes. This is sometimes referred to as market basket analysis.\\n* [[Cluster analysis|Clustering]] – is the task of discovering groups and structures in the data that are in some way or another \"similar\", without using known structures in the data.\\n* [[Statistical classification|Classification]] – is the task of generalizing known structure to apply to new data. For example, an e-mail program might attempt to classify an e-mail as \"legitimate\" or as \"spam\".\\n* [[Regression analysis|Regression]] – attempts to find a function which models the data with the least error.\\n* [[Automatic summarization|Summarization]] – providing a more compact representation of the data set, including visualization and report generation.\\n\\n===Results validation===\\n[[File:Spurious correlations - spelling bee spiders.svg|thumb|An example of data produced by [[data dredging]] through a bot operated by statistician Tyler Vigen, apparently showing a close link between the best word winning a spelling bee competition and the number of people in the United States killed by venomous spiders. The similarity in trends is obviously a coincidence.]]\\nData mining can unintentionally be misused, and can then produce results which appear to be significant; but which do not actually predict future behaviour and cannot be [[Reproducibility|reproduced]] on a new sample of data and bear little use. Often this results from investigating too many hypotheses and not performing proper [[statistical hypothesis testing]]. A simple version of this problem in [[machine learning]] is known as [[overfitting]], but the same problem can arise at different phases of the process and thus a train/test split - when applicable at all - may not be sufficient to prevent this from happening.<ref name=hawkins>{{cite journal | last1 = Hawkins | first1 = Douglas M | year = 2004 | title = The problem of overfitting | url = | journal = Journal of chemical information and computer sciences | volume = 44 | issue = 1| pages = 1–12 | doi=10.1021/ci0342472}}</ref>\\n\\n{{Missing information|section|non-classification tasks in data mining. It only covers [[machine learning]]|date=September 2011}}\\nThe final step of knowledge discovery from data is to verify that the patterns produced by the data mining algorithms occur in the wider data set. Not all patterns found by the data mining algorithms are necessarily valid. It is common for the data mining algorithms to find patterns in the training set which are not present in the general data set. This is called [[overfitting]]. To overcome this, the evaluation uses a [[test set]] of data on which the data mining algorithm was not trained. The learned patterns are applied to this test set, and the resulting output is compared to the desired output. For example, a data mining algorithm trying to distinguish \"spam\" from \"legitimate\" emails would be trained on a [[training set]] of sample e-mails. Once trained, the learned patterns would be applied to the test set of e-mails on which it had \\'\\'not\\'\\' been trained. The accuracy of the patterns can then be measured from how many e-mails they correctly classify. A number of statistical methods may be used to evaluate the algorithm, such as [[Receiver operating characteristic|ROC curves]].\\n\\nIf the learned patterns do not meet the desired standards, subsequently it is necessary to re-evaluate and change the pre-processing and data mining steps. If the learned patterns do meet the desired standards, then the final step is to interpret the learned patterns and turn them into knowledge.\\n\\n==Research==\\nThe premier professional body in the field is the [[Association for Computing Machinery]]\\'s (ACM) Special Interest Group (SIG) on Knowledge Discovery and Data Mining ([[SIGKDD]]).<ref>{{cite web|url=http://academic.research.microsoft.com/?SearchDomain=2&SubDomain=7&entitytype=2|title=Microsoft Academic Search: Top conferences in data mining | publisher=[[Microsoft Academic Search]]}}</ref><ref>{{cite web|url=http://scholar.google.de/citations?view_op=top_venues&hl=en&vq=eng_datamininganalysis|title=Google Scholar: Top publications - Data Mining & Analysis|publisher=[[Google Scholar]]}}</ref> Since 1989 this ACM SIG has hosted an annual international conference and published its proceedings,<ref>[http://www.kdd.org/conferences.php Proceedings], International Conferences on Knowledge Discovery and Data Mining, ACM, New York.</ref> and since 1999 it has published a biannual [[academic journal]] titled \"SIGKDD Explorations\".<ref>[http://www.kdd.org/explorations/about.php SIGKDD Explorations], ACM, New York.</ref>\\n\\nComputer science conferences on data mining include:\\n\\n* [[CIKM Conference]] – ACM [[Conference on Information and Knowledge Management]]\\n* [[DMIN Conference]] – International Conference on Data Mining\\n* [[DMKD Conference]] – Research Issues on Data Mining and Knowledge Discovery\\n* [[DSAA Conference]] – IEEE International Conference on Data Science and Advanced Analytics\\n* [[ECDM Conference]] – European Conference on Data Mining\\n* [[ECML-PKDD Conference]] – [[European Conference on Machine Learning and Principles and Practice of Knowledge Discovery in Databases]]\\n* [[EDM Conference]] – International Conference on Educational Data Mining\\n* [[INFOCOM Conference]] – IEEE INFOCOM\\n* [[ICDM Conference]] – [[IEEE]] [[International Conference on Data Mining]]\\n* [[KDD Conference]] – ACM SIGKDD [[Conference on Knowledge Discovery and Data Mining]]\\n* [[MLDM Conference]] – Machine Learning and Data Mining in Pattern Recognition\\n* [[PAKDD Conference]] – The annual [[Pacific-Asia Conference on Knowledge Discovery and Data Mining]]\\n* [[PAW Conference]] – Predictive Analytics World\\n* [[SDM Conference]] – [[SIAM International Conference on Data Mining]] ([[Society for Industrial and Applied Mathematics|SIAM]])\\n* [[SSTD Symposium]] – [[Symposium on Spatial and Temporal Databases]]\\n* [[WSDM Conference]] – ACM [[Conference on Web Search and Data Mining]]\\n\\nData mining topics are also present on many [[List of computer science conferences#Data Management|data management/database conferences]] such as the [[ICDE Conference]], [[SIGMOD|SIGMOD Conference]] and [[International Conference on Very Large Data Bases]]\\n\\n==Standards==\\nThere have been some efforts to define standards for the data mining process, for example the 1999 European [[Cross Industry Standard Process for Data Mining]] (CRISP-DM 1.0) and the 2004 [[Java Data Mining]] standard (JDM 1.0). Development on successors to these processes (CRISP-DM 2.0 and JDM 2.0) was active in 2006, but has stalled since. JDM 2.0 was withdrawn without reaching a final draft.\\n\\nFor exchanging the extracted models – in particular for use in [[predictive analytics]]&nbsp;– the key standard is the [[Predictive Model Markup Language]] (PMML), which is an [[XML]]-based language developed by the Data Mining Group (DMG) and supported as exchange format by many data mining applications. As the name suggests, it only covers prediction models, a particular data mining task of high importance to business applications. However, extensions to cover (for example) [[subspace clustering]] have been proposed independently of the DMG.<ref>{{Cite book | last1 = Günnemann | first1 = Stephan | last2 = Kremer | first2 = Hardy | last3 = Seidl | first3 = Thomas | doi = 10.1145/2023598.2023605 | chapter = An extension of the PMML standard to subspace clustering models | title = Proceedings of the 2011 workshop on Predictive markup language modeling - PMML \\'11 | pages = 48 | year = 2011 | isbn = 978-1-4503-0837-3 | pmid =  | pmc = }}</ref>\\n\\n==Notable uses==\\n{{Main article|Examples of data mining}}\\n{{Category see also|Applied data mining}}\\n\\nData mining is used wherever there is digital data available today. Notable [[examples of data mining]] can be found throughout business, medicine, science, and surveillance.\\n\\n==Privacy concerns and ethics==\\nWhile the term \"data mining\" itself may have no ethical implications, it is often associated with the mining of information in relation to peoples\\' behavior (ethical and otherwise).<ref>{{cite journal |author=Seltzer, William |title=The Promise and Pitfalls of Data Mining: Ethical Issues |url=http://www.amstat.org/committees/ethics/linksdir/Jsm2005Seltzer.pdf }}</ref>\\n\\nThe ways in which data mining can be used can in some cases and contexts raise questions regarding privacy, legality, and ethics.<ref>{{cite journal|author=Pitts, Chip |title=The End of Illegal Domestic Spying? Don\\'t Count on It |url=http://www.washingtonspectator.com/articles/20070315surveillance_1.cfm |journal=Washington Spectator |date=15 March 2007 |deadurl=yes |archiveurl=http://www.webcitation.org/5SwZyJc43?url=http://www.washingtonspectator.com/articles/20070315surveillance_1.cfm |archivedate=2007-10-29 |df= }}</ref> In particular, data mining government or commercial data sets for national security or law enforcement purposes, such as in the [[Total Information Awareness]] Program or in [[ADVISE]], has raised privacy concerns.<ref>{{cite journal |author=Taipale, Kim A. |title=Data Mining and Domestic Security: Connecting the Dots to Make Sense of Data |url=http://www.stlr.org/cite.cgi?volume=5&article=2 |journal=Columbia Science and Technology Law Review |volume=5 |issue=2 |date=15 December 2003 |ssrn=546782 |oclc=45263753 }}</ref><ref>{{cite journal |author1=Resig, John |author2=Teredesai, Ankur |year=2004 |title=A Framework for Mining Instant Messaging Services |url=http://citeseer.ist.psu.edu/resig04framework.html |journal=Proceedings of the 2004 SIAM DM Conference }}</ref>\\n\\nData mining requires data preparation which can uncover information or patterns which may compromise confidentiality and privacy obligations. A common way for this to occur is through [[aggregate function|data aggregation]]. Data aggregation involves combining data together (possibly from various sources) in a way that facilitates analysis (but that also might make identification of private, individual-level data deducible or otherwise apparent).<ref name=\"NASCIO\">[http://www.nascio.org/publications/documents/NASCIO-dataMining.pdf \\'\\'Think Before You Dig: Privacy Implications of Data Mining & Aggregation\\'\\'], NASCIO Research Brief, September 2004</ref> This is not data mining \\'\\'per se\\'\\', but a result of the preparation of data before – and for the purposes of – the analysis. The threat to an individual\\'s privacy comes into play when the data, once compiled, cause the data miner, or anyone who has access to the newly compiled data set, to be able to identify specific individuals, especially when the data were originally anonymous.<ref>{{cite web |first=Paul |last=Ohm |title=Don\\'t Build a Database of Ruin |publisher=Harvard Business Review |url=http://blogs.hbr.org/cs/2012/08/dont_build_a_database_of_ruin.html}}</ref><ref>Darwin Bond-Graham, [http://www.counterpunch.org/2013/12/03/iron-cagebook/ Iron Cagebook - The Logical End of Facebook\\'s Patents], [[Counterpunch.org]], 2013.12.03</ref><ref>Darwin Bond-Graham, [http://www.counterpunch.org/2013/09/11/inside-the-tech-industrys-startup-conference/ Inside the Tech industry\\'s Startup Conference], [[Counterpunch.org]], 2013.09.11</ref>\\n\\nIt is recommended that an individual is made aware of the following \\'\\'\\'before\\'\\'\\' data are collected:<ref name=\"NASCIO\" />\\n* the purpose of the data collection and any (known) data mining projects;\\n* how the data will be used;\\n* who will be able to mine the data and use the data and their derivatives;\\n* the status of security surrounding access to the data;\\n* how collected data can be updated.\\n\\nData may also be modified so as to \\'\\'become\\'\\' anonymous, so that individuals may not readily be identified.<ref name=\"NASCIO\" /> However, even \"de-identified\"/\"anonymized\" data sets can potentially contain enough information to allow identification of individuals, as occurred when journalists were able to find several individuals based on a set of search histories that were inadvertently released by AOL.<ref>[http://www.securityfocus.com/brief/277 \\'\\'AOL search data identified individuals\\'\\'], SecurityFocus, August 2006</ref>\\n\\nThe inadvertent revelation of personally identifiable\\ninformation leading to the provider violates Fair Information Practices.   This indiscretion can cause financial,\\nemotional, or bodily harm to the indicated individual.  In one instance of privacy violation, the\\npatrons of Walgreens filed a lawsuit against the company in 2011 for selling\\nprescription information to data mining companies who in turn provided the data\\nto pharmaceutical companies.<ref>{{Cite journal|title = Big data׳s impact on privacy, security and consumer welfare|journal = Telecommunications Policy|pages = 1134–1145|volume = 38|issue = 11|doi = 10.1016/j.telpol.2014.10.002|first = Nir|last = Kshetri|year = 2014}}</ref>\\n\\n===Situation in Europe===\\n\\nEurope has rather strong privacy laws, and efforts are underway to further strengthen the rights of the consumers. However, the [[International Safe Harbor Privacy Principles|U.S.-E.U. Safe Harbor Principles]] currently effectively expose European users to privacy exploitation by U.S. companies. As a consequence of [[Edward Snowden]]\\'s [[Global surveillance disclosure]], there has been increased discussion to revoke this agreement, as in particular the data will be fully exposed to the [[National Security Agency]], and attempts to reach an agreement have failed.{{citation needed|date=April 2014}}\\n\\n===Situation in the United States===\\n\\nIn the United States, privacy concerns have been addressed by the [[US Congress]] via the passage of regulatory controls such as the [[Health Insurance Portability and Accountability Act]] (HIPAA). The HIPAA requires individuals to give their \"informed consent\" regarding information they provide and its intended present and future uses. According to an article in \\'\\'Biotech Business Week\\', \"\\'[i]n practice, HIPAA may not offer any greater protection than the longstanding regulations in the research arena,\\' says the AAHC. More importantly, the rule\\'s goal of protection through informed consent is undermined by the complexity of consent forms that are required of patients and participants, which approach a level of incomprehensibility to average individuals.\"<ref>Biotech Business Week Editors (June 30, 2008); \\'\\'BIOMEDICINE; HIPAA Privacy Rule Impedes Biomedical Research\\'\\', Biotech Business Week, retrieved 17 November 2009 from LexisNexis Academic</ref> This underscores the necessity for data anonymity in data aggregation and mining practices.\\n\\nU.S. information privacy legislation such as HIPAA and the [[Family Educational Rights and Privacy Act]] (FERPA) applies only to the specific areas that each such law addresses. Use of data mining by the majority of businesses in the U.S. is not controlled by any legislation.\\n\\n==Copyright Law==\\n\\n===Situation in Europe===\\n\\nDue to a lack of flexibilities in European copyright and [[Database Directive|database law]], the mining of in-copyright works such as [[web mining]] without the permission of the copyright owner is not legal. Where a database is pure data in Europe there is likely to be no copyright, but database rights may exist so data mining becomes subject to regulations by the [[Database Directive]]. On the recommendation of the [[Hargreaves review]] this led to the UK government to amend its copyright law in 2014<ref>[http://www.out-law.com/en/articles/2014/june/researchers-given-data-mining-right-under-new-uk-copyright-laws/ UK Researchers Given Data Mining Right Under New UK Copyright Laws.] {{webarchive |url=https://web.archive.org/web/20140609020315/http://www.out-law.com/en/articles/2014/june/researchers-given-data-mining-right-under-new-uk-copyright-laws/ |date=June 9, 2014 }} \\'\\'Out-Law.com.\\'\\'   Retrieved 14 November 2014</ref> to allow content mining as a [[Limitations and exceptions to copyright|limitation and exception]]. Only the second country in the world to do so after Japan, which introduced an exception in 2009 for data mining. However, due to the restriction of the [[Copyright Directive]], the UK exception only allows content mining for non-commercial purposes. UK copyright law also does not allow this provision to be overridden by contractual terms and conditions. The [[European Commission]] facilitated stakeholder discussion on text and data mining in 2013, under the title of Licences for Europe.<ref>{{cite web|title=Licences for Europe - Structured Stakeholder Dialogue 2013|url=http://ec.europa.eu/licences-for-europe-dialogue/en/content/about-site|website=European Commission|accessdate=14 November 2014}}</ref> The focus on the solution to this legal issue being licences and not limitations and exceptions led to representatives of universities, researchers, libraries, civil society groups and [[open access]] publishers to leave the stakeholder dialogue in May 2013.<ref>{{cite web|title=Text and Data Mining:Its importance and the need for change in Europe|url=http://libereurope.eu/news/text-and-data-mining-its-importance-and-the-need-for-change-in-europe/|website=Association of European Research Libraries|accessdate=14 November 2014}}</ref>\\n\\n===Situation in the United States===\\n\\nBy contrast to Europe, the flexible nature of US copyright law, and in particular [[fair use]] means that content mining in America, as well as other fair use countries such as Israel, Taiwan and South Korea is viewed as being legal. As content mining is transformative, that is it does not supplant the original work, it is viewed as being lawful under fair use. For example, as part of the [[Google Book Search Settlement Agreement|Google Book settlement]] the presiding judge on the case ruled that Google\\'s digitisation project of in-copyright books was lawful, in part because of the transformative uses that the digitisation project displayed - one being text and data mining.<ref>{{cite web|title=Judge grants summary judgment in favor of Google Books — a fair use victory|url=http://www.lexology.com/library/detail.aspx?g=a18c5b92-5a20-4d1d-a098-a3095046a88e|website=Lexology.com|publisher=Antonelli Law Ltd|accessdate=14 November 2014}}</ref>\\n\\n==Software==\\n{{Category see also|Data mining and machine learning software}}\\n\\n===Free open-source data mining software and applications===\\nThe following applications are available under free/open source licenses. Public access to application sourcecode is also available.\\n\\n* [[Carrot2]]: Text and search results clustering framework.\\n* [[Chemicalize.org]]: A chemical structure miner and web search engine.\\n* [[ELKI]]: A university research project with advanced [[cluster analysis]] and [[anomaly detection|outlier detection]] methods written in the [[Java (programming language)|Java]] language.\\n* [[General Architecture for Text Engineering|GATE]]: a [[natural language processing]] and language engineering tool.\\n* [[KNIME]]: The Konstanz Information Miner, a user friendly and comprehensive data analytics framework.\\n* [[MOA (Massive Online Analysis)|Massive Online Analysis (MOA)]]: a real-time big data stream mining with concept drift tool in the [[Java (programming language)|Java]] programming language.\\n* ML-Flex: A software package that enables users to integrate with third-party machine-learning packages written in any programming language, execute classification analyses in parallel across multiple computing nodes, and produce HTML reports of classification results.\\n* [[MLPACK (C++ library)|MLPACK library]]: a collection of ready-to-use machine learning algorithms written in the [[C++]] language.\\n* [[Multi expression programming|MEPX]] - cross platform tool for regression and classification problems based on a Genetic Programming variant.\\n* [[NLTK]] ([[Natural Language Toolkit]]): A suite of libraries and programs for symbolic and statistical natural language processing (NLP) for the [[Python (programming language)|Python]] language.\\n* [[OpenNN]]: Open [[neural networks]] library.\\n* [[Orange (software)|Orange]]: A component-based data mining and [[machine learning]] software suite written in the [[Python (programming language)|Python]] language.\\n* [[R (programming language)|R]]: A [[programming language]] and software environment for [[statistics|statistical]] computing, data mining, and graphics. It is part of the [[GNU Project]].\\n* [[scikit-learn]] is an open source machine learning library for the Python programming language\\n* [[Torch (machine learning)|Torch]]: An [[open source]] [[deep learning]] library for the [[Lua (programming language)|Lua]] programming language and [[scientific computing]] framework with wide support for [[machine learning]] algorithms.\\n* [[UIMA]]: The UIMA (Unstructured Information Management Architecture) is a component framework for analyzing unstructured content such as text, audio and video – originally developed by IBM.\\n* [[Weka (machine learning)|Weka]]: A suite of machine learning software applications written in the [[Java (programming language)|Java]] programming language.\\n\\n===Proprietary data-mining software and applications===\\nThe following applications are available under proprietary licenses.\\n\\n* [[Angoss|Angoss KnowledgeSTUDIO]]: data mining tool provided by [[Angoss]].\\n* [[Clarabridge]]: enterprise class text analytics solution.\\n* [[Vertica|HP Vertica Analytics Platform]]: data mining software provided by [[Hewlett-Packard|HP]].\\n* [[SPSS Modeler|IBM SPSS Modeler]]: data mining software provided by [[IBM]].\\n* [[KXEN Inc.|KXEN Modeler]]: data mining tool provided by [[KXEN Inc.|KXEN]].\\n* [[LIONsolver]]: an integrated software application for data mining, business intelligence, and modeling that implements the Learning and Intelligent OptimizatioN (LION) approach.\\n* [[Megaputer Intelligence]]: data and text mining software is called PolyAnalyst.\\n* [[Microsoft Analysis Services]]: data mining software provided by [[Microsoft]].\\n* [[NetOwl]]: suite of multilingual text and entity analytics products that enable data mining.\\n* [[Open Text Corporation|OpenText&trade; Big Data Analytics]]: Visual Data Mining & Predictive Analysis by [[Open Text Corporation]]\\n* [[Oracle Data Mining]]: data mining software by [[Oracle Corporation|Oracle]].\\n* [[PSeven]]: platform for automation of engineering simulation and analysis, multidisciplinary optimization and data mining provided by [[DATADVANCE]].\\n* [[Qlucore]] Omics Explorer: data mining software provided by [[Qlucore]].\\n* [[RapidMiner]]: An environment for [[machine learning]] and data mining experiments. <!-- Latest version is NOT opensource -->\\n* [[SAS (software)#Components|SAS Enterprise Miner]]: data mining software provided by the [[SAS Institute]].\\n* [[STATISTICA|STATISTICA Data Miner]]: data mining software provided by [[StatSoft]].\\n* [[Tanagra (machine learning)|Tanagra]]: A visualisation-oriented data mining software, also for teaching.\\n\\n===Marketplace surveys===\\nSeveral researchers and organizations have conducted reviews of data mining tools and surveys of data miners. These identify some of the strengths and weaknesses of the software packages. They also provide an overview of the behaviors, preferences and views of data miners. Some of these reports include:\\n* Hurwitz Victory Index: Report for Advanced Analytics as a market research assessment tool, it highlights both the diverse uses for advanced analytics technology and the vendors who make those applications possible.[http://hurwitz.com/recent-research/item/advanced-analytics-the-hurwitz-victory-index Recent-research]\\n* 2011 Wiley Interdisciplinary Reviews: Data Mining and Knowledge Discovery<ref>{{cite journal |author1= Mikut, Ralf |author2=Reischl, Markus |title=Data Mining Tools |journal=Wiley Interdisciplinary Reviews: Data Mining and Knowledge Discovery |volume=1 |number=5 |date=September–October 2011 |pages=431–445 |doi=10.1002/widm.24 |url=http://onlinelibrary.wiley.com/doi/10.1002/widm.24/abstract |accessdate=October 21, 2011 }}</ref>\\n*[[Rexer\\'s Annual Data Miner Survey|Rexer Analytics Data Miner Surveys]] (2007–2015)<ref name=rexer_informs>Karl Rexer, Heather Allen, & Paul Gearan (2011); [http://www.analytics-magazine.org/may-june-2011/320-understanding-data-miners \\'\\'Understanding Data Miners\\'\\'], Analytics Magazine, May/June 2011 (INFORMS: Institute for Operations Research and the Management Sciences).</ref>\\n* [[Forrester Research]] 2010 Predictive Analytics and Data Mining Solutions report<ref>Kobielus, James; [http://www.forrester.com/rb/Research/wave%26trade%3B_predictive_analytics_and_data_mining_solutions%2C/q/id/56077/t/2 \\'\\'The Forrester Wave: Predictive Analytics and Data Mining Solutions, Q1 2010\\'\\'], Forrester Research, 1 July 2008</ref>\\n* [[Gartner]] 2008 \"Magic Quadrant\" report<ref>Herschel, Gareth; [http://mediaproducts.gartner.com/reprints/sas/vol5/article3/article3.html \\'\\'Magic Quadrant for Customer Data-Mining Applications\\'\\'], Gartner Inc., 1 July 2008</ref>\\n* Robert A. Nisbet\\'s 2006 Three Part Series of articles \"Data Mining Tools: Which One is Best For CRM?\"<ref>Nisbet, Robert A. (2006); [http://www.information-management.com/specialreports/20060124/1046025-1.html \\'\\'Data Mining Tools: Which One is Best for CRM? Part 1\\'\\'], Information Management Special Reports, January 2006</ref>\\n* Haughton et al.\\'s 2003 Review of Data Mining Software Packages in \\'\\'[[The American Statistician]]\\'\\'<ref>Haughton, Dominique; Deichmann, Joel; Eshghi, Abdolreza; Sayek, Selin; Teebagy, Nicholas; and Topi, Heikki (2003); [http://www.jstor.org/pss/30037299 \\'\\'A Review of Software Packages for Data Mining\\'\\'], The American Statistician, Vol. 57, No. 4, pp. 290–309</ref>\\n* Goebel & Gruenwald 1999 \"A Survey of Data Mining a Knowledge Discovery Software Tools\" in SIGKDD Explorations<ref>Goebel, Michael; Gruenwald, Le (1999); [https://wwwmatthes.in.tum.de/file/1klx69ggd5riv/Enterprise%202.0%20Tool%20Survey/Paper/A%20survey%20of%20data%20mining%20and%20knowledge%20discovery%20software%20tools.pdf \\'\\'A Survey of Data Mining and Knowledge Discovery Software Tools\\'\\'], SIGKDD Explorations, Vol. 1, Issue 1, pp. 20–33</ref>\\n\\n==See also==\\n; Methods\\n{{columns-list|3|\\n* [[Agent mining]]\\n* [[Anomaly detection|Anomaly/outlier/change detection]]\\n* [[Association rule learning]]\\n* [[Bayesian network]]s\\n* [[Statistical classification|Classification]]\\n* [[Cluster analysis]]\\n* [[Decision tree]]s\\n* [[Ensemble learning]]\\n* [[Factor analysis]]\\n* [[Genetic algorithms]]\\n* [[Intention mining]]\\n* [[Learning classifier system]]\\n* [[Multilinear subspace learning]]\\n* [[Artificial neural network|Neural network]]s\\n* [[Regression analysis]]\\n* [[Sequence mining]]\\n* [[Structured data analysis (statistics)|Structured data analysis]]\\n* [[Support vector machines]]\\n* [[Text mining]]\\n* [[Time series|Time series analysis]]\\n\\n}}\\n\\n; Application domains\\n{{columns-list|3|\\n* [[Analytics]]\\n* [[Behavior informatics]]\\n* [[Big Data|Big data]]\\n* [[Bioinformatics]]\\n* [[Business intelligence]]\\n* [[Data analysis]]\\n* [[Data warehouse]]\\n* [[Decision support system]]\\n* [[Domain driven data mining]]\\n* [[Drug discovery]]\\n* [[Exploratory data analysis]]\\n* [[Predictive analytics]]\\n* [[Web mining]]\\n}}\\n\\n; Application examples\\n{{Main article|Examples of data mining}}\\n{{Category see also|Applied data mining}}\\n{{columns-list|3|\\n*[[Customer analytics#Data mining|Customer analytics]]\\n*[[Educational data mining]]\\n*[[National Security Agency#Transaction data mining|National Security Agency]]\\n*[[Police-enforced ANPR in the UK#Data mining|Police-enforced ANPR in the UK]]\\n*[[Quantitative structure–activity relationship#Data mining approach|Quantitative structure–activity relationship]]\\n*[[Surveillance#Data mining and profiling|Surveillance]] / [[Mass surveillance#Data mining|Mass surveillance]] (e.g., [[Stellar Wind (code name)|Stellar Wind]])\\n}}\\n\\n; Related topics\\nData mining is about \\'\\'analyzing\\'\\' data; for information about extracting information out of data, see:\\n{{columns-list|3|\\n* [[Data integration]]\\n* [[Data transformation]]\\n* [[Electronic discovery]]\\n* [[Information extraction]]\\n* [[Information integration]]\\n* [[Named-entity recognition]]\\n* [[Profiling (information science)]]\\n* [[Social media mining]]\\n* [[Surveillance capitalism]]\\n* [[Web scraping]]\\n}}\\n\\n==References==\\n{{Reflist|30em}}\\n\\n==Further reading==\\n* Cabena, Peter; Hadjnian, Pablo; Stadler, Rolf; Verhees, Jaap; Zanasi, Alessandro (1997); \\'\\'Discovering Data Mining: From Concept to Implementation\\'\\', [[Prentice Hall]], ISBN 0-13-743980-6\\n* M.S. Chen, J. Han, [[Philip S. Yu|P.S. Yu]] (1996) \"[http://cs.nju.edu.cn/zhouzh/zhouzh.files/course/dm/reading/reading01/chen_tkde96.pdf Data mining: an overview from a database perspective]\". \\'\\'Knowledge and data Engineering, IEEE Transactions\\'\\' on 8 (6), 866–883\\n* Feldman, Ronen; Sanger, James (2007); \\'\\'The Text Mining Handbook\\'\\', [[Cambridge University Press]], ISBN 978-0-521-83657-9\\n* Guo, Yike; and Grossman, Robert (editors) (1999); \\'\\'High Performance Data Mining: Scaling Algorithms, Applications and Systems\\'\\', [[Kluwer Academic Publishers]]\\n* [[Jiawei Han|Han, Jiawei]], Micheline Kamber, and Jian Pei. \\'\\'Data mining: concepts and techniques\\'\\'. Morgan kaufmann, 2006.\\n* [[Trevor Hastie|Hastie, Trevor]], [[Robert Tibshirani|Tibshirani, Robert]] and [[Jerome H. Friedman|Friedman, Jerome]] (2001); \\'\\'The Elements of Statistical Learning: Data Mining, Inference, and Prediction\\'\\', Springer, ISBN 0-387-95284-5\\n* Liu, Bing (2007); \\'\\'Web Data Mining: Exploring Hyperlinks, Contents and Usage Data\\'\\', [[Springer Verlag|Springer]], ISBN 3-540-37881-2\\n* {{cite journal |last=Murphy |first=Chris |date=16 May 2011 |title=Is Data Mining Free Speech? |journal=[[InformationWeek]] |page=12 |publisher=[[UBM plc|UMB]] }}\\n* Nisbet, Robert; Elder, John; Miner, Gary (2009); \\'\\'Handbook of Statistical Analysis & Data Mining Applications\\'\\', [[Academic Press]]/Elsevier, ISBN 978-0-12-374765-5\\n* Poncelet, Pascal; Masseglia, Florent; and Teisseire, Maguelonne (editors) (October 2007); \"Data Mining Patterns: New Methods and Applications\", \\'\\'Information Science Reference\\'\\', ISBN 978-1-59904-162-9\\n* Tan, Pang-Ning; Steinbach, Michael; and Kumar, Vipin (2005); \\'\\'Introduction to Data Mining\\'\\', ISBN 0-321-32136-7\\n* Theodoridis, Sergios; and Koutroumbas, Konstantinos (2009); \\'\\'Pattern Recognition\\'\\', 4th Edition, Academic Press, ISBN 978-1-59749-272-0\\n* Weiss, Sholom M.; and Indurkhya, Nitin (1998); \\'\\'Predictive Data Mining\\'\\', [[Morgan Kaufmann]]\\n* {{cite book |author1=Witten, Ian H.|authorlink1=Ian H. Witten |author2=Frank, Eibe |author3=Hall, Mark A. |title=Data Mining: Practical Machine Learning Tools and Techniques |edition=3 |date=30 January 2011 |publisher=Elsevier |isbn=978-0-12-374856-0 }} (See also [[Weka (machine learning)|Free Weka software]])\\n* Ye, Nong (2003); \\'\\'The Handbook of Data Mining\\'\\', Mahwah, NJ: Lawrence Erlbaum\\n\\n==External links==\\n{{Commons category|Data mining}}\\n\\n{{DMOZ|Reference/Knowledge_Management/Knowledge_Discovery/Software|Knowledge Discovery Software}}\\n\\n{{DMOZ|Computers/Software/Databases/Data_Mining/Tool_Vendors|Data Mining Tool Vendors}}\\n\\n{{data}}\\n{{Data warehouse}}\\n{{Computer science}}\\n\\n{{Authority control}}\\n\\n{{DEFAULTSORT:Data Mining}}\\n[[Category:Data mining| ]]\\n[[Category:Formal sciences]]',\n",
       " 'contentformat': 'text/x-wiki',\n",
       " 'contentmodel': 'wikitext',\n",
       " 'parentid': 766879888,\n",
       " 'revid': 766881049,\n",
       " 'sha1': '5277b0833e0ca1474d1750c55ab88d70bc7a76cb',\n",
       " 'size': 45519,\n",
       " 'timestamp': '2017-02-22T17:56:09Z',\n",
       " 'user': '62.28.219.135'}"
      ]
     },
     "execution_count": 49,
     "metadata": {},
     "output_type": "execute_result"
    }
   ],
   "source": [
    "import requests        # Import the requests library to let us talk to APIs\n",
    "import numpy as np     # Import numpy (if we haven't already)\n",
    "import pandas as pd    # Use pandas, which we'll discuss more after spring break, to look at the data\n",
    "\n",
    "# Make a request dictionary with all the parameters the Wikipedia API wants for requests to use\n",
    "request = {}                         # Start with an empty dictionary\n",
    "request['action'] = 'query'          # Talk to the query end-point of the API\n",
    "request['format'] = 'json'           # Return the data in JSON format\n",
    "request['prop'] = 'revisions'        # Get the revisions of an article\n",
    "request['titles'] = \"Data mining\"    # Get the data for the \"data mining\" article\n",
    "request['rvlimit'] = 100             # Get the 100 most recent revisions to the article\n",
    "request['formatversion'] = 2         # Output the data in a friendlier version\n",
    "\n",
    "# Ask for specific properties of every revision, joining them together by pipes \"|\"\n",
    "# User is the username, ids is the unique revision id, size is the number of characters in the content\n",
    "# sha1 is the hash of the article version\n",
    "# content is the wiki-text markup version of the article\n",
    "request['rvprop'] = '|'.join(['user','timestamp','ids','size','sha1','content'])\n",
    "\n",
    "# Make the request to Wikipedia's API and use the .json() method to return JSON response to a Python dictionary\n",
    "result = requests.get('http://en.wikipedia.org/w/api.php', params=request).json()\n",
    "\n",
    "# Look at the results\n",
    "result['query']['pages'][0]['revisions'][0]"
   ]
  },
  {
   "cell_type": "code",
   "execution_count": 50,
   "metadata": {
    "collapsed": false
   },
   "outputs": [
    {
     "name": "stdout",
     "output_type": "stream",
     "text": [
      "20\n",
      "23\n",
      "26\n",
      "28\n",
      "30\n"
     ]
    }
   ],
   "source": [
    "revisions = result['query']['pages'][0]['revisions']\n",
    "for num,rev in enumerate(revisions):\n",
    "    if rev['sha1'] == '55f6e2a5ce1e2b104724415794375f55d98cb25c':\n",
    "        print(num)"
   ]
  },
  {
   "cell_type": "code",
   "execution_count": 51,
   "metadata": {
    "collapsed": false
   },
   "outputs": [
    {
     "name": "stdout",
     "output_type": "stream",
     "text": [
      "https://en.wikipedia.org/w/index.php?oldid=758414296\n"
     ]
    }
   ],
   "source": [
    "print('https://en.wikipedia.org/w/index.php?oldid='+str(revisions[20]['revid']))"
   ]
  },
  {
   "cell_type": "code",
   "execution_count": 52,
   "metadata": {
    "collapsed": false
   },
   "outputs": [
    {
     "name": "stdout",
     "output_type": "stream",
     "text": [
      "https://en.wikipedia.org/w/index.php?oldid=757902516\n"
     ]
    }
   ],
   "source": [
    "print('https://en.wikipedia.org/w/index.php?oldid='+str(revisions[23]['revid']))"
   ]
  },
  {
   "cell_type": "markdown",
   "metadata": {},
   "source": [
    "We see there are a few Wikipedia revisions have the same SHA-1 hash values."
   ]
  },
  {
   "cell_type": "code",
   "execution_count": 53,
   "metadata": {
    "collapsed": false
   },
   "outputs": [
    {
     "data": {
      "text/plain": [
       "55f6e2a5ce1e2b104724415794375f55d98cb25c    5\n",
       "3037378feb106b20cf2c1a3520e093278e64b270    4\n",
       "dd9902dc7dd668ac8bb40d79023460fb5b187660    3\n",
       "3329b77085ce6feb53bd6f474871aa5f0c97920d    2\n",
       "a1e961cc542e6a168d6c40c33f75469585c24852    2\n",
       "d9a8dfa6448bfa8dc255ab39990fdc2bef7223dd    2\n",
       "894dab75d14250f15d933067d637205c33ac0ff7    1\n",
       "ca84e352e0fa44356fdc266280a77ce51e5e19c2    1\n",
       "5277b0833e0ca1474d1750c55ab88d70bc7a76cb    1\n",
       "20dd300219000cf81f4019c796a861c73e9bffab    1\n",
       "dtype: int64"
      ]
     },
     "execution_count": 53,
     "metadata": {},
     "output_type": "execute_result"
    }
   ],
   "source": [
    "pd.Series([i['sha1'] for i in result['query']['pages'][0]['revisions']]).value_counts().head(10)"
   ]
  },
  {
   "cell_type": "markdown",
   "metadata": {},
   "source": [
    "So the revisions at these indexes in the revision history have exactly the same content. Thus when we pass them through the same hash function, they return the same hashed values."
   ]
  },
  {
   "cell_type": "code",
   "execution_count": 56,
   "metadata": {
    "collapsed": false
   },
   "outputs": [
    {
     "data": {
      "text/plain": [
       "45217"
      ]
     },
     "execution_count": 56,
     "metadata": {},
     "output_type": "execute_result"
    }
   ],
   "source": [
    "len(similar_content)"
   ]
  },
  {
   "cell_type": "code",
   "execution_count": 54,
   "metadata": {
    "collapsed": false
   },
   "outputs": [
    {
     "name": "stdout",
     "output_type": "stream",
     "text": [
      "4157966322820739759\n",
      "4157966322820739759\n",
      "Are these two hashes equal to each other? True\n",
      "Are these two content equal to each other? True\n"
     ]
    }
   ],
   "source": [
    "content = revisions[20]['content']\n",
    "similar_content = revisions[23]['content']\n",
    "\n",
    "# What are the hashes for each of these content revisions?\n",
    "print(hash(content))\n",
    "print(hash(similar_content))\n",
    "\n",
    "# Are these two hashes equal to each other?\n",
    "hashes_equal_boolean = hash(content) == hash(similar_content)\n",
    "print(\"Are these two hashes equal to each other? {0}\".format(hashes_equal_boolean))\n",
    "\n",
    "# Is the content itself equal to each other\n",
    "content_equal_boolean = content == similar_content\n",
    "print(\"Are these two content equal to each other? {0}\".format(content_equal_boolean))"
   ]
  },
  {
   "cell_type": "markdown",
   "metadata": {},
   "source": [
    "But there are enormous differences in the performance of comparing strings themselves versus comparing hashes of strings to check if they're the same."
   ]
  },
  {
   "cell_type": "code",
   "execution_count": 57,
   "metadata": {
    "collapsed": false
   },
   "outputs": [
    {
     "name": "stdout",
     "output_type": "stream",
     "text": [
      "The string comparison took 3.723 seconds.\n",
      "The hash comparison took 0.152 seconds.\n",
      "This is a 24.5x speed-up!\n"
     ]
    }
   ],
   "source": [
    "# Import the timeit module to estimate how long it takes to do each kind of comparison\n",
    "import timeit\n",
    "\n",
    "# Compare the strings of the identical Wikipedia article revision content\n",
    "string_comparison_secs = timeit.timeit('content == similar_content',\"from __main__ import content, similar_content\")\n",
    "\n",
    "# Compare the hashes of the identitical Wikipedia article revision content\n",
    "hash_comparison_secs = timeit.timeit('hash(content) == hash(similar_content)',\"from __main__ import content, similar_content\")\n",
    "\n",
    "print(\"The string comparison took {0:.3f} seconds.\".format(string_comparison_secs))\n",
    "print(\"The hash comparison took {0:.3f} seconds.\".format(hash_comparison_secs))\n",
    "print(\"This is a {0:.1f}x speed-up!\".format(string_comparison_secs/hash_comparison_secs))\n"
   ]
  },
  {
   "cell_type": "markdown",
   "metadata": {},
   "source": [
    "Thinking about complexity classes for a second, let's pretend the Wikipedia article was 10x the size. How would this affect the performance of checking if two versions of an article are identical?"
   ]
  },
  {
   "cell_type": "code",
   "execution_count": 58,
   "metadata": {
    "collapsed": false
   },
   "outputs": [
    {
     "name": "stdout",
     "output_type": "stream",
     "text": [
      "The string comparison took 42.257 seconds.\n",
      "The hash comparison took 0.150 seconds.\n",
      "This is a 281.0x speed-up!\n"
     ]
    }
   ],
   "source": [
    "# Make the content 10x the length\n",
    "content_10x = content * 10\n",
    "similar_content_10x = similar_content * 10\n",
    "\n",
    "# Compare the strings of the identical Wikipedia article revision content\n",
    "string_comparison_10x_secs = timeit.timeit('content_10x == similar_content_10x',\"from __main__ import content_10x, similar_content_10x\")\n",
    "\n",
    "# Compare the hashes of the identitical Wikipedia article revision content\n",
    "hash_comparison_10x_secs = timeit.timeit('hash(content_10x) == hash(similar_content_10x)',\"from __main__ import content_10x, similar_content_10x\")\n",
    "\n",
    "print(\"The string comparison took {0:.3f} seconds.\".format(string_comparison_10x_secs))\n",
    "print(\"The hash comparison took {0:.3f} seconds.\".format(hash_comparison_10x_secs))\n",
    "print(\"This is a {0:.1f}x speed-up!\".format(string_comparison_10x_secs/hash_comparison_10x_secs))"
   ]
  },
  {
   "cell_type": "markdown",
   "metadata": {},
   "source": [
    "So we can see now that if we don't need to do anything with the content itself but want to compare content to content, hashing works in close to $O(1)$ time while string comparisons work (worst-case) in $O(N)$ time. A huge speedup!"
   ]
  },
  {
   "cell_type": "code",
   "execution_count": null,
   "metadata": {
    "collapsed": true
   },
   "outputs": [],
   "source": []
  }
 ],
 "metadata": {
  "anaconda-cloud": {},
  "kernelspec": {
   "display_name": "Python [conda root]",
   "language": "python",
   "name": "conda-root-py"
  },
  "language_info": {
   "codemirror_mode": {
    "name": "ipython",
    "version": 3
   },
   "file_extension": ".py",
   "mimetype": "text/x-python",
   "name": "python",
   "nbconvert_exporter": "python",
   "pygments_lexer": "ipython3",
   "version": "3.5.2"
  }
 },
 "nbformat": 4,
 "nbformat_minor": 2
}
