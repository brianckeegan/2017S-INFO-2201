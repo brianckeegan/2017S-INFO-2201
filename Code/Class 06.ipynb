{
 "cells": [
  {
   "cell_type": "markdown",
   "metadata": {},
   "source": [
    "# Warning!\n",
    "\n",
    "If you're not very careful, recursive functions can create infinite loops. If you find yourself in a loop, you can try to interrupt or restart Python from the \"Kernel\" menu. Don't close the browser and expect it to start working again if you re-open it! However, you may have to end up killing the kernel by going to the Terminal window where you launched Jupyter Notebook and typing Ctrl+C twice. If even that doesn't work, you may need to force-quit your browser, but I really hope it doesn't come to that!\n",
    "\n",
    "This notebook's material is adapted from Bhargava (2016) Chapter 4 (available on D2L under Week 3)."
   ]
  },
  {
   "cell_type": "markdown",
   "metadata": {},
   "source": [
    "# Recursion\n",
    "\n",
    "The basic idea of recursion is to let a function call itself within the function. This may seem illogical, especially for a computer program, but it actually works and is a very powerful idea!"
   ]
  },
  {
   "cell_type": "raw",
   "metadata": {},
   "source": [
    "def countdown(number):\n",
    "    print(number)\n",
    "    countdown(number - 1) # Recursion!"
   ]
  },
  {
   "cell_type": "markdown",
   "metadata": {},
   "source": [
    "The code cell above defines a function `countdown` that takes a number and prints it, then calls the same function again with one smaller number. The function is called within the definition of the function itself! \n",
    "\n",
    "`countdown(5)` would print 5, 4, 3, 2, 1, 0, -1, -2, ...\n",
    "\n",
    "In this case, the function would keep iterating down to infinity. For that reason, it is not executable because we have to get to other important matters! More specifically, this will cause a *stack overflow* when the program tries to go one level deeper in the recursion but runs out of memory beforehand."
   ]
  },
  {
   "cell_type": "markdown",
   "metadata": {},
   "source": [
    "# Base case versus recursive case"
   ]
  },
  {
   "cell_type": "markdown",
   "metadata": {},
   "source": [
    "As the example above demonstrates, recursive functions need to know when to stop. For this reason, recursive functions have two \"cases\":\n",
    "\n",
    "* **Recursive case** where the function calls itself\n",
    "* **Base case**  where the function doesn't call itself"
   ]
  },
  {
   "cell_type": "code",
   "execution_count": 4,
   "metadata": {
    "collapsed": false
   },
   "outputs": [],
   "source": [
    "def countdown(number):\n",
    "    print(number)\n",
    "    if number <= 0: # The base case!\n",
    "        return # Stop the function by returning nothing -- will make sense in a bit\n",
    "    else: # The recursive case!\n",
    "        countdown(number - 1)"
   ]
  },
  {
   "cell_type": "code",
   "execution_count": 5,
   "metadata": {
    "collapsed": false
   },
   "outputs": [
    {
     "name": "stdout",
     "output_type": "stream",
     "text": [
      "5\n",
      "4\n",
      "3\n",
      "2\n",
      "1\n",
      "0\n"
     ]
    }
   ],
   "source": [
    "countdown(5)"
   ]
  },
  {
   "cell_type": "markdown",
   "metadata": {},
   "source": [
    "# Call stack"
   ]
  },
  {
   "cell_type": "markdown",
   "metadata": {},
   "source": [
    "In the example above, the `countdown` function is called 6 times until it reaches the base case.\n",
    "\n",
    "* `countdown(5)` --> print 5, number is greater than 0, so continue to `countdown(4)`\n",
    "  * `countdown(4)` --> print 4, number is greater than 0, so continue to `countdown(3)`\n",
    "    * `countdown(3)` --> print 3, number is greater than 0, so continue to `countdown(2)`\n",
    "      * `countdown(2)` --> print 2, number is greater than 0, so continue to `countdown(1)`\n",
    "        * `countdown(1)` --> print 1, number is greater than 0, so continue to `countdown(0)`\n",
    "          * `countdown(0)` --> is 0, so stop"
   ]
  },
  {
   "cell_type": "markdown",
   "metadata": {},
   "source": [
    "Another example, for computing the factorial of an integer: 5! =  5 \\* 4 \\* 3 \\* 2 \\* 1 = 120 = `fact(5)`"
   ]
  },
  {
   "cell_type": "code",
   "execution_count": 8,
   "metadata": {
    "collapsed": false
   },
   "outputs": [],
   "source": [
    "def fact(num):\n",
    "    if num > 0:\n",
    "        if num == 1: # Base case!\n",
    "            return 1\n",
    "        else: # Recursive case!\n",
    "            return num * fact(num - 1)"
   ]
  },
  {
   "cell_type": "code",
   "execution_count": 36,
   "metadata": {
    "collapsed": false
   },
   "outputs": [],
   "source": [
    "class Recursive(object):\n",
    "    def __init__(self,num):\n",
    "        self.num = num\n",
    "\n",
    "    def get_num(self):\n",
    "        return self.num\n",
    "    \n",
    "    def subtract(self):\n",
    "        self.num = self.num - 1\n",
    "\n",
    "    def factorial(self):\n",
    "        if self.num > 0:\n",
    "            if self.num == 1:\n",
    "                return 1\n",
    "            else:\n",
    "                temp = self.get_num()\n",
    "                self.subtract()\n",
    "                return temp * self.factorial()"
   ]
  },
  {
   "cell_type": "code",
   "execution_count": 39,
   "metadata": {
    "collapsed": false
   },
   "outputs": [
    {
     "data": {
      "text/plain": [
       "720"
      ]
     },
     "execution_count": 39,
     "metadata": {},
     "output_type": "execute_result"
    }
   ],
   "source": [
    "why_so_mean = Recursive(6)\n",
    "\n",
    "why_so_mean.factorial()"
   ]
  },
  {
   "cell_type": "markdown",
   "metadata": {},
   "source": [
    "The `fact` function is called 5 times until it reaches the base case. This forms a \"call stack\" which is then unwound successively.\n",
    "\n",
    "* `fact(5)` --> not 1, so return 5 \\* `fact(4)`\n",
    "  * `fact(4)` --> not 1, so return 4 \\* `fact(3)`\n",
    "    * `fact(3)` --> not 1, so return 3 \\* `fact(2)`\n",
    "      * `fact(2)` --> not 1, so return 2 \\* `fact(1)`\n",
    "        * `fact(1)` --> is 1 = 1 The base case!\n",
    "        \n",
    "Then you work your way back. Plug the result of `fact(1)` = 1 up one level in the stack where `fact(2)` was waiting on it:\n",
    "\n",
    "* `fact(5)` --> not 1, so return 5 \\* `fact(4)`\n",
    "  * `fact(4)` --> not 1, so return 4 \\* `fact(3)`\n",
    "    * `fact(3)` --> not 1, so return 3 \\* `fact(2)`\n",
    "      * `fact(2)` --> not 1, so return 2 \\* **1** = 2\n",
    "\n",
    "Now plug the result of `fact(2)` = 2 into where `fact(3)` was waiting on it:\n",
    "\n",
    "* `fact(5)` --> not 1, so return 5 \\* `fact(4)`\n",
    "  * `fact(4)` --> not 1, so return 4 \\* `fact(3)`\n",
    "    * `fact(3)` --> not 1, so return 3 \\* **2** = 6\n",
    "\n",
    "Now plug the result of `fact(3)` = 6 into where `fact(4)` was waiting on it:\n",
    "* `fact(5)` --> not 1, so return 5 \\* `fact(4)`\n",
    "  * `fact(4)` --> not 1, so return 4 \\* **6** = 24\n",
    "\n",
    "And finally plug the result of `fact(4)` = 24 into where `fact(5)` was waiting on it:\n",
    "* `fact(5)` --> not 1, so return 5 \\* **24** = 120"
   ]
  },
  {
   "cell_type": "markdown",
   "metadata": {},
   "source": [
    "In the `countdown` function in the previous section, we had a return of nothing, which prevented anything that was returned from being passed back up the stack."
   ]
  },
  {
   "cell_type": "markdown",
   "metadata": {},
   "source": [
    "# Reversing a list"
   ]
  },
  {
   "cell_type": "code",
   "execution_count": 3,
   "metadata": {
    "collapsed": true
   },
   "outputs": [],
   "source": [
    "# Adapted from 3.7.2 in Lee & Hubbard (2015)\n",
    "\n",
    "def reverser(l):\n",
    "    if l == []: # base case\n",
    "        return []\n",
    "    else:\n",
    "        list_end = reverser(l[1:]) # Recursive case\n",
    "        list_start = l[:1]\n",
    "        return list_end + list_start"
   ]
  },
  {
   "cell_type": "code",
   "execution_count": 4,
   "metadata": {
    "collapsed": false
   },
   "outputs": [
    {
     "data": {
      "text/plain": [
       "['a', 'b', 'c', 'd', 'e']"
      ]
     },
     "execution_count": 4,
     "metadata": {},
     "output_type": "execute_result"
    }
   ],
   "source": [
    "import string\n",
    "first_five_letters = list(string.ascii_lowercase)[:5]\n",
    "first_five_letters"
   ]
  },
  {
   "cell_type": "code",
   "execution_count": 8,
   "metadata": {
    "collapsed": false
   },
   "outputs": [
    {
     "data": {
      "text/plain": [
       "['a']"
      ]
     },
     "execution_count": 8,
     "metadata": {},
     "output_type": "execute_result"
    }
   ],
   "source": [
    "first_five_letters[:1]"
   ]
  },
  {
   "cell_type": "code",
   "execution_count": 13,
   "metadata": {
    "collapsed": false
   },
   "outputs": [
    {
     "data": {
      "text/plain": [
       "['b', 'c', 'd', 'e']"
      ]
     },
     "execution_count": 13,
     "metadata": {},
     "output_type": "execute_result"
    }
   ],
   "source": [
    "first_five_letters[1:]"
   ]
  },
  {
   "cell_type": "markdown",
   "metadata": {},
   "source": []
  },
  {
   "cell_type": "code",
   "execution_count": null,
   "metadata": {
    "collapsed": true
   },
   "outputs": [],
   "source": []
  },
  {
   "cell_type": "code",
   "execution_count": null,
   "metadata": {
    "collapsed": true
   },
   "outputs": [],
   "source": []
  },
  {
   "cell_type": "code",
   "execution_count": null,
   "metadata": {
    "collapsed": true
   },
   "outputs": [],
   "source": []
  },
  {
   "cell_type": "code",
   "execution_count": 14,
   "metadata": {
    "collapsed": false
   },
   "outputs": [
    {
     "data": {
      "text/plain": [
       "['e', 'd', 'c', 'b', 'a']"
      ]
     },
     "execution_count": 14,
     "metadata": {},
     "output_type": "execute_result"
    }
   ],
   "source": [
    "reverser(first_five_letters)"
   ]
  },
  {
   "cell_type": "code",
   "execution_count": 13,
   "metadata": {
    "collapsed": false
   },
   "outputs": [
    {
     "data": {
      "text/plain": [
       "['e']"
      ]
     },
     "execution_count": 13,
     "metadata": {},
     "output_type": "execute_result"
    }
   ],
   "source": [
    "[] + ['e']"
   ]
  },
  {
   "cell_type": "markdown",
   "metadata": {},
   "source": [
    "The `reverser` function makes a call stack:\n",
    "\n",
    "* `reverser(['a', 'b', 'c', 'd', 'e'])` --> not empty list, so `reverser(['b', 'c', 'd', 'e'])` + ['a']\n",
    "  * `reverser(['b', 'c', 'd', 'e'])` --> not empty list, so `reverser(['c', 'd', 'e'])` + ['b']\n",
    "    * `reverser(['c', 'd', 'e'])` --> not empty list, so `reverser(['d', 'e'])` + ['c']\n",
    "      * `reverser(['d', 'e'])` --> not empty list, so `reverser(['e'])` + ['d']\n",
    "        * `reverser(['e'])` --> not empty list, so `reverser([])` + ['e']\n",
    "          * `reverser([])` --> is empty list, so return [] **# Base case!**\n",
    "          \n",
    "Now the call stack gets unwound, starting at level 5.\n",
    "\n",
    "* `reverser(['a', 'b', 'c', 'd', 'e'])` --> not empty list, so `reverser(['b', 'c', 'd', 'e'])` + ['a']\n",
    "  * `reverser(['b', 'c', 'd', 'e'])` --> not empty list, so `reverser(['c', 'd', 'e'])` + ['b']\n",
    "    * `reverser(['c', 'd', 'e'])` --> not empty list, so `reverser(['d', 'e'])` + ['c']\n",
    "      * `reverser(['d', 'e'])` --> not empty list, so `reverser(['e'])` + ['d']\n",
    "        * `reverser(['e'])` --> not empty list, so **[]** + ['e'] = ['e']\n",
    "\n",
    "Then the results of level 5 get passed up to level 4.\n",
    "* `reverser(['a', 'b', 'c', 'd', 'e'])` --> not empty list, so `reverser(['b', 'c', 'd', 'e'])` + ['a']\n",
    "  * `reverser(['b', 'c', 'd', 'e'])` --> not empty list, so `reverser(['c', 'd', 'e'])` + ['b']\n",
    "    * `reverser(['c', 'd', 'e'])` --> not empty list, so `reverser(['d', 'e'])` + ['c']\n",
    "      * `reverser(['d', 'e'])` --> not empty list, so **['e']** + ['d'] = ['e','d']\n",
    "\n",
    "And the results of level 4 are passed to level 3.\n",
    "* `reverser(['a', 'b', 'c', 'd', 'e'])` --> not empty list, so `reverser(['b', 'c', 'd', 'e'])` + ['a']\n",
    "  * `reverser(['b', 'c', 'd', 'e'])` --> not empty list, so `reverser(['c', 'd', 'e'])` + ['b']\n",
    "    * `reverser(['c', 'd', 'e'])` --> not empty list, so **['e','d']** + ['c'] = ['e','d','c']\n",
    "    \n",
    "And the results of level 3 are passed to level 2.\n",
    "* `reverser(['a', 'b', 'c', 'd', 'e'])` --> not empty list, so `reverser(['b', 'c', 'd', 'e'])` + ['a']\n",
    "  * `reverser(['b', 'c', 'd', 'e'])` --> not empty list, so **['e','d','c']** + ['b'] = ['e','d','c','b']\n",
    "  \n",
    "And the results of level 2 are passed to level 1.\n",
    "* `reverser(['a', 'b', 'c', 'd', 'e'])` --> not empty list, so **['e','d','c','b']** + ['a'] = ['e','d','c','b','a']"
   ]
  },
  {
   "cell_type": "markdown",
   "metadata": {},
   "source": [
    "#  Binary list"
   ]
  },
  {
   "cell_type": "code",
   "execution_count": 17,
   "metadata": {
    "collapsed": true
   },
   "outputs": [],
   "source": [
    "# Adapted from 4.1.3 in Goodrich, Tamassia, & Goldwasser (2013)\n",
    "\n",
    "def recursive_binary_search(l,target,low,high):\n",
    "    if low > high: # Base case\n",
    "        return False\n",
    "    else: # Recursive cases hide within\n",
    "        mid = (low + high)//2\n",
    "        if target == l[mid]:\n",
    "            return True\n",
    "        elif target < l[mid]:\n",
    "            return recursive_binary_search(l,target,low,mid-1) # Recursion! Check values below\n",
    "        else:\n",
    "            return recursive_binary_search(l,target,mid+1,high) # Recursion! Check values above"
   ]
  },
  {
   "cell_type": "code",
   "execution_count": 18,
   "metadata": {
    "collapsed": false
   },
   "outputs": [
    {
     "data": {
      "text/plain": [
       "[1, 2, 3, 4, 5, 6, 7, 8, 9, 10]"
      ]
     },
     "execution_count": 18,
     "metadata": {},
     "output_type": "execute_result"
    }
   ],
   "source": [
    "l = list(range(1,11))\n",
    "l"
   ]
  },
  {
   "cell_type": "code",
   "execution_count": 19,
   "metadata": {
    "collapsed": false
   },
   "outputs": [
    {
     "data": {
      "text/plain": [
       "True"
      ]
     },
     "execution_count": 19,
     "metadata": {},
     "output_type": "execute_result"
    }
   ],
   "source": [
    "recursive_binary_search(l,9,min(l),max(l))"
   ]
  },
  {
   "cell_type": "code",
   "execution_count": null,
   "metadata": {
    "collapsed": true
   },
   "outputs": [],
   "source": []
  },
  {
   "cell_type": "code",
   "execution_count": null,
   "metadata": {
    "collapsed": true
   },
   "outputs": [],
   "source": []
  }
 ],
 "metadata": {
  "anaconda-cloud": {},
  "kernelspec": {
   "display_name": "Python [conda root]",
   "language": "python",
   "name": "conda-root-py"
  },
  "language_info": {
   "codemirror_mode": {
    "name": "ipython",
    "version": 3
   },
   "file_extension": ".py",
   "mimetype": "text/x-python",
   "name": "python",
   "nbconvert_exporter": "python",
   "pygments_lexer": "ipython3",
   "version": "3.5.2"
  }
 },
 "nbformat": 4,
 "nbformat_minor": 1
}
